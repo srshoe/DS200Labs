{
  "cells": [
    {
      "cell_type": "markdown",
      "metadata": {
        "id": "tPUwEvaFiyLG"
      },
      "source": [
        "# DS200: Introduction to Data Sciences\n",
        "## Fall 2024\n",
        "# Lab Assignment 4: Hypothesis Testing (2 points)\n",
        "## Due: midnight, September 25th\n"
      ]
    },
    {
      "cell_type": "code",
      "source": [
        "import matplotlib\n",
        "matplotlib.use('Agg')\n",
        "%matplotlib inline\n",
        "import matplotlib.pyplot as plots\n",
        "plots.style.use('fivethirtyeight')\n",
        "\n",
        "from datascience import *\n",
        "import numpy as np"
      ],
      "metadata": {
        "id": "SXNve_R2hgWD"
      },
      "execution_count": 11,
      "outputs": []
    },
    {
      "cell_type": "markdown",
      "metadata": {
        "id": "96IsKlte5E_W"
      },
      "source": [
        "# Part 1: Introduction\n",
        "\n",
        "Hypothesis testing is a statistical method that can be used to answer questions such as\n",
        "- Does medicine A improve the health outcome of condition X after 7 days?\n",
        "\n",
        "The first step in hypothesis testing is to come up with the research hypothesis, which is a statement (like the one above) that can be tested statistically and involves the comparison of variables, e.g. drug X can lower blood pressure more than a placebo. We then specify the null hypothesis  $𝐻_0$, which states that the effect is not present; in a randomized controlled experiment, this means that there is no significant difference between the treatment group and the control group, and any observed difference is due to chance. In contrast, the alternative hypothesis  $𝐻_A$  states that the effect is actually present, and there is significant difference observed between the treatment group and the control group.\n",
        "\n",
        "In more general terms, the null hypothesis is the default case, generally reflecting the current common conception of the world (e.g. drug has no effect). The alternative hypothesis is the one you are testing (e.g. drug has effect)."
      ]
    },
    {
      "cell_type": "markdown",
      "metadata": {
        "id": "VIT7DHjpsD_K"
      },
      "source": [
        "### Problem 1: Defining Hypotheses (0.3 points)\n",
        "\n",
        "For each research hypothesis below, define what the null hypothesis and the alternative hypothesis should be.\n",
        "\n",
        "*   RH1: Families living in State College tend to own more cars than the national average.\n",
        "*   RH2: Exercise reduces the risk of obesity.\n",
        "*   RH3: Smoking causes lung cancer.\n",
        "\n",
        "\n",
        "\n"
      ]
    },
    {
      "cell_type": "markdown",
      "source": [
        "## Solution for problem 1.\n",
        "Write your solution to Problem 1 in this text cell.\n",
        "\n",
        "- Null hypothesis for RH1 is: Families living in State College own the same amount of cars as the national average.\n",
        "\n",
        "- Alternative hypothesis for RH1 is: Families living in State College own more cars than the national average.\n",
        "\n",
        "- Null hypothesis for RH2 is: Exercise does not reduce the risk of obesity.\n",
        "\n",
        "- Alternative hypothesis for RH2 is: Exercise does reduce the risk of obesity.\n",
        "\n",
        "- Null hypothesis for RH3 is: Smoking does not cause lung cancer.\n",
        "\n",
        "- Alternative hypothesis for RH3 is: Smoking does cause lung cancer."
      ],
      "metadata": {
        "id": "r_wxSqGaczSQ"
      }
    },
    {
      "cell_type": "markdown",
      "source": [
        "# Part 2: Test Statistic and $p$-Value\n",
        "\n",
        "There is a key word in the description of hypothesis testing above \"there is a significant difference observed between the treatment group and the control group\" -- **significant difference**.\n",
        "\n",
        "What does it mean to have a significant difference?\n",
        "How do we determine whether the difference is significant or not? The answers to these question\n",
        "is an important test statistic measure called **p-value**.\n",
        "\n",
        "A test statistic is a numerical quantity computed from a sample of the population. In hypothesis testing, a test statistic measures how far\n",
        "the variable of interest (e.g., percentage of patient who recovers from a disease after receiving a medication) in a sample differs from what we expect under the null hypothesis.\n",
        "\n",
        "Recall in Lab 3, the average of a variable in a sample\n",
        "(e.g., income, age, etc) can deviate from the average of the entire population.  Even though the deviation\n",
        "can, on the average, reduce as the size of sample increases (as stated in Large Number Theory), the\n",
        "deviation can not be completely eliminated.  Therefore, if we draw two random samples from a population and compare average of a variable in\n",
        "the two samples, **there will be differences due\n",
        "to chances and the limit of sample size**.\n",
        "\n",
        "Therefore, we need a systematic way to determine\n",
        "whether the observed difference between two samples (e.g., experiment group and control group) is due\n",
        "to chances (i.e., Null Hypothesis) or due to the\n",
        "intervention (i.e., Alterative Hypothesis).\n",
        "\n",
        "Let us look at an example."
      ],
      "metadata": {
        "id": "Ula8zHsPd2N3"
      }
    },
    {
      "cell_type": "markdown",
      "source": [
        "A human resource specialist working at an IT company is interested in the overwork time of different teams. To investigate whether there is a difference between the overtime of the software development team and the test team, the specialist selected 17 employees randomly from each of the two teams and recorded their weekly average overwork time in hours. The data is below:"
      ],
      "metadata": {
        "id": "pDRxFVT6goUf"
      }
    },
    {
      "cell_type": "code",
      "source": [
        "developer_team = make_array(2.3, 2.1, 1.4, 2.0, 8.7, 2.2, 3.1, 4.2, 3.6, 2.5, 3.1, 6.2, 12.1, 3.9, 2.2, 1.2 ,3.4)\n",
        "test_team = make_array(6.2, 7.1, 1.5, 2,3 , 2, 1.5, 6.1, 2.4, 2.3, 12.4, 1.8, 5.3, 3.1, 9.4, 2.3, 4.1)"
      ],
      "metadata": {
        "id": "3jnTMNsohSaq"
      },
      "execution_count": 12,
      "outputs": []
    },
    {
      "cell_type": "markdown",
      "source": [
        "By comparing the averages of the two samples, the HR specialist, not familiar with data science, might conclude that the test team works much harder since their average overtime is higher:"
      ],
      "metadata": {
        "id": "Pktcm568Bnxy"
      }
    },
    {
      "cell_type": "code",
      "source": [
        "print(\"Developers' average:\", np.average(developer_team))\n",
        "print(\"Testers' average:\", np.average(test_team))"
      ],
      "metadata": {
        "id": "amkRReADByW8",
        "colab": {
          "base_uri": "https://localhost:8080/"
        },
        "outputId": "c83ee128-1be7-4d52-d11c-7bd0d70adb83"
      },
      "execution_count": 13,
      "outputs": [
        {
          "output_type": "stream",
          "name": "stdout",
          "text": [
            "Developers' average: 3.77647058824\n",
            "Testers' average: 4.26470588235\n"
          ]
        }
      ]
    },
    {
      "cell_type": "code",
      "source": [
        "# Calculate the difference of the average from the two groups\n",
        "observed_overtime_diff = np.average(test_team) - np.average(developer_team)\n",
        "print(observed_overtime_diff)"
      ],
      "metadata": {
        "id": "1vLZ_5MVzl4L",
        "colab": {
          "base_uri": "https://localhost:8080/"
        },
        "outputId": "e25172e3-1fd2-4ff3-b108-8b084a404df0"
      },
      "execution_count": 14,
      "outputs": [
        {
          "output_type": "stream",
          "name": "stdout",
          "text": [
            "0.488235294118\n"
          ]
        }
      ]
    },
    {
      "cell_type": "markdown",
      "source": [
        "But could this difference have been caused by chance alone? After all, our samples were drawn at random.\n",
        "\n",
        "To answer this question, we will conduct rigorous hypothesis testing to determine whether there is a significant difference between the overwork times of the two teams."
      ],
      "metadata": {
        "id": "3QR-4m-Kh4DT"
      }
    },
    {
      "cell_type": "markdown",
      "source": [
        "## Problem 2A: Defining Hypotheses for Overwork Time Testing (0.2 points)\n",
        "\n",
        "First, we need to formulate a null hypothesis and an alternative hypothesis. What should these be?\n"
      ],
      "metadata": {
        "id": "H2a8b_FyiHrT"
      }
    },
    {
      "cell_type": "markdown",
      "source": [
        "## Solution for Problem 2A: Write your answer to Problem 2A in this text cell.\n",
        "- Null hypothesis is: There is no significant difference in the amount of overwork time compared from the developer team to the test team.\n",
        "- Alternative hypothesis is: There is a significant different in the amount of overwork time compared from the developer team to the test team."
      ],
      "metadata": {
        "id": "u9AognT4q3eM"
      }
    },
    {
      "cell_type": "markdown",
      "source": [
        "### Step 1: Test Statistic\n",
        "\n",
        "A test statistic measures how far the sample is from what we expect under the null hypothesis (i.e., the difference is due to chances in sampling, not real differences between the two groups). We can simulate the value of the test statistic under the null hypothesis to obtain its probability distribution under the null hypothesis. In the overwork time example, the test statistic can be the absolute difference in average overwork time between the two teams."
      ],
      "metadata": {
        "id": "bYWkUZRkixvK"
      }
    },
    {
      "cell_type": "markdown",
      "source": [
        "### Step 2: Simulating Distribution under Null Hypothesis\n",
        "\n",
        "The following code simulates the value of the test statistic under the null hypothesis. Note that we do not know the population distribution from which the development and test teams' samples were drawn. However, we can simulate it: since samples resemble the population distribution (see the Law of Averages), we can combine the data from the two samples to form the population distribution (of overtime from those in the Developer's team and in the Tester's team)."
      ],
      "metadata": {
        "id": "cjTpksz5lP6K"
      }
    },
    {
      "cell_type": "code",
      "source": [
        "# Based on the Null Hypothesis, the overtime distribution of the Developer's and that of the Tester's is not\n",
        "# different, from statistical significance viewpoint.  Therefore, we can simulate the distribution of Null Hypothesis\n",
        "# by combining samples from the Developer's team with those who work in the Tester's team, because both samples are\n",
        "# drawn from the merged population distribution.\n",
        "# Therefore, the code below combines these two samples into an \"approximate population\", from which we use\n",
        "# computer simulation to generate samples of two groups (i.e., Developers and Testers).\n",
        "# We can then simulate differences of the two groups due to chances (i.e., Null Hypothesis) by repeating this\n",
        "# \"simulated generation of two groups\" many times.\n",
        "\n",
        "possible_times = np.append(test_team, developer_team)\n",
        "\n",
        "table_overwork = Table().with_columns(\"Value\", possible_times)\n",
        "\n",
        "# draw histogram to show the distribution of the over-time of the approximate population formed by combing the two samples.\n",
        "table_overwork.hist(\"Value\", bins=20)"
      ],
      "metadata": {
        "id": "gRSdO14fljSe",
        "colab": {
          "base_uri": "https://localhost:8080/",
          "height": 1000
        },
        "outputId": "695ac927-af7d-4860-b42b-c321fb39dd44"
      },
      "execution_count": 15,
      "outputs": [
        {
          "output_type": "display_data",
          "data": {
            "text/plain": [
              "<Figure size 600x400 with 1 Axes>"
            ],
            "image/png": "[encoded data removed]"
          },
          "metadata": {}
        },
        {
          "output_type": "display_data",
          "data": {
            "text/plain": [
              "<Figure size 600x400 with 1 Axes>"
            ],
            "image/png": "[encoded data removed]"
          },
          "metadata": {}
        },
        {
          "output_type": "display_data",
          "data": {
            "text/plain": [
              "<Figure size 600x400 with 1 Axes>"
            ],
            "image/png": "[encoded data removed]"
          },
          "metadata": {}
        }
      ]
    },
    {
      "cell_type": "markdown",
      "source": [
        "One thing we noticed is there are quite a wide range of over-time, including 10% with the highest overtime."
      ],
      "metadata": {
        "id": "Eaw5X9KDvOVg"
      }
    },
    {
      "cell_type": "markdown",
      "source": [
        "Now let's simulate drawing samples from this distribution (with replacement, because the number of samples may be larger than the size of this **approximate population**).\n",
        "\n",
        "- In each iteration, we randomly sample 17 testers, 17 developers, which is the size of the two groups we had data.\n",
        "- We can then calculate the difference of the average overtime between the two groups.\n",
        "- Because the result of each such \"simulated run\" can be due to \"chances\", we want to simulate this many times to get a statistical distribution that more clearly reflect the likelihood/probability of different outcome due to chances.\n"
      ],
      "metadata": {
        "id": "ATnkL873qi3Y"
      }
    },
    {
      "cell_type": "code",
      "source": [
        "table_simulated_NH= Table().with_columns(\"Iteration\", make_array()).with_columns(\"Value\", make_array())\n",
        "\n",
        "for i in np.arange(10000):\n",
        "  # Randomly sample 17 testers and 17 developers\n",
        "  testers = np.random.choice(possible_times, 17)\n",
        "  developers = np.random.choice(possible_times, 17)\n",
        "  # Calculate the difference of their average overtime\n",
        "  avg_diff = np.average(testers) - np.average(developers)\n",
        "  table_simulated_NH.append((i, avg_diff))\n",
        "\n",
        "# draw histogram to show the distribution under the null hypothesis\n",
        "table_simulated_NH.hist(\"Value\", bins=20)"
      ],
      "metadata": {
        "id": "lNYwC6gCtmxT",
        "colab": {
          "base_uri": "https://localhost:8080/",
          "height": 410
        },
        "outputId": "7c392283-7044-4355-83d2-d6499bf9ce8e"
      },
      "execution_count": 16,
      "outputs": [
        {
          "output_type": "display_data",
          "data": {
            "text/plain": [
              "<Figure size 600x400 with 1 Axes>"
            ],
            "image/png": "[encoded data removed]"
          },
          "metadata": {}
        }
      ]
    },
    {
      "cell_type": "markdown",
      "source": [
        "We then need to compare the observed overtime difference with this simulated overtime difference (based on Null Hypothesis).  \n",
        "\n",
        "- Recall that we have calculated the observed average overtime between the test team and the developer team.  \n",
        "- We have saved the result in a variable called `observed_overtime_diff`"
      ],
      "metadata": {
        "id": "fCEEk8V41HFG"
      }
    },
    {
      "cell_type": "code",
      "source": [
        "# We have calculated EARLIER the difference of the average overtime between the test team and the developer team.\n",
        "# We saved it in the variable observed_overtime_diff\n",
        "\n",
        "print(\"Observed average overtime difference between the testing team and the developer team:\", observed_overtime_diff)"
      ],
      "metadata": {
        "id": "Rrg_71Biqtqa",
        "colab": {
          "base_uri": "https://localhost:8080/"
        },
        "outputId": "b6f0f4ba-9bc3-4815-f432-4ebdbc7e43cd"
      },
      "execution_count": 17,
      "outputs": [
        {
          "output_type": "stream",
          "name": "stdout",
          "text": [
            "Observed average overtime difference between the testing team and the developer team: 0.488235294118\n"
          ]
        }
      ]
    },
    {
      "cell_type": "markdown",
      "source": [
        "Should the null hypothesis be accepted or rejected? Let us use $p$-value, which is the observed significance level of the test, to help us decide.\n",
        "\n",
        "The $p$-value is the probability that under the null hypothesis, the test statistic would be equal to or higher than the observed value in the direction that supports the alternative. In another word, it is the probability that\n",
        "the observed difference is caused by chance, not\n",
        "real differences of the two groups.\n",
        "\n",
        "- One way to calculate the p-value, through simulation above, is to calculate the fraction of simulated statistic values (i.e., simulated \"difference\") that are equal to or higher than the observed value.\n",
        "\n",
        "The code cell below calculates the $p$-value in our example:"
      ],
      "metadata": {
        "id": "3baoeSQSq5EJ"
      }
    },
    {
      "cell_type": "code",
      "source": [
        "exp_exceed_obs_diff = table_simulated_NH.where(\"Value\", are.above_or_equal_to(observed_overtime_diff) )\n",
        "exp_exceed_obs_diff.show(5)"
      ],
      "metadata": {
        "id": "VVhDlKsG44vT",
        "colab": {
          "base_uri": "https://localhost:8080/",
          "height": 235
        },
        "outputId": "1d2f8113-724f-457c-9ea4-92143f3e0ad7"
      },
      "execution_count": 18,
      "outputs": [
        {
          "output_type": "display_data",
          "data": {
            "text/plain": [
              "<IPython.core.display.HTML object>"
            ],
            "text/html": [
              "<table border=\"1\" class=\"dataframe\">\n",
              "    <thead>\n",
              "        <tr>\n",
              "            <th>Iteration</th> <th>Value</th>\n",
              "        </tr>\n",
              "    </thead>\n",
              "    <tbody>\n",
              "        <tr>\n",
              "            <td>0        </td> <td>1.64706 </td>\n",
              "        </tr>\n",
              "        <tr>\n",
              "            <td>2        </td> <td>1.91765 </td>\n",
              "        </tr>\n",
              "        <tr>\n",
              "            <td>9        </td> <td>1.36471 </td>\n",
              "        </tr>\n",
              "        <tr>\n",
              "            <td>10       </td> <td>0.535294</td>\n",
              "        </tr>\n",
              "        <tr>\n",
              "            <td>13       </td> <td>1.12941 </td>\n",
              "        </tr>\n",
              "    </tbody>\n",
              "</table>\n",
              "<p>... (3098 rows omitted)</p>"
            ]
          },
          "metadata": {}
        }
      ]
    },
    {
      "cell_type": "code",
      "source": [
        "sim_p_value = exp_exceed_obs_diff.num_rows / table_simulated_NH.num_rows"
      ],
      "metadata": {
        "id": "WsvAks7U7X4d"
      },
      "execution_count": 19,
      "outputs": []
    },
    {
      "cell_type": "code",
      "source": [
        "# sim_p_value = np.average(table_simulated_NH.column(\"Value\") > observed_overtime_diff)\n",
        "print(\"p-value based on 10K simulation:\", sim_p_value)"
      ],
      "metadata": {
        "id": "kDxICwUoslXB",
        "colab": {
          "base_uri": "https://localhost:8080/"
        },
        "outputId": "c362e9b6-d393-4ebe-c725-f0cc2572025a"
      },
      "execution_count": 20,
      "outputs": [
        {
          "output_type": "stream",
          "name": "stdout",
          "text": [
            "p-value based on 10K simulation: 0.3103\n"
          ]
        }
      ]
    },
    {
      "cell_type": "markdown",
      "source": [
        "This result tells us that the probability, based on Null Hypothesis, that two samples from one underlying distribution has an average overtime difference that is at least as high as the one observed is **quite high (31.4%)**."
      ],
      "metadata": {
        "id": "TBzQxx-V8aqV"
      }
    },
    {
      "cell_type": "markdown",
      "source": [
        "The rule of thumb for using the $p$-value is:\n",
        "*   $p$-value > 5\\%: sample is consistent with the null hypothesis; conclusion is to accept the null hypothesis.\n",
        "*   5\\% > $p$-value > 1%: sample is not consistent with the null hypothesis; conclusion is to reject the null hypothesis (i.e. accept the alternative hypothesis); result is statistically significant.\n",
        "*   1\\% > $p$-value: sample is highly inconsistent with the null hypothesis; conclusion is to reject the null hypothesis; result is highly statistically significant."
      ],
      "metadata": {
        "id": "YrMDUS_atuyr"
      }
    },
    {
      "cell_type": "markdown",
      "source": [
        "### Problem 2B: Conclusion for the Overwork Time Hypothesis Test (0.2 points)\n",
        "\n",
        "What should be our conclusion for the overtime hypothesis test based on the observed $p$-value?\n",
        "\n",
        "To accept the null hypothesis as the p value is above 5%."
      ],
      "metadata": {
        "id": "0IscpFGPviCA"
      }
    },
    {
      "cell_type": "markdown",
      "source": [
        "### Solution for Problem 2B: Write your answer to Problem 2B in this text cell.\n",
        "Solution for Problem 2B: To accept the null hypothesis as the p value is above 5%."
      ],
      "metadata": {
        "id": "hWR9IimF9tJp"
      }
    },
    {
      "cell_type": "markdown",
      "source": [
        "## Part 3: A/B Testing\n",
        "\n",
        "A/B testing is a form of hypothesis testing that allows you to make comparisons between two distributions (e.g., one with an intervention, the other without an intervention).\n",
        "\n",
        "Here are the steps in an A/B hypothesis test:\n",
        "\n",
        "\n",
        "1.   Define a null and alternate hypothesis\n",
        "2.   Choose a test statistic (typically the difference in means between two groups)\n",
        "3.   Find the observed value of the test statistic\n",
        "4.  Sample from the population under the null hypothesis to simulate the test statistic, and repeat many times to obtain the distribution of the simulated test statistic under the null hypothesis\n",
        "5.   Calculate the $p$-value based on your observed and simulated test statistics\n",
        "6.   Use the $p$-value and $p$-value cutoff to draw a conclusion about the null hypothesis"
      ],
      "metadata": {
        "id": "Ys0tcdudwSjL"
      }
    },
    {
      "cell_type": "markdown",
      "source": [
        "As you can see, the steps are quite similar to what we have learned in Part 2 of this assignment. Now let's look at an example using a *natural experiment*. Different from a randomized controlled experiment, a natural experiment happens when something other than experimental design applies a treatment to one group and not to another (control) group, and we have some hope that the treatment and control groups do not have any other systematic differences."
      ],
      "metadata": {
        "id": "fr6ZANCiRveZ"
      }
    },
    {
      "cell_type": "markdown",
      "source": [
        "The natural experiment in this example makes it possible for us to perform a hypothesis testing that explores whether instituting capital punishment for murder actually reduces the number of murders. That is, we want to know whether capital punishment causes a change in the murder rate.\n",
        "\n",
        "The natural experiment is this: in 1972, a Supreme Court decision called Furman v. Georgia banned capital punishment throughout the U.S. Suddenly, many states went from having capital punishment to not having capital punishment.\n",
        "\n",
        "In the interest of finding out whether and how murder rates changed before and after the court decision, we will define our A/B hypothesis test as follows:\n",
        "\n",
        "**Population:** All the states that had capital punishment before the 1972 abolition. (There is no control group for the states that already lacked capital punishment in 1972, so we must omit them.) This includes all U.S. states except Alaska, Hawaii, Maine, Michigan, Wisconsin, and Minnesota.\n",
        "\n",
        "**Treatment group:** The states in that population, in 1973 (the year after 1972).\n",
        "\n",
        "**Control group:** The states in that population, in 1971 (the year before 1972).\n",
        "\n",
        "**Null hypothesis:** Murder rates in 1971 and 1973 come from the same distribution.\n",
        "\n",
        "**Alternative hypothesis:** Murder rates were higher in 1973 than they were in 1971.\n",
        "\n",
        "The alternative hypothesis is related to our suspicion that murder rates increase when capital punishment is banned."
      ],
      "metadata": {
        "id": "IQX9dRW0StwL"
      }
    },
    {
      "cell_type": "markdown",
      "source": [
        "#### Data\n",
        "\n",
        "The main data source for this lab comes from a [paper](http://cjlf.org/deathpenalty/DezRubShepDeterFinal.pdf) by three researchers, Dezhbakhsh, Rubin, and Shepherd.  The dataset contains rates of various violent crimes for every year 1960-2003 (44 years) in every U.S. state.  The researchers compiled the data from the FBI's Uniform Crime Reports.\n",
        "\n",
        "Since crimes are committed by people, not states, we need to account for the number of people in each state when we are looking at state-level data.  Murder rates are calculated as follows:\n",
        "$$\\text{murder rate for state X in year Y} = \\frac{\\text{number of murders in state X in year Y}}{\\text{population in state X in year Y}} \\times 100,\\!000$$\n",
        "\n",
        "(Murder is fortunately rare, so we multiply by 100,000 just to avoid dealing with tiny numbers.)"
      ],
      "metadata": {
        "id": "nZmG76Q6XcGS"
      }
    },
    {
      "cell_type": "code",
      "execution_count": 21,
      "metadata": {
        "id": "eYTxgyvRNP98",
        "colab": {
          "base_uri": "https://localhost:8080/"
        },
        "outputId": "1204c155-47a6-43d7-ecf6-6beec31362d0"
      },
      "outputs": [
        {
          "output_type": "stream",
          "name": "stdout",
          "text": [
            "Number of rows in table: 2200\n"
          ]
        }
      ],
      "source": [
        "murder_rates = Table.read_table('crime_rates.csv').select('State', 'Year', 'Population', 'Murder Rate')\n",
        "murder_rates.set_format(\"Population\", NumberFormatter)\n",
        "print(\"Number of rows in table:\", murder_rates.num_rows)"
      ]
    },
    {
      "cell_type": "code",
      "source": [
        "murder_rates.show(5)"
      ],
      "metadata": {
        "id": "cNMkwNMLCtZO",
        "colab": {
          "base_uri": "https://localhost:8080/",
          "height": 235
        },
        "outputId": "4ac2813d-4004-44b0-c392-fd214ef4a815"
      },
      "execution_count": 22,
      "outputs": [
        {
          "output_type": "display_data",
          "data": {
            "text/plain": [
              "<IPython.core.display.HTML object>"
            ],
            "text/html": [
              "<table border=\"1\" class=\"dataframe\">\n",
              "    <thead>\n",
              "        <tr>\n",
              "            <th>State</th> <th>Year</th> <th>Population</th> <th>Murder Rate</th>\n",
              "        </tr>\n",
              "    </thead>\n",
              "    <tbody>\n",
              "        <tr>\n",
              "            <td>Alaska</td> <td>1960</td> <td>226,167   </td> <td>10.2       </td>\n",
              "        </tr>\n",
              "        <tr>\n",
              "            <td>Alaska</td> <td>1961</td> <td>234,000   </td> <td>11.5       </td>\n",
              "        </tr>\n",
              "        <tr>\n",
              "            <td>Alaska</td> <td>1962</td> <td>246,000   </td> <td>4.5        </td>\n",
              "        </tr>\n",
              "        <tr>\n",
              "            <td>Alaska</td> <td>1963</td> <td>248,000   </td> <td>6.5        </td>\n",
              "        </tr>\n",
              "        <tr>\n",
              "            <td>Alaska</td> <td>1964</td> <td>250,000   </td> <td>10.4       </td>\n",
              "        </tr>\n",
              "    </tbody>\n",
              "</table>\n",
              "<p>... (2195 rows omitted)</p>"
            ]
          },
          "metadata": {}
        }
      ]
    },
    {
      "cell_type": "markdown",
      "metadata": {
        "deletable": false,
        "editable": false,
        "id": "YxEO-NQmNP98"
      },
      "source": [
        "Murder rates vary over time, and different states exhibit different trends. The rates in some states change dramatically from year to year, while others are quite stable. Let's plot a few, just to see the variety.\n"
      ]
    },
    {
      "cell_type": "markdown",
      "source": [
        "### Problem 3: Line Plot to Compare Murder Rates in Two States over Time (0.5 points)\n",
        "\n",
        "Draw a line plot with years on the horizontal axis and murder rates on the\n",
        "vertical axis. Include two lines: one for Alaska murder rates and one for Minnesota murder rates.\n",
        "\n",
        "*Hint: You will need to create a table with three columns: one for years, one for murder rates in Alaska, and one for murder rates in Minnesota. Then, you can use a single call of function `plot` on the table to draw the plot. This table should have the following structure:*\n",
        "\n",
        "| `Year` | `Murder rate in Alaska` | `Murder rate in Minnesota` |\n",
        "|------|-----------------------|--------------------------|\n",
        "| 1960 | 10.2                  | 1.2                      |\n",
        "| 1961 | 11.5                  | 1                        |\n",
        "| 1962 | 4.5                   | 0.9                      |\n",
        "...\n",
        "\n",
        "*If you plot it correctly, you should see [this](https://drive.google.com/file/d/1I1jrnH2l9S0GkggBxHewUaw2IkeT_q1W/view?usp=sharing).*\n"
      ],
      "metadata": {
        "id": "ukii59VTYaHB"
      }
    },
    {
      "cell_type": "markdown",
      "source": [
        "### Write your solution to Problem 3 by following the following steps\n",
        "\n",
        "- 1. Sort table murder_rates by year and sort the sorted table in a variable ``sorted_table``\n",
        "- 2. Create a new table from sorted murder_rates that includes only murder rates of Alaska; do the same for Minnesota.\n",
        "- 3. Relabel the ``Murder Rate`` column for Alaska table into ``Alaska Murder Rate``, and the ``Murder Rate`` column for Minnesota table into ``Minnesota Murder Rate``.\n",
        "- 4. Create a new table using Table().with_columns with three columns:\n",
        "-- \"Year\" (data from the Year column of the Alaska table)\n",
        "-- \"Murder rate in Alaska\" (data from the Muder Rate column of the Alaska table)\n",
        "-- \"Murder rate in Minnesota\" (data from the Muder Rate column of the Minnesota table)"
      ],
      "metadata": {
        "id": "ReEoELNKDrsO"
      }
    },
    {
      "cell_type": "code",
      "execution_count": 23,
      "metadata": {
        "id": "oran95dqNP99",
        "colab": {
          "base_uri": "https://localhost:8080/",
          "height": 235
        },
        "outputId": "b3c88855-83fe-4f61-d309-43363d67ca70"
      },
      "outputs": [
        {
          "output_type": "display_data",
          "data": {
            "text/plain": [
              "<IPython.core.display.HTML object>"
            ],
            "text/html": [
              "<table border=\"1\" class=\"dataframe\">\n",
              "    <thead>\n",
              "        <tr>\n",
              "            <th>State</th> <th>Year</th> <th>Population</th> <th>Murder Rate</th>\n",
              "        </tr>\n",
              "    </thead>\n",
              "    <tbody>\n",
              "        <tr>\n",
              "            <td>Alaska    </td> <td>1960</td> <td>226,167   </td> <td>10.2       </td>\n",
              "        </tr>\n",
              "        <tr>\n",
              "            <td>Alabama   </td> <td>1960</td> <td>3,266,740 </td> <td>12.4       </td>\n",
              "        </tr>\n",
              "        <tr>\n",
              "            <td>Arkansas  </td> <td>1960</td> <td>1,786,272 </td> <td>8.5        </td>\n",
              "        </tr>\n",
              "        <tr>\n",
              "            <td>Arizona   </td> <td>1960</td> <td>1,302,161 </td> <td>6          </td>\n",
              "        </tr>\n",
              "        <tr>\n",
              "            <td>California</td> <td>1960</td> <td>15,717,204</td> <td>3.9        </td>\n",
              "        </tr>\n",
              "    </tbody>\n",
              "</table>\n",
              "<p>... (2195 rows omitted)</p>"
            ]
          },
          "metadata": {}
        }
      ],
      "source": [
        "# step 1\n",
        "sorted_table = murder_rates.sort(\"Year\")\n",
        "sorted_table.show(5)"
      ]
    },
    {
      "cell_type": "code",
      "source": [
        "# step 2\n",
        "Alaska_murder_rates= sorted_table.where(\"State\", are.equal_to(\"Alaska\"))\n",
        "Minnesota_murder_rates = sorted_table.where(\"State\", are.equal_to(\"Minnesota\"))\n",
        "Alaska_murder_rates.show(5)"
      ],
      "metadata": {
        "id": "Bwv0zNfIEGp2",
        "colab": {
          "base_uri": "https://localhost:8080/",
          "height": 235
        },
        "outputId": "35c81ef5-23ab-459e-efbd-28e0f79612d8"
      },
      "execution_count": 24,
      "outputs": [
        {
          "output_type": "display_data",
          "data": {
            "text/plain": [
              "<IPython.core.display.HTML object>"
            ],
            "text/html": [
              "<table border=\"1\" class=\"dataframe\">\n",
              "    <thead>\n",
              "        <tr>\n",
              "            <th>State</th> <th>Year</th> <th>Population</th> <th>Murder Rate</th>\n",
              "        </tr>\n",
              "    </thead>\n",
              "    <tbody>\n",
              "        <tr>\n",
              "            <td>Alaska</td> <td>1960</td> <td>226,167   </td> <td>10.2       </td>\n",
              "        </tr>\n",
              "        <tr>\n",
              "            <td>Alaska</td> <td>1961</td> <td>234,000   </td> <td>11.5       </td>\n",
              "        </tr>\n",
              "        <tr>\n",
              "            <td>Alaska</td> <td>1962</td> <td>246,000   </td> <td>4.5        </td>\n",
              "        </tr>\n",
              "        <tr>\n",
              "            <td>Alaska</td> <td>1963</td> <td>248,000   </td> <td>6.5        </td>\n",
              "        </tr>\n",
              "        <tr>\n",
              "            <td>Alaska</td> <td>1964</td> <td>250,000   </td> <td>10.4       </td>\n",
              "        </tr>\n",
              "    </tbody>\n",
              "</table>\n",
              "<p>... (39 rows omitted)</p>"
            ]
          },
          "metadata": {}
        }
      ]
    },
    {
      "cell_type": "code",
      "source": [
        "Minnesota_murder_rates.show(5)"
      ],
      "metadata": {
        "id": "eK9r3jr1DIBM",
        "colab": {
          "base_uri": "https://localhost:8080/",
          "height": 235
        },
        "outputId": "20db25a5-4fcb-4018-b999-217ea1b73e5a"
      },
      "execution_count": 25,
      "outputs": [
        {
          "output_type": "display_data",
          "data": {
            "text/plain": [
              "<IPython.core.display.HTML object>"
            ],
            "text/html": [
              "<table border=\"1\" class=\"dataframe\">\n",
              "    <thead>\n",
              "        <tr>\n",
              "            <th>State</th> <th>Year</th> <th>Population</th> <th>Murder Rate</th>\n",
              "        </tr>\n",
              "    </thead>\n",
              "    <tbody>\n",
              "        <tr>\n",
              "            <td>Minnesota</td> <td>1960</td> <td>3,413,864 </td> <td>1.2        </td>\n",
              "        </tr>\n",
              "        <tr>\n",
              "            <td>Minnesota</td> <td>1961</td> <td>3,470,000 </td> <td>1          </td>\n",
              "        </tr>\n",
              "        <tr>\n",
              "            <td>Minnesota</td> <td>1962</td> <td>3,475,000 </td> <td>0.9        </td>\n",
              "        </tr>\n",
              "        <tr>\n",
              "            <td>Minnesota</td> <td>1963</td> <td>3,500,000 </td> <td>1.2        </td>\n",
              "        </tr>\n",
              "        <tr>\n",
              "            <td>Minnesota</td> <td>1964</td> <td>3,521,000 </td> <td>1.4        </td>\n",
              "        </tr>\n",
              "    </tbody>\n",
              "</table>\n",
              "<p>... (39 rows omitted)</p>"
            ]
          },
          "metadata": {}
        }
      ]
    },
    {
      "cell_type": "code",
      "source": [
        "Alaska_MR_year = Alaska_murder_rates.relabel(\"Murder Rate\", \"Alaska Murder Rate\")\n",
        "Alaska_MR_year_2col = Alaska_MR_year.select(\"Year\", \"Alaska Murder Rate\")"
      ],
      "metadata": {
        "id": "loX6-0zlFQxo"
      },
      "execution_count": 26,
      "outputs": []
    },
    {
      "cell_type": "code",
      "source": [
        "Alaska_MR_year_2col.show(5)"
      ],
      "metadata": {
        "id": "pyuqChShIQWz",
        "colab": {
          "base_uri": "https://localhost:8080/",
          "height": 235
        },
        "outputId": "454b9f58-6561-42ce-b77d-48aafbdf8f4a"
      },
      "execution_count": 27,
      "outputs": [
        {
          "output_type": "display_data",
          "data": {
            "text/plain": [
              "<IPython.core.display.HTML object>"
            ],
            "text/html": [
              "<table border=\"1\" class=\"dataframe\">\n",
              "    <thead>\n",
              "        <tr>\n",
              "            <th>Year</th> <th>Alaska Murder Rate</th>\n",
              "        </tr>\n",
              "    </thead>\n",
              "    <tbody>\n",
              "        <tr>\n",
              "            <td>1960</td> <td>10.2              </td>\n",
              "        </tr>\n",
              "        <tr>\n",
              "            <td>1961</td> <td>11.5              </td>\n",
              "        </tr>\n",
              "        <tr>\n",
              "            <td>1962</td> <td>4.5               </td>\n",
              "        </tr>\n",
              "        <tr>\n",
              "            <td>1963</td> <td>6.5               </td>\n",
              "        </tr>\n",
              "        <tr>\n",
              "            <td>1964</td> <td>10.4              </td>\n",
              "        </tr>\n",
              "    </tbody>\n",
              "</table>\n",
              "<p>... (39 rows omitted)</p>"
            ]
          },
          "metadata": {}
        }
      ]
    },
    {
      "cell_type": "code",
      "source": [
        "Minnesota_MR_year = Minnesota_murder_rates.relabel(\"Murder Rate\", \"Minnesota Murder Rate\")\n",
        "Minnesota_MR_year_2col = Minnesota_MR_year.select(\"Year\", \"Minnesota Murder Rate\")"
      ],
      "metadata": {
        "id": "4ZCrU1cSJv8Z"
      },
      "execution_count": 28,
      "outputs": []
    },
    {
      "cell_type": "code",
      "source": [
        "Minnesota_MR_year_2col.show(5)"
      ],
      "metadata": {
        "id": "5j4CH6EkIX9E",
        "colab": {
          "base_uri": "https://localhost:8080/",
          "height": 235
        },
        "outputId": "aa6480de-7cce-4325-c3ba-e4917a712b1e"
      },
      "execution_count": 29,
      "outputs": [
        {
          "output_type": "display_data",
          "data": {
            "text/plain": [
              "<IPython.core.display.HTML object>"
            ],
            "text/html": [
              "<table border=\"1\" class=\"dataframe\">\n",
              "    <thead>\n",
              "        <tr>\n",
              "            <th>Year</th> <th>Minnesota Murder Rate</th>\n",
              "        </tr>\n",
              "    </thead>\n",
              "    <tbody>\n",
              "        <tr>\n",
              "            <td>1960</td> <td>1.2                  </td>\n",
              "        </tr>\n",
              "        <tr>\n",
              "            <td>1961</td> <td>1                    </td>\n",
              "        </tr>\n",
              "        <tr>\n",
              "            <td>1962</td> <td>0.9                  </td>\n",
              "        </tr>\n",
              "        <tr>\n",
              "            <td>1963</td> <td>1.2                  </td>\n",
              "        </tr>\n",
              "        <tr>\n",
              "            <td>1964</td> <td>1.4                  </td>\n",
              "        </tr>\n",
              "    </tbody>\n",
              "</table>\n",
              "<p>... (39 rows omitted)</p>"
            ]
          },
          "metadata": {}
        }
      ]
    },
    {
      "cell_type": "code",
      "source": [
        "joined_table = Alaska_MR_year_2col.join(\"Year\", Minnesota_MR_year_2col)"
      ],
      "metadata": {
        "id": "TL1fGQnuKRab"
      },
      "execution_count": 30,
      "outputs": []
    },
    {
      "cell_type": "code",
      "source": [
        "joined_table.show(4)"
      ],
      "metadata": {
        "id": "sm7Xu1dhKwq7",
        "colab": {
          "base_uri": "https://localhost:8080/",
          "height": 204
        },
        "outputId": "9613ea58-037a-4b2e-8154-65a998cd43a3"
      },
      "execution_count": 31,
      "outputs": [
        {
          "output_type": "display_data",
          "data": {
            "text/plain": [
              "<IPython.core.display.HTML object>"
            ],
            "text/html": [
              "<table border=\"1\" class=\"dataframe\">\n",
              "    <thead>\n",
              "        <tr>\n",
              "            <th>Year</th> <th>Alaska Murder Rate</th> <th>Minnesota Murder Rate</th>\n",
              "        </tr>\n",
              "    </thead>\n",
              "    <tbody>\n",
              "        <tr>\n",
              "            <td>1960</td> <td>10.2              </td> <td>1.2                  </td>\n",
              "        </tr>\n",
              "        <tr>\n",
              "            <td>1961</td> <td>11.5              </td> <td>1                    </td>\n",
              "        </tr>\n",
              "        <tr>\n",
              "            <td>1962</td> <td>4.5               </td> <td>0.9                  </td>\n",
              "        </tr>\n",
              "        <tr>\n",
              "            <td>1963</td> <td>6.5               </td> <td>1.2                  </td>\n",
              "        </tr>\n",
              "    </tbody>\n",
              "</table>\n",
              "<p>... (40 rows omitted)</p>"
            ]
          },
          "metadata": {}
        }
      ]
    },
    {
      "cell_type": "code",
      "source": [
        "joined_table.plot(\"Year\")"
      ],
      "metadata": {
        "id": "XYbaS2WiLAm6",
        "colab": {
          "base_uri": "https://localhost:8080/",
          "height": 575
        },
        "outputId": "12199b52-0c84-4114-d116-fe83e83729df"
      },
      "execution_count": 32,
      "outputs": [
        {
          "output_type": "display_data",
          "data": {
            "text/plain": [
              "<Figure size 600x600 with 1 Axes>"
            ],
            "image/png": "[encoded data removed]"
          },
          "metadata": {}
        }
      ]
    },
    {
      "cell_type": "markdown",
      "source": [
        "## A/B Hypothesis Test\n",
        "\n",
        "Now let's go back to the hypothesis test to answer our original question.\n",
        "\n",
        "**Population:** All the states that had capital punishment before the 1972 abolition. (There is no control group for the states that already lacked capital punishment in 1972, so we must omit them.) This includes all U.S. states except Alaska, Hawaii, Maine, Michigan, Wisconsin, and Minnesota.\n",
        "\n",
        "**Treatment group:** The states in that population, in 1973 (the year after 1972).\n",
        "\n",
        "**Control group:** The states in that population, in 1971 (the year before 1972).\n",
        "\n",
        "**Null hypothesis:** Murder rates in 1971 and 1973 come from the same distribution.\n",
        "\n",
        "**Alternative hypothesis:** Murder rates were higher in 1973 than they were in 1971.\n",
        "\n"
      ],
      "metadata": {
        "id": "fRmrXLS7gTP7"
      }
    },
    {
      "cell_type": "markdown",
      "source": [
        "We first extract relevant data for the chosen population:"
      ],
      "metadata": {
        "id": "qbxJWwS8hIgq"
      }
    },
    {
      "cell_type": "code",
      "execution_count": 33,
      "metadata": {
        "id": "lskzxze0NP-A",
        "colab": {
          "base_uri": "https://localhost:8080/"
        },
        "outputId": "10798720-bbad-48ec-81dc-fff669179dd8"
      },
      "outputs": [
        {
          "output_type": "stream",
          "name": "stdout",
          "text": [
            "All data: 2200\n",
            "Data from states with capital punishment: 1936\n"
          ]
        }
      ],
      "source": [
        "# make a list of states that did not have capital punishment before the 1972 abolition (these states will be excluded from the chosen population)\n",
        "non_capital_punishment_states = make_array('Alaska', 'Hawaii', 'Maine', 'Michigan', 'Wisconsin', 'Minnesota')\n",
        "\n",
        "print(\"All data:\", murder_rates.num_rows)\n",
        "\n",
        "# update murder_rates table to contain only states from the population\n",
        "murder_rates = murder_rates.where('State', are.not_contained_in(non_capital_punishment_states))\n",
        "print(\"Data from states with capital punishment:\", murder_rates.num_rows)"
      ]
    },
    {
      "cell_type": "markdown",
      "source": [
        "The next step in the test is choosing a test statistic, which is typically the difference in means between the treatment group and the control group. In this example, it is the difference in means between the postban and preban murder rates:"
      ],
      "metadata": {
        "id": "3mMDo46dgn7Y"
      }
    },
    {
      "cell_type": "code",
      "source": [
        "# array containing postban rates\n",
        "postban_rates = murder_rates.where('Year', are.equal_to(1973)).column('Murder Rate')\n",
        "\n",
        "# array containing preban rates\n",
        "preban_rates = murder_rates.where('Year', are.equal_to(1971)).column('Murder Rate')\n",
        "\n",
        "# calculate the observed test statistic\n",
        "observed_diff = abs(np.average(postban_rates) - np.average(preban_rates))\n",
        "print('Observed test statistic:', observed_diff)"
      ],
      "metadata": {
        "id": "9DajNFSrhXvJ",
        "colab": {
          "base_uri": "https://localhost:8080/"
        },
        "outputId": "dd16719b-5570-49ff-f03d-db8580c5955a"
      },
      "execution_count": 34,
      "outputs": [
        {
          "output_type": "stream",
          "name": "stdout",
          "text": [
            "Observed test statistic: 0.606818160068\n"
          ]
        }
      ]
    },
    {
      "cell_type": "markdown",
      "source": [
        "### Problem 4: Complete the A/B Test by Completing the Remaining Steps (0.8 points)\n",
        "\n",
        "Recall the steps in A/B testing:\n",
        "\n",
        "1.   Choose a test statistic (typically the difference in means between two groups) based on the Null/Alternative Hypothesis you wish to test.\n",
        "2.   Find the value of the observed test statistic\n",
        "3.   Create an approximate population of Null Hypothesis by combining the samples of the two groups into one.\n",
        "4.  Simulate \"random sampling of two groups from the approximate population\" based on (1) your choice of sample size, and (2) the number of \"simulation experiments\" (i.e., the number of iterations) to obtain a distribution  of the average differences between the two samples.\n",
        "5.   Calculate the $p$-value based on the distributions and your observed difference.\n",
        "6.   Use the $p$-value and an appropriate $p$-value cutoff to draw a conclusion about the null hypothesis\n",
        "\n",
        "For the capital punishment test, steps 1-2 above have been completed. Please write  code to complete steps 3-6 and draw a conclusion (about whether to accept or reject the null hypothesis) based on the test result. The points for this problem will be assigned as follows:\n",
        "*   Step 3: 0.2 points (Problem 4A)\n",
        "*   Step 4: 0.3 points (Problem 4B)\n",
        "*   Step 5: 0.2 points (Problem 4C)\n",
        "*   Step 6: 0.1 points (Problem 4D)\n",
        "\n"
      ],
      "metadata": {
        "id": "EM3WzJwR87Aa"
      }
    },
    {
      "cell_type": "code",
      "source": [
        "# Complete your code for Problem 4 by filling in the missing pieces below."
      ],
      "metadata": {
        "id": "ZZ8--zMP-EdR"
      },
      "execution_count": 35,
      "outputs": []
    },
    {
      "cell_type": "code",
      "source": [
        "\n",
        "# Problem 4A:\n",
        "MR_population = np.append(preban_rates, postban_rates)"
      ],
      "metadata": {
        "id": "XYFjWCUgMapB"
      },
      "execution_count": 36,
      "outputs": []
    },
    {
      "cell_type": "code",
      "source": [
        "#Problem 4B:\n",
        "table_simulated_NH2= Table().with_columns(\"Iteration\", make_array()).with_columns(\"Diff\", make_array())\n",
        "\n",
        "sample_size = 100\n",
        "for i in np.arange(10000):\n",
        "  # Randomly sample 1000 testers and 17 developers\n",
        "  pre_ban_samples = np.random.choice(MR_population, sample_size)\n",
        "  post_ban_samples = np.random.choice(MR_population, sample_size)\n",
        "  # Calculate the difference of their average overtime\n",
        "  avg_MR_diff = np.average(pre_ban_samples) - np.average(post_ban_samples)\n",
        "  table_simulated_NH2.append((i, avg_MR_diff))\n",
        "\n",
        "# draw histogram to show the distribution under the null hypothesis\n",
        "table_simulated_NH2.hist(\"Diff\", bins=20)"
      ],
      "metadata": {
        "id": "HmHF3CfEYjFt",
        "colab": {
          "base_uri": "https://localhost:8080/",
          "height": 410
        },
        "outputId": "3a6590cc-84ff-4f7e-c9cb-8d41bf980155"
      },
      "execution_count": 37,
      "outputs": [
        {
          "output_type": "display_data",
          "data": {
            "text/plain": [
              "<Figure size 600x400 with 1 Axes>"
            ],
            "image/png": "[encoded data removed]"
          },
          "metadata": {}
        }
      ]
    },
    {
      "cell_type": "code",
      "source": [
        "exp_exceed_obs_diff2 = table_simulated_NH2.where(\"Diff\", are.above_or_equal_to(observed_diff) )\n",
        "exp_exceed_obs_diff2.show(5)"
      ],
      "metadata": {
        "id": "qZrKgksNZ2qk",
        "colab": {
          "base_uri": "https://localhost:8080/",
          "height": 235
        },
        "outputId": "c51fbf05-5e70-4026-d0b5-6371b31b901d"
      },
      "execution_count": 38,
      "outputs": [
        {
          "output_type": "display_data",
          "data": {
            "text/plain": [
              "<IPython.core.display.HTML object>"
            ],
            "text/html": [
              "<table border=\"1\" class=\"dataframe\">\n",
              "    <thead>\n",
              "        <tr>\n",
              "            <th>Iteration</th> <th>Diff</th>\n",
              "        </tr>\n",
              "    </thead>\n",
              "    <tbody>\n",
              "        <tr>\n",
              "            <td>1        </td> <td>1.198</td>\n",
              "        </tr>\n",
              "        <tr>\n",
              "            <td>4        </td> <td>1.324</td>\n",
              "        </tr>\n",
              "        <tr>\n",
              "            <td>14       </td> <td>0.888</td>\n",
              "        </tr>\n",
              "        <tr>\n",
              "            <td>16       </td> <td>0.608</td>\n",
              "        </tr>\n",
              "        <tr>\n",
              "            <td>21       </td> <td>0.668</td>\n",
              "        </tr>\n",
              "    </tbody>\n",
              "</table>\n",
              "<p>... (1617 rows omitted)</p>"
            ]
          },
          "metadata": {}
        }
      ]
    },
    {
      "cell_type": "code",
      "source": [
        "# Problem 4C:\n",
        "sim_p_value = exp_exceed_obs_diff2.num_rows / table_simulated_NH2.num_rows"
      ],
      "metadata": {
        "id": "znaxrg6kZ2qp"
      },
      "execution_count": 40,
      "outputs": []
    },
    {
      "cell_type": "code",
      "source": [
        "# sim_p_value = np.average(table_simulated_NH.column(\"Value\") > observed_overtime_diff)\n",
        "print(\"p-value based on 10K simulation:\", sim_p_value)"
      ],
      "metadata": {
        "id": "0ewqIrDmZ2qq",
        "colab": {
          "base_uri": "https://localhost:8080/"
        },
        "outputId": "3e386e20-8a13-44b9-d910-8f9a5f126bcb"
      },
      "execution_count": 41,
      "outputs": [
        {
          "output_type": "stream",
          "name": "stdout",
          "text": [
            "p-value based on 10K simulation: 0.1622\n"
          ]
        }
      ]
    },
    {
      "cell_type": "markdown",
      "source": [
        "# Answer to Problem 4D:\n",
        "Write your conclusion for Problem 4D based on the computed p-value in this text cell.\n",
        "\n",
        "Seeing as how the p-value is 16.2% which is > 5%, the sample is consisten with the null hypothesis. So we accept the null hypothesis that murder rates in 1971 and 1973 come from the same distribution."
      ],
      "metadata": {
        "id": "F8CfmrBVFPOc"
      }
    }
  ],
  "metadata": {
    "colab": {
      "provenance": []
    },
    "kernelspec": {
      "display_name": "Python 3",
      "name": "python3"
    },
    "language_info": {
      "name": "python"
    }
  },
  "nbformat": 4,
  "nbformat_minor": 0
}