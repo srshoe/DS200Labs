{
  "nbformat": 4,
  "nbformat_minor": 0,
  "metadata": {
    "colab": {
      "provenance": []
    },
    "kernelspec": {
      "name": "python3",
      "display_name": "Python 3"
    },
    "language_info": {
      "name": "python"
    }
  },
  "cells": [
    {
      "cell_type": "markdown",
      "source": [
        "# DS200: Introduction to Data Sciences\n",
        "## Section 1 Fall 2024\n",
        "# Lab Assignment 3: Conditional, Simulating Monty Hall Game, Aggregating by Columns of Tables, Laew of Large Number\n",
        "\n",
        "## Total Number of Points: 2\n",
        "- Exercise 1: 0.2\n",
        "- Exercise 2: 0.3\n",
        "- Exercise 3A: 0.3\n",
        "- Exercise 3B: 0.2\n",
        "- Exercise 4: 0.5\n",
        "- Exercise 5: 0.5\n",
        "\n",
        "## Due: midnight September 18, 2024\n",
        "\n",
        "\n",
        "\n"
      ],
      "metadata": {
        "id": "tPUwEvaFiyLG"
      }
    },
    {
      "cell_type": "markdown",
      "source": [
        "The first thing we will do is to important the `datascience` module so that we can use `Tables` and associated methods to modify, query, and aggregate contents of the table."
      ],
      "metadata": {
        "id": "C_KtxlfHlMLB"
      }
    },
    {
      "cell_type": "markdown",
      "source": [
        "Another Python module we often use is `numpy`.  The following code cell imports the module, AND give it a shortened name `np` so that we can invoke functions in `numpy` as `np.<function name>`."
      ],
      "metadata": {
        "id": "ayyaD2AtYo-V"
      }
    },
    {
      "cell_type": "code",
      "source": [
        "from datascience import *\n",
        "\n",
        "import matplotlib\n",
        "matplotlib.use('Agg')\n",
        "%matplotlib inline\n",
        "import matplotlib.pyplot as plots\n",
        "plots.style.use('fivethirtyeight')\n",
        "\n",
        "import numpy as np"
      ],
      "metadata": {
        "id": "MnW_EJJQYaqg"
      },
      "execution_count": 107,
      "outputs": []
    },
    {
      "cell_type": "markdown",
      "source": [
        "## Part 1: Booleans and Comparison Operators\n",
        "\n",
        "In Python, the Boolean data type contains only two unique values: `True` and `False`. Expressions that contain comparison operators, such as `<` (less than), `>` (greater than), and `==` (equal to), evaluate to Boolean values.\n"
      ],
      "metadata": {
        "id": "96IsKlte5E_W"
      }
    },
    {
      "cell_type": "markdown",
      "source": [
        "Run the cell below to see an example of a comparison operator in action. Modify the cell to try different operators and values."
      ],
      "metadata": {
        "id": "MxgzWL5h5nuo"
      }
    },
    {
      "cell_type": "code",
      "metadata": {
        "trusted": true,
        "id": "my0oreo8kwqx",
        "colab": {
          "base_uri": "https://localhost:8080/"
        },
        "outputId": "d745472f-5ca0-4e4c-e9f2-c3ccb3e64ff4"
      },
      "source": [
        "3 > 1 + 1"
      ],
      "execution_count": 12,
      "outputs": [
        {
          "output_type": "execute_result",
          "data": {
            "text/plain": [
              "True"
            ]
          },
          "metadata": {},
          "execution_count": 12
        }
      ]
    },
    {
      "cell_type": "markdown",
      "metadata": {
        "id": "GXvWux4Skwq2"
      },
      "source": [
        "We can even assign (using `=`) the result of a comparison operation to a Boolean variable (a variable that has either `True` or `False` as its value).  \n",
        "\n",
        "Notice:\n",
        "1. The equality test has two equality signs (i.e., `==`).\n",
        "2. While we use `=` as equality in a mathematical expression, it means **assignments** in most programming language (including Python).\n",
        "3. An **assignment** statement first evaluates the expression to the **right** of the equality sign, then assigns the result (i.e., returned value) of the evaluation to the variable to the **left** of the equality sign."
      ]
    },
    {
      "cell_type": "code",
      "metadata": {
        "trusted": true,
        "id": "Zr0qdMhpkwq3",
        "colab": {
          "base_uri": "https://localhost:8080/"
        },
        "outputId": "42521974-2f31-41fa-cb3c-8706e5911540"
      },
      "source": [
        "result = 10 / 2 == 5\n",
        "result"
      ],
      "execution_count": 13,
      "outputs": [
        {
          "output_type": "execute_result",
          "data": {
            "text/plain": [
              "True"
            ]
          },
          "metadata": {},
          "execution_count": 13
        }
      ]
    },
    {
      "cell_type": "code",
      "source": [
        "result2 = 'left'=='right'\n",
        "result2"
      ],
      "metadata": {
        "id": "T8BR5mTf7RBU",
        "colab": {
          "base_uri": "https://localhost:8080/"
        },
        "outputId": "f067c228-eb6c-4991-bd07-05abb8993fb1"
      },
      "execution_count": 14,
      "outputs": [
        {
          "output_type": "execute_result",
          "data": {
            "text/plain": [
              "False"
            ]
          },
          "metadata": {},
          "execution_count": 14
        }
      ]
    },
    {
      "cell_type": "markdown",
      "source": [
        "Notice the difference between the assignment `=` and equality comparison `==` operators. They are not interchangeable!\n",
        "\n",
        "In Python, the name of the Boolean data type is `bool`:"
      ],
      "metadata": {
        "id": "Lk8_KaVx4niN"
      }
    },
    {
      "cell_type": "code",
      "source": [
        "type(3 > 1 + 1)"
      ],
      "metadata": {
        "id": "ijOtIXa74rt2",
        "colab": {
          "base_uri": "https://localhost:8080/"
        },
        "outputId": "68289d8c-92a7-4806-b166-bb67cfda325c"
      },
      "execution_count": 15,
      "outputs": [
        {
          "output_type": "execute_result",
          "data": {
            "text/plain": [
              "bool"
            ]
          },
          "metadata": {},
          "execution_count": 15
        }
      ]
    },
    {
      "cell_type": "markdown",
      "metadata": {
        "id": "CWN06fBokwq7"
      },
      "source": [
        "Comparison operators can also be applied to arrays. The output of an array comparison (e.g., A > 3 where A is an array) is an array of Boolean values, where each Boolean value is the result of comparing an element of the array A to 3."
      ]
    },
    {
      "cell_type": "code",
      "metadata": {
        "trusted": true,
        "id": "M8844Z5Ikwq7",
        "colab": {
          "base_uri": "https://localhost:8080/"
        },
        "outputId": "6f82ee9d-1df2-4f86-a906-e0877cfa66e1"
      },
      "source": [
        "from datascience import *\n",
        "\n",
        "A = make_array(1, 5, 7, 8, 3, -1)\n",
        "A > 3"
      ],
      "execution_count": 16,
      "outputs": [
        {
          "output_type": "execute_result",
          "data": {
            "text/plain": [
              "array([False,  True,  True,  True, False, False], dtype=bool)"
            ]
          },
          "metadata": {},
          "execution_count": 16
        }
      ]
    },
    {
      "cell_type": "markdown",
      "source": [
        "A letter is greater than (`>') another letter if the first letter is after the second letter in **alphabetic ordering**.*\n",
        "\n",
        "Evaluate the following two cells below. Is the result what you expected?\n"
      ],
      "metadata": {
        "id": "KnBeA9oD5YYD"
      }
    },
    {
      "cell_type": "code",
      "source": [
        "'C' > 'B'"
      ],
      "metadata": {
        "id": "C4rcCe_-5Qnl",
        "colab": {
          "base_uri": "https://localhost:8080/"
        },
        "outputId": "fcbdd47e-c910-410b-c684-93460e86a45a"
      },
      "execution_count": 17,
      "outputs": [
        {
          "output_type": "execute_result",
          "data": {
            "text/plain": [
              "True"
            ]
          },
          "metadata": {},
          "execution_count": 17
        }
      ]
    },
    {
      "cell_type": "code",
      "source": [
        "'A' > 'B'"
      ],
      "metadata": {
        "id": "ZbEUa5HY5lIV",
        "colab": {
          "base_uri": "https://localhost:8080/"
        },
        "outputId": "ea95c453-bff1-4f1e-f8e2-36b01d272771"
      },
      "execution_count": 18,
      "outputs": [
        {
          "output_type": "execute_result",
          "data": {
            "text/plain": [
              "False"
            ]
          },
          "metadata": {},
          "execution_count": 18
        }
      ]
    },
    {
      "cell_type": "markdown",
      "source": [
        "### Problem 1: Comparison of an Array (0.2 points)\n",
        "The following array of strings consists of names of Big Ten universities.  Compare the array with a University of your choice (outside of Big Ten) to find out how many are AFTER the university of your choice in alphabetic order.\n",
        "\n",
        "\n"
      ],
      "metadata": {
        "id": "rQjxLkt9GMbE"
      }
    },
    {
      "cell_type": "code",
      "source": [
        "# write your solution in this cell\n",
        "Big10 = make_array('Penn State', 'Ohio State', 'Michigan', 'Michigan State', 'Wisconsin', 'Iowa', 'Illinois', 'Purdue', 'Nebraska', 'Rutgers', 'Indiana', 'Northwestern', 'Minnesota', 'Maryland', 'USC', 'UCLA', 'Washington')"
      ],
      "metadata": {
        "id": "psCqciJLITLi"
      },
      "execution_count": 19,
      "outputs": []
    },
    {
      "cell_type": "code",
      "source": [
        "Big10 > 'Georgia Tech'"
      ],
      "metadata": {
        "id": "jh2XAn5f7Pn4",
        "colab": {
          "base_uri": "https://localhost:8080/"
        },
        "outputId": "44dd5a7b-e4fe-4947-a4b9-fb82254f247d"
      },
      "execution_count": 20,
      "outputs": [
        {
          "output_type": "execute_result",
          "data": {
            "text/plain": [
              "array([ True,  True,  True,  True,  True,  True,  True,  True,  True,\n",
              "        True,  True,  True,  True,  True,  True,  True,  True], dtype=bool)"
            ]
          },
          "metadata": {},
          "execution_count": 20
        }
      ]
    },
    {
      "cell_type": "markdown",
      "source": [
        "## Part 2: Conditional Statements\n",
        "\n",
        "A conditional statement in Python is a multi-line statement that allows choosing between different, alternative computations based on the Boolean value of an expression.\n",
        "\n",
        "A conditional statement always begins with an `if` header, follwed by an **indented** body. The body is executed only if the expression in the `if` header evaluates to `True`; if the expression evaluates to `False`, the body of the statement is skipped.\n",
        "\n",
        "Here is a simple example, which prints the word *Negative* if the variable `x` is negative:"
      ],
      "metadata": {
        "id": "cT79P5Y0wLpo"
      }
    },
    {
      "cell_type": "code",
      "source": [
        "x = -1\n",
        "\n",
        "if x < 0:\n",
        "  print(\"Negative\")"
      ],
      "metadata": {
        "id": "A31gpvFdjfqE",
        "colab": {
          "base_uri": "https://localhost:8080/"
        },
        "outputId": "329f3d8e-bfe4-4b2c-f490-d967ba3a79e4"
      },
      "execution_count": 21,
      "outputs": [
        {
          "output_type": "stream",
          "name": "stdout",
          "text": [
            "Negative\n"
          ]
        }
      ]
    },
    {
      "cell_type": "markdown",
      "source": [
        "We can try the same statement with a positive value, in which case the cell does not print anything:"
      ],
      "metadata": {
        "id": "XvuzZt9Ox39X"
      }
    },
    {
      "cell_type": "code",
      "source": [
        "x = 1\n",
        "\n",
        "if x < 0:\n",
        "  print(\"Negative\")"
      ],
      "metadata": {
        "id": "AU_ps2ZSpgwS"
      },
      "execution_count": 22,
      "outputs": []
    },
    {
      "cell_type": "markdown",
      "source": [
        "The body of the conditional statement can also perform calculations, assign values, and so on:"
      ],
      "metadata": {
        "id": "u_zZF8qHpmzC"
      }
    },
    {
      "cell_type": "code",
      "source": [
        "x = -1\n",
        "\n",
        "if x < 0:\n",
        "  print(\"Negative, replace with absolute value\")\n",
        "  x = -1 * x\n",
        "\n",
        "x"
      ],
      "metadata": {
        "id": "hnPPdaKVpvEP",
        "colab": {
          "base_uri": "https://localhost:8080/"
        },
        "outputId": "ff8de5fe-0211-4fdc-8677-c3ea45a73cc9"
      },
      "execution_count": 23,
      "outputs": [
        {
          "output_type": "stream",
          "name": "stdout",
          "text": [
            "Negative, replace with absolute value\n"
          ]
        },
        {
          "output_type": "execute_result",
          "data": {
            "text/plain": [
              "1"
            ]
          },
          "metadata": {},
          "execution_count": 23
        }
      ]
    },
    {
      "cell_type": "markdown",
      "source": [
        "Again, we can try the exact same statement with a positive value.  Do you expect to see the print statement this time?\n",
        "Do you expect the value of x to change after executing the `if` statement?"
      ],
      "metadata": {
        "id": "FRr27VA6qGBk"
      }
    },
    {
      "cell_type": "code",
      "source": [
        "x = 5\n",
        "\n",
        "if x < 0:\n",
        "  print(\"Negative, replace with absolute value\")\n",
        "  x = -1 * x\n",
        "\n",
        "x"
      ],
      "metadata": {
        "id": "PdVUgEaWqL1x",
        "colab": {
          "base_uri": "https://localhost:8080/"
        },
        "outputId": "fe647417-dd3a-44db-88fc-3abcbd571ae4"
      },
      "execution_count": 24,
      "outputs": [
        {
          "output_type": "execute_result",
          "data": {
            "text/plain": [
              "5"
            ]
          },
          "metadata": {},
          "execution_count": 24
        }
      ]
    },
    {
      "cell_type": "markdown",
      "source": [
        "So far, the conditional statement either executed its body, or it did nothing. In many cases, we want to do different things depending on the result of the `if` test. For such cases, we can add an `else` clause, whose body is executed when the expression in the `if` condition evalutes to `False`:"
      ],
      "metadata": {
        "id": "EzEzr_46x9qi"
      }
    },
    {
      "cell_type": "code",
      "source": [
        "x = -1\n",
        "\n",
        "if x < 0:\n",
        "  print(\"Negative\")\n",
        "  x = -1 * x\n",
        "else:\n",
        "  print(\"Non-negative\")\n",
        "\n",
        "x"
      ],
      "metadata": {
        "id": "7qo_O1SNyLQw",
        "colab": {
          "base_uri": "https://localhost:8080/"
        },
        "outputId": "ce7f19dd-dd5b-453d-f087-52c252e44df5"
      },
      "execution_count": 25,
      "outputs": [
        {
          "output_type": "stream",
          "name": "stdout",
          "text": [
            "Negative\n"
          ]
        },
        {
          "output_type": "execute_result",
          "data": {
            "text/plain": [
              "1"
            ]
          },
          "metadata": {},
          "execution_count": 25
        }
      ]
    },
    {
      "cell_type": "markdown",
      "source": [
        "Again, let's try the same code cell with a positive value:"
      ],
      "metadata": {
        "id": "tqAN2Dc-q78Q"
      }
    },
    {
      "cell_type": "code",
      "source": [
        "x = 5\n",
        "\n",
        "if x < 0:\n",
        "  print(\"Negative\")\n",
        "  x = -1 * x\n",
        "else:\n",
        "  print(\"Non-negative\")\n",
        "\n",
        "x"
      ],
      "metadata": {
        "id": "sghXPWr_q--I",
        "colab": {
          "base_uri": "https://localhost:8080/"
        },
        "outputId": "bef25b14-807e-4644-fe9a-36f9cc177963"
      },
      "execution_count": 106,
      "outputs": [
        {
          "output_type": "stream",
          "name": "stdout",
          "text": [
            "Non-negative\n"
          ]
        },
        {
          "output_type": "execute_result",
          "data": {
            "text/plain": [
              "5"
            ]
          },
          "metadata": {},
          "execution_count": 106
        }
      ]
    },
    {
      "cell_type": "markdown",
      "source": [
        "In some cases, we have to choose between more than two options. For this, we can insert one (or more) `elif` (else if) clauses between the opening `if` and the closing `else`:"
      ],
      "metadata": {
        "id": "pMZP6v3ayRmG"
      }
    },
    {
      "cell_type": "code",
      "source": [
        "x = -1\n",
        "\n",
        "if x < 0:\n",
        "  print(\"Negative\")\n",
        "elif x == 0:\n",
        "  print(\"Zero\")\n",
        "else:\n",
        "  print(\"Positive\")"
      ],
      "metadata": {
        "id": "hXcCelSIytpm",
        "colab": {
          "base_uri": "https://localhost:8080/"
        },
        "outputId": "6dca40e5-9915-4904-b63a-020ef4bc3c71"
      },
      "execution_count": 27,
      "outputs": [
        {
          "output_type": "stream",
          "name": "stdout",
          "text": [
            "Negative\n"
          ]
        }
      ]
    },
    {
      "cell_type": "markdown",
      "source": [
        "As usual, let's try the same code cell with a different value:"
      ],
      "metadata": {
        "id": "_EtF5Rkfy_OI"
      }
    },
    {
      "cell_type": "code",
      "source": [
        "x = 0\n",
        "\n",
        "if x < 0:\n",
        "  print(\"Negative\")\n",
        "elif x == 0:\n",
        "  print(\"Zero\")\n",
        "else:\n",
        "  print(\"Positive\")"
      ],
      "metadata": {
        "id": "MrY6iTyDr7UF",
        "colab": {
          "base_uri": "https://localhost:8080/"
        },
        "outputId": "21122940-7ade-41e1-f093-d94c58f4d97b"
      },
      "execution_count": 28,
      "outputs": [
        {
          "output_type": "stream",
          "name": "stdout",
          "text": [
            "Zero\n"
          ]
        }
      ]
    },
    {
      "cell_type": "markdown",
      "source": [
        "Note that in a series of `if` and `elif` clauses, only the first one whose expression evaluates to `True` is executed; all remaining clauses are skipped (`elif` is short for **else if**). If all of the `if` and `elif` expressions evaluate to `False`, the body of the `else` clause is executed."
      ],
      "metadata": {
        "id": "uZj5_6YDzK2Z"
      }
    },
    {
      "cell_type": "markdown",
      "source": [
        "### Problem 2: Value Clipping with Conditional Statements (0.3 points)\n",
        "Let's re-implement the value clipping code from Lab Assignment 1! Consider the following variable:\n"
      ],
      "metadata": {
        "id": "Ccidy8ze0Alt"
      }
    },
    {
      "cell_type": "code",
      "source": [
        "value = -5"
      ],
      "metadata": {
        "id": "CSAk7saitXOs"
      },
      "execution_count": 29,
      "outputs": []
    },
    {
      "cell_type": "markdown",
      "source": [
        "Write a code cell that uses `if`, `elif`, and `else` to display\n",
        "* 0 if `value` is less than 0\n",
        "* 100 if `value` is greater than 100\n",
        "* `value` itself if the `value` is between 0 and 100.\n",
        "\n",
        "For display, you can use either `print` or just assign to a variable and use that variable as the output of the cell. However, you cannot use `min`, `max`, or any functions other than `print`!\n",
        "\n",
        "Test your expression a few times by changing the value in the previous cell and recalculating your expression."
      ],
      "metadata": {
        "id": "Apm1x9NrtZXl"
      }
    },
    {
      "cell_type": "code",
      "source": [
        "# Does the code work? If not, can you fix it?\n",
        "x = 0\n",
        "if value < 0:\n",
        "  x = 0\n",
        "elif value > 100:\n",
        "  x = 100\n",
        "else:\n",
        "  x = value\n",
        "print (x)\n"
      ],
      "metadata": {
        "id": "5KkmSL_9uE35",
        "colab": {
          "base_uri": "https://localhost:8080/"
        },
        "outputId": "3b08a992-b331-4e78-ee27-e35d9500e6d0"
      },
      "execution_count": 30,
      "outputs": [
        {
          "output_type": "stream",
          "name": "stdout",
          "text": [
            "0\n"
          ]
        }
      ]
    },
    {
      "cell_type": "markdown",
      "source": [
        "## The Monty Hall Problem\n",
        "[Description in the Textbook](https://inferentialthinking.com/chapters/09/4/Monty_Hall_Problem.html)"
      ],
      "metadata": {
        "id": "iaNOspkjjdfg"
      }
    },
    {
      "cell_type": "markdown",
      "source": [
        "We first define the two goats in the game."
      ],
      "metadata": {
        "id": "X2r8XEjqEUFu"
      }
    },
    {
      "cell_type": "code",
      "source": [
        "goats = make_array('first goat', 'second goat')"
      ],
      "metadata": {
        "id": "aNbPUzu3ERDI"
      },
      "execution_count": 31,
      "outputs": []
    },
    {
      "cell_type": "markdown",
      "source": [
        "Then we write a function, as explained in the textbook to return the other goat.\n"
      ],
      "metadata": {
        "id": "Ex49fdrKEs1-"
      }
    },
    {
      "cell_type": "code",
      "source": [
        "def other_goat(x):\n",
        "  if x=='first goat':\n",
        "    return('second goat')\n",
        "  elif x=='second goat':\n",
        "    return('first goat')"
      ],
      "metadata": {
        "id": "Uyypq_4QFfDN"
      },
      "execution_count": 32,
      "outputs": []
    },
    {
      "cell_type": "code",
      "source": [
        "other_goat('first goat')"
      ],
      "metadata": {
        "id": "drLiTCiEF7PN",
        "colab": {
          "base_uri": "https://localhost:8080/",
          "height": 36
        },
        "outputId": "b90e8602-69e6-4b5b-9a48-072cf862e40b"
      },
      "execution_count": 33,
      "outputs": [
        {
          "output_type": "execute_result",
          "data": {
            "text/plain": [
              "'second goat'"
            ],
            "application/vnd.google.colaboratory.intrinsic+json": {
              "type": "string"
            }
          },
          "metadata": {},
          "execution_count": 33
        }
      ]
    },
    {
      "cell_type": "code",
      "source": [
        "other_goat('second goat')"
      ],
      "metadata": {
        "id": "WsE3swzuGAB6",
        "colab": {
          "base_uri": "https://localhost:8080/",
          "height": 36
        },
        "outputId": "9cd905d1-e48c-48bb-d770-be65bb15bc92"
      },
      "execution_count": 34,
      "outputs": [
        {
          "output_type": "execute_result",
          "data": {
            "text/plain": [
              "'first goat'"
            ],
            "application/vnd.google.colaboratory.intrinsic+json": {
              "type": "string"
            }
          },
          "metadata": {},
          "execution_count": 34
        }
      ]
    },
    {
      "cell_type": "markdown",
      "source": [
        "We then define the three things behind the three doors."
      ],
      "metadata": {
        "id": "BeHK5eflGHd1"
      }
    },
    {
      "cell_type": "code",
      "source": [
        "hidden_behind_doors = np.append(goats, 'car')"
      ],
      "metadata": {
        "id": "LcQ8kt8AGT32"
      },
      "execution_count": 35,
      "outputs": []
    },
    {
      "cell_type": "code",
      "source": [
        "hidden_behind_doors"
      ],
      "metadata": {
        "id": "hDa6R3FwGF16",
        "colab": {
          "base_uri": "https://localhost:8080/"
        },
        "outputId": "78cb9eca-659d-41c5-a989-044a014780b5"
      },
      "execution_count": 36,
      "outputs": [
        {
          "output_type": "execute_result",
          "data": {
            "text/plain": [
              "array(['first goat', 'second goat', 'car'],\n",
              "      dtype='<U11')"
            ]
          },
          "metadata": {},
          "execution_count": 36
        }
      ]
    },
    {
      "cell_type": "markdown",
      "source": [
        "Now, we are ready to write the code to simulate the Monty Hall game."
      ],
      "metadata": {
        "id": "eYYGcThNG_Km"
      }
    },
    {
      "cell_type": "code",
      "source": [
        "def monty_hall_game():\n",
        "    \"\"\"Return\n",
        "    [contestant's guess, what Monty reveals, what remains behind the other door]\"\"\"\n",
        "\n",
        "    contestant_guess = np.random.choice(hidden_behind_doors)\n",
        "\n",
        "    if contestant_guess == 'first goat':\n",
        "        return [contestant_guess, 'second goat', 'car']\n",
        "\n",
        "    if contestant_guess == 'second goat':\n",
        "        return [contestant_guess, 'first goat', 'car']\n",
        "\n",
        "    if contestant_guess == 'car':\n",
        "        revealed_goat = np.random.choice(goats)\n",
        "        return [contestant_guess, revealed_goat, other_goat(revealed_goat)]"
      ],
      "metadata": {
        "id": "aZd2vcQoEJo2"
      },
      "execution_count": 37,
      "outputs": []
    },
    {
      "cell_type": "code",
      "source": [
        "monty_hall_game()"
      ],
      "metadata": {
        "id": "EHC-Cpe_T_Tk",
        "colab": {
          "base_uri": "https://localhost:8080/"
        },
        "outputId": "26fa0a4e-c8b4-4a9c-c686-f741feb7aa4f"
      },
      "execution_count": 47,
      "outputs": [
        {
          "output_type": "execute_result",
          "data": {
            "text/plain": [
              "['second goat', 'first goat', 'car']"
            ]
          },
          "metadata": {},
          "execution_count": 47
        }
      ]
    },
    {
      "cell_type": "markdown",
      "source": [
        "### Problem 3A. Complete the code below to simulate Monty Hall game 1000 times, and display the results. (0.3 points)"
      ],
      "metadata": {
        "id": "ENcV_KWYKWdf"
      }
    },
    {
      "cell_type": "code",
      "source": [
        "games = Table([\"Guess\", \"Revealed\", \"Remaining\"] )\n",
        "\n",
        "for i in np.arange(1000):\n",
        "  result = monty_hall_game()\n",
        "  games.append(result)\n"
      ],
      "metadata": {
        "id": "Bp6s5nS0jV9w"
      },
      "execution_count": 38,
      "outputs": []
    },
    {
      "cell_type": "markdown",
      "source": [
        "The `show` method of `Table` displays contents of the table.  For example, the code below revelas the first five entries of the simulated results. Any surprises?"
      ],
      "metadata": {
        "id": "g62FxWO6jwY3"
      }
    },
    {
      "cell_type": "code",
      "source": [
        "games.show(5)"
      ],
      "metadata": {
        "id": "LKzE3hmaJEW_",
        "colab": {
          "base_uri": "https://localhost:8080/",
          "height": 235
        },
        "outputId": "525865c1-3714-4f9e-b429-3334cb2b270e"
      },
      "execution_count": 39,
      "outputs": [
        {
          "output_type": "display_data",
          "data": {
            "text/plain": [
              "<IPython.core.display.HTML object>"
            ],
            "text/html": [
              "<table border=\"1\" class=\"dataframe\">\n",
              "    <thead>\n",
              "        <tr>\n",
              "            <th>Guess</th> <th>Revealed</th> <th>Remaining</th>\n",
              "        </tr>\n",
              "    </thead>\n",
              "    <tbody>\n",
              "        <tr>\n",
              "            <td>car        </td> <td>second goat</td> <td>first goat</td>\n",
              "        </tr>\n",
              "        <tr>\n",
              "            <td>car        </td> <td>second goat</td> <td>first goat</td>\n",
              "        </tr>\n",
              "        <tr>\n",
              "            <td>first goat </td> <td>second goat</td> <td>car       </td>\n",
              "        </tr>\n",
              "        <tr>\n",
              "            <td>second goat</td> <td>first goat </td> <td>car       </td>\n",
              "        </tr>\n",
              "        <tr>\n",
              "            <td>first goat </td> <td>second goat</td> <td>car       </td>\n",
              "        </tr>\n",
              "    </tbody>\n",
              "</table>\n",
              "<p>... (995 rows omitted)</p>"
            ]
          },
          "metadata": {}
        }
      ]
    },
    {
      "cell_type": "markdown",
      "source": [
        "We want to see how many times car is behind the remaining door.  We can aggregate (i.e., counts) different values of a Table's column using `group` with the name of the column.  For example, recall that we save the result of the simulation in the `Table` called `games`, we can use `games.group(\"Remaining\")` to count how many times each item of the game apperars behind the remining door."
      ],
      "metadata": {
        "id": "Q2-m1eKXLgo8"
      }
    },
    {
      "cell_type": "code",
      "source": [
        "remaining = games.group(\"Remaining\")\n",
        "remaining"
      ],
      "metadata": {
        "id": "hoXt3ufdkcnE",
        "colab": {
          "base_uri": "https://localhost:8080/",
          "height": 143
        },
        "outputId": "c766b8c7-35fa-4d05-d0b1-84d0d18ce6e6"
      },
      "execution_count": 40,
      "outputs": [
        {
          "output_type": "execute_result",
          "data": {
            "text/plain": [
              "Remaining   | count\n",
              "car         | 633\n",
              "first goat  | 183\n",
              "second goat | 184"
            ],
            "text/html": [
              "<table border=\"1\" class=\"dataframe\">\n",
              "    <thead>\n",
              "        <tr>\n",
              "            <th>Remaining</th> <th>count</th>\n",
              "        </tr>\n",
              "    </thead>\n",
              "    <tbody>\n",
              "        <tr>\n",
              "            <td>car        </td> <td>633  </td>\n",
              "        </tr>\n",
              "        <tr>\n",
              "            <td>first goat </td> <td>183  </td>\n",
              "        </tr>\n",
              "        <tr>\n",
              "            <td>second goat</td> <td>184  </td>\n",
              "        </tr>\n",
              "    </tbody>\n",
              "</table>"
            ]
          },
          "metadata": {},
          "execution_count": 40
        }
      ]
    },
    {
      "cell_type": "markdown",
      "source": [
        "Are you surprised?  For comparison, we can also use `group` to find how often each item was guessed."
      ],
      "metadata": {
        "id": "HzAYaZL1mzSd"
      }
    },
    {
      "cell_type": "code",
      "source": [
        "guess = games.group(\"Guess\")\n",
        "guess"
      ],
      "metadata": {
        "id": "R4OfYGMQk6mE",
        "colab": {
          "base_uri": "https://localhost:8080/",
          "height": 143
        },
        "outputId": "4df0591e-d2b6-4ee3-d3e0-073c2e25a655"
      },
      "execution_count": 41,
      "outputs": [
        {
          "output_type": "execute_result",
          "data": {
            "text/plain": [
              "Guess       | count\n",
              "car         | 367\n",
              "first goat  | 327\n",
              "second goat | 306"
            ],
            "text/html": [
              "<table border=\"1\" class=\"dataframe\">\n",
              "    <thead>\n",
              "        <tr>\n",
              "            <th>Guess</th> <th>count</th>\n",
              "        </tr>\n",
              "    </thead>\n",
              "    <tbody>\n",
              "        <tr>\n",
              "            <td>car        </td> <td>367  </td>\n",
              "        </tr>\n",
              "        <tr>\n",
              "            <td>first goat </td> <td>327  </td>\n",
              "        </tr>\n",
              "        <tr>\n",
              "            <td>second goat</td> <td>306  </td>\n",
              "        </tr>\n",
              "    </tbody>\n",
              "</table>"
            ]
          },
          "metadata": {},
          "execution_count": 41
        }
      ]
    },
    {
      "cell_type": "markdown",
      "source": [
        "Any surprise this time?"
      ],
      "metadata": {
        "id": "e7hJ3t6NndDN"
      }
    },
    {
      "cell_type": "markdown",
      "source": [
        "# Visualization Using Bar Charts\n",
        "\n",
        "Bar charts are convenient ways to visaulize and compare statistical aggregation results.  For example, we can use the bart charts below to show the distribution of three game items in the \"Guess\" column, and compare it with the distribution of three game items in the \"Remaining\" column."
      ],
      "metadata": {
        "id": "Z4fkNfNRnihO"
      }
    },
    {
      "cell_type": "code",
      "source": [
        "guess.barh(\"Guess\")\n",
        "remaining.barh(\"Remaining\")"
      ],
      "metadata": {
        "id": "97j78ihTI9eU",
        "colab": {
          "base_uri": "https://localhost:8080/",
          "height": 777
        },
        "outputId": "e9a7102c-2518-462c-fe2f-ded26f815f44"
      },
      "execution_count": 42,
      "outputs": [
        {
          "output_type": "display_data",
          "data": {
            "text/plain": [
              "<Figure size 600x400 with 1 Axes>"
            ],
            "image/png": "[encoded data removed]"
          },
          "metadata": {}
        },
        {
          "output_type": "display_data",
          "data": {
            "text/plain": [
              "<Figure size 600x400 with 1 Axes>"
            ],
            "image/png": "[encoded data removed]"
          },
          "metadata": {}
        }
      ]
    },
    {
      "cell_type": "markdown",
      "source": [
        "### Problem 3B: Explain, using probability theory, the result of the simulation? (0.2 point)\n",
        "### Solution for 3B:\n",
        "When the contestant chooses a door, there is 1/3 chance that there is a car behind the door. When the host reveals the goat behind the door, this means there is now a 2/3 chance of the remaining door having the car because the initial 2/3 probability that the contestant picked a goat doesn't change, and since one of the remaining doors has been shown to have a goat, the full 2/3 probability shifts to the last unopened door."
      ],
      "metadata": {
        "id": "38HuuGFGLAQR"
      }
    },
    {
      "cell_type": "markdown",
      "source": [
        "## Part 3: Working with Columns\n",
        "\n",
        "In Lab 2, we have seen how we can build tables, select rows and select columns, and visualize them. In this lab, we also see how we can aggregate values of a column to find out how many times each value occur in the column.  \n",
        "\n",
        "Now, we are going to perform basic statistical calculations (e.g., min, max, average) on mumerical data stored in tables.\n",
        "\n",
        "An easy way to access the data stored in a column is to apply the\n",
        "function `column(name)` to a table. First, let's load a table with data about flights from 2015 summer:"
      ],
      "metadata": {
        "id": "5z0-lJRjkudx"
      }
    },
    {
      "cell_type": "code",
      "source": [
        "from google.colab import drive\n",
        "drive.mount('/content/drive/')"
      ],
      "metadata": {
        "colab": {
          "base_uri": "https://localhost:8080/"
        },
        "id": "lSTbnLigEy3e",
        "outputId": "4e4a5c7e-ca3e-4336-94e1-c129aeed2c94"
      },
      "execution_count": 43,
      "outputs": [
        {
          "output_type": "stream",
          "name": "stdout",
          "text": [
            "Drive already mounted at /content/drive/; to attempt to forcibly remount, call drive.mount(\"/content/drive/\", force_remount=True).\n"
          ]
        }
      ]
    },
    {
      "cell_type": "code",
      "source": [
        "flights = Table.read_table('/content/drive/MyDrive/DS200/united_summer2015.csv')\n",
        "flights.show(20)"
      ],
      "metadata": {
        "id": "ZLydAo15pSiX",
        "colab": {
          "base_uri": "https://localhost:8080/",
          "height": 706
        },
        "outputId": "01b130c1-fded-4f32-9b88-2722d57ac53c"
      },
      "execution_count": 46,
      "outputs": [
        {
          "output_type": "display_data",
          "data": {
            "text/plain": [
              "<IPython.core.display.HTML object>"
            ],
            "text/html": [
              "<table border=\"1\" class=\"dataframe\">\n",
              "    <thead>\n",
              "        <tr>\n",
              "            <th>Date</th> <th>Flight Number</th> <th>Destination</th> <th>Delay</th>\n",
              "        </tr>\n",
              "    </thead>\n",
              "    <tbody>\n",
              "        <tr>\n",
              "            <td>6/1/15</td> <td>73           </td> <td>HNL        </td> <td>257  </td>\n",
              "        </tr>\n",
              "        <tr>\n",
              "            <td>6/1/15</td> <td>217          </td> <td>EWR        </td> <td>28   </td>\n",
              "        </tr>\n",
              "        <tr>\n",
              "            <td>6/1/15</td> <td>237          </td> <td>STL        </td> <td>-3   </td>\n",
              "        </tr>\n",
              "        <tr>\n",
              "            <td>6/1/15</td> <td>250          </td> <td>SAN        </td> <td>0    </td>\n",
              "        </tr>\n",
              "        <tr>\n",
              "            <td>6/1/15</td> <td>267          </td> <td>PHL        </td> <td>64   </td>\n",
              "        </tr>\n",
              "        <tr>\n",
              "            <td>6/1/15</td> <td>273          </td> <td>SEA        </td> <td>-6   </td>\n",
              "        </tr>\n",
              "        <tr>\n",
              "            <td>6/1/15</td> <td>278          </td> <td>SEA        </td> <td>-8   </td>\n",
              "        </tr>\n",
              "        <tr>\n",
              "            <td>6/1/15</td> <td>292          </td> <td>EWR        </td> <td>12   </td>\n",
              "        </tr>\n",
              "        <tr>\n",
              "            <td>6/1/15</td> <td>300          </td> <td>HNL        </td> <td>20   </td>\n",
              "        </tr>\n",
              "        <tr>\n",
              "            <td>6/1/15</td> <td>317          </td> <td>IND        </td> <td>-10  </td>\n",
              "        </tr>\n",
              "        <tr>\n",
              "            <td>6/1/15</td> <td>318          </td> <td>DEN        </td> <td>29   </td>\n",
              "        </tr>\n",
              "        <tr>\n",
              "            <td>6/1/15</td> <td>322          </td> <td>SEA        </td> <td>3    </td>\n",
              "        </tr>\n",
              "        <tr>\n",
              "            <td>6/1/15</td> <td>331          </td> <td>DEN        </td> <td>-7   </td>\n",
              "        </tr>\n",
              "        <tr>\n",
              "            <td>6/1/15</td> <td>355          </td> <td>IAD        </td> <td>0    </td>\n",
              "        </tr>\n",
              "        <tr>\n",
              "            <td>6/1/15</td> <td>358          </td> <td>LAS        </td> <td>-1   </td>\n",
              "        </tr>\n",
              "        <tr>\n",
              "            <td>6/1/15</td> <td>388          </td> <td>ORD        </td> <td>-9   </td>\n",
              "        </tr>\n",
              "        <tr>\n",
              "            <td>6/1/15</td> <td>392          </td> <td>LAS        </td> <td>-9   </td>\n",
              "        </tr>\n",
              "        <tr>\n",
              "            <td>6/1/15</td> <td>408          </td> <td>IAD        </td> <td>14   </td>\n",
              "        </tr>\n",
              "        <tr>\n",
              "            <td>6/1/15</td> <td>433          </td> <td>LAX        </td> <td>10   </td>\n",
              "        </tr>\n",
              "        <tr>\n",
              "            <td>6/1/15</td> <td>434          </td> <td>LAS        </td> <td>-3   </td>\n",
              "        </tr>\n",
              "    </tbody>\n",
              "</table>\n",
              "<p>... (13805 rows omitted)</p>"
            ]
          },
          "metadata": {}
        }
      ]
    },
    {
      "cell_type": "code",
      "source": [
        "LAX_flight = flights.where(\"Destination\", 'LAX')"
      ],
      "metadata": {
        "id": "0XXThFeGtJ38"
      },
      "execution_count": 47,
      "outputs": []
    },
    {
      "cell_type": "code",
      "source": [
        "LAX_flight.show(10)"
      ],
      "metadata": {
        "id": "sQ-WJ-45tZGF",
        "colab": {
          "base_uri": "https://localhost:8080/",
          "height": 392
        },
        "outputId": "04160f13-620b-4ae3-831a-19c929063086"
      },
      "execution_count": 48,
      "outputs": [
        {
          "output_type": "display_data",
          "data": {
            "text/plain": [
              "<IPython.core.display.HTML object>"
            ],
            "text/html": [
              "<table border=\"1\" class=\"dataframe\">\n",
              "    <thead>\n",
              "        <tr>\n",
              "            <th>Date</th> <th>Flight Number</th> <th>Destination</th> <th>Delay</th>\n",
              "        </tr>\n",
              "    </thead>\n",
              "    <tbody>\n",
              "        <tr>\n",
              "            <td>6/1/15</td> <td>433          </td> <td>LAX        </td> <td>10   </td>\n",
              "        </tr>\n",
              "        <tr>\n",
              "            <td>6/1/15</td> <td>478          </td> <td>LAX        </td> <td>0    </td>\n",
              "        </tr>\n",
              "        <tr>\n",
              "            <td>6/1/15</td> <td>525          </td> <td>LAX        </td> <td>-4   </td>\n",
              "        </tr>\n",
              "        <tr>\n",
              "            <td>6/1/15</td> <td>769          </td> <td>LAX        </td> <td>55   </td>\n",
              "        </tr>\n",
              "        <tr>\n",
              "            <td>6/1/15</td> <td>814          </td> <td>LAX        </td> <td>-3   </td>\n",
              "        </tr>\n",
              "        <tr>\n",
              "            <td>6/1/15</td> <td>1002         </td> <td>LAX        </td> <td>38   </td>\n",
              "        </tr>\n",
              "        <tr>\n",
              "            <td>6/1/15</td> <td>1083         </td> <td>LAX        </td> <td>98   </td>\n",
              "        </tr>\n",
              "        <tr>\n",
              "            <td>6/1/15</td> <td>1130         </td> <td>LAX        </td> <td>189  </td>\n",
              "        </tr>\n",
              "        <tr>\n",
              "            <td>6/1/15</td> <td>1192         </td> <td>LAX        </td> <td>-4   </td>\n",
              "        </tr>\n",
              "        <tr>\n",
              "            <td>6/1/15</td> <td>1591         </td> <td>LAX        </td> <td>0    </td>\n",
              "        </tr>\n",
              "    </tbody>\n",
              "</table>\n",
              "<p>... (919 rows omitted)</p>"
            ]
          },
          "metadata": {}
        }
      ]
    },
    {
      "cell_type": "markdown",
      "source": [
        "Now, let's access the data stored in column `Delay`, which is the delay of each flight in minutes, using `column('Delay')`:"
      ],
      "metadata": {
        "id": "qCfrri7Fpsw_"
      }
    },
    {
      "cell_type": "code",
      "source": [
        "delay_values = flights.column('Delay')\n",
        "delay_values"
      ],
      "metadata": {
        "id": "tHXECYILp8g9",
        "colab": {
          "base_uri": "https://localhost:8080/"
        },
        "outputId": "0acdcb11-8d62-4031-a0bb-1f775aa2db14"
      },
      "execution_count": 49,
      "outputs": [
        {
          "output_type": "execute_result",
          "data": {
            "text/plain": [
              "array([257,  28,  -3, ...,   3,  -1,  -2])"
            ]
          },
          "metadata": {},
          "execution_count": 49
        }
      ]
    },
    {
      "cell_type": "markdown",
      "source": [
        "We can see that `column` returned an array that contains the delay values. We can verify that the first three values are 257, 28, and -3 in both the table and the array.\n",
        "\n",
        "``len`` is a function that returns the total number of elements in"
      ],
      "metadata": {
        "id": "iLtynhSYqBcU"
      }
    },
    {
      "cell_type": "code",
      "source": [
        "print(len(delay_values))"
      ],
      "metadata": {
        "id": "4bgwRR-lqstf",
        "colab": {
          "base_uri": "https://localhost:8080/"
        },
        "outputId": "7d9e35ab-07e1-4f85-e7fb-c83b45db5e90"
      },
      "execution_count": 50,
      "outputs": [
        {
          "output_type": "stream",
          "name": "stdout",
          "text": [
            "13825\n"
          ]
        }
      ]
    },
    {
      "cell_type": "code",
      "source": [
        "print(flights.num_rows)"
      ],
      "metadata": {
        "id": "u76ohbd5aGvO",
        "colab": {
          "base_uri": "https://localhost:8080/"
        },
        "outputId": "80057a14-f99f-4203-cfad-1a815f1bd20b"
      },
      "execution_count": 51,
      "outputs": [
        {
          "output_type": "stream",
          "name": "stdout",
          "text": [
            "13825\n"
          ]
        }
      ]
    },
    {
      "cell_type": "markdown",
      "source": [
        "Since `delay_values` is an array, we can perform calculations on it, similar to other arrays (see Lab Assignment 1 for a reminder on working with arrays). For example, we can find the minimum and maximum values:"
      ],
      "metadata": {
        "id": "lmAPpooTq_ch"
      }
    },
    {
      "cell_type": "code",
      "source": [
        "minimum = min(delay_values)\n",
        "print(\"Minimum delay:\", minimum)\n",
        "maximum = max(delay_values)\n",
        "print(\"Maximum delay:\", maximum)"
      ],
      "metadata": {
        "id": "m20NESgGrr4C",
        "colab": {
          "base_uri": "https://localhost:8080/"
        },
        "outputId": "d7fff32f-a0d5-4141-867c-e368d27869a8"
      },
      "execution_count": 52,
      "outputs": [
        {
          "output_type": "stream",
          "name": "stdout",
          "text": [
            "Minimum delay: -16\n",
            "Maximum delay: 580\n"
          ]
        }
      ]
    },
    {
      "cell_type": "markdown",
      "source": [
        "We can also calculate the average delay:"
      ],
      "metadata": {
        "id": "mV9xB_JxsOIO"
      }
    },
    {
      "cell_type": "code",
      "source": [
        "print(\"Average:\", np.average(delay_values))\n",
        "print(\"Average (just a different name for the same functions):\", np.mean(delay_values))\n",
        "print(\"Average (same, but manually):\", sum(delay_values) / len(delay_values))"
      ],
      "metadata": {
        "id": "DXgmnXMbsVe3",
        "colab": {
          "base_uri": "https://localhost:8080/"
        },
        "outputId": "aab57827-ac1c-4d18-b98f-caf1821ac48b"
      },
      "execution_count": 53,
      "outputs": [
        {
          "output_type": "stream",
          "name": "stdout",
          "text": [
            "Average: 16.6581555154\n",
            "Average (just a different name for the same functions): 16.6581555154\n",
            "Average (same, but manually): 16.6581555154\n"
          ]
        }
      ]
    },
    {
      "cell_type": "markdown",
      "source": [
        "We can also calculate the average delay of flights that landed at a particular airport. For this, we first need to select the rows that pertain to a particular airport, e.g., Newark Liberty International Airport, using function `where` (see Lab Assignment 2 for a reminder on this function):"
      ],
      "metadata": {
        "id": "C0pEu55htQSm"
      }
    },
    {
      "cell_type": "code",
      "source": [
        "EWR_flights = flights.where('Destination', \"EWR\")"
      ],
      "metadata": {
        "id": "5zlhTwqEthLy"
      },
      "execution_count": 54,
      "outputs": []
    },
    {
      "cell_type": "markdown",
      "source": [
        "Then, we can access the delay values for this airport by applying function `column` and then calculate their average:"
      ],
      "metadata": {
        "id": "NBkuAPfKtyoW"
      }
    },
    {
      "cell_type": "code",
      "source": [
        "EWR_delay_values = EWR_flights.column('Delay')\n",
        "print(\"Average delay of flights to EWR:\", np.average(EWR_delay_values))"
      ],
      "metadata": {
        "id": "SGGJgLTAuPOz",
        "colab": {
          "base_uri": "https://localhost:8080/"
        },
        "outputId": "41f6068d-fc80-4dc5-b7fb-162592a7cc81"
      },
      "execution_count": 55,
      "outputs": [
        {
          "output_type": "stream",
          "name": "stdout",
          "text": [
            "Average delay of flights to EWR: 18.552193646\n"
          ]
        }
      ]
    },
    {
      "cell_type": "markdown",
      "source": [
        "As we can see, Newark Liberty is a busy airport with a fairly high average delay."
      ],
      "metadata": {
        "id": "OjkySZBmuyoh"
      }
    },
    {
      "cell_type": "markdown",
      "source": [
        "We are going to apply what we learned in Lab 2 (how to select rows based on `where` method of `Table`), and selecting columns (using `column`), and calculating average of an array using `np.average` in the problem below."
      ],
      "metadata": {
        "id": "m-k-z8KC77BH"
      }
    },
    {
      "cell_type": "markdown",
      "source": [
        "## Part 4: Histograms\n",
        "\n",
        "In addition to calculating the minimum, average, maximum, etc. of the data, we can also study their distribution. By distribution, we mean how frequent certain values are.\n",
        "\n",
        "For example, we can count the number of flights that landed at each airport by applying function `group('Destination')` to the table `flights`:"
      ],
      "metadata": {
        "id": "TyhIW4HwlJOV"
      }
    },
    {
      "cell_type": "code",
      "source": [
        "flights.group('Destination')"
      ],
      "metadata": {
        "id": "5T7OfyqbzDSp",
        "colab": {
          "base_uri": "https://localhost:8080/",
          "height": 392
        },
        "outputId": "f6846de8-6eac-465c-dab0-1bb948636b00"
      },
      "execution_count": 57,
      "outputs": [
        {
          "output_type": "execute_result",
          "data": {
            "text/plain": [
              "Destination | count\n",
              "ANC         | 92\n",
              "ATL         | 170\n",
              "AUS         | 284\n",
              "BOS         | 697\n",
              "BWI         | 92\n",
              "CLE         | 163\n",
              "DCA         | 92\n",
              "DEN         | 845\n",
              "DFW         | 161\n",
              "EWR         | 1322\n",
              "... (28 rows omitted)"
            ],
            "text/html": [
              "<table border=\"1\" class=\"dataframe\">\n",
              "    <thead>\n",
              "        <tr>\n",
              "            <th>Destination</th> <th>count</th>\n",
              "        </tr>\n",
              "    </thead>\n",
              "    <tbody>\n",
              "        <tr>\n",
              "            <td>ANC        </td> <td>92   </td>\n",
              "        </tr>\n",
              "        <tr>\n",
              "            <td>ATL        </td> <td>170  </td>\n",
              "        </tr>\n",
              "        <tr>\n",
              "            <td>AUS        </td> <td>284  </td>\n",
              "        </tr>\n",
              "        <tr>\n",
              "            <td>BOS        </td> <td>697  </td>\n",
              "        </tr>\n",
              "        <tr>\n",
              "            <td>BWI        </td> <td>92   </td>\n",
              "        </tr>\n",
              "        <tr>\n",
              "            <td>CLE        </td> <td>163  </td>\n",
              "        </tr>\n",
              "        <tr>\n",
              "            <td>DCA        </td> <td>92   </td>\n",
              "        </tr>\n",
              "        <tr>\n",
              "            <td>DEN        </td> <td>845  </td>\n",
              "        </tr>\n",
              "        <tr>\n",
              "            <td>DFW        </td> <td>161  </td>\n",
              "        </tr>\n",
              "        <tr>\n",
              "            <td>EWR        </td> <td>1322 </td>\n",
              "        </tr>\n",
              "    </tbody>\n",
              "</table>\n",
              "<p>... (28 rows omitted)</p>"
            ]
          },
          "metadata": {},
          "execution_count": 57
        }
      ]
    },
    {
      "cell_type": "markdown",
      "source": [
        "We can even create a bar plot of this distribution:"
      ],
      "metadata": {
        "id": "ilffNXavzkG1"
      }
    },
    {
      "cell_type": "code",
      "source": [
        "flights.group('Destination').bar('Destination')"
      ],
      "metadata": {
        "id": "CXbwwFG8znb-",
        "colab": {
          "base_uri": "https://localhost:8080/",
          "height": 410
        },
        "outputId": "ebbaaa3c-b0a5-43f7-c108-317dcd75c00f"
      },
      "execution_count": 58,
      "outputs": [
        {
          "output_type": "display_data",
          "data": {
            "text/plain": [
              "<Figure size 600x400 with 1 Axes>"
            ],
            "image/png": "[encoded data removed]"
          },
          "metadata": {}
        }
      ]
    },
    {
      "cell_type": "markdown",
      "source": [
        "This approach for visualization makes sense when the column is a **categorical variable**. By categorical variable, we mean a column that contains a limited, and usually fixed, set of possible values.\n",
        "\n",
        "In contrast, delay values are a **numerical variable** (a.k.a. **quantitative variable**): delay values are from a wide and continous range, but we can perform arithmetic operations and compare them. For such columns, counting particular values makes little sense:"
      ],
      "metadata": {
        "id": "zmJKM0OMzyRy"
      }
    },
    {
      "cell_type": "code",
      "source": [
        "flights.group('Delay').show()"
      ],
      "metadata": {
        "id": "CGIZbJMK1aCE",
        "colab": {
          "base_uri": "https://localhost:8080/",
          "height": 1000
        },
        "collapsed": true,
        "outputId": "bc341d1d-5f58-4f11-bd4f-730505d9949f"
      },
      "execution_count": 59,
      "outputs": [
        {
          "output_type": "display_data",
          "data": {
            "text/plain": [
              "<IPython.core.display.HTML object>"
            ],
            "text/html": [
              "<table border=\"1\" class=\"dataframe\">\n",
              "    <thead>\n",
              "        <tr>\n",
              "            <th>Delay</th> <th>count</th>\n",
              "        </tr>\n",
              "    </thead>\n",
              "    <tbody>\n",
              "        <tr>\n",
              "            <td>-16  </td> <td>2    </td>\n",
              "        </tr>\n",
              "        <tr>\n",
              "            <td>-15  </td> <td>1    </td>\n",
              "        </tr>\n",
              "        <tr>\n",
              "            <td>-14  </td> <td>1    </td>\n",
              "        </tr>\n",
              "        <tr>\n",
              "            <td>-13  </td> <td>8    </td>\n",
              "        </tr>\n",
              "        <tr>\n",
              "            <td>-12  </td> <td>16   </td>\n",
              "        </tr>\n",
              "        <tr>\n",
              "            <td>-11  </td> <td>27   </td>\n",
              "        </tr>\n",
              "        <tr>\n",
              "            <td>-10  </td> <td>44   </td>\n",
              "        </tr>\n",
              "        <tr>\n",
              "            <td>-9   </td> <td>123  </td>\n",
              "        </tr>\n",
              "        <tr>\n",
              "            <td>-8   </td> <td>207  </td>\n",
              "        </tr>\n",
              "        <tr>\n",
              "            <td>-7   </td> <td>313  </td>\n",
              "        </tr>\n",
              "        <tr>\n",
              "            <td>-6   </td> <td>461  </td>\n",
              "        </tr>\n",
              "        <tr>\n",
              "            <td>-5   </td> <td>623  </td>\n",
              "        </tr>\n",
              "        <tr>\n",
              "            <td>-4   </td> <td>753  </td>\n",
              "        </tr>\n",
              "        <tr>\n",
              "            <td>-3   </td> <td>833  </td>\n",
              "        </tr>\n",
              "        <tr>\n",
              "            <td>-2   </td> <td>812  </td>\n",
              "        </tr>\n",
              "        <tr>\n",
              "            <td>-1   </td> <td>825  </td>\n",
              "        </tr>\n",
              "        <tr>\n",
              "            <td>0    </td> <td>883  </td>\n",
              "        </tr>\n",
              "        <tr>\n",
              "            <td>1    </td> <td>526  </td>\n",
              "        </tr>\n",
              "        <tr>\n",
              "            <td>2    </td> <td>480  </td>\n",
              "        </tr>\n",
              "        <tr>\n",
              "            <td>3    </td> <td>412  </td>\n",
              "        </tr>\n",
              "        <tr>\n",
              "            <td>4    </td> <td>382  </td>\n",
              "        </tr>\n",
              "        <tr>\n",
              "            <td>5    </td> <td>330  </td>\n",
              "        </tr>\n",
              "        <tr>\n",
              "            <td>6    </td> <td>310  </td>\n",
              "        </tr>\n",
              "        <tr>\n",
              "            <td>7    </td> <td>248  </td>\n",
              "        </tr>\n",
              "        <tr>\n",
              "            <td>8    </td> <td>260  </td>\n",
              "        </tr>\n",
              "        <tr>\n",
              "            <td>9    </td> <td>228  </td>\n",
              "        </tr>\n",
              "        <tr>\n",
              "            <td>10   </td> <td>202  </td>\n",
              "        </tr>\n",
              "        <tr>\n",
              "            <td>11   </td> <td>149  </td>\n",
              "        </tr>\n",
              "        <tr>\n",
              "            <td>12   </td> <td>172  </td>\n",
              "        </tr>\n",
              "        <tr>\n",
              "            <td>13   </td> <td>143  </td>\n",
              "        </tr>\n",
              "        <tr>\n",
              "            <td>14   </td> <td>146  </td>\n",
              "        </tr>\n",
              "        <tr>\n",
              "            <td>15   </td> <td>122  </td>\n",
              "        </tr>\n",
              "        <tr>\n",
              "            <td>16   </td> <td>137  </td>\n",
              "        </tr>\n",
              "        <tr>\n",
              "            <td>17   </td> <td>137  </td>\n",
              "        </tr>\n",
              "        <tr>\n",
              "            <td>18   </td> <td>128  </td>\n",
              "        </tr>\n",
              "        <tr>\n",
              "            <td>19   </td> <td>109  </td>\n",
              "        </tr>\n",
              "        <tr>\n",
              "            <td>20   </td> <td>97   </td>\n",
              "        </tr>\n",
              "        <tr>\n",
              "            <td>21   </td> <td>86   </td>\n",
              "        </tr>\n",
              "        <tr>\n",
              "            <td>22   </td> <td>87   </td>\n",
              "        </tr>\n",
              "        <tr>\n",
              "            <td>23   </td> <td>97   </td>\n",
              "        </tr>\n",
              "        <tr>\n",
              "            <td>24   </td> <td>52   </td>\n",
              "        </tr>\n",
              "        <tr>\n",
              "            <td>25   </td> <td>82   </td>\n",
              "        </tr>\n",
              "        <tr>\n",
              "            <td>26   </td> <td>69   </td>\n",
              "        </tr>\n",
              "        <tr>\n",
              "            <td>27   </td> <td>52   </td>\n",
              "        </tr>\n",
              "        <tr>\n",
              "            <td>28   </td> <td>78   </td>\n",
              "        </tr>\n",
              "        <tr>\n",
              "            <td>29   </td> <td>73   </td>\n",
              "        </tr>\n",
              "        <tr>\n",
              "            <td>30   </td> <td>70   </td>\n",
              "        </tr>\n",
              "        <tr>\n",
              "            <td>31   </td> <td>71   </td>\n",
              "        </tr>\n",
              "        <tr>\n",
              "            <td>32   </td> <td>72   </td>\n",
              "        </tr>\n",
              "        <tr>\n",
              "            <td>33   </td> <td>60   </td>\n",
              "        </tr>\n",
              "        <tr>\n",
              "            <td>34   </td> <td>68   </td>\n",
              "        </tr>\n",
              "        <tr>\n",
              "            <td>35   </td> <td>47   </td>\n",
              "        </tr>\n",
              "        <tr>\n",
              "            <td>36   </td> <td>62   </td>\n",
              "        </tr>\n",
              "        <tr>\n",
              "            <td>37   </td> <td>42   </td>\n",
              "        </tr>\n",
              "        <tr>\n",
              "            <td>38   </td> <td>38   </td>\n",
              "        </tr>\n",
              "        <tr>\n",
              "            <td>39   </td> <td>60   </td>\n",
              "        </tr>\n",
              "        <tr>\n",
              "            <td>40   </td> <td>27   </td>\n",
              "        </tr>\n",
              "        <tr>\n",
              "            <td>41   </td> <td>40   </td>\n",
              "        </tr>\n",
              "        <tr>\n",
              "            <td>42   </td> <td>37   </td>\n",
              "        </tr>\n",
              "        <tr>\n",
              "            <td>43   </td> <td>31   </td>\n",
              "        </tr>\n",
              "        <tr>\n",
              "            <td>44   </td> <td>48   </td>\n",
              "        </tr>\n",
              "        <tr>\n",
              "            <td>45   </td> <td>30   </td>\n",
              "        </tr>\n",
              "        <tr>\n",
              "            <td>46   </td> <td>45   </td>\n",
              "        </tr>\n",
              "        <tr>\n",
              "            <td>47   </td> <td>24   </td>\n",
              "        </tr>\n",
              "        <tr>\n",
              "            <td>48   </td> <td>38   </td>\n",
              "        </tr>\n",
              "        <tr>\n",
              "            <td>49   </td> <td>37   </td>\n",
              "        </tr>\n",
              "        <tr>\n",
              "            <td>50   </td> <td>32   </td>\n",
              "        </tr>\n",
              "        <tr>\n",
              "            <td>51   </td> <td>28   </td>\n",
              "        </tr>\n",
              "        <tr>\n",
              "            <td>52   </td> <td>31   </td>\n",
              "        </tr>\n",
              "        <tr>\n",
              "            <td>53   </td> <td>27   </td>\n",
              "        </tr>\n",
              "        <tr>\n",
              "            <td>54   </td> <td>27   </td>\n",
              "        </tr>\n",
              "        <tr>\n",
              "            <td>55   </td> <td>43   </td>\n",
              "        </tr>\n",
              "        <tr>\n",
              "            <td>56   </td> <td>29   </td>\n",
              "        </tr>\n",
              "        <tr>\n",
              "            <td>57   </td> <td>23   </td>\n",
              "        </tr>\n",
              "        <tr>\n",
              "            <td>58   </td> <td>29   </td>\n",
              "        </tr>\n",
              "        <tr>\n",
              "            <td>59   </td> <td>32   </td>\n",
              "        </tr>\n",
              "        <tr>\n",
              "            <td>60   </td> <td>22   </td>\n",
              "        </tr>\n",
              "        <tr>\n",
              "            <td>61   </td> <td>25   </td>\n",
              "        </tr>\n",
              "        <tr>\n",
              "            <td>62   </td> <td>23   </td>\n",
              "        </tr>\n",
              "        <tr>\n",
              "            <td>63   </td> <td>26   </td>\n",
              "        </tr>\n",
              "        <tr>\n",
              "            <td>64   </td> <td>22   </td>\n",
              "        </tr>\n",
              "        <tr>\n",
              "            <td>65   </td> <td>23   </td>\n",
              "        </tr>\n",
              "        <tr>\n",
              "            <td>66   </td> <td>18   </td>\n",
              "        </tr>\n",
              "        <tr>\n",
              "            <td>67   </td> <td>21   </td>\n",
              "        </tr>\n",
              "        <tr>\n",
              "            <td>68   </td> <td>20   </td>\n",
              "        </tr>\n",
              "        <tr>\n",
              "            <td>69   </td> <td>16   </td>\n",
              "        </tr>\n",
              "        <tr>\n",
              "            <td>70   </td> <td>14   </td>\n",
              "        </tr>\n",
              "        <tr>\n",
              "            <td>71   </td> <td>15   </td>\n",
              "        </tr>\n",
              "        <tr>\n",
              "            <td>72   </td> <td>14   </td>\n",
              "        </tr>\n",
              "        <tr>\n",
              "            <td>73   </td> <td>21   </td>\n",
              "        </tr>\n",
              "        <tr>\n",
              "            <td>74   </td> <td>20   </td>\n",
              "        </tr>\n",
              "        <tr>\n",
              "            <td>75   </td> <td>23   </td>\n",
              "        </tr>\n",
              "        <tr>\n",
              "            <td>76   </td> <td>18   </td>\n",
              "        </tr>\n",
              "        <tr>\n",
              "            <td>77   </td> <td>28   </td>\n",
              "        </tr>\n",
              "        <tr>\n",
              "            <td>78   </td> <td>21   </td>\n",
              "        </tr>\n",
              "        <tr>\n",
              "            <td>79   </td> <td>18   </td>\n",
              "        </tr>\n",
              "        <tr>\n",
              "            <td>80   </td> <td>13   </td>\n",
              "        </tr>\n",
              "        <tr>\n",
              "            <td>81   </td> <td>23   </td>\n",
              "        </tr>\n",
              "        <tr>\n",
              "            <td>82   </td> <td>13   </td>\n",
              "        </tr>\n",
              "        <tr>\n",
              "            <td>83   </td> <td>19   </td>\n",
              "        </tr>\n",
              "        <tr>\n",
              "            <td>84   </td> <td>15   </td>\n",
              "        </tr>\n",
              "        <tr>\n",
              "            <td>85   </td> <td>14   </td>\n",
              "        </tr>\n",
              "        <tr>\n",
              "            <td>86   </td> <td>7    </td>\n",
              "        </tr>\n",
              "        <tr>\n",
              "            <td>87   </td> <td>16   </td>\n",
              "        </tr>\n",
              "        <tr>\n",
              "            <td>88   </td> <td>10   </td>\n",
              "        </tr>\n",
              "        <tr>\n",
              "            <td>89   </td> <td>22   </td>\n",
              "        </tr>\n",
              "        <tr>\n",
              "            <td>90   </td> <td>14   </td>\n",
              "        </tr>\n",
              "        <tr>\n",
              "            <td>91   </td> <td>18   </td>\n",
              "        </tr>\n",
              "        <tr>\n",
              "            <td>92   </td> <td>16   </td>\n",
              "        </tr>\n",
              "        <tr>\n",
              "            <td>93   </td> <td>12   </td>\n",
              "        </tr>\n",
              "        <tr>\n",
              "            <td>94   </td> <td>15   </td>\n",
              "        </tr>\n",
              "        <tr>\n",
              "            <td>95   </td> <td>9    </td>\n",
              "        </tr>\n",
              "        <tr>\n",
              "            <td>96   </td> <td>17   </td>\n",
              "        </tr>\n",
              "        <tr>\n",
              "            <td>97   </td> <td>15   </td>\n",
              "        </tr>\n",
              "        <tr>\n",
              "            <td>98   </td> <td>8    </td>\n",
              "        </tr>\n",
              "        <tr>\n",
              "            <td>99   </td> <td>14   </td>\n",
              "        </tr>\n",
              "        <tr>\n",
              "            <td>100  </td> <td>11   </td>\n",
              "        </tr>\n",
              "        <tr>\n",
              "            <td>101  </td> <td>12   </td>\n",
              "        </tr>\n",
              "        <tr>\n",
              "            <td>102  </td> <td>12   </td>\n",
              "        </tr>\n",
              "        <tr>\n",
              "            <td>103  </td> <td>12   </td>\n",
              "        </tr>\n",
              "        <tr>\n",
              "            <td>104  </td> <td>13   </td>\n",
              "        </tr>\n",
              "        <tr>\n",
              "            <td>105  </td> <td>7    </td>\n",
              "        </tr>\n",
              "        <tr>\n",
              "            <td>106  </td> <td>6    </td>\n",
              "        </tr>\n",
              "        <tr>\n",
              "            <td>108  </td> <td>8    </td>\n",
              "        </tr>\n",
              "        <tr>\n",
              "            <td>109  </td> <td>10   </td>\n",
              "        </tr>\n",
              "        <tr>\n",
              "            <td>110  </td> <td>5    </td>\n",
              "        </tr>\n",
              "        <tr>\n",
              "            <td>111  </td> <td>7    </td>\n",
              "        </tr>\n",
              "        <tr>\n",
              "            <td>112  </td> <td>9    </td>\n",
              "        </tr>\n",
              "        <tr>\n",
              "            <td>113  </td> <td>4    </td>\n",
              "        </tr>\n",
              "        <tr>\n",
              "            <td>114  </td> <td>12   </td>\n",
              "        </tr>\n",
              "        <tr>\n",
              "            <td>115  </td> <td>6    </td>\n",
              "        </tr>\n",
              "        <tr>\n",
              "            <td>116  </td> <td>11   </td>\n",
              "        </tr>\n",
              "        <tr>\n",
              "            <td>117  </td> <td>8    </td>\n",
              "        </tr>\n",
              "        <tr>\n",
              "            <td>118  </td> <td>4    </td>\n",
              "        </tr>\n",
              "        <tr>\n",
              "            <td>119  </td> <td>6    </td>\n",
              "        </tr>\n",
              "        <tr>\n",
              "            <td>120  </td> <td>8    </td>\n",
              "        </tr>\n",
              "        <tr>\n",
              "            <td>121  </td> <td>4    </td>\n",
              "        </tr>\n",
              "        <tr>\n",
              "            <td>122  </td> <td>10   </td>\n",
              "        </tr>\n",
              "        <tr>\n",
              "            <td>123  </td> <td>5    </td>\n",
              "        </tr>\n",
              "        <tr>\n",
              "            <td>124  </td> <td>4    </td>\n",
              "        </tr>\n",
              "        <tr>\n",
              "            <td>125  </td> <td>8    </td>\n",
              "        </tr>\n",
              "        <tr>\n",
              "            <td>126  </td> <td>6    </td>\n",
              "        </tr>\n",
              "        <tr>\n",
              "            <td>127  </td> <td>11   </td>\n",
              "        </tr>\n",
              "        <tr>\n",
              "            <td>128  </td> <td>7    </td>\n",
              "        </tr>\n",
              "        <tr>\n",
              "            <td>129  </td> <td>7    </td>\n",
              "        </tr>\n",
              "        <tr>\n",
              "            <td>130  </td> <td>7    </td>\n",
              "        </tr>\n",
              "        <tr>\n",
              "            <td>131  </td> <td>4    </td>\n",
              "        </tr>\n",
              "        <tr>\n",
              "            <td>132  </td> <td>3    </td>\n",
              "        </tr>\n",
              "        <tr>\n",
              "            <td>133  </td> <td>6    </td>\n",
              "        </tr>\n",
              "        <tr>\n",
              "            <td>134  </td> <td>4    </td>\n",
              "        </tr>\n",
              "        <tr>\n",
              "            <td>135  </td> <td>6    </td>\n",
              "        </tr>\n",
              "        <tr>\n",
              "            <td>136  </td> <td>3    </td>\n",
              "        </tr>\n",
              "        <tr>\n",
              "            <td>137  </td> <td>3    </td>\n",
              "        </tr>\n",
              "        <tr>\n",
              "            <td>138  </td> <td>5    </td>\n",
              "        </tr>\n",
              "        <tr>\n",
              "            <td>139  </td> <td>4    </td>\n",
              "        </tr>\n",
              "        <tr>\n",
              "            <td>140  </td> <td>3    </td>\n",
              "        </tr>\n",
              "        <tr>\n",
              "            <td>141  </td> <td>3    </td>\n",
              "        </tr>\n",
              "        <tr>\n",
              "            <td>142  </td> <td>4    </td>\n",
              "        </tr>\n",
              "        <tr>\n",
              "            <td>143  </td> <td>3    </td>\n",
              "        </tr>\n",
              "        <tr>\n",
              "            <td>144  </td> <td>6    </td>\n",
              "        </tr>\n",
              "        <tr>\n",
              "            <td>145  </td> <td>5    </td>\n",
              "        </tr>\n",
              "        <tr>\n",
              "            <td>146  </td> <td>3    </td>\n",
              "        </tr>\n",
              "        <tr>\n",
              "            <td>147  </td> <td>4    </td>\n",
              "        </tr>\n",
              "        <tr>\n",
              "            <td>148  </td> <td>4    </td>\n",
              "        </tr>\n",
              "        <tr>\n",
              "            <td>149  </td> <td>2    </td>\n",
              "        </tr>\n",
              "        <tr>\n",
              "            <td>150  </td> <td>1    </td>\n",
              "        </tr>\n",
              "        <tr>\n",
              "            <td>151  </td> <td>8    </td>\n",
              "        </tr>\n",
              "        <tr>\n",
              "            <td>152  </td> <td>2    </td>\n",
              "        </tr>\n",
              "        <tr>\n",
              "            <td>153  </td> <td>2    </td>\n",
              "        </tr>\n",
              "        <tr>\n",
              "            <td>154  </td> <td>6    </td>\n",
              "        </tr>\n",
              "        <tr>\n",
              "            <td>155  </td> <td>4    </td>\n",
              "        </tr>\n",
              "        <tr>\n",
              "            <td>156  </td> <td>1    </td>\n",
              "        </tr>\n",
              "        <tr>\n",
              "            <td>157  </td> <td>3    </td>\n",
              "        </tr>\n",
              "        <tr>\n",
              "            <td>158  </td> <td>3    </td>\n",
              "        </tr>\n",
              "        <tr>\n",
              "            <td>159  </td> <td>2    </td>\n",
              "        </tr>\n",
              "        <tr>\n",
              "            <td>160  </td> <td>2    </td>\n",
              "        </tr>\n",
              "        <tr>\n",
              "            <td>161  </td> <td>2    </td>\n",
              "        </tr>\n",
              "        <tr>\n",
              "            <td>162  </td> <td>3    </td>\n",
              "        </tr>\n",
              "        <tr>\n",
              "            <td>163  </td> <td>4    </td>\n",
              "        </tr>\n",
              "        <tr>\n",
              "            <td>165  </td> <td>1    </td>\n",
              "        </tr>\n",
              "        <tr>\n",
              "            <td>166  </td> <td>3    </td>\n",
              "        </tr>\n",
              "        <tr>\n",
              "            <td>167  </td> <td>2    </td>\n",
              "        </tr>\n",
              "        <tr>\n",
              "            <td>168  </td> <td>5    </td>\n",
              "        </tr>\n",
              "        <tr>\n",
              "            <td>169  </td> <td>3    </td>\n",
              "        </tr>\n",
              "        <tr>\n",
              "            <td>170  </td> <td>3    </td>\n",
              "        </tr>\n",
              "        <tr>\n",
              "            <td>171  </td> <td>1    </td>\n",
              "        </tr>\n",
              "        <tr>\n",
              "            <td>172  </td> <td>2    </td>\n",
              "        </tr>\n",
              "        <tr>\n",
              "            <td>173  </td> <td>2    </td>\n",
              "        </tr>\n",
              "        <tr>\n",
              "            <td>174  </td> <td>2    </td>\n",
              "        </tr>\n",
              "        <tr>\n",
              "            <td>175  </td> <td>4    </td>\n",
              "        </tr>\n",
              "        <tr>\n",
              "            <td>176  </td> <td>4    </td>\n",
              "        </tr>\n",
              "        <tr>\n",
              "            <td>177  </td> <td>3    </td>\n",
              "        </tr>\n",
              "        <tr>\n",
              "            <td>178  </td> <td>1    </td>\n",
              "        </tr>\n",
              "        <tr>\n",
              "            <td>180  </td> <td>1    </td>\n",
              "        </tr>\n",
              "        <tr>\n",
              "            <td>181  </td> <td>4    </td>\n",
              "        </tr>\n",
              "        <tr>\n",
              "            <td>183  </td> <td>4    </td>\n",
              "        </tr>\n",
              "        <tr>\n",
              "            <td>184  </td> <td>1    </td>\n",
              "        </tr>\n",
              "        <tr>\n",
              "            <td>185  </td> <td>2    </td>\n",
              "        </tr>\n",
              "        <tr>\n",
              "            <td>186  </td> <td>2    </td>\n",
              "        </tr>\n",
              "        <tr>\n",
              "            <td>187  </td> <td>3    </td>\n",
              "        </tr>\n",
              "        <tr>\n",
              "            <td>188  </td> <td>4    </td>\n",
              "        </tr>\n",
              "        <tr>\n",
              "            <td>189  </td> <td>1    </td>\n",
              "        </tr>\n",
              "        <tr>\n",
              "            <td>190  </td> <td>3    </td>\n",
              "        </tr>\n",
              "        <tr>\n",
              "            <td>191  </td> <td>3    </td>\n",
              "        </tr>\n",
              "        <tr>\n",
              "            <td>193  </td> <td>1    </td>\n",
              "        </tr>\n",
              "        <tr>\n",
              "            <td>194  </td> <td>4    </td>\n",
              "        </tr>\n",
              "        <tr>\n",
              "            <td>195  </td> <td>2    </td>\n",
              "        </tr>\n",
              "        <tr>\n",
              "            <td>196  </td> <td>1    </td>\n",
              "        </tr>\n",
              "        <tr>\n",
              "            <td>197  </td> <td>4    </td>\n",
              "        </tr>\n",
              "        <tr>\n",
              "            <td>198  </td> <td>1    </td>\n",
              "        </tr>\n",
              "        <tr>\n",
              "            <td>200  </td> <td>2    </td>\n",
              "        </tr>\n",
              "        <tr>\n",
              "            <td>201  </td> <td>1    </td>\n",
              "        </tr>\n",
              "        <tr>\n",
              "            <td>202  </td> <td>5    </td>\n",
              "        </tr>\n",
              "        <tr>\n",
              "            <td>203  </td> <td>1    </td>\n",
              "        </tr>\n",
              "        <tr>\n",
              "            <td>205  </td> <td>3    </td>\n",
              "        </tr>\n",
              "        <tr>\n",
              "            <td>206  </td> <td>2    </td>\n",
              "        </tr>\n",
              "        <tr>\n",
              "            <td>208  </td> <td>2    </td>\n",
              "        </tr>\n",
              "        <tr>\n",
              "            <td>209  </td> <td>6    </td>\n",
              "        </tr>\n",
              "        <tr>\n",
              "            <td>210  </td> <td>1    </td>\n",
              "        </tr>\n",
              "        <tr>\n",
              "            <td>212  </td> <td>1    </td>\n",
              "        </tr>\n",
              "        <tr>\n",
              "            <td>214  </td> <td>2    </td>\n",
              "        </tr>\n",
              "        <tr>\n",
              "            <td>215  </td> <td>3    </td>\n",
              "        </tr>\n",
              "        <tr>\n",
              "            <td>216  </td> <td>3    </td>\n",
              "        </tr>\n",
              "        <tr>\n",
              "            <td>217  </td> <td>1    </td>\n",
              "        </tr>\n",
              "        <tr>\n",
              "            <td>218  </td> <td>1    </td>\n",
              "        </tr>\n",
              "        <tr>\n",
              "            <td>220  </td> <td>3    </td>\n",
              "        </tr>\n",
              "        <tr>\n",
              "            <td>222  </td> <td>3    </td>\n",
              "        </tr>\n",
              "        <tr>\n",
              "            <td>223  </td> <td>1    </td>\n",
              "        </tr>\n",
              "        <tr>\n",
              "            <td>224  </td> <td>1    </td>\n",
              "        </tr>\n",
              "        <tr>\n",
              "            <td>225  </td> <td>3    </td>\n",
              "        </tr>\n",
              "        <tr>\n",
              "            <td>227  </td> <td>1    </td>\n",
              "        </tr>\n",
              "        <tr>\n",
              "            <td>230  </td> <td>1    </td>\n",
              "        </tr>\n",
              "        <tr>\n",
              "            <td>231  </td> <td>1    </td>\n",
              "        </tr>\n",
              "        <tr>\n",
              "            <td>234  </td> <td>1    </td>\n",
              "        </tr>\n",
              "        <tr>\n",
              "            <td>240  </td> <td>1    </td>\n",
              "        </tr>\n",
              "        <tr>\n",
              "            <td>241  </td> <td>1    </td>\n",
              "        </tr>\n",
              "        <tr>\n",
              "            <td>244  </td> <td>2    </td>\n",
              "        </tr>\n",
              "        <tr>\n",
              "            <td>246  </td> <td>1    </td>\n",
              "        </tr>\n",
              "        <tr>\n",
              "            <td>248  </td> <td>1    </td>\n",
              "        </tr>\n",
              "        <tr>\n",
              "            <td>250  </td> <td>2    </td>\n",
              "        </tr>\n",
              "        <tr>\n",
              "            <td>251  </td> <td>1    </td>\n",
              "        </tr>\n",
              "        <tr>\n",
              "            <td>252  </td> <td>1    </td>\n",
              "        </tr>\n",
              "        <tr>\n",
              "            <td>256  </td> <td>1    </td>\n",
              "        </tr>\n",
              "        <tr>\n",
              "            <td>257  </td> <td>1    </td>\n",
              "        </tr>\n",
              "        <tr>\n",
              "            <td>262  </td> <td>1    </td>\n",
              "        </tr>\n",
              "        <tr>\n",
              "            <td>263  </td> <td>1    </td>\n",
              "        </tr>\n",
              "        <tr>\n",
              "            <td>265  </td> <td>1    </td>\n",
              "        </tr>\n",
              "        <tr>\n",
              "            <td>267  </td> <td>2    </td>\n",
              "        </tr>\n",
              "        <tr>\n",
              "            <td>270  </td> <td>2    </td>\n",
              "        </tr>\n",
              "        <tr>\n",
              "            <td>272  </td> <td>1    </td>\n",
              "        </tr>\n",
              "        <tr>\n",
              "            <td>274  </td> <td>1    </td>\n",
              "        </tr>\n",
              "        <tr>\n",
              "            <td>275  </td> <td>2    </td>\n",
              "        </tr>\n",
              "        <tr>\n",
              "            <td>278  </td> <td>2    </td>\n",
              "        </tr>\n",
              "        <tr>\n",
              "            <td>288  </td> <td>1    </td>\n",
              "        </tr>\n",
              "        <tr>\n",
              "            <td>290  </td> <td>2    </td>\n",
              "        </tr>\n",
              "        <tr>\n",
              "            <td>297  </td> <td>1    </td>\n",
              "        </tr>\n",
              "        <tr>\n",
              "            <td>298  </td> <td>1    </td>\n",
              "        </tr>\n",
              "        <tr>\n",
              "            <td>299  </td> <td>1    </td>\n",
              "        </tr>\n",
              "        <tr>\n",
              "            <td>302  </td> <td>1    </td>\n",
              "        </tr>\n",
              "        <tr>\n",
              "            <td>306  </td> <td>1    </td>\n",
              "        </tr>\n",
              "        <tr>\n",
              "            <td>309  </td> <td>2    </td>\n",
              "        </tr>\n",
              "        <tr>\n",
              "            <td>310  </td> <td>1    </td>\n",
              "        </tr>\n",
              "        <tr>\n",
              "            <td>311  </td> <td>1    </td>\n",
              "        </tr>\n",
              "        <tr>\n",
              "            <td>312  </td> <td>1    </td>\n",
              "        </tr>\n",
              "        <tr>\n",
              "            <td>313  </td> <td>2    </td>\n",
              "        </tr>\n",
              "        <tr>\n",
              "            <td>314  </td> <td>1    </td>\n",
              "        </tr>\n",
              "        <tr>\n",
              "            <td>315  </td> <td>1    </td>\n",
              "        </tr>\n",
              "        <tr>\n",
              "            <td>318  </td> <td>1    </td>\n",
              "        </tr>\n",
              "        <tr>\n",
              "            <td>324  </td> <td>1    </td>\n",
              "        </tr>\n",
              "        <tr>\n",
              "            <td>325  </td> <td>1    </td>\n",
              "        </tr>\n",
              "        <tr>\n",
              "            <td>330  </td> <td>1    </td>\n",
              "        </tr>\n",
              "        <tr>\n",
              "            <td>331  </td> <td>2    </td>\n",
              "        </tr>\n",
              "        <tr>\n",
              "            <td>332  </td> <td>1    </td>\n",
              "        </tr>\n",
              "        <tr>\n",
              "            <td>337  </td> <td>1    </td>\n",
              "        </tr>\n",
              "        <tr>\n",
              "            <td>338  </td> <td>1    </td>\n",
              "        </tr>\n",
              "        <tr>\n",
              "            <td>339  </td> <td>1    </td>\n",
              "        </tr>\n",
              "        <tr>\n",
              "            <td>342  </td> <td>1    </td>\n",
              "        </tr>\n",
              "        <tr>\n",
              "            <td>343  </td> <td>1    </td>\n",
              "        </tr>\n",
              "        <tr>\n",
              "            <td>352  </td> <td>1    </td>\n",
              "        </tr>\n",
              "        <tr>\n",
              "            <td>353  </td> <td>1    </td>\n",
              "        </tr>\n",
              "        <tr>\n",
              "            <td>354  </td> <td>1    </td>\n",
              "        </tr>\n",
              "        <tr>\n",
              "            <td>370  </td> <td>1    </td>\n",
              "        </tr>\n",
              "        <tr>\n",
              "            <td>382  </td> <td>1    </td>\n",
              "        </tr>\n",
              "        <tr>\n",
              "            <td>385  </td> <td>1    </td>\n",
              "        </tr>\n",
              "        <tr>\n",
              "            <td>405  </td> <td>1    </td>\n",
              "        </tr>\n",
              "        <tr>\n",
              "            <td>408  </td> <td>1    </td>\n",
              "        </tr>\n",
              "        <tr>\n",
              "            <td>430  </td> <td>1    </td>\n",
              "        </tr>\n",
              "        <tr>\n",
              "            <td>438  </td> <td>1    </td>\n",
              "        </tr>\n",
              "        <tr>\n",
              "            <td>458  </td> <td>1    </td>\n",
              "        </tr>\n",
              "        <tr>\n",
              "            <td>505  </td> <td>1    </td>\n",
              "        </tr>\n",
              "        <tr>\n",
              "            <td>508  </td> <td>1    </td>\n",
              "        </tr>\n",
              "        <tr>\n",
              "            <td>537  </td> <td>1    </td>\n",
              "        </tr>\n",
              "        <tr>\n",
              "            <td>580  </td> <td>1    </td>\n",
              "        </tr>\n",
              "    </tbody>\n",
              "</table>"
            ]
          },
          "metadata": {}
        }
      ]
    },
    {
      "cell_type": "markdown",
      "source": [
        "Whether the particular delay values of 579, 580, or 581 appear in the data is not important; in practice, what is important is how frequently delay values are around 8 hours, 9 hours, or 10 hours.\n",
        "\n",
        "We can answer this question using the function `bin(column_name)`, which divides the values into 10 bins and counts the number of values in each bin:"
      ],
      "metadata": {
        "id": "DL6YOZyN10KJ"
      }
    },
    {
      "cell_type": "code",
      "source": [
        "flights.bin('Delay')"
      ],
      "metadata": {
        "id": "GeyjAoQL3OAR",
        "colab": {
          "base_uri": "https://localhost:8080/",
          "height": 392
        },
        "outputId": "b8dd3de3-f9a9-446e-d898-c9731ce80f3a"
      },
      "execution_count": 60,
      "outputs": [
        {
          "output_type": "execute_result",
          "data": {
            "text/plain": [
              "bin   | Delay count\n",
              "-16   | 12051\n",
              "43.6  | 1268\n",
              "103.2 | 307\n",
              "162.8 | 121\n",
              "222.4 | 34\n",
              "282   | 27\n",
              "341.6 | 8\n",
              "401.2 | 5\n",
              "460.8 | 2\n",
              "520.4 | 2\n",
              "... (1 rows omitted)"
            ],
            "text/html": [
              "<table border=\"1\" class=\"dataframe\">\n",
              "    <thead>\n",
              "        <tr>\n",
              "            <th>bin</th> <th>Delay count</th>\n",
              "        </tr>\n",
              "    </thead>\n",
              "    <tbody>\n",
              "        <tr>\n",
              "            <td>-16  </td> <td>12051      </td>\n",
              "        </tr>\n",
              "        <tr>\n",
              "            <td>43.6 </td> <td>1268       </td>\n",
              "        </tr>\n",
              "        <tr>\n",
              "            <td>103.2</td> <td>307        </td>\n",
              "        </tr>\n",
              "        <tr>\n",
              "            <td>162.8</td> <td>121        </td>\n",
              "        </tr>\n",
              "        <tr>\n",
              "            <td>222.4</td> <td>34         </td>\n",
              "        </tr>\n",
              "        <tr>\n",
              "            <td>282  </td> <td>27         </td>\n",
              "        </tr>\n",
              "        <tr>\n",
              "            <td>341.6</td> <td>8          </td>\n",
              "        </tr>\n",
              "        <tr>\n",
              "            <td>401.2</td> <td>5          </td>\n",
              "        </tr>\n",
              "        <tr>\n",
              "            <td>460.8</td> <td>2          </td>\n",
              "        </tr>\n",
              "        <tr>\n",
              "            <td>520.4</td> <td>2          </td>\n",
              "        </tr>\n",
              "    </tbody>\n",
              "</table>\n",
              "<p>... (1 rows omitted)</p>"
            ]
          },
          "metadata": {},
          "execution_count": 60
        }
      ]
    },
    {
      "cell_type": "markdown",
      "source": [
        "The first column shows the boundaries between the bins: the first bin contains values between -16 and 43.6; the second bin contains values between 43.6 and 103.2; the third bin contains values between 103.2 and 162.8. The second columns shows the number of values in each bin (e.g., there are 1268 values in the column `Delay` that are between 43.6 and 103.2).\n",
        "\n",
        "Notice that the last, 11th row is not displayed because the output is too long. We can display this last row as well by applying the function `show()`:"
      ],
      "metadata": {
        "id": "pQT3M4Af3hnw"
      }
    },
    {
      "cell_type": "code",
      "source": [
        "flights.bin('Delay').show()"
      ],
      "metadata": {
        "id": "eG7VJ3PY4uqm",
        "colab": {
          "base_uri": "https://localhost:8080/",
          "height": 394
        },
        "outputId": "70275994-7fe1-4b8c-c1a0-f014ae7990ef"
      },
      "execution_count": 61,
      "outputs": [
        {
          "output_type": "display_data",
          "data": {
            "text/plain": [
              "<IPython.core.display.HTML object>"
            ],
            "text/html": [
              "<table border=\"1\" class=\"dataframe\">\n",
              "    <thead>\n",
              "        <tr>\n",
              "            <th>bin</th> <th>Delay count</th>\n",
              "        </tr>\n",
              "    </thead>\n",
              "    <tbody>\n",
              "        <tr>\n",
              "            <td>-16  </td> <td>12051      </td>\n",
              "        </tr>\n",
              "        <tr>\n",
              "            <td>43.6 </td> <td>1268       </td>\n",
              "        </tr>\n",
              "        <tr>\n",
              "            <td>103.2</td> <td>307        </td>\n",
              "        </tr>\n",
              "        <tr>\n",
              "            <td>162.8</td> <td>121        </td>\n",
              "        </tr>\n",
              "        <tr>\n",
              "            <td>222.4</td> <td>34         </td>\n",
              "        </tr>\n",
              "        <tr>\n",
              "            <td>282  </td> <td>27         </td>\n",
              "        </tr>\n",
              "        <tr>\n",
              "            <td>341.6</td> <td>8          </td>\n",
              "        </tr>\n",
              "        <tr>\n",
              "            <td>401.2</td> <td>5          </td>\n",
              "        </tr>\n",
              "        <tr>\n",
              "            <td>460.8</td> <td>2          </td>\n",
              "        </tr>\n",
              "        <tr>\n",
              "            <td>520.4</td> <td>2          </td>\n",
              "        </tr>\n",
              "        <tr>\n",
              "            <td>580  </td> <td>0          </td>\n",
              "        </tr>\n",
              "    </tbody>\n",
              "</table>"
            ]
          },
          "metadata": {}
        }
      ]
    },
    {
      "cell_type": "markdown",
      "source": [
        "This last, 11th row shows the upper boundary of the last, 10th bin.\n",
        "\n",
        "By default, function `bin` divides the values into 10 bins, with the boundaries evenly spaced out between the minimum and maximum. To verify this, we can recreate the above boundaries using the function `np.arange`:"
      ],
      "metadata": {
        "id": "vh6e38yy4wl1"
      }
    },
    {
      "cell_type": "code",
      "source": [
        "delay_values = flights.column('Delay')\n",
        "minimum = min(delay_values)\n",
        "maximum = max(delay_values)\n",
        "step_size = (maximum - minimum) / 10\n",
        "np.arange(minimum, maximum, step_size)"
      ],
      "metadata": {
        "id": "BXt9uWl75lOz",
        "colab": {
          "base_uri": "https://localhost:8080/"
        },
        "outputId": "efa6083e-0b67-4064-f88b-d4925f40139e"
      },
      "execution_count": 62,
      "outputs": [
        {
          "output_type": "execute_result",
          "data": {
            "text/plain": [
              "array([ -16. ,   43.6,  103.2,  162.8,  222.4,  282. ,  341.6,  401.2,\n",
              "        460.8,  520.4])"
            ]
          },
          "metadata": {},
          "execution_count": 62
        }
      ]
    },
    {
      "cell_type": "markdown",
      "source": [
        "If we would like a more fine-grained (or coarse-grained) distribution, we can use more (or fewer) bins with function `bin(column_name, bins=number)`:"
      ],
      "metadata": {
        "id": "7ijQh97U6gKh"
      }
    },
    {
      "cell_type": "code",
      "source": [
        "print(\"More bins:\")\n",
        "print(flights.bin('Delay', bins=15))\n",
        "\n",
        "print(\"Fewer bins:\")\n",
        "print(flights.bin('Delay', bins=5))"
      ],
      "metadata": {
        "id": "RFSLDaOG6x6_",
        "colab": {
          "base_uri": "https://localhost:8080/"
        },
        "outputId": "1887de8c-23d1-48c4-b6bf-efb148ed9799"
      },
      "execution_count": 63,
      "outputs": [
        {
          "output_type": "stream",
          "name": "stdout",
          "text": [
            "More bins:\n",
            "bin     | Delay count\n",
            "-16     | 10920\n",
            "23.7333 | 1750\n",
            "63.4667 | 649\n",
            "103.2   | 241\n",
            "142.933 | 111\n",
            "182.667 | 76\n",
            "222.4   | 22\n",
            "262.133 | 18\n",
            "301.867 | 21\n",
            "341.6   | 6\n",
            "... (6 rows omitted)\n",
            "Fewer bins:\n",
            "bin   | Delay count\n",
            "-16   | 13319\n",
            "103.2 | 428\n",
            "222.4 | 61\n",
            "341.6 | 13\n",
            "460.8 | 4\n",
            "580   | 0\n"
          ]
        }
      ]
    },
    {
      "cell_type": "markdown",
      "source": [
        "We can also specify our own bin boundaries if we wish:"
      ],
      "metadata": {
        "id": "RKZktmq27U2f"
      }
    },
    {
      "cell_type": "code",
      "source": [
        "boundaries = make_array(-30, -15, 0, 15, 30, 60, 120, 180, 300, 600)\n",
        "flights.bin('Delay', bins=boundaries)"
      ],
      "metadata": {
        "id": "ra0V9i6u7c5Q",
        "colab": {
          "base_uri": "https://localhost:8080/",
          "height": 363
        },
        "outputId": "3c6d4f65-14af-4896-d34d-275e39462294"
      },
      "execution_count": 65,
      "outputs": [
        {
          "output_type": "execute_result",
          "data": {
            "text/plain": [
              "bin  | Delay count\n",
              "-30  | 2\n",
              "-15  | 5047\n",
              "0    | 4871\n",
              "15   | 1406\n",
              "30   | 1248\n",
              "60   | 861\n",
              "120  | 231\n",
              "180  | 121\n",
              "300  | 38\n",
              "600  | 0"
            ],
            "text/html": [
              "<table border=\"1\" class=\"dataframe\">\n",
              "    <thead>\n",
              "        <tr>\n",
              "            <th>bin</th> <th>Delay count</th>\n",
              "        </tr>\n",
              "    </thead>\n",
              "    <tbody>\n",
              "        <tr>\n",
              "            <td>-30 </td> <td>2          </td>\n",
              "        </tr>\n",
              "        <tr>\n",
              "            <td>-15 </td> <td>5047       </td>\n",
              "        </tr>\n",
              "        <tr>\n",
              "            <td>0   </td> <td>4871       </td>\n",
              "        </tr>\n",
              "        <tr>\n",
              "            <td>15  </td> <td>1406       </td>\n",
              "        </tr>\n",
              "        <tr>\n",
              "            <td>30  </td> <td>1248       </td>\n",
              "        </tr>\n",
              "        <tr>\n",
              "            <td>60  </td> <td>861        </td>\n",
              "        </tr>\n",
              "        <tr>\n",
              "            <td>120 </td> <td>231        </td>\n",
              "        </tr>\n",
              "        <tr>\n",
              "            <td>180 </td> <td>121        </td>\n",
              "        </tr>\n",
              "        <tr>\n",
              "            <td>300 </td> <td>38         </td>\n",
              "        </tr>\n",
              "        <tr>\n",
              "            <td>600 </td> <td>0          </td>\n",
              "        </tr>\n",
              "    </tbody>\n",
              "</table>"
            ]
          },
          "metadata": {},
          "execution_count": 65
        }
      ]
    },
    {
      "cell_type": "markdown",
      "source": [
        "Notice that the boundaries do not need to be evenly spaced. In the above example, we use a fine-grained division for smaller values and a coarse-grained division for larger values.\n",
        "\n",
        "Finally, we can also visualize the distribution using the `hist(column_name)` function, which bins the values similar to function `bin(column_name)` but draws them instead of creating a table:"
      ],
      "metadata": {
        "id": "TY2UTpZZ77HS"
      }
    },
    {
      "cell_type": "code",
      "source": [
        "flights.hist('Delay')"
      ],
      "metadata": {
        "id": "zS5ZgTmp8hf4",
        "colab": {
          "base_uri": "https://localhost:8080/",
          "height": 410
        },
        "outputId": "41a4df6b-ed33-463c-8725-c6e0f0730a65"
      },
      "execution_count": 66,
      "outputs": [
        {
          "output_type": "display_data",
          "data": {
            "text/plain": [
              "<Figure size 600x400 with 1 Axes>"
            ],
            "image/png": "[encoded data removed]"
          },
          "metadata": {}
        }
      ]
    },
    {
      "cell_type": "markdown",
      "source": [
        "This visualization is called a **histogram**.\n",
        "\n",
        "Function `hist` works the same way as function `bin`: we can specfiy the number of bins, and we can specify our own bin boundaries:"
      ],
      "metadata": {
        "id": "qSdygHwx8ke5"
      }
    },
    {
      "cell_type": "code",
      "source": [
        "flights.hist('Delay', bins=5)\n",
        "flights.hist('Delay', bins=15)\n",
        "boundaries = make_array(-30, -15, 0, 15, 30, 60, 120, 180, 300, 600)\n",
        "flights.hist('Delay', bins=boundaries)"
      ],
      "metadata": {
        "id": "XTqPlUSh9FMG",
        "colab": {
          "base_uri": "https://localhost:8080/",
          "height": 1000
        },
        "outputId": "8b5fdd39-daee-4667-e7bd-e708dd97f089"
      },
      "execution_count": 67,
      "outputs": [
        {
          "output_type": "display_data",
          "data": {
            "text/plain": [
              "<Figure size 600x400 with 1 Axes>"
            ],
            "image/png": "[encoded data removed]"
          },
          "metadata": {}
        },
        {
          "output_type": "display_data",
          "data": {
            "text/plain": [
              "<Figure size 600x400 with 1 Axes>"
            ],
            "image/png": "[encoded data removed]"
          },
          "metadata": {}
        },
        {
          "output_type": "display_data",
          "data": {
            "text/plain": [
              "<Figure size 600x400 with 1 Axes>"
            ],
            "image/png": "[encoded data removed]"
          },
          "metadata": {}
        }
      ]
    },
    {
      "cell_type": "markdown",
      "source": [
        "Notice that in the last plot, the width of the vertical bars is not uniform: since some bins are wider than others, so are the corresponding vertical bars in the plot. This is one of the reasons why you should use `hist(column_name, ...)` instead of `bin(column_name, ...).bar(column_name)`, which would create a bar plot where all vertical bars would have the same width."
      ],
      "metadata": {
        "id": "f3XMgHGP99jL"
      }
    },
    {
      "cell_type": "markdown",
      "source": [
        "## Part 5: Calculating Min, Max, Average on Partitions based on a Column\n",
        "\n",
        "So far, we have performed calculations on all the rows and on certain sets of rows selected. For example, we know how to calculate the average delay of all flights:"
      ],
      "metadata": {
        "id": "sbjT5vnSk44e"
      }
    },
    {
      "cell_type": "code",
      "source": [
        "np.average(flights.column('Delay'))"
      ],
      "metadata": {
        "id": "5bmSe-JTC29D",
        "colab": {
          "base_uri": "https://localhost:8080/"
        },
        "outputId": "4a2ef5a9-b2e9-4bc8-be34-b1cb6c0428f7"
      },
      "execution_count": 68,
      "outputs": [
        {
          "output_type": "execute_result",
          "data": {
            "text/plain": [
              "16.658155515370705"
            ]
          },
          "metadata": {},
          "execution_count": 68
        }
      ]
    },
    {
      "cell_type": "markdown",
      "source": [
        "We also know how to calculate the average delay of flights that landed at a particular airport, e.g., Newark Liberty:"
      ],
      "metadata": {
        "id": "RlNIoGmjDMST"
      }
    },
    {
      "cell_type": "code",
      "source": [
        "np.average(flights.where('Destination', \"EWR\").column('Delay'))"
      ],
      "metadata": {
        "id": "0zqUFyFwDaje",
        "colab": {
          "base_uri": "https://localhost:8080/"
        },
        "outputId": "ac39223c-8d9e-4b0b-ad6e-81c2296daeda"
      },
      "execution_count": 69,
      "outputs": [
        {
          "output_type": "execute_result",
          "data": {
            "text/plain": [
              "18.552193645990922"
            ]
          },
          "metadata": {},
          "execution_count": 69
        }
      ]
    },
    {
      "cell_type": "markdown",
      "source": [
        "What if we had to calculate the average delay *for each airport*? We could try to write a complicated `for` loop, but there is a more convenient way: applying the function `group`.\n",
        "\n",
        "So far, we have seen how we can use the function `group(column_name)` to count how many times each particular value appears in a column. For example, we can use it to count the number of flights that landed at each airport:"
      ],
      "metadata": {
        "id": "q4BzFRHHDuJ-"
      }
    },
    {
      "cell_type": "code",
      "source": [
        "flights.group('Destination')"
      ],
      "metadata": {
        "id": "w4PmN5nnEOmo",
        "colab": {
          "base_uri": "https://localhost:8080/",
          "height": 392
        },
        "outputId": "c0515794-acec-45b7-e140-e3853a73a367"
      },
      "execution_count": 70,
      "outputs": [
        {
          "output_type": "execute_result",
          "data": {
            "text/plain": [
              "Destination | count\n",
              "ANC         | 92\n",
              "ATL         | 170\n",
              "AUS         | 284\n",
              "BOS         | 697\n",
              "BWI         | 92\n",
              "CLE         | 163\n",
              "DCA         | 92\n",
              "DEN         | 845\n",
              "DFW         | 161\n",
              "EWR         | 1322\n",
              "... (28 rows omitted)"
            ],
            "text/html": [
              "<table border=\"1\" class=\"dataframe\">\n",
              "    <thead>\n",
              "        <tr>\n",
              "            <th>Destination</th> <th>count</th>\n",
              "        </tr>\n",
              "    </thead>\n",
              "    <tbody>\n",
              "        <tr>\n",
              "            <td>ANC        </td> <td>92   </td>\n",
              "        </tr>\n",
              "        <tr>\n",
              "            <td>ATL        </td> <td>170  </td>\n",
              "        </tr>\n",
              "        <tr>\n",
              "            <td>AUS        </td> <td>284  </td>\n",
              "        </tr>\n",
              "        <tr>\n",
              "            <td>BOS        </td> <td>697  </td>\n",
              "        </tr>\n",
              "        <tr>\n",
              "            <td>BWI        </td> <td>92   </td>\n",
              "        </tr>\n",
              "        <tr>\n",
              "            <td>CLE        </td> <td>163  </td>\n",
              "        </tr>\n",
              "        <tr>\n",
              "            <td>DCA        </td> <td>92   </td>\n",
              "        </tr>\n",
              "        <tr>\n",
              "            <td>DEN        </td> <td>845  </td>\n",
              "        </tr>\n",
              "        <tr>\n",
              "            <td>DFW        </td> <td>161  </td>\n",
              "        </tr>\n",
              "        <tr>\n",
              "            <td>EWR        </td> <td>1322 </td>\n",
              "        </tr>\n",
              "    </tbody>\n",
              "</table>\n",
              "<p>... (28 rows omitted)</p>"
            ]
          },
          "metadata": {},
          "execution_count": 70
        }
      ]
    },
    {
      "cell_type": "markdown",
      "source": [
        "We see that 92 flights landed at ANC (Ted Stevens Anchorage International Airport), 170 landed at ATL (Hartsfield-Jackson Atlanta International Airport), and so on. In another word, the result tells us that there are 92 rows in the table where `Destination` is ANC, there are 170 rows where `Destination` is ATL, and so on.\n",
        "\n",
        "However, instead of just counting the number of rows with a particular value, we can also use function `group` to partition the dataset (e.g., partition by Destination airport) into subgroups (e.g. flights arriving ANC, flights arriving ATL, ...), then perform calculations over each subgroup in the partition. For example, we can then calculate the minimum delay, maximum delay, average delay for each subgroup (e.g., for flights arriving at the same destination airport)."
      ],
      "metadata": {
        "id": "QN1ixP4IEf7-"
      }
    },
    {
      "cell_type": "code",
      "source": [
        "flights.group('Destination', max)"
      ],
      "metadata": {
        "id": "QR6DQfu0ElpO",
        "colab": {
          "base_uri": "https://localhost:8080/",
          "height": 392
        },
        "outputId": "2adfba10-f01a-4f46-cd08-007d48a39b8c"
      },
      "execution_count": 71,
      "outputs": [
        {
          "output_type": "execute_result",
          "data": {
            "text/plain": [
              "Destination | Date max | Flight Number max | Delay max\n",
              "ANC         | 8/9/15   | 1257              | 185\n",
              "ATL         | 8/9/15   | 1728              | 227\n",
              "AUS         | 8/9/15   | 1914              | 382\n",
              "BOS         | 8/9/15   | 1983              | 315\n",
              "BWI         | 8/9/15   | 1947              | 157\n",
              "CLE         | 8/9/15   | 1950              | 299\n",
              "DCA         | 8/9/15   | 1999              | 208\n",
              "DEN         | 8/9/15   | 1954              | 324\n",
              "DFW         | 8/9/15   | 1850              | 209\n",
              "EWR         | 8/9/15   | 2013              | 370\n",
              "... (28 rows omitted)"
            ],
            "text/html": [
              "<table border=\"1\" class=\"dataframe\">\n",
              "    <thead>\n",
              "        <tr>\n",
              "            <th>Destination</th> <th>Date max</th> <th>Flight Number max</th> <th>Delay max</th>\n",
              "        </tr>\n",
              "    </thead>\n",
              "    <tbody>\n",
              "        <tr>\n",
              "            <td>ANC        </td> <td>8/9/15  </td> <td>1257             </td> <td>185      </td>\n",
              "        </tr>\n",
              "        <tr>\n",
              "            <td>ATL        </td> <td>8/9/15  </td> <td>1728             </td> <td>227      </td>\n",
              "        </tr>\n",
              "        <tr>\n",
              "            <td>AUS        </td> <td>8/9/15  </td> <td>1914             </td> <td>382      </td>\n",
              "        </tr>\n",
              "        <tr>\n",
              "            <td>BOS        </td> <td>8/9/15  </td> <td>1983             </td> <td>315      </td>\n",
              "        </tr>\n",
              "        <tr>\n",
              "            <td>BWI        </td> <td>8/9/15  </td> <td>1947             </td> <td>157      </td>\n",
              "        </tr>\n",
              "        <tr>\n",
              "            <td>CLE        </td> <td>8/9/15  </td> <td>1950             </td> <td>299      </td>\n",
              "        </tr>\n",
              "        <tr>\n",
              "            <td>DCA        </td> <td>8/9/15  </td> <td>1999             </td> <td>208      </td>\n",
              "        </tr>\n",
              "        <tr>\n",
              "            <td>DEN        </td> <td>8/9/15  </td> <td>1954             </td> <td>324      </td>\n",
              "        </tr>\n",
              "        <tr>\n",
              "            <td>DFW        </td> <td>8/9/15  </td> <td>1850             </td> <td>209      </td>\n",
              "        </tr>\n",
              "        <tr>\n",
              "            <td>EWR        </td> <td>8/9/15  </td> <td>2013             </td> <td>370      </td>\n",
              "        </tr>\n",
              "    </tbody>\n",
              "</table>\n",
              "<p>... (28 rows omitted)</p>"
            ]
          },
          "metadata": {},
          "execution_count": 71
        }
      ]
    },
    {
      "cell_type": "markdown",
      "source": [
        "How did function `group` compute the above table? First, it enumerates all the possible values in column `Destination` (i.e., all the airports in the data); then it groups all the rows with a particular value together (i.e., one group of rows for each airport); finally it calculates the `max` of every other column for each group. So, `Delay max` shows the maxima of the delay values for each destination airport, `Flight Number max` shows the maxima of the flight numbers for each destination airport, etc.\n",
        "\n",
        "Instead of `max`, we can specify other functions as well. For example, if we would like to compute the minimum delay value for each airport, we can apply `group('Destination', min)`:"
      ],
      "metadata": {
        "id": "cYWrgM5QEyS5"
      }
    },
    {
      "cell_type": "code",
      "source": [
        "flights.group('Destination', min)"
      ],
      "metadata": {
        "id": "fo9dJqcxE74U",
        "colab": {
          "base_uri": "https://localhost:8080/",
          "height": 392
        },
        "outputId": "f22726de-5458-48cd-a1e1-a85ea73df5d9"
      },
      "execution_count": 72,
      "outputs": [
        {
          "output_type": "execute_result",
          "data": {
            "text/plain": [
              "Destination | Date min | Flight Number min | Delay min\n",
              "ANC         | 6/1/15   | 1257              | -9\n",
              "ATL         | 6/1/15   | 362               | -9\n",
              "AUS         | 6/1/15   | 230               | -13\n",
              "BOS         | 6/1/15   | 72                | -11\n",
              "BWI         | 6/1/15   | 1087              | -9\n",
              "CLE         | 6/1/15   | 362               | -9\n",
              "DCA         | 6/1/15   | 1060              | -8\n",
              "DEN         | 6/1/15   | 72                | -13\n",
              "DFW         | 6/1/15   | 294               | -8\n",
              "EWR         | 6/1/15   | 72                | -13\n",
              "... (28 rows omitted)"
            ],
            "text/html": [
              "<table border=\"1\" class=\"dataframe\">\n",
              "    <thead>\n",
              "        <tr>\n",
              "            <th>Destination</th> <th>Date min</th> <th>Flight Number min</th> <th>Delay min</th>\n",
              "        </tr>\n",
              "    </thead>\n",
              "    <tbody>\n",
              "        <tr>\n",
              "            <td>ANC        </td> <td>6/1/15  </td> <td>1257             </td> <td>-9       </td>\n",
              "        </tr>\n",
              "        <tr>\n",
              "            <td>ATL        </td> <td>6/1/15  </td> <td>362              </td> <td>-9       </td>\n",
              "        </tr>\n",
              "        <tr>\n",
              "            <td>AUS        </td> <td>6/1/15  </td> <td>230              </td> <td>-13      </td>\n",
              "        </tr>\n",
              "        <tr>\n",
              "            <td>BOS        </td> <td>6/1/15  </td> <td>72               </td> <td>-11      </td>\n",
              "        </tr>\n",
              "        <tr>\n",
              "            <td>BWI        </td> <td>6/1/15  </td> <td>1087             </td> <td>-9       </td>\n",
              "        </tr>\n",
              "        <tr>\n",
              "            <td>CLE        </td> <td>6/1/15  </td> <td>362              </td> <td>-9       </td>\n",
              "        </tr>\n",
              "        <tr>\n",
              "            <td>DCA        </td> <td>6/1/15  </td> <td>1060             </td> <td>-8       </td>\n",
              "        </tr>\n",
              "        <tr>\n",
              "            <td>DEN        </td> <td>6/1/15  </td> <td>72               </td> <td>-13      </td>\n",
              "        </tr>\n",
              "        <tr>\n",
              "            <td>DFW        </td> <td>6/1/15  </td> <td>294              </td> <td>-8       </td>\n",
              "        </tr>\n",
              "        <tr>\n",
              "            <td>EWR        </td> <td>6/1/15  </td> <td>72               </td> <td>-13      </td>\n",
              "        </tr>\n",
              "    </tbody>\n",
              "</table>\n",
              "<p>... (28 rows omitted)</p>"
            ]
          },
          "metadata": {},
          "execution_count": 72
        }
      ]
    },
    {
      "cell_type": "markdown",
      "source": [
        "Finally, we can answer our motivating question about the average delay for each airport by inserting the function `np.average`:"
      ],
      "metadata": {
        "id": "gcEzq9BDHLMs"
      }
    },
    {
      "cell_type": "code",
      "source": [
        "flights.group('Destination', np.average)"
      ],
      "metadata": {
        "id": "kHq1lAdXHQqx",
        "colab": {
          "base_uri": "https://localhost:8080/",
          "height": 392
        },
        "outputId": "9c242d1a-1c2c-4c10-ddaa-72329f37a9da"
      },
      "execution_count": 73,
      "outputs": [
        {
          "output_type": "execute_result",
          "data": {
            "text/plain": [
              "Destination | Date average | Flight Number average | Delay average\n",
              "ANC         |              | 1257                  | 15.337\n",
              "ATL         |              | 1604.79               | 15.4118\n",
              "AUS         |              | 741.796               | 15.2254\n",
              "BOS         |              | 1129.56               | 16.8092\n",
              "BWI         |              | 1663.73               | 18.0978\n",
              "CLE         |              | 1414.55               | 21.2515\n",
              "DCA         |              | 1560.15               | 24.3804\n",
              "DEN         |              | 954.182               | 13.7183\n",
              "DFW         |              | 737.696               | 19.6211\n",
              "EWR         |              | 1332.76               | 18.5522\n",
              "... (28 rows omitted)"
            ],
            "text/html": [
              "<table border=\"1\" class=\"dataframe\">\n",
              "    <thead>\n",
              "        <tr>\n",
              "            <th>Destination</th> <th>Date average</th> <th>Flight Number average</th> <th>Delay average</th>\n",
              "        </tr>\n",
              "    </thead>\n",
              "    <tbody>\n",
              "        <tr>\n",
              "            <td>ANC        </td> <td>            </td> <td>1257                 </td> <td>15.337       </td>\n",
              "        </tr>\n",
              "        <tr>\n",
              "            <td>ATL        </td> <td>            </td> <td>1604.79              </td> <td>15.4118      </td>\n",
              "        </tr>\n",
              "        <tr>\n",
              "            <td>AUS        </td> <td>            </td> <td>741.796              </td> <td>15.2254      </td>\n",
              "        </tr>\n",
              "        <tr>\n",
              "            <td>BOS        </td> <td>            </td> <td>1129.56              </td> <td>16.8092      </td>\n",
              "        </tr>\n",
              "        <tr>\n",
              "            <td>BWI        </td> <td>            </td> <td>1663.73              </td> <td>18.0978      </td>\n",
              "        </tr>\n",
              "        <tr>\n",
              "            <td>CLE        </td> <td>            </td> <td>1414.55              </td> <td>21.2515      </td>\n",
              "        </tr>\n",
              "        <tr>\n",
              "            <td>DCA        </td> <td>            </td> <td>1560.15              </td> <td>24.3804      </td>\n",
              "        </tr>\n",
              "        <tr>\n",
              "            <td>DEN        </td> <td>            </td> <td>954.182              </td> <td>13.7183      </td>\n",
              "        </tr>\n",
              "        <tr>\n",
              "            <td>DFW        </td> <td>            </td> <td>737.696              </td> <td>19.6211      </td>\n",
              "        </tr>\n",
              "        <tr>\n",
              "            <td>EWR        </td> <td>            </td> <td>1332.76              </td> <td>18.5522      </td>\n",
              "        </tr>\n",
              "    </tbody>\n",
              "</table>\n",
              "<p>... (28 rows omitted)</p>"
            ]
          },
          "metadata": {},
          "execution_count": 73
        }
      ]
    },
    {
      "cell_type": "markdown",
      "source": [
        "Note that as usual, we can combine function `group` with other table functions. For example, we can obtain a clearer output by first selecting only columns `Destination` and `Delay`:"
      ],
      "metadata": {
        "id": "WMfSD3DjHh5f"
      }
    },
    {
      "cell_type": "code",
      "source": [
        "flights.select('Destination', 'Delay').group('Destination', max)"
      ],
      "metadata": {
        "id": "nCagfoFaH0ro",
        "colab": {
          "base_uri": "https://localhost:8080/",
          "height": 392
        },
        "outputId": "5d0df478-be7c-465a-d1b2-d14a44219c48"
      },
      "execution_count": 75,
      "outputs": [
        {
          "output_type": "execute_result",
          "data": {
            "text/plain": [
              "Destination | Delay max\n",
              "ANC         | 185\n",
              "ATL         | 227\n",
              "AUS         | 382\n",
              "BOS         | 315\n",
              "BWI         | 157\n",
              "CLE         | 299\n",
              "DCA         | 208\n",
              "DEN         | 324\n",
              "DFW         | 209\n",
              "EWR         | 370\n",
              "... (28 rows omitted)"
            ],
            "text/html": [
              "<table border=\"1\" class=\"dataframe\">\n",
              "    <thead>\n",
              "        <tr>\n",
              "            <th>Destination</th> <th>Delay max</th>\n",
              "        </tr>\n",
              "    </thead>\n",
              "    <tbody>\n",
              "        <tr>\n",
              "            <td>ANC        </td> <td>185      </td>\n",
              "        </tr>\n",
              "        <tr>\n",
              "            <td>ATL        </td> <td>227      </td>\n",
              "        </tr>\n",
              "        <tr>\n",
              "            <td>AUS        </td> <td>382      </td>\n",
              "        </tr>\n",
              "        <tr>\n",
              "            <td>BOS        </td> <td>315      </td>\n",
              "        </tr>\n",
              "        <tr>\n",
              "            <td>BWI        </td> <td>157      </td>\n",
              "        </tr>\n",
              "        <tr>\n",
              "            <td>CLE        </td> <td>299      </td>\n",
              "        </tr>\n",
              "        <tr>\n",
              "            <td>DCA        </td> <td>208      </td>\n",
              "        </tr>\n",
              "        <tr>\n",
              "            <td>DEN        </td> <td>324      </td>\n",
              "        </tr>\n",
              "        <tr>\n",
              "            <td>DFW        </td> <td>209      </td>\n",
              "        </tr>\n",
              "        <tr>\n",
              "            <td>EWR        </td> <td>370      </td>\n",
              "        </tr>\n",
              "    </tbody>\n",
              "</table>\n",
              "<p>... (28 rows omitted)</p>"
            ]
          },
          "metadata": {},
          "execution_count": 75
        }
      ]
    },
    {
      "cell_type": "markdown",
      "source": [
        "### Problem 4: Average Delay at Los Angels International Airport (LAX) [0.5 points]\n",
        "\n",
        "Write code that\n",
        "- selects rows where the flight destination is `LAX`,\n",
        "- selects the two columns that contain the dates and delays of the flights (note that this must be done after the previous step),\n",
        "- calculates the average delay for each date (using function `group`).\n",
        "\n",
        "*Hint: After the first step, the correct table has 929 rows. After the last step, the correct table has 92 rows.*"
      ],
      "metadata": {
        "id": "rNQD87P-ldHi"
      }
    },
    {
      "cell_type": "code",
      "source": [
        "LA_flights = flights.where(\"Destination\", 'LAX')"
      ],
      "metadata": {
        "id": "XQVjeJdlcDH7"
      },
      "execution_count": 74,
      "outputs": []
    },
    {
      "cell_type": "code",
      "source": [
        "LA_flights.show(5)"
      ],
      "metadata": {
        "id": "RL3Pj6JNcQpz",
        "colab": {
          "base_uri": "https://localhost:8080/",
          "height": 235
        },
        "outputId": "3eb2641a-f078-4ace-ca9e-582ab59192a5"
      },
      "execution_count": 76,
      "outputs": [
        {
          "output_type": "display_data",
          "data": {
            "text/plain": [
              "<IPython.core.display.HTML object>"
            ],
            "text/html": [
              "<table border=\"1\" class=\"dataframe\">\n",
              "    <thead>\n",
              "        <tr>\n",
              "            <th>Date</th> <th>Flight Number</th> <th>Destination</th> <th>Delay</th>\n",
              "        </tr>\n",
              "    </thead>\n",
              "    <tbody>\n",
              "        <tr>\n",
              "            <td>6/1/15</td> <td>433          </td> <td>LAX        </td> <td>10   </td>\n",
              "        </tr>\n",
              "        <tr>\n",
              "            <td>6/1/15</td> <td>478          </td> <td>LAX        </td> <td>0    </td>\n",
              "        </tr>\n",
              "        <tr>\n",
              "            <td>6/1/15</td> <td>525          </td> <td>LAX        </td> <td>-4   </td>\n",
              "        </tr>\n",
              "        <tr>\n",
              "            <td>6/1/15</td> <td>769          </td> <td>LAX        </td> <td>55   </td>\n",
              "        </tr>\n",
              "        <tr>\n",
              "            <td>6/1/15</td> <td>814          </td> <td>LAX        </td> <td>-3   </td>\n",
              "        </tr>\n",
              "    </tbody>\n",
              "</table>\n",
              "<p>... (924 rows omitted)</p>"
            ]
          },
          "metadata": {}
        }
      ]
    },
    {
      "cell_type": "code",
      "source": [
        "LA_date_delay= LA_flights.select('Date', 'Delay')"
      ],
      "metadata": {
        "id": "r_K28_RlccAY"
      },
      "execution_count": 77,
      "outputs": []
    },
    {
      "cell_type": "code",
      "source": [
        "LA_date_delay.group('Date', np.average)"
      ],
      "metadata": {
        "id": "VGENA43RcwJK",
        "colab": {
          "base_uri": "https://localhost:8080/",
          "height": 392
        },
        "outputId": "3c001513-fe1a-4606-fbf8-09634f451064"
      },
      "execution_count": 79,
      "outputs": [
        {
          "output_type": "execute_result",
          "data": {
            "text/plain": [
              "Date    | Delay average\n",
              "6/1/15  | 34.3636\n",
              "6/10/15 | 7.6\n",
              "6/11/15 | 1.7\n",
              "6/12/15 | 10.6\n",
              "6/13/15 | 16.4444\n",
              "6/14/15 | 2.77778\n",
              "6/15/15 | 41.8\n",
              "6/16/15 | 5.9\n",
              "6/17/15 | 13.4\n",
              "6/18/15 | 46.4\n",
              "... (82 rows omitted)"
            ],
            "text/html": [
              "<table border=\"1\" class=\"dataframe\">\n",
              "    <thead>\n",
              "        <tr>\n",
              "            <th>Date</th> <th>Delay average</th>\n",
              "        </tr>\n",
              "    </thead>\n",
              "    <tbody>\n",
              "        <tr>\n",
              "            <td>6/1/15 </td> <td>34.3636      </td>\n",
              "        </tr>\n",
              "        <tr>\n",
              "            <td>6/10/15</td> <td>7.6          </td>\n",
              "        </tr>\n",
              "        <tr>\n",
              "            <td>6/11/15</td> <td>1.7          </td>\n",
              "        </tr>\n",
              "        <tr>\n",
              "            <td>6/12/15</td> <td>10.6         </td>\n",
              "        </tr>\n",
              "        <tr>\n",
              "            <td>6/13/15</td> <td>16.4444      </td>\n",
              "        </tr>\n",
              "        <tr>\n",
              "            <td>6/14/15</td> <td>2.77778      </td>\n",
              "        </tr>\n",
              "        <tr>\n",
              "            <td>6/15/15</td> <td>41.8         </td>\n",
              "        </tr>\n",
              "        <tr>\n",
              "            <td>6/16/15</td> <td>5.9          </td>\n",
              "        </tr>\n",
              "        <tr>\n",
              "            <td>6/17/15</td> <td>13.4         </td>\n",
              "        </tr>\n",
              "        <tr>\n",
              "            <td>6/18/15</td> <td>46.4         </td>\n",
              "        </tr>\n",
              "    </tbody>\n",
              "</table>\n",
              "<p>... (82 rows omitted)</p>"
            ]
          },
          "metadata": {},
          "execution_count": 79
        }
      ]
    },
    {
      "cell_type": "markdown",
      "source": [
        "# Part 6: Size of Sample: Law of Large Numbers\n",
        "\n",
        "[Textbook Description](https://inferentialthinking.com/chapters/10/2/Sampling_from_a_Population.html)"
      ],
      "metadata": {
        "id": "MrpHLZuOxvvm"
      }
    },
    {
      "cell_type": "markdown",
      "source": [
        "### Problem 5: Experiment of Large Numbers [0.5 points]\n",
        "\n",
        "This problem is similar to the code in ``Topic3_demo``.\n",
        "- (A) Write the code to simulate an experiment that has two fortune wheels, each wheel has 100 numbers on it. In each run of the game, you turn both wheels randomly. After each wheel stops, you add the two numbers each wheel point to.\n",
        "- (B) Write the code to repeat the experiment N times, where N is the input parameter, and save the results in a Table.\n",
        "- (C) Repeat the experiment 100 times, plot the distribution of the value (addition of two random\n",
        "numbers pointed by two wheels) in 20 bins.\n",
        "- (D) Repeat the experiment 1000 times, plot the distribution of the value in 20 bins.\n",
        "- (E) Discuss your finding by comparing the result of C and D, and their relationship to **Law of Large Numbers**."
      ],
      "metadata": {
        "id": "6u9yQlsJNMJB"
      }
    },
    {
      "cell_type": "code",
      "source": [
        "def spinTheWheel():\n",
        "  number = np.array([], dtype=int)\n",
        "  for i in np.arange(1, 101):\n",
        "    number = np.append(number, i)\n",
        "  wheel1 = np.random.choice(number)\n",
        "  wheel2 = np.random.choice(number)\n",
        "  return wheel1 + wheel2\n",
        "print(spinTheWheel())"
      ],
      "metadata": {
        "id": "iy4Z1w1OPKUe",
        "colab": {
          "base_uri": "https://localhost:8080/"
        },
        "outputId": "bddc09be-bc94-43de-91ee-40e795341ecb"
      },
      "execution_count": 127,
      "outputs": [
        {
          "output_type": "stream",
          "name": "stdout",
          "text": [
            "133\n"
          ]
        }
      ]
    },
    {
      "cell_type": "code",
      "source": [
        "def experiment(N, table):\n",
        "  for i in np.arange(N):\n",
        "    table.append([spinTheWheel()])"
      ],
      "metadata": {
        "id": "L6ZYWzB0NKNT"
      },
      "execution_count": 130,
      "outputs": []
    },
    {
      "cell_type": "code",
      "source": [
        "N = 100\n",
        "sum100 = Table(['Sum'])\n",
        "experiment(100, sum100)\n",
        "sum100.hist('Sum', bins = 20)"
      ],
      "metadata": {
        "colab": {
          "base_uri": "https://localhost:8080/",
          "height": 410
        },
        "id": "5R-Wd8ImOfEa",
        "outputId": "e0a01835-5283-43ab-9dbd-ecf764f7b88b"
      },
      "execution_count": 132,
      "outputs": [
        {
          "output_type": "display_data",
          "data": {
            "text/plain": [
              "<Figure size 600x400 with 1 Axes>"
            ],
            "image/png": "[encoded data removed]"
          },
          "metadata": {}
        }
      ]
    },
    {
      "cell_type": "code",
      "source": [
        "N = 1000\n",
        "sum1000 = Table(['Sum'])\n",
        "experiment(1000, sum1000)\n",
        "sum1000.hist('Sum', bins = 20)"
      ],
      "metadata": {
        "colab": {
          "base_uri": "https://localhost:8080/",
          "height": 410
        },
        "id": "Im4vI97EYM1t",
        "outputId": "79997fc6-6d57-4a7a-fc9e-1f5218e3b824"
      },
      "execution_count": 133,
      "outputs": [
        {
          "output_type": "display_data",
          "data": {
            "text/plain": [
              "<Figure size 600x400 with 1 Axes>"
            ],
            "image/png": "[encoded data removed]"
          },
          "metadata": {}
        }
      ]
    },
    {
      "cell_type": "markdown",
      "source": [
        "### Answer for Problem 6 (E):\n",
        "In the histogram of C, we can see some normal distribution with most of the outliers being found in the lower and higher end of values. Most of the results tend to be placed in the middle near the 75 - 125. However, there is a gap in the 100 value area, going against the usual normal distribution model. This calls into question whether or not we are really seeing a 'true' value.\n",
        "\n",
        "In the histogram of D, the normal distribution is much more pronounced, and we are able to see that there may be a 'true' value as most results fall in the bin right above the 100 value.\n",
        "\n"
      ],
      "metadata": {
        "id": "DY-bw9fjhjH3"
      }
    }
  ]
}