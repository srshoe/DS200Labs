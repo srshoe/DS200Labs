{
  "cells": [
    {
      "cell_type": "markdown",
      "id": "bb48535e-650b-4137-80bc-6ae5ae30d114",
      "metadata": {
        "id": "bb48535e-650b-4137-80bc-6ae5ae30d114"
      },
      "source": [
        "## DS200: Introduction to Data Sciences\n",
        "# Lab Assignment 1: Introduction to Python (2 points)\n",
        "\n",
        "##  Due: midnight September 4th (Wed)\n",
        "\n",
        "## Prelude: Jupyter Notebooks\n",
        "\n",
        "Jupyter Notebooks (like the one you are working on right now) allow Python code and formatted text to be combined into a single document. A notebook consists of rectangular sections, called \"cells.\" There are two types of cells: code cells and text cells. Text cells (like this one) can be edited by double-clicking on them. They are written in a simple format, called [Markdown](https://www.markdownguide.org/cheat-sheet/), which allows adding formatting to the text, such as section headers, links, bold font, etc.\n",
        "\n",
        "Code cell, such as the one below, enable writing and executing code in the Python 3 language. Select the cell below and click the ▶ icon or hold down the shift key and then press the enter or return key to run it."
      ]
    },
    {
      "cell_type": "code",
      "execution_count": 1,
      "id": "87f6c6e7-5723-4a6e-9360-69d2b1b59cf3",
      "metadata": {
        "collapsed": true,
        "id": "87f6c6e7-5723-4a6e-9360-69d2b1b59cf3",
        "colab": {
          "base_uri": "https://localhost:8080/"
        },
        "outputId": "bcdab40c-d1fe-43cf-c199-dfd1b611fbd1"
      },
      "outputs": [
        {
          "output_type": "stream",
          "name": "stdout",
          "text": [
            "Hello World!\n"
          ]
        }
      ],
      "source": [
        "print(\"Hello \" + \"World!\")"
      ]
    },
    {
      "cell_type": "markdown",
      "source": [
        "### Problem 1A: Print your name (0.2 points)"
      ],
      "metadata": {
        "id": "kjhChdS3pjUX"
      },
      "id": "kjhChdS3pjUX"
    },
    {
      "cell_type": "code",
      "source": [
        "# enter a print statement that prints your first name, followed by your last name.\n",
        "print(\"Victor \" + \"Xu\")"
      ],
      "metadata": {
        "id": "q53bPydCpyS9",
        "colab": {
          "base_uri": "https://localhost:8080/"
        },
        "outputId": "79d0f75c-f8e1-4108-a77a-451a6a14a10b"
      },
      "id": "q53bPydCpyS9",
      "execution_count": 3,
      "outputs": [
        {
          "output_type": "stream",
          "name": "stdout",
          "text": [
            "Victor Xu\n"
          ]
        }
      ]
    },
    {
      "cell_type": "markdown",
      "source": [],
      "metadata": {
        "id": "KnyA_bLJPoc3"
      },
      "id": "KnyA_bLJPoc3"
    },
    {
      "cell_type": "markdown",
      "id": "18d9c7dd-cbfb-45c5-a35f-4e99ffdd96f1",
      "metadata": {
        "id": "18d9c7dd-cbfb-45c5-a35f-4e99ffdd96f1"
      },
      "source": [
        "## Part 1: Python Expressions (Chapter 3.1)\n",
        "\n",
        "You can enter mathematical expressions into a code cell. When you run the cell, the notebook will display the result of the computation:"
      ]
    },
    {
      "cell_type": "code",
      "execution_count": null,
      "id": "10d0650a-6849-4114-8d10-c19eb6516148",
      "metadata": {
        "id": "10d0650a-6849-4114-8d10-c19eb6516148"
      },
      "outputs": [],
      "source": [
        "6 * 7"
      ]
    },
    {
      "cell_type": "markdown",
      "id": "cc1da576-ce1b-4451-8f3f-7e6377f712ca",
      "metadata": {
        "id": "cc1da576-ce1b-4451-8f3f-7e6377f712ca"
      },
      "source": [
        "You can enter multiple expressions on separate lines, but the notebook will display the value of only the last expression:"
      ]
    },
    {
      "cell_type": "code",
      "execution_count": null,
      "id": "7ac33d8e-18a2-4f24-9226-7c847e83c0b9",
      "metadata": {
        "id": "7ac33d8e-18a2-4f24-9226-7c847e83c0b9"
      },
      "outputs": [],
      "source": [
        "10 * 10\n",
        "6 * 7"
      ]
    },
    {
      "cell_type": "markdown",
      "id": "138d3e0e-b722-49b4-b00c-d3c085ae4b40",
      "metadata": {
        "id": "138d3e0e-b722-49b4-b00c-d3c085ae4b40"
      },
      "source": [
        "You can also add comments. These will simply be ignored by Python, but they can help with organizing your code:"
      ]
    },
    {
      "cell_type": "code",
      "execution_count": null,
      "id": "d13acc2d-256a-469b-83af-582029209916",
      "metadata": {
        "id": "d13acc2d-256a-469b-83af-582029209916"
      },
      "outputs": [],
      "source": [
        "# this is a comment\n",
        "6 * 7 # everything in a line after the # character is ignored"
      ]
    },
    {
      "cell_type": "markdown",
      "id": "284215fd-758e-40b1-aca2-59f295f072b8",
      "metadata": {
        "id": "284215fd-758e-40b1-aca2-59f295f072b8"
      },
      "source": [
        "You can use common operators, including addition +, subtraction -, multiplication *, division /, and remainder %. For exponentiation, use the ** operator (since code must unformatted, plain text, we cannot use superscripts of subscripts). Mathematical operations are executed using the conventional rules of precedence. So, the value of the following expression is 24 (not 42):"
      ]
    },
    {
      "cell_type": "code",
      "execution_count": null,
      "id": "0115840b-21dc-4618-bdb1-084f04d43d15",
      "metadata": {
        "id": "0115840b-21dc-4618-bdb1-084f04d43d15"
      },
      "outputs": [],
      "source": [
        "3 + 3 * 7"
      ]
    },
    {
      "cell_type": "markdown",
      "id": "91c2d780-ec0a-443d-8177-c5b9ce89cf3f",
      "metadata": {
        "id": "91c2d780-ec0a-443d-8177-c5b9ce89cf3f"
      },
      "source": [
        "We can use parentheses to change the order of operations, so the value of the following expression is 42:"
      ]
    },
    {
      "cell_type": "code",
      "execution_count": null,
      "id": "d768081e-9126-46c6-81be-ce97990bfc93",
      "metadata": {
        "id": "d768081e-9126-46c6-81be-ce97990bfc93"
      },
      "outputs": [],
      "source": [
        "(3 + 3) * 7"
      ]
    },
    {
      "cell_type": "markdown",
      "id": "0d56c8c8-f2d2-4fdd-bd93-1d5c043ce23b",
      "metadata": {
        "id": "0d56c8c8-f2d2-4fdd-bd93-1d5c043ce23b"
      },
      "source": [
        "Note that the syntax is very strict. For example, when writing mathematical formulae, we often omit the operator for multiplication if it is obvious from the context. However, Python (like all other programming languages) is strict, so running the following expression will result in an error message:"
      ]
    },
    {
      "cell_type": "code",
      "execution_count": null,
      "id": "0f9d3393-dee3-4e6c-8861-17f530145807",
      "metadata": {
        "id": "0f9d3393-dee3-4e6c-8861-17f530145807"
      },
      "outputs": [],
      "source": [
        "7 (3 + 3)"
      ]
    },
    {
      "cell_type": "markdown",
      "id": "0e8c9b35-9f17-4b31-99d4-2fb030ea7469",
      "metadata": {
        "id": "0e8c9b35-9f17-4b31-99d4-2fb030ea7469"
      },
      "source": [
        "We can fix this by adding the required operator:"
      ]
    },
    {
      "cell_type": "code",
      "execution_count": null,
      "id": "f6683d08-c331-464d-9107-4fe4c6d4163d",
      "metadata": {
        "id": "f6683d08-c331-464d-9107-4fe4c6d4163d"
      },
      "outputs": [],
      "source": [
        "7 * (3 + 3)"
      ]
    },
    {
      "cell_type": "markdown",
      "id": "cb3369a4-3fa5-4157-98cf-41fa97c900d9",
      "metadata": {
        "id": "cb3369a4-3fa5-4157-98cf-41fa97c900d9"
      },
      "source": [
        "### Problem 1B: Seconds in a Year (0.2 points)\n",
        "Write an expression that calculates how many seconds there are in a year (assuming that a year is always 365 days long):"
      ]
    },
    {
      "cell_type": "code",
      "execution_count": null,
      "id": "635c9247-03ae-414b-bd25-9cf8220d65a1",
      "metadata": {
        "id": "635c9247-03ae-414b-bd25-9cf8220d65a1"
      },
      "outputs": [],
      "source": [
        "365 * 24 * 60 * 60"
      ]
    },
    {
      "cell_type": "markdown",
      "id": "d80fb7ca-5717-4de0-9b78-74c6d3f386e3",
      "metadata": {
        "id": "d80fb7ca-5717-4de0-9b78-74c6d3f386e3"
      },
      "source": [
        "## Part 2: Variables (Chapter 3.2)\n",
        "\n",
        "You can assign values to variables using the = operator (note that this is different from **testing equality**, which we will discuss later). On the left-hand side, specify the name of the variable, and on the right-hand side, specify the value:"
      ]
    },
    {
      "cell_type": "code",
      "execution_count": null,
      "id": "22eb5dd8-6985-4134-909d-8dd0dbd659ee",
      "metadata": {
        "id": "22eb5dd8-6985-4134-909d-8dd0dbd659ee"
      },
      "outputs": [],
      "source": [
        "price = 50\n",
        "quantity = 20\n",
        "price * quantity"
      ]
    },
    {
      "cell_type": "markdown",
      "id": "05955ed7-4ebe-44bb-b14c-5a34e072f403",
      "metadata": {
        "id": "05955ed7-4ebe-44bb-b14c-5a34e072f403"
      },
      "source": [
        "The value on the right-hand side can be specified using any expression, even ones that include other variables:"
      ]
    },
    {
      "cell_type": "code",
      "execution_count": null,
      "id": "94afa1e3-cd40-4973-bf48-e1b86d28bd4a",
      "metadata": {
        "id": "94afa1e3-cd40-4973-bf48-e1b86d28bd4a"
      },
      "outputs": [],
      "source": [
        "discount = 0.1\n",
        "payment = (price * quantity) * (1 - discount)\n",
        "payment"
      ]
    },
    {
      "cell_type": "markdown",
      "id": "4d0b5c2f-b3d5-4399-bc20-9595ac25e4e4",
      "metadata": {
        "id": "4d0b5c2f-b3d5-4399-bc20-9595ac25e4e4"
      },
      "source": [
        "You can also change the value of a variable:"
      ]
    },
    {
      "cell_type": "code",
      "execution_count": null,
      "id": "bb87f5bd-200f-4328-a821-ffbe69ec65b6",
      "metadata": {
        "id": "bb87f5bd-200f-4328-a821-ffbe69ec65b6"
      },
      "outputs": [],
      "source": [
        "quantity = 10\n",
        "payment = price * quantity\n",
        "payment"
      ]
    },
    {
      "cell_type": "markdown",
      "id": "b52dc591-0dc9-4992-897b-46f8a79eb380",
      "metadata": {
        "id": "b52dc591-0dc9-4992-897b-46f8a79eb380"
      },
      "source": [
        "Note that the order of the cells in the notebook does not matter; what matters is the **order in which you execute them**. So, if you run the previous cell with the discounted value again, you will get 450 instead of 900 because the value of the `quantity` variable has changed.\n",
        "\n",
        "The name of a variable must start with a letter, but it can contain both letters and numbers. However, the name cannot contain any whitespace; instead, you can use the underscore character _. So, the following are all valid names:"
      ]
    },
    {
      "cell_type": "code",
      "execution_count": null,
      "id": "151a1b80-bf5f-4e90-a3cf-b32deadda2e1",
      "metadata": {
        "id": "151a1b80-bf5f-4e90-a3cf-b32deadda2e1"
      },
      "outputs": [],
      "source": [
        "price_2022 = 1000\n",
        "price_2023 = 1080\n",
        "price_increase = price_2023 - price_2022\n",
        "price_increase"
      ]
    },
    {
      "cell_type": "markdown",
      "id": "b51a43cf-3d79-4a06-bec3-17e6bca9a14d",
      "metadata": {
        "id": "b51a43cf-3d79-4a06-bec3-17e6bca9a14d"
      },
      "source": [
        "### Problem 2: Fahrenheit to Celsius (0.2 points)\n",
        "\n",
        "Consider the following temperature, given in Fahrenheit:"
      ]
    },
    {
      "cell_type": "code",
      "execution_count": 6,
      "id": "894a217a-8c02-4c7d-9a7b-7754437583f3",
      "metadata": {
        "id": "894a217a-8c02-4c7d-9a7b-7754437583f3"
      },
      "outputs": [],
      "source": [
        "temperature_in_Fahrenheit = 80"
      ]
    },
    {
      "cell_type": "markdown",
      "id": "7e8d2f5f-2609-4452-9d84-30a3d6279781",
      "metadata": {
        "id": "7e8d2f5f-2609-4452-9d84-30a3d6279781"
      },
      "source": [
        "You can convert a Fahrenheit value to Celsius by subtracting 32 and multiplying by 5/9. Write three expressions that (1) assign 32 to a variable named `term` (2) assign 5/9 to a variable named `fact` and (3) assign the correct Celsius value to a variable named `temperature_in_Celsius`, computed using the first two variables:"
      ]
    },
    {
      "cell_type": "code",
      "execution_count": 7,
      "id": "2c076295-42e4-4ee4-bfaa-e4639d294bca",
      "metadata": {
        "id": "2c076295-42e4-4ee4-bfaa-e4639d294bca"
      },
      "outputs": [],
      "source": [
        "term = 32\n",
        "fact = 5/9\n",
        "temperature_in_Celsius = (temperature_in_Fahrenheit - term) * fact"
      ]
    },
    {
      "cell_type": "markdown",
      "id": "8e5fd22b-dbd0-470f-8c04-063a6b01a835",
      "metadata": {
        "id": "8e5fd22b-dbd0-470f-8c04-063a6b01a835"
      },
      "source": [
        "If your code is correct, the following cell should display a value around 26.67:"
      ]
    },
    {
      "cell_type": "code",
      "execution_count": 8,
      "id": "466f7ce2-3b49-4736-8566-c41856002c8d",
      "metadata": {
        "id": "466f7ce2-3b49-4736-8566-c41856002c8d",
        "colab": {
          "base_uri": "https://localhost:8080/"
        },
        "outputId": "29b302f8-7834-4183-ef38-0765c48617c9"
      },
      "outputs": [
        {
          "output_type": "execute_result",
          "data": {
            "text/plain": [
              "26.666666666666668"
            ]
          },
          "metadata": {},
          "execution_count": 8
        }
      ],
      "source": [
        "temperature_in_Celsius"
      ]
    },
    {
      "cell_type": "markdown",
      "id": "e669f56e-e0e6-48ca-a639-7b24b03f067b",
      "metadata": {
        "id": "e669f56e-e0e6-48ca-a639-7b24b03f067b"
      },
      "source": [
        "## Part 3: Functions (Chapter 3.3)\n",
        "\n",
        "In Python, you can also use common mathematical functions, which work as you would expect:"
      ]
    },
    {
      "cell_type": "code",
      "execution_count": null,
      "id": "5652b36b-51ae-4663-b7b1-eb3c48e83c27",
      "metadata": {
        "id": "5652b36b-51ae-4663-b7b1-eb3c48e83c27"
      },
      "outputs": [],
      "source": [
        "round(1.5)"
      ]
    },
    {
      "cell_type": "code",
      "execution_count": null,
      "id": "48ba7f26-d029-4b9f-9b4d-6a2203eeee3f",
      "metadata": {
        "id": "48ba7f26-d029-4b9f-9b4d-6a2203eeee3f"
      },
      "outputs": [],
      "source": [
        "abs(-1)"
      ]
    },
    {
      "cell_type": "markdown",
      "id": "f947d67e-1f9e-4424-8d00-b8a85f160141",
      "metadata": {
        "id": "f947d67e-1f9e-4424-8d00-b8a85f160141"
      },
      "source": [
        "Some functions take multiple arguments:"
      ]
    },
    {
      "cell_type": "code",
      "execution_count": 9,
      "id": "42a54d96-28c4-4926-83d0-c885379055e9",
      "metadata": {
        "id": "42a54d96-28c4-4926-83d0-c885379055e9",
        "colab": {
          "base_uri": "https://localhost:8080/"
        },
        "outputId": "16e54350-47bd-47cd-9fc9-c92085ff29c1"
      },
      "outputs": [
        {
          "output_type": "execute_result",
          "data": {
            "text/plain": [
              "1"
            ]
          },
          "metadata": {},
          "execution_count": 9
        }
      ],
      "source": [
        "min(1, 2, 3)"
      ]
    },
    {
      "cell_type": "code",
      "execution_count": null,
      "id": "a23b952e-911d-4abd-964f-5f9981b2af84",
      "metadata": {
        "id": "a23b952e-911d-4abd-964f-5f9981b2af84"
      },
      "outputs": [],
      "source": [
        "max(1, 2, 3)"
      ]
    },
    {
      "cell_type": "markdown",
      "id": "9270ffcc-f3fa-474b-a8f0-aced4d51614d",
      "metadata": {
        "id": "9270ffcc-f3fa-474b-a8f0-aced4d51614d"
      },
      "source": [
        "You can also use the value of one function as an argument for another function:"
      ]
    },
    {
      "cell_type": "code",
      "execution_count": null,
      "id": "6d1d4c0f-d967-4fda-a954-72c0477917d4",
      "metadata": {
        "id": "6d1d4c0f-d967-4fda-a954-72c0477917d4"
      },
      "outputs": [],
      "source": [
        "min(abs(-10), abs(5), abs(15))"
      ]
    },
    {
      "cell_type": "markdown",
      "id": "5f289b43-0253-4faf-a886-0f7a1e0f2300",
      "metadata": {
        "id": "5f289b43-0253-4faf-a886-0f7a1e0f2300"
      },
      "source": [
        "For more advanced mathematical functions, we can import the `math` module. For now, you can think of a module as a collection of functions. After importing the `math` module, you can use its functions in your code cells:"
      ]
    },
    {
      "cell_type": "code",
      "execution_count": 11,
      "id": "b2a79120-25f3-4180-aa38-b73904558174",
      "metadata": {
        "id": "b2a79120-25f3-4180-aa38-b73904558174",
        "colab": {
          "base_uri": "https://localhost:8080/"
        },
        "outputId": "aed000dc-8bd8-48b3-ee59-57e679a4555b"
      },
      "outputs": [
        {
          "output_type": "execute_result",
          "data": {
            "text/plain": [
              "-0.9999987317275395"
            ]
          },
          "metadata": {},
          "execution_count": 11
        }
      ],
      "source": [
        "import math\n",
        "math.cos(3.14)"
      ]
    },
    {
      "cell_type": "markdown",
      "id": "d0ab120a-f51a-4047-a184-3150e053ce2f",
      "metadata": {
        "id": "d0ab120a-f51a-4047-a184-3150e053ce2f"
      },
      "source": [
        "Once you have imported a module, it remains imported, similar to how variables retain their values (until your restart your notebook):"
      ]
    },
    {
      "cell_type": "code",
      "execution_count": null,
      "id": "25628040-39d1-4ef6-9fbc-6f375781d1b1",
      "metadata": {
        "id": "25628040-39d1-4ef6-9fbc-6f375781d1b1"
      },
      "outputs": [],
      "source": [
        "math.sin(1.57)"
      ]
    },
    {
      "cell_type": "markdown",
      "id": "5a97c07d-2aee-4ed7-b3dc-8c6832396726",
      "metadata": {
        "id": "5a97c07d-2aee-4ed7-b3dc-8c6832396726"
      },
      "source": [
        "We will use other modules as well later today."
      ]
    },
    {
      "cell_type": "markdown",
      "id": "8d9056f2-8981-4861-a5a2-37a8dc59761d",
      "metadata": {
        "id": "8d9056f2-8981-4861-a5a2-37a8dc59761d"
      },
      "source": [
        "### Problem 3: Value Clipping (0.2 points)\n",
        "\n",
        "In data science, sometimes we have to ensure that values fall within a certain range, so we may need to \"clip\" any values that fall outside that range. Consider the following value:"
      ]
    },
    {
      "cell_type": "code",
      "execution_count": 88,
      "id": "fd030f27-518e-4a5a-93bf-0f9588ebb0e7",
      "metadata": {
        "id": "fd030f27-518e-4a5a-93bf-0f9588ebb0e7"
      },
      "outputs": [],
      "source": [
        "value = 0.5"
      ]
    },
    {
      "cell_type": "markdown",
      "id": "784a6b48-bb9b-4aa3-b1c6-0868aa4ea207",
      "metadata": {
        "id": "784a6b48-bb9b-4aa3-b1c6-0868aa4ea207"
      },
      "source": [
        "Write an expression that uses the `min` and `max` functions to display\n",
        "- 0 if the value is less than 0\n",
        "- 1 if the value is greater than 1\n",
        "- value itself if the value is between 0 and 1.\n",
        "\n",
        "Test your expression a few times by changing the value in the previous cell and recalculating your expression."
      ]
    },
    {
      "cell_type": "code",
      "execution_count": 87,
      "id": "e5f4c72f-74ec-4f5b-85b6-438a417a1560",
      "metadata": {
        "id": "e5f4c72f-74ec-4f5b-85b6-438a417a1560",
        "colab": {
          "base_uri": "https://localhost:8080/"
        },
        "outputId": "63d436de-1650-443b-cf40-61fb9a17680d"
      },
      "outputs": [
        {
          "output_type": "execute_result",
          "data": {
            "text/plain": [
              "0"
            ]
          },
          "metadata": {},
          "execution_count": 87
        }
      ],
      "source": [
        "max(0,min(1,value))"
      ]
    },
    {
      "cell_type": "markdown",
      "id": "35a53b59-e3a4-44f7-a356-fe393b32e592",
      "metadata": {
        "id": "35a53b59-e3a4-44f7-a356-fe393b32e592"
      },
      "source": [
        "## Part 4: Data Types (Chapters 4.1 and 4.2)\n",
        "\n",
        "So far, we have been working with numbers without paying much attention to whether they were integers or fractions. However, the distinction is very important for Python because it handles different types of numbers very differently. In Python, there are two types of numbers:\n",
        "\n",
        "- integer values (denoted `int`), which can represent only whole numbers (e.g., -5, 0, 2);\n",
        "- and floating-point values (denoted `float`), which can represent both whole numbers and fractions (but there are strings attached).\n",
        "\n",
        "You can check the type of a number using the `type` function:"
      ]
    },
    {
      "cell_type": "code",
      "execution_count": null,
      "id": "204539ce-8fd2-4c1c-a269-1c70831b9efb",
      "metadata": {
        "id": "204539ce-8fd2-4c1c-a269-1c70831b9efb"
      },
      "outputs": [],
      "source": [
        "type(5)"
      ]
    },
    {
      "cell_type": "code",
      "execution_count": 12,
      "id": "274f1d34-9a13-415a-8d27-a4309091df15",
      "metadata": {
        "id": "274f1d34-9a13-415a-8d27-a4309091df15",
        "colab": {
          "base_uri": "https://localhost:8080/"
        },
        "outputId": "b9f04a61-abf3-464b-dee1-f5b915298091"
      },
      "outputs": [
        {
          "output_type": "execute_result",
          "data": {
            "text/plain": [
              "float"
            ]
          },
          "metadata": {},
          "execution_count": 12
        }
      ],
      "source": [
        "type(0.5)"
      ]
    },
    {
      "cell_type": "markdown",
      "id": "44eed7e0-0cfb-498b-8b89-3826eb68edaf",
      "metadata": {
        "id": "44eed7e0-0cfb-498b-8b89-3826eb68edaf"
      },
      "source": [
        "Note that the following value is floating point because of the decimal point:"
      ]
    },
    {
      "cell_type": "code",
      "execution_count": null,
      "id": "66b16763-e7bc-4207-b2ae-b75dbd86559b",
      "metadata": {
        "id": "66b16763-e7bc-4207-b2ae-b75dbd86559b"
      },
      "outputs": [],
      "source": [
        "type(5.0)"
      ]
    },
    {
      "cell_type": "markdown",
      "id": "76a233ed-3d9d-46a7-8f6c-51acea24f084",
      "metadata": {
        "id": "76a233ed-3d9d-46a7-8f6c-51acea24f084"
      },
      "source": [
        "When we divide integers, Python automatically converts the result to a floating-point value:"
      ]
    },
    {
      "cell_type": "code",
      "execution_count": null,
      "id": "e5f93cb0-2d35-4cc7-8c53-cebe2216677f",
      "metadata": {
        "id": "e5f93cb0-2d35-4cc7-8c53-cebe2216677f"
      },
      "outputs": [],
      "source": [
        "5/2"
      ]
    },
    {
      "cell_type": "code",
      "execution_count": null,
      "id": "34ee37f7-ff2b-499c-bebe-743e6b957f6e",
      "metadata": {
        "id": "34ee37f7-ff2b-499c-bebe-743e6b957f6e"
      },
      "outputs": [],
      "source": [
        "type(5/2)"
      ]
    },
    {
      "cell_type": "markdown",
      "id": "cd836031-9f70-494c-91ef-d9425ac44d52",
      "metadata": {
        "id": "cd836031-9f70-494c-91ef-d9425ac44d52"
      },
      "source": [
        "Note that the type of a variable is the type of the value that it stores:"
      ]
    },
    {
      "cell_type": "code",
      "execution_count": null,
      "id": "8c142129-6716-4b55-916c-1475c7748361",
      "metadata": {
        "id": "8c142129-6716-4b55-916c-1475c7748361"
      },
      "outputs": [],
      "source": [
        "value = 0.5\n",
        "type(value)"
      ]
    },
    {
      "cell_type": "markdown",
      "id": "cefed924-d0c9-4902-b424-47b31e5e19ca",
      "metadata": {
        "id": "cefed924-d0c9-4902-b424-47b31e5e19ca"
      },
      "source": [
        "If we assign a value of a different type, then the type of the variable changes as well:"
      ]
    },
    {
      "cell_type": "code",
      "execution_count": null,
      "id": "ac1ba9ea-b49c-42ac-9239-0470675f7e6e",
      "metadata": {
        "id": "ac1ba9ea-b49c-42ac-9239-0470675f7e6e"
      },
      "outputs": [],
      "source": [
        "value = 5\n",
        "type(value)"
      ]
    },
    {
      "cell_type": "markdown",
      "id": "e589e8a6-e55e-40ad-8ec3-39be4538ff1e",
      "metadata": {
        "id": "e589e8a6-e55e-40ad-8ec3-39be4538ff1e"
      },
      "source": [
        "One final note about numbers: be careful with very large and very small floating-point values. If a number is too small, Python will treat it as zero:"
      ]
    },
    {
      "cell_type": "code",
      "execution_count": 13,
      "id": "04840393-9e5e-40c5-a54c-e8ee7f5fde27",
      "metadata": {
        "id": "04840393-9e5e-40c5-a54c-e8ee7f5fde27",
        "colab": {
          "base_uri": "https://localhost:8080/"
        },
        "outputId": "9ae0d4cf-338b-4fcc-e7bf-f203bd4105dc"
      },
      "outputs": [
        {
          "output_type": "execute_result",
          "data": {
            "text/plain": [
              "1e-323"
            ]
          },
          "metadata": {},
          "execution_count": 13
        }
      ],
      "source": [
        "10**(-323)"
      ]
    },
    {
      "cell_type": "code",
      "execution_count": 14,
      "id": "8ac73c5d-3f67-4a69-9f99-f2271001c0e1",
      "metadata": {
        "id": "8ac73c5d-3f67-4a69-9f99-f2271001c0e1",
        "colab": {
          "base_uri": "https://localhost:8080/"
        },
        "outputId": "fb3d6ec9-58b3-4fe0-b270-249cefdf09c6"
      },
      "outputs": [
        {
          "output_type": "execute_result",
          "data": {
            "text/plain": [
              "0.0"
            ]
          },
          "metadata": {},
          "execution_count": 14
        }
      ],
      "source": [
        "10**(-323) / 10"
      ]
    },
    {
      "cell_type": "markdown",
      "id": "08ae00de-d83c-4f55-9e58-e0728586300b",
      "metadata": {
        "id": "08ae00de-d83c-4f55-9e58-e0728586300b"
      },
      "source": [
        "Similarly, very large values may be treated by Python as simply infinite:"
      ]
    },
    {
      "cell_type": "code",
      "execution_count": 15,
      "id": "04d58def-8272-4a86-b8fa-420c6e04b785",
      "metadata": {
        "id": "04d58def-8272-4a86-b8fa-420c6e04b785",
        "colab": {
          "base_uri": "https://localhost:8080/"
        },
        "outputId": "4b66f7c4-1f21-436f-f2c9-9cca9b6caf39"
      },
      "outputs": [
        {
          "output_type": "execute_result",
          "data": {
            "text/plain": [
              "1e+308"
            ]
          },
          "metadata": {},
          "execution_count": 15
        }
      ],
      "source": [
        "10.0**308"
      ]
    },
    {
      "cell_type": "code",
      "execution_count": 16,
      "id": "c890b10f-3b47-4d7c-b07a-73f198e4c709",
      "metadata": {
        "id": "c890b10f-3b47-4d7c-b07a-73f198e4c709",
        "colab": {
          "base_uri": "https://localhost:8080/"
        },
        "outputId": "752e7054-2e7b-496e-8335-c679a2d7db8b"
      },
      "outputs": [
        {
          "output_type": "execute_result",
          "data": {
            "text/plain": [
              "inf"
            ]
          },
          "metadata": {},
          "execution_count": 16
        }
      ],
      "source": [
        "10.0**308 * 10"
      ]
    },
    {
      "cell_type": "markdown",
      "id": "f708222a-aaef-4287-b9a0-35fb10457114",
      "metadata": {
        "id": "f708222a-aaef-4287-b9a0-35fb10457114"
      },
      "source": [
        "The limited precision of floating-point values can cause problems even for a seemingly simple additions and subtractions:"
      ]
    },
    {
      "cell_type": "code",
      "execution_count": 17,
      "id": "1b1c463e-7289-4dfc-ae66-f275483ef1c2",
      "metadata": {
        "id": "1b1c463e-7289-4dfc-ae66-f275483ef1c2",
        "colab": {
          "base_uri": "https://localhost:8080/"
        },
        "outputId": "15ece011-d9b5-405a-bc92-9f348d11c31d"
      },
      "outputs": [
        {
          "output_type": "execute_result",
          "data": {
            "text/plain": [
              "0.0"
            ]
          },
          "metadata": {},
          "execution_count": 17
        }
      ],
      "source": [
        "(1.0 + 10000000000000000) - 10000000000000000"
      ]
    },
    {
      "cell_type": "markdown",
      "id": "4d5ee4d6-b816-4770-bead-a629779911b5",
      "metadata": {
        "id": "4d5ee4d6-b816-4770-bead-a629779911b5"
      },
      "source": [
        "### Strings\n",
        "\n",
        "We can represent textual data using another data type, called `string`. A string consists of a sequence of characters, where characters include letters, numbers, punctuation, and [a lot more](https://home.unicode.org/). We can specify a string by entering characters between single or double quotation marks:"
      ]
    },
    {
      "cell_type": "code",
      "execution_count": null,
      "id": "c8e83057-213b-459d-9e1b-54f632966c04",
      "metadata": {
        "id": "c8e83057-213b-459d-9e1b-54f632966c04"
      },
      "outputs": [],
      "source": [
        "var1 = \"this is a string\"\n",
        "var1"
      ]
    },
    {
      "cell_type": "code",
      "execution_count": null,
      "id": "e131b4e8-667f-493b-8d6e-be15a152ab98",
      "metadata": {
        "id": "e131b4e8-667f-493b-8d6e-be15a152ab98"
      },
      "outputs": [],
      "source": [
        "var2 = 'so is this'\n",
        "var2"
      ]
    },
    {
      "cell_type": "markdown",
      "id": "15336655-7d02-4ac1-80a3-bfe7e1e71d53",
      "metadata": {
        "id": "15336655-7d02-4ac1-80a3-bfe7e1e71d53"
      },
      "source": [
        "Note that they have the exact same type:"
      ]
    },
    {
      "cell_type": "code",
      "execution_count": null,
      "id": "ac70cd52-eaf4-4c70-9cb5-af82d1d59daa",
      "metadata": {
        "id": "ac70cd52-eaf4-4c70-9cb5-af82d1d59daa"
      },
      "outputs": [],
      "source": [
        "type(var1)"
      ]
    },
    {
      "cell_type": "code",
      "execution_count": null,
      "id": "03ea8896-e666-41ad-a3dc-0950380a2544",
      "metadata": {
        "id": "03ea8896-e666-41ad-a3dc-0950380a2544"
      },
      "outputs": [],
      "source": [
        "type(var2)"
      ]
    },
    {
      "cell_type": "markdown",
      "id": "c858fbe2-8968-4f5a-a2b2-871bc8c04998",
      "metadata": {
        "id": "c858fbe2-8968-4f5a-a2b2-871bc8c04998"
      },
      "source": [
        "However, different quotes CANNOT be mixed in the definition of one string:"
      ]
    },
    {
      "cell_type": "code",
      "execution_count": null,
      "id": "26557a9e-d6e7-48b1-9a7b-631c5da57bfe",
      "metadata": {
        "id": "26557a9e-d6e7-48b1-9a7b-631c5da57bfe"
      },
      "outputs": [],
      "source": [
        "var = \"oops'\n",
        "var"
      ]
    },
    {
      "cell_type": "markdown",
      "id": "777ac7ad-c88d-4a33-8891-7a2f4a1f4455",
      "metadata": {
        "id": "777ac7ad-c88d-4a33-8891-7a2f4a1f4455"
      },
      "source": [
        "Being able to use one of two different types of quotation marks can be very useful when the string itself needs to include one of them:"
      ]
    },
    {
      "cell_type": "code",
      "execution_count": null,
      "id": "6c095c81-bdd5-4205-af59-c7d8581df2e4",
      "metadata": {
        "id": "6c095c81-bdd5-4205-af59-c7d8581df2e4"
      },
      "outputs": [],
      "source": [
        "'We can include \" in this string'"
      ]
    },
    {
      "cell_type": "code",
      "execution_count": null,
      "id": "4b3cc100-35dd-4c09-8ecd-9ad40fc37e07",
      "metadata": {
        "id": "4b3cc100-35dd-4c09-8ecd-9ad40fc37e07"
      },
      "outputs": [],
      "source": [
        "\"We can include ' in this string\""
      ]
    },
    {
      "cell_type": "markdown",
      "id": "ddf4a06f-0977-47a1-ad23-5fb170f31a61",
      "metadata": {
        "id": "ddf4a06f-0977-47a1-ad23-5fb170f31a61"
      },
      "source": [
        "We can also perform operations on strings, such as concatenating them using the + operator:"
      ]
    },
    {
      "cell_type": "code",
      "execution_count": null,
      "id": "1672efbf-c6cd-4c70-8f3d-d3c23c37cfd0",
      "metadata": {
        "id": "1672efbf-c6cd-4c70-8f3d-d3c23c37cfd0"
      },
      "outputs": [],
      "source": [
        "\"Hello\" + \"World!\""
      ]
    },
    {
      "cell_type": "markdown",
      "id": "bc847c27-3b37-4c94-a8b0-46f9f5195717",
      "metadata": {
        "id": "bc847c27-3b37-4c94-a8b0-46f9f5195717"
      },
      "source": [
        "Notice that Python did not add space between the words. Remember: Python is strict and it will do literally what we tell it to do; it will not try to figure what we might have meant.\n",
        "\n",
        "You can also convert numbers to strings:"
      ]
    },
    {
      "cell_type": "code",
      "execution_count": null,
      "id": "ed8e70e6-4cdf-41f4-8653-15583023f4db",
      "metadata": {
        "id": "ed8e70e6-4cdf-41f4-8653-15583023f4db"
      },
      "outputs": [],
      "source": [
        "\"The answer is \" + str(42)"
      ]
    },
    {
      "cell_type": "markdown",
      "id": "386b89ef-f45c-4acc-86b3-641577f8a9c3",
      "metadata": {
        "id": "386b89ef-f45c-4acc-86b3-641577f8a9c3"
      },
      "source": [
        "Notice that the type of `str(42)` is `str`:"
      ]
    },
    {
      "cell_type": "code",
      "execution_count": null,
      "id": "4236ee64-196b-4384-ae6b-6277e7e2abad",
      "metadata": {
        "id": "4236ee64-196b-4384-ae6b-6277e7e2abad"
      },
      "outputs": [],
      "source": [
        "type(str(42))"
      ]
    },
    {
      "cell_type": "markdown",
      "id": "15431a3a-d00f-4671-bc50-4e8384a789a6",
      "metadata": {
        "id": "15431a3a-d00f-4671-bc50-4e8384a789a6"
      },
      "source": [
        "Strings also have a number of useful built-in functions. These functions are called **methods** because their invocation is tied to a given string:"
      ]
    },
    {
      "cell_type": "code",
      "execution_count": 18,
      "id": "538f002f-0749-4ce7-8152-5404b4e40679",
      "metadata": {
        "id": "538f002f-0749-4ce7-8152-5404b4e40679",
        "colab": {
          "base_uri": "https://localhost:8080/",
          "height": 36
        },
        "outputId": "e118ef74-3bf6-4e65-9e16-35ceeb96053b"
      },
      "outputs": [
        {
          "output_type": "execute_result",
          "data": {
            "text/plain": [
              "'LOWER'"
            ],
            "application/vnd.google.colaboratory.intrinsic+json": {
              "type": "string"
            }
          },
          "metadata": {},
          "execution_count": 18
        }
      ],
      "source": [
        "var = \"lower\"\n",
        "var.upper()"
      ]
    },
    {
      "cell_type": "markdown",
      "id": "40dbbb1e-3a53-47cd-9b35-e2cfc0ddf9be",
      "metadata": {
        "id": "40dbbb1e-3a53-47cd-9b35-e2cfc0ddf9be"
      },
      "source": [
        "Notice that we invoked the `upper` function NOT by providing the string as an argument, but rather by tying the function to the string with the `.` operator. We can also do this directly on the string definition:"
      ]
    },
    {
      "cell_type": "code",
      "execution_count": 19,
      "id": "9430ccad-be33-4d40-80f3-47835f0b6b79",
      "metadata": {
        "id": "9430ccad-be33-4d40-80f3-47835f0b6b79",
        "colab": {
          "base_uri": "https://localhost:8080/",
          "height": 36
        },
        "outputId": "804ce111-2cdb-4476-c9ca-2e575d032328"
      },
      "outputs": [
        {
          "output_type": "execute_result",
          "data": {
            "text/plain": [
              "'LOWER'"
            ],
            "application/vnd.google.colaboratory.intrinsic+json": {
              "type": "string"
            }
          },
          "metadata": {},
          "execution_count": 19
        }
      ],
      "source": [
        "\"lower\".upper()"
      ]
    },
    {
      "cell_type": "markdown",
      "id": "0fc6d8d9-fbab-462f-90d8-40095602c083",
      "metadata": {
        "id": "0fc6d8d9-fbab-462f-90d8-40095602c083"
      },
      "source": [
        "Also note that this method did not change the value of the string (as we will see later, some methods do make changes):"
      ]
    },
    {
      "cell_type": "code",
      "execution_count": null,
      "id": "0b952508-8709-4d25-8c90-cb01c0a09ae2",
      "metadata": {
        "id": "0b952508-8709-4d25-8c90-cb01c0a09ae2"
      },
      "outputs": [],
      "source": [
        "var"
      ]
    },
    {
      "cell_type": "markdown",
      "id": "3e2a0a9b-d5dc-47d3-871a-15cbde609c89",
      "metadata": {
        "id": "3e2a0a9b-d5dc-47d3-871a-15cbde609c89"
      },
      "source": [
        "There are other useful built-in functions:"
      ]
    },
    {
      "cell_type": "code",
      "execution_count": 20,
      "id": "018eb7a5-e259-407a-a206-f646c71795d9",
      "metadata": {
        "id": "018eb7a5-e259-407a-a206-f646c71795d9",
        "colab": {
          "base_uri": "https://localhost:8080/",
          "height": 36
        },
        "outputId": "9a61a9df-2aca-457a-c149-be68b1f97af9"
      },
      "outputs": [
        {
          "output_type": "execute_result",
          "data": {
            "text/plain": [
              "'upper'"
            ],
            "application/vnd.google.colaboratory.intrinsic+json": {
              "type": "string"
            }
          },
          "metadata": {},
          "execution_count": 20
        }
      ],
      "source": [
        "\"UPPER\".lower()"
      ]
    },
    {
      "cell_type": "code",
      "execution_count": 21,
      "id": "997e7b85-9c2e-4773-9209-dd25bca60438",
      "metadata": {
        "id": "997e7b85-9c2e-4773-9209-dd25bca60438",
        "colab": {
          "base_uri": "https://localhost:8080/",
          "height": 36
        },
        "outputId": "a76be7d0-1a87-454a-a438-7921b59026e2"
      },
      "outputs": [
        {
          "output_type": "execute_result",
          "data": {
            "text/plain": [
              "'danger'"
            ],
            "application/vnd.google.colaboratory.intrinsic+json": {
              "type": "string"
            }
          },
          "metadata": {},
          "execution_count": 21
        }
      ],
      "source": [
        "'stranger'.replace('str', 'd')"
      ]
    },
    {
      "cell_type": "markdown",
      "id": "28988d5d-a433-40ca-85b4-e2f3ba95f957",
      "metadata": {
        "id": "28988d5d-a433-40ca-85b4-e2f3ba95f957"
      },
      "source": [
        "### Problem 4: Output Formatting (0.2 points)\n",
        "\n",
        "Let's define the following variables:"
      ]
    },
    {
      "cell_type": "code",
      "execution_count": 22,
      "id": "c303d509-a57d-4123-8a64-3bc607f9c82a",
      "metadata": {
        "id": "c303d509-a57d-4123-8a64-3bc607f9c82a"
      },
      "outputs": [],
      "source": [
        "quantity = 100\n",
        "price = 5"
      ]
    },
    {
      "cell_type": "markdown",
      "id": "e41d46fa-2e4c-45d9-833a-bafffac6fe28",
      "metadata": {
        "id": "e41d46fa-2e4c-45d9-833a-bafffac6fe28"
      },
      "source": [
        "Write an expression that\n",
        "- calculates the payment as `quantity * price`\n",
        "- and displays the following string: 'Quantity: QUANTITY. Price: PRICE. Payment: PAYMENT.' where QUANTITY and PRICE are the values of variables `quantity` and `price`, and PAYMENT is the value of `quantity * price`."
      ]
    },
    {
      "cell_type": "code",
      "execution_count": 24,
      "id": "e4783095-3e63-4983-b2c3-9e3e56863794",
      "metadata": {
        "id": "e4783095-3e63-4983-b2c3-9e3e56863794",
        "colab": {
          "base_uri": "https://localhost:8080/"
        },
        "outputId": "bef0beef-80a3-4deb-8cb9-a8e1159ee8a4"
      },
      "outputs": [
        {
          "output_type": "stream",
          "name": "stdout",
          "text": [
            "Quantity: 100. Payment: 5. Payment: 500.\n"
          ]
        }
      ],
      "source": [
        "print(\"Quantity: \" + str(quantity) + \". Payment: \" + str(price) + \". Payment: \" + str(quantity * price) + \".\")"
      ]
    },
    {
      "cell_type": "markdown",
      "id": "b1306fe3-738e-45e6-9b67-209f9372096a",
      "metadata": {
        "id": "b1306fe3-738e-45e6-9b67-209f9372096a"
      },
      "source": [
        "## Part 5: Arrays (Chapter 5)\n",
        "\n",
        "In data science, we typically work with a large number of values instead of only a few (as we did so far today). To work with multiple values at the same time, we can use collections. First, we will learn about arrays, which group a number of values together into a sequence. To use arrays, we need to import the `datascience` module:"
      ]
    },
    {
      "cell_type": "code",
      "execution_count": 25,
      "id": "c638523c-056f-4849-93f9-6daf95f099b1",
      "metadata": {
        "id": "c638523c-056f-4849-93f9-6daf95f099b1"
      },
      "outputs": [],
      "source": [
        "from datascience import *"
      ]
    },
    {
      "cell_type": "markdown",
      "id": "9843c386-0aa4-45e9-9684-d6f105f1715b",
      "metadata": {
        "id": "9843c386-0aa4-45e9-9684-d6f105f1715b"
      },
      "source": [
        "If running the cell above results in an error message, we need to first install the `datascience` module, and then try again.\n",
        "\n",
        "- Click on the + button in the upper left corner of Jupyter Hub (part of the file manager).\n",
        "- Click on Terminal to launch a new terminal.\n",
        "- In the terminal window, enter the following command to install the `datascience` Python module:\n",
        "``pip3 install datascience --user``\n",
        "\n",
        "You need to install this module only once, before its first use. If you are using Google Colab, it should be installed and available by default.\n",
        "\n",
        "Once the module is installed and imported, we can create an array using the `make_array` function:"
      ]
    },
    {
      "cell_type": "code",
      "execution_count": null,
      "id": "d56d0f62-b81b-4701-b7bc-2601149098ad",
      "metadata": {
        "id": "d56d0f62-b81b-4701-b7bc-2601149098ad"
      },
      "outputs": [],
      "source": [
        "make_array(15.4, 67.3, 39.0, 24.7)"
      ]
    },
    {
      "cell_type": "markdown",
      "id": "3000c485-e975-409e-8661-86f028da63ac",
      "metadata": {
        "id": "3000c485-e975-409e-8661-86f028da63ac"
      },
      "source": [
        "We can also assign this collection of values to a variable.  While it is not required, you can include \"array\" in the name of the variable to remind yourself (and others collaborating with you) that the variable's value is an array."
      ]
    },
    {
      "cell_type": "code",
      "execution_count": null,
      "id": "50242873-858d-43b3-b865-3ab0ea378901",
      "metadata": {
        "id": "50242873-858d-43b3-b865-3ab0ea378901"
      },
      "outputs": [],
      "source": [
        "num_array = make_array(15.4, 67.3, 39.0, 24.7)\n",
        "num_array"
      ]
    },
    {
      "cell_type": "markdown",
      "id": "ef402c30-ba6e-46cd-947c-d88ec37607fb",
      "metadata": {
        "id": "ef402c30-ba6e-46cd-947c-d88ec37607fb"
      },
      "source": [
        "Arrays are very useful because we can perform operations on the entire collection of values at once:"
      ]
    },
    {
      "cell_type": "code",
      "execution_count": null,
      "id": "5b46207d-4789-47a6-9e11-e4640dd05051",
      "metadata": {
        "id": "5b46207d-4789-47a6-9e11-e4640dd05051"
      },
      "outputs": [],
      "source": [
        "sum(num_array)"
      ]
    },
    {
      "cell_type": "markdown",
      "id": "049809f2-8087-4fd8-8407-2dd90f78075b",
      "metadata": {
        "id": "049809f2-8087-4fd8-8407-2dd90f78075b"
      },
      "source": [
        "We can also count the number of values in the array, which enables us to easily calculate their average:"
      ]
    },
    {
      "cell_type": "code",
      "execution_count": null,
      "id": "3cb9a2f5-1f8d-4caf-8fe8-c21642d4df2b",
      "metadata": {
        "id": "3cb9a2f5-1f8d-4caf-8fe8-c21642d4df2b"
      },
      "outputs": [],
      "source": [
        "len(num_array)"
      ]
    },
    {
      "cell_type": "code",
      "execution_count": null,
      "id": "1236726f-99a8-4108-b26c-6133b1f833c7",
      "metadata": {
        "id": "1236726f-99a8-4108-b26c-6133b1f833c7"
      },
      "outputs": [],
      "source": [
        "average = sum(num_array) / len(num_array)\n",
        "average"
      ]
    },
    {
      "cell_type": "markdown",
      "id": "a1817413-6dbd-4d8b-8ee7-8454b6735972",
      "metadata": {
        "id": "a1817413-6dbd-4d8b-8ee7-8454b6735972"
      },
      "source": [
        "We can also easily perform element-wise arithmetic operations:"
      ]
    },
    {
      "cell_type": "code",
      "execution_count": 26,
      "id": "4fcba53a-d33d-4873-b6f4-aa50870051a2",
      "metadata": {
        "id": "4fcba53a-d33d-4873-b6f4-aa50870051a2",
        "colab": {
          "base_uri": "https://localhost:8080/"
        },
        "outputId": "d9835fc5-88b3-44c7-c2ac-e8cd54ed38ac"
      },
      "outputs": [
        {
          "output_type": "execute_result",
          "data": {
            "text/plain": [
              "array([10, 12, 11, 14, 13, 15])"
            ]
          },
          "metadata": {},
          "execution_count": 26
        }
      ],
      "source": [
        "array_2 = make_array(0, 2, 1, 4, 3, 5)\n",
        "array_2 + 10"
      ]
    },
    {
      "cell_type": "code",
      "execution_count": 27,
      "id": "c01056cb-d568-4768-b316-6c19000c0d78",
      "metadata": {
        "id": "c01056cb-d568-4768-b316-6c19000c0d78",
        "colab": {
          "base_uri": "https://localhost:8080/"
        },
        "outputId": "d4fb8395-52e4-4d3c-ad73-fb6969c04c1c"
      },
      "outputs": [
        {
          "output_type": "execute_result",
          "data": {
            "text/plain": [
              "array([20, 24, 22, 28, 26, 30])"
            ]
          },
          "metadata": {},
          "execution_count": 27
        }
      ],
      "source": [
        "(array_2 + 10) * 2"
      ]
    },
    {
      "cell_type": "markdown",
      "id": "f148dde1-6891-406a-8524-9fe8b18feee2",
      "metadata": {
        "id": "f148dde1-6891-406a-8524-9fe8b18feee2"
      },
      "source": [
        "Notice that in the result, each element of the array was first increased by 10 and then multiplied by 2. The original array remains unchanged:"
      ]
    },
    {
      "cell_type": "code",
      "execution_count": 28,
      "id": "19b665a7-19eb-4841-b98e-bd889401ef31",
      "metadata": {
        "id": "19b665a7-19eb-4841-b98e-bd889401ef31",
        "colab": {
          "base_uri": "https://localhost:8080/"
        },
        "outputId": "6c1c35f5-9933-4c4f-d86e-b831489a42f7"
      },
      "outputs": [
        {
          "output_type": "execute_result",
          "data": {
            "text/plain": [
              "array([0, 2, 1, 4, 3, 5])"
            ]
          },
          "metadata": {},
          "execution_count": 28
        }
      ],
      "source": [
        "array_2"
      ]
    },
    {
      "cell_type": "markdown",
      "id": "e94eb107-e03b-4b70-a0d1-a5181065b89c",
      "metadata": {
        "id": "e94eb107-e03b-4b70-a0d1-a5181065b89c"
      },
      "source": [
        "You can find very useful functions for working with arrays in the `numpy` module:"
      ]
    },
    {
      "cell_type": "code",
      "execution_count": 29,
      "id": "bcf7e851-2e9d-4364-bcac-f80eebbddb60",
      "metadata": {
        "id": "bcf7e851-2e9d-4364-bcac-f80eebbddb60"
      },
      "outputs": [],
      "source": [
        "import numpy as np"
      ]
    },
    {
      "cell_type": "code",
      "execution_count": 30,
      "id": "df1acaf4-270f-4e45-a866-e2a32532e043",
      "metadata": {
        "id": "df1acaf4-270f-4e45-a866-e2a32532e043",
        "colab": {
          "base_uri": "https://localhost:8080/"
        },
        "outputId": "695aac8f-1fa1-4de1-abd5-5289bcb1c912"
      },
      "outputs": [
        {
          "output_type": "execute_result",
          "data": {
            "text/plain": [
              "15"
            ]
          },
          "metadata": {},
          "execution_count": 30
        }
      ],
      "source": [
        "np.sum(array_2) # same as sum(array_2)"
      ]
    },
    {
      "cell_type": "code",
      "execution_count": 31,
      "id": "2e8a5c50-86fe-4dd3-840c-d5aa13318f72",
      "metadata": {
        "id": "2e8a5c50-86fe-4dd3-840c-d5aa13318f72",
        "colab": {
          "base_uri": "https://localhost:8080/"
        },
        "outputId": "b13464bd-0a01-466c-f1e7-5dcf7d9fb792"
      },
      "outputs": [
        {
          "output_type": "execute_result",
          "data": {
            "text/plain": [
              "720"
            ]
          },
          "metadata": {},
          "execution_count": 31
        }
      ],
      "source": [
        "np.prod(array_2 + 1) # multiply all elements together (after adding 1 to each element of the array)"
      ]
    },
    {
      "cell_type": "code",
      "execution_count": 32,
      "id": "1b0b565e-1cb8-4ba6-80d4-ae20cc69db33",
      "metadata": {
        "id": "1b0b565e-1cb8-4ba6-80d4-ae20cc69db33",
        "colab": {
          "base_uri": "https://localhost:8080/"
        },
        "outputId": "da1f6662-44f4-498c-974d-a27cd1f4aa85"
      },
      "outputs": [
        {
          "output_type": "execute_result",
          "data": {
            "text/plain": [
              "5"
            ]
          },
          "metadata": {},
          "execution_count": 32
        }
      ],
      "source": [
        "np.count_nonzero(array_2) # count the number of non-zero values in the array"
      ]
    },
    {
      "cell_type": "code",
      "execution_count": null,
      "id": "57a30d3f-92e3-4964-b67c-6afdc63a4d9c",
      "metadata": {
        "id": "57a30d3f-92e3-4964-b67c-6afdc63a4d9c"
      },
      "outputs": [],
      "source": [
        "# difference between adjacent values\n",
        "# (notice that the resulting array has one fewer value)\n",
        "np.diff(array_2)"
      ]
    },
    {
      "cell_type": "code",
      "execution_count": 33,
      "id": "7cc0db8d-74a0-4e52-bd54-fd1053e92d47",
      "metadata": {
        "id": "7cc0db8d-74a0-4e52-bd54-fd1053e92d47",
        "colab": {
          "base_uri": "https://localhost:8080/"
        },
        "outputId": "393a8abe-7f48-4a28-b1dc-d7fe8ebef465"
      },
      "outputs": [
        {
          "output_type": "execute_result",
          "data": {
            "text/plain": [
              "array([ 0,  2,  3,  7, 10, 15])"
            ]
          },
          "metadata": {},
          "execution_count": 33
        }
      ],
      "source": [
        "np.cumsum(array_2) # cumulative sum"
      ]
    },
    {
      "cell_type": "code",
      "execution_count": 34,
      "id": "ee4d8973-e3ba-4615-b3fc-94b6a3dd4ad4",
      "metadata": {
        "id": "ee4d8973-e3ba-4615-b3fc-94b6a3dd4ad4",
        "colab": {
          "base_uri": "https://localhost:8080/"
        },
        "outputId": "ab403007-ed90-409f-b5fb-01e2ef18f1e2"
      },
      "outputs": [
        {
          "output_type": "execute_result",
          "data": {
            "text/plain": [
              "array([  1,   3,   6,  30, 120, 720])"
            ]
          },
          "metadata": {},
          "execution_count": 34
        }
      ],
      "source": [
        "np.cumprod(array_2 + 1) # cumulative product (i.e., 1, 1*3, 1*3*2, 1*3*2*5, 1*3*2*5*4, 1*3*2*5*4*6)"
      ]
    },
    {
      "cell_type": "code",
      "execution_count": 35,
      "id": "21778591-9578-4df5-b9e9-92e0645d072f",
      "metadata": {
        "id": "21778591-9578-4df5-b9e9-92e0645d072f",
        "colab": {
          "base_uri": "https://localhost:8080/"
        },
        "outputId": "b265d837-ac5d-41d0-cc7e-9a09bc19541d"
      },
      "outputs": [
        {
          "output_type": "execute_result",
          "data": {
            "text/plain": [
              "array([0, 1, 2, 3, 4, 5])"
            ]
          },
          "metadata": {},
          "execution_count": 35
        }
      ],
      "source": [
        "np.sort(array_2)"
      ]
    },
    {
      "cell_type": "markdown",
      "id": "2df09cf1-2eae-439a-91d2-88f33215c721",
      "metadata": {
        "id": "2df09cf1-2eae-439a-91d2-88f33215c721"
      },
      "source": [
        "We can also create arrays of other datatypes, such as strings:"
      ]
    },
    {
      "cell_type": "code",
      "execution_count": 36,
      "id": "0a712bac-e5a4-48aa-be69-3a04ae247c71",
      "metadata": {
        "id": "0a712bac-e5a4-48aa-be69-3a04ae247c71",
        "colab": {
          "base_uri": "https://localhost:8080/"
        },
        "outputId": "3b13edc5-dca4-4095-afd8-81bcfec4ddf2"
      },
      "outputs": [
        {
          "output_type": "execute_result",
          "data": {
            "text/plain": [
              "array(['This', 'is', 'an', 'array', 'of', 'strings.'],\n",
              "      dtype='<U8')"
            ]
          },
          "metadata": {},
          "execution_count": 36
        }
      ],
      "source": [
        "sentence = make_array(\"This\", \"is\", \"an\", \"array\", \"of\", \"strings.\")\n",
        "sentence"
      ]
    },
    {
      "cell_type": "markdown",
      "id": "bff7158f-b643-4028-a223-b983d51c63f1",
      "metadata": {
        "id": "bff7158f-b643-4028-a223-b983d51c63f1"
      },
      "source": [
        "The `numpy` module also has functions for arrays of strings (in the `np.char` submodule):"
      ]
    },
    {
      "cell_type": "code",
      "execution_count": 37,
      "id": "d97c1578-f12b-4ad9-a0c2-348fedbb27cf",
      "metadata": {
        "id": "d97c1578-f12b-4ad9-a0c2-348fedbb27cf",
        "colab": {
          "base_uri": "https://localhost:8080/"
        },
        "outputId": "ff1f4b10-e979-42fd-a1bd-0d86c9865d86"
      },
      "outputs": [
        {
          "output_type": "execute_result",
          "data": {
            "text/plain": [
              "array(['this', 'is', 'an', 'array', 'of', 'strings.'],\n",
              "      dtype='<U8')"
            ]
          },
          "metadata": {},
          "execution_count": 37
        }
      ],
      "source": [
        "np.char.lower(sentence)"
      ]
    },
    {
      "cell_type": "code",
      "execution_count": 38,
      "id": "8b69cda1-ace6-4c08-ad19-4ec2efc2fc9e",
      "metadata": {
        "id": "8b69cda1-ace6-4c08-ad19-4ec2efc2fc9e",
        "colab": {
          "base_uri": "https://localhost:8080/"
        },
        "outputId": "4c5aa042-d968-46c8-bfed-1f19f41879f6"
      },
      "outputs": [
        {
          "output_type": "execute_result",
          "data": {
            "text/plain": [
              "array(['THIS', 'IS', 'AN', 'ARRAY', 'OF', 'STRINGS.'],\n",
              "      dtype='<U8')"
            ]
          },
          "metadata": {},
          "execution_count": 38
        }
      ],
      "source": [
        "np.char.upper(sentence)"
      ]
    },
    {
      "cell_type": "code",
      "execution_count": 39,
      "id": "cc9dbb6a-b4a0-4cda-a37f-53ffdb0c1e08",
      "metadata": {
        "id": "cc9dbb6a-b4a0-4cda-a37f-53ffdb0c1e08",
        "colab": {
          "base_uri": "https://localhost:8080/"
        },
        "outputId": "227988fa-e588-430d-f5e9-717e20fcee5d"
      },
      "outputs": [
        {
          "output_type": "execute_result",
          "data": {
            "text/plain": [
              "array([1, 1, 0, 0, 0, 0])"
            ]
          },
          "metadata": {},
          "execution_count": 39
        }
      ],
      "source": [
        "# counts how many times the string in the second argument appears in each string of the array\n",
        "np.char.count(sentence, 'is')"
      ]
    },
    {
      "cell_type": "code",
      "source": [
        "# Lower case and upper case characters are different:\n",
        "np.char.count(sentence, 'IS')"
      ],
      "metadata": {
        "id": "0w4aUiNv0tRF"
      },
      "id": "0w4aUiNv0tRF",
      "execution_count": null,
      "outputs": []
    },
    {
      "cell_type": "markdown",
      "id": "e5a8b58b-40b6-4e4e-b61a-b92fbd729d72",
      "metadata": {
        "id": "e5a8b58b-40b6-4e4e-b61a-b92fbd729d72"
      },
      "source": [
        "### Problem 5A: Working with Arrays (0.3 points)\n",
        "\n",
        "Consider the following array of strings:"
      ]
    },
    {
      "cell_type": "code",
      "execution_count": 40,
      "id": "767932ec-2ee3-46b0-93dc-edfaec48ce24",
      "metadata": {
        "id": "767932ec-2ee3-46b0-93dc-edfaec48ce24",
        "colab": {
          "base_uri": "https://localhost:8080/"
        },
        "outputId": "3f3f5fc4-b78a-42dc-b92b-fdaba7cc7dd2"
      },
      "outputs": [
        {
          "output_type": "execute_result",
          "data": {
            "text/plain": [
              "array(['Lorem', 'ipsum', 'dolor', 'sit', 'amet,', 'consectetur',\n",
              "       'adipiscing', 'elit.', 'Mauris', 'metus', 'quam,', 'tempus', 'eu',\n",
              "       'enim', 'sed,', 'suscipit', 'rhoncus', 'neque.', 'Aliquam', 'quam',\n",
              "       'diam,', 'auctor', 'vel', 'nunc', 'a,', 'iaculis', 'rhoncus',\n",
              "       'erat.'],\n",
              "      dtype='<U11')"
            ]
          },
          "metadata": {},
          "execution_count": 40
        }
      ],
      "source": [
        "text = make_array(\"Lorem\", \"ipsum\", \"dolor\", \"sit\", \"amet,\", \"consectetur\", \"adipiscing\", \"elit.\", \"Mauris\", \"metus\", \"quam,\", \"tempus\", \"eu\", \"enim\", \"sed,\", \"suscipit\", \"rhoncus\", \"neque.\", \"Aliquam\", \"quam\", \"diam,\", \"auctor\", \"vel\", \"nunc\", \"a,\", \"iaculis\", \"rhoncus\", \"erat.\")\n",
        "text"
      ]
    },
    {
      "cell_type": "markdown",
      "id": "705c7319-4223-47e4-9fac-74668bf4812a",
      "metadata": {
        "id": "705c7319-4223-47e4-9fac-74668bf4812a"
      },
      "source": [
        "Write an expression that calculates how many times the letter 'e' appears in each word on average (your expression must work correctly with any array of strings, not just the one in this example)."
      ]
    },
    {
      "cell_type": "markdown",
      "source": [],
      "metadata": {
        "id": "U7T_3IaA1mmP"
      },
      "id": "U7T_3IaA1mmP"
    },
    {
      "cell_type": "code",
      "execution_count": 44,
      "id": "c17f64c7-1b18-4e41-8ef5-d5031a2caf6f",
      "metadata": {
        "id": "c17f64c7-1b18-4e41-8ef5-d5031a2caf6f",
        "colab": {
          "base_uri": "https://localhost:8080/"
        },
        "outputId": "a0327046-1a58-492d-88ee-15d8ae0d1f4d"
      },
      "outputs": [
        {
          "output_type": "execute_result",
          "data": {
            "text/plain": [
              "0.5"
            ]
          },
          "metadata": {},
          "execution_count": 44
        }
      ],
      "source": [
        "sum(np.char.count(text,'e'))/ len(text)"
      ]
    },
    {
      "cell_type": "markdown",
      "id": "2f3c83b6-f54c-4fca-8398-1dc4f24e3126",
      "metadata": {
        "id": "2f3c83b6-f54c-4fca-8398-1dc4f24e3126"
      },
      "source": [
        "## More on Arrays\n",
        "\n",
        "It is often useful to create an array of consecutive integers. Instead of listing them one-by-one, we can create them more easily using the `arange` function of the `numpy` module:"
      ]
    },
    {
      "cell_type": "code",
      "execution_count": 45,
      "id": "8fff741f-769e-4474-aa45-d8cde4ae045e",
      "metadata": {
        "id": "8fff741f-769e-4474-aa45-d8cde4ae045e",
        "colab": {
          "base_uri": "https://localhost:8080/"
        },
        "outputId": "13a4060d-3f1b-4078-87db-eb4324c59ca8"
      },
      "outputs": [
        {
          "output_type": "execute_result",
          "data": {
            "text/plain": [
              "array([0, 1, 2, 3, 4, 5, 6, 7, 8, 9])"
            ]
          },
          "metadata": {},
          "execution_count": 45
        }
      ],
      "source": [
        "np.arange(10)"
      ]
    },
    {
      "cell_type": "markdown",
      "id": "6296c90b-42f6-48bd-804c-c8e5a08cd940",
      "metadata": {
        "id": "6296c90b-42f6-48bd-804c-c8e5a08cd940"
      },
      "source": [
        "By default, the sequence starts at 0; but we can also specify a starting value:"
      ]
    },
    {
      "cell_type": "code",
      "execution_count": 46,
      "id": "c622e30c-40fa-48ff-9bab-d7907a8019b2",
      "metadata": {
        "id": "c622e30c-40fa-48ff-9bab-d7907a8019b2",
        "colab": {
          "base_uri": "https://localhost:8080/"
        },
        "outputId": "0b95fa7f-c05c-4b7a-fb59-a3ef3eac9738"
      },
      "outputs": [
        {
          "output_type": "execute_result",
          "data": {
            "text/plain": [
              "array([5, 6, 7, 8, 9])"
            ]
          },
          "metadata": {},
          "execution_count": 46
        }
      ],
      "source": [
        "np.arange(5, 10)"
      ]
    },
    {
      "cell_type": "markdown",
      "id": "cb1821bf-9bab-4ff1-adc3-ce1f77c40094",
      "metadata": {
        "id": "cb1821bf-9bab-4ff1-adc3-ce1f77c40094"
      },
      "source": [
        "Further, the values do not have to be consecutive; we can specify an arbitrary step size:"
      ]
    },
    {
      "cell_type": "code",
      "execution_count": 47,
      "id": "f586f77b-8a42-4a33-a078-4d2dc7bbc23c",
      "metadata": {
        "id": "f586f77b-8a42-4a33-a078-4d2dc7bbc23c",
        "colab": {
          "base_uri": "https://localhost:8080/"
        },
        "outputId": "8cd8c3c6-5337-4957-8d2f-7e81d9822cff"
      },
      "outputs": [
        {
          "output_type": "execute_result",
          "data": {
            "text/plain": [
              "array([50, 55, 60, 65, 70, 75, 80, 85, 90, 95])"
            ]
          },
          "metadata": {},
          "execution_count": 47
        }
      ],
      "source": [
        "np.arange(50, 100, 5)"
      ]
    },
    {
      "cell_type": "markdown",
      "id": "5d37aa52-19bf-4226-ba0b-e480bb2ff1d6",
      "metadata": {
        "id": "5d37aa52-19bf-4226-ba0b-e480bb2ff1d6"
      },
      "source": [
        "This works with decreasing steps as well:"
      ]
    },
    {
      "cell_type": "code",
      "execution_count": null,
      "id": "a6c82351-1ac6-4912-b4ce-15ae95dc6b4b",
      "metadata": {
        "id": "a6c82351-1ac6-4912-b4ce-15ae95dc6b4b"
      },
      "outputs": [],
      "source": [
        "np.arange(100, 50, -5)"
      ]
    },
    {
      "cell_type": "markdown",
      "id": "4755bf55-62f8-4835-b846-0a74cb1ebc49",
      "metadata": {
        "id": "4755bf55-62f8-4835-b846-0a74cb1ebc49"
      },
      "source": [
        "Finally, we can also perform element-wise arithmetics with two arrays:"
      ]
    },
    {
      "cell_type": "code",
      "execution_count": 48,
      "id": "5693a64b-1649-4e9b-89c9-715a797cf967",
      "metadata": {
        "id": "5693a64b-1649-4e9b-89c9-715a797cf967",
        "colab": {
          "base_uri": "https://localhost:8080/"
        },
        "outputId": "a077575e-7a29-4139-ddb1-fa89b68f78ad"
      },
      "outputs": [
        {
          "output_type": "execute_result",
          "data": {
            "text/plain": [
              "array([10, 12, 14, 16, 18, 20, 22, 24, 26, 28])"
            ]
          },
          "metadata": {},
          "execution_count": 48
        }
      ],
      "source": [
        "np.arange(0, 10) + np.arange(10, 20)"
      ]
    },
    {
      "cell_type": "code",
      "execution_count": null,
      "id": "21a19c4e-b2a9-46c7-9102-1d239fc276f0",
      "metadata": {
        "id": "21a19c4e-b2a9-46c7-9102-1d239fc276f0"
      },
      "outputs": [],
      "source": [
        "np.arange(0, 5) * np.arange(5, 10)"
      ]
    },
    {
      "cell_type": "markdown",
      "id": "80e23dbf-ed90-454f-9f64-26cda83a40cd",
      "metadata": {
        "id": "80e23dbf-ed90-454f-9f64-26cda83a40cd"
      },
      "source": [
        "### Problem 5B: Working with More Arrays (0.3 points)\n",
        "\n",
        "Write a code cell that takes all the integers from 100 to 200, squares each one, and then adds them all up. Make sure your last element of the array (before summing its elements) is the result of 200**2."
      ]
    },
    {
      "cell_type": "code",
      "execution_count": 49,
      "id": "3b963fc3-1a80-4f59-8964-f8c55729120a",
      "metadata": {
        "id": "3b963fc3-1a80-4f59-8964-f8c55729120a",
        "colab": {
          "base_uri": "https://localhost:8080/"
        },
        "outputId": "2f473674-bd59-443f-8004-f83af463437f"
      },
      "outputs": [
        {
          "output_type": "execute_result",
          "data": {
            "text/plain": [
              "2358350"
            ]
          },
          "metadata": {},
          "execution_count": 49
        }
      ],
      "source": [
        "sum(np.arange(100,201) ** 2)"
      ]
    },
    {
      "cell_type": "markdown",
      "id": "54296a2a-657c-46fd-bf4c-02bc85a84844",
      "metadata": {
        "id": "54296a2a-657c-46fd-bf4c-02bc85a84844"
      },
      "source": [
        "## Part 6: Tables (Chapter 6)\n",
        "\n",
        "Tables are a natural way of representing data that pertains to a set of entities (e.g., persons, cities, cars, sports teams), when each entity is described by a given set of features. A table can be viewed as a sequence of rows, where each row contains all the information pertaining to a single entity; or it can be viewed as a sequence of named columns, where each columns describes one aspect of all the entities in the dataset.\n",
        "\n",
        "We can create an empty table using the `Table()` function:"
      ]
    },
    {
      "cell_type": "code",
      "execution_count": 51,
      "id": "73bf9041-736b-4d0f-af33-94ebf2021267",
      "metadata": {
        "id": "73bf9041-736b-4d0f-af33-94ebf2021267",
        "colab": {
          "base_uri": "https://localhost:8080/",
          "height": 17
        },
        "outputId": "9446e7fa-965a-4982-974e-7421774f385b"
      },
      "outputs": [
        {
          "output_type": "execute_result",
          "data": {
            "text/plain": [],
            "text/html": [
              "<table border=\"1\" class=\"dataframe\">\n",
              "    <thead>\n",
              "        <tr>\n",
              "            \n",
              "        </tr>\n",
              "    </thead>\n",
              "    <tbody>\n",
              "    </tbody>\n",
              "</table>"
            ]
          },
          "metadata": {},
          "execution_count": 51
        }
      ],
      "source": [
        "Table()"
      ]
    },
    {
      "cell_type": "markdown",
      "id": "a155c748-53c5-47aa-a21b-5b83fb7b5311",
      "metadata": {
        "id": "a155c748-53c5-47aa-a21b-5b83fb7b5311"
      },
      "source": [
        "Of course, an empty table is not very useful by itself. We can add data to an empty table by adding a column:"
      ]
    },
    {
      "cell_type": "code",
      "execution_count": 50,
      "id": "8678cf23-b431-4fe8-a707-0a5cd57f51b0",
      "metadata": {
        "id": "8678cf23-b431-4fe8-a707-0a5cd57f51b0",
        "colab": {
          "base_uri": "https://localhost:8080/",
          "height": 143
        },
        "outputId": "9a8ec622-dde8-405d-e424-1c8ccb6817b1"
      },
      "outputs": [
        {
          "output_type": "execute_result",
          "data": {
            "text/plain": [
              "Wheels\n",
              "2\n",
              "4\n",
              "18"
            ],
            "text/html": [
              "<table border=\"1\" class=\"dataframe\">\n",
              "    <thead>\n",
              "        <tr>\n",
              "            <th>Wheels</th>\n",
              "        </tr>\n",
              "    </thead>\n",
              "    <tbody>\n",
              "        <tr>\n",
              "            <td>2     </td>\n",
              "        </tr>\n",
              "        <tr>\n",
              "            <td>4     </td>\n",
              "        </tr>\n",
              "        <tr>\n",
              "            <td>18    </td>\n",
              "        </tr>\n",
              "    </tbody>\n",
              "</table>"
            ]
          },
          "metadata": {},
          "execution_count": 50
        }
      ],
      "source": [
        "Table().with_columns('Wheels', make_array(2, 4, 18))"
      ]
    },
    {
      "cell_type": "markdown",
      "id": "65846db4-57f9-4f22-9e16-246e6d236592",
      "metadata": {
        "id": "65846db4-57f9-4f22-9e16-246e6d236592"
      },
      "source": [
        "We can also add two (or more columns):"
      ]
    },
    {
      "cell_type": "code",
      "execution_count": 52,
      "id": "521cad87-c85f-46bb-bbe4-522d7eae7064",
      "metadata": {
        "id": "521cad87-c85f-46bb-bbe4-522d7eae7064",
        "colab": {
          "base_uri": "https://localhost:8080/",
          "height": 143
        },
        "outputId": "f1bbbadd-53b1-4c66-c8e8-efc1f683c8b4"
      },
      "outputs": [
        {
          "output_type": "execute_result",
          "data": {
            "text/plain": [
              "Wheels | Type\n",
              "2      | motorbike\n",
              "4      | car\n",
              "18     | semi-trailer truck"
            ],
            "text/html": [
              "<table border=\"1\" class=\"dataframe\">\n",
              "    <thead>\n",
              "        <tr>\n",
              "            <th>Wheels</th> <th>Type</th>\n",
              "        </tr>\n",
              "    </thead>\n",
              "    <tbody>\n",
              "        <tr>\n",
              "            <td>2     </td> <td>motorbike         </td>\n",
              "        </tr>\n",
              "        <tr>\n",
              "            <td>4     </td> <td>car               </td>\n",
              "        </tr>\n",
              "        <tr>\n",
              "            <td>18    </td> <td>semi-trailer truck</td>\n",
              "        </tr>\n",
              "    </tbody>\n",
              "</table>"
            ]
          },
          "metadata": {},
          "execution_count": 52
        }
      ],
      "source": [
        "Table().with_columns(\n",
        "    'Wheels', make_array(2, 4, 18),\n",
        "    'Type', make_array('motorbike', 'car', 'semi-trailer truck')\n",
        ")"
      ]
    },
    {
      "cell_type": "markdown",
      "id": "b3127c04-8961-4144-9d9a-c1e71e4ae94a",
      "metadata": {
        "id": "b3127c04-8961-4144-9d9a-c1e71e4ae94a"
      },
      "source": [
        "Note that every column must have the same number of entries; otherwise, we receive an error message:"
      ]
    },
    {
      "cell_type": "code",
      "execution_count": null,
      "id": "81a440dc-3836-462e-bada-a3f87f1740d1",
      "metadata": {
        "id": "81a440dc-3836-462e-bada-a3f87f1740d1"
      },
      "outputs": [],
      "source": [
        "Table().with_columns(\n",
        "    'Wheels', make_array(2, 4, 18),\n",
        "    'Type', make_array('motorbike', 'car', 'semi-trailer truck', 'minivan')\n",
        ")"
      ]
    },
    {
      "cell_type": "markdown",
      "id": "e1ac7bc0-be04-460f-a6c8-88cf4985fe4a",
      "metadata": {
        "id": "e1ac7bc0-be04-460f-a6c8-88cf4985fe4a"
      },
      "source": [
        "We can also add columns to a non-empty table:"
      ]
    },
    {
      "cell_type": "code",
      "execution_count": 53,
      "id": "adb4ed3d-9c45-49e2-953c-74665485a488",
      "metadata": {
        "id": "adb4ed3d-9c45-49e2-953c-74665485a488",
        "colab": {
          "base_uri": "https://localhost:8080/",
          "height": 143
        },
        "outputId": "1096f42d-6256-4c6d-9ed1-cba9772c74a8"
      },
      "outputs": [
        {
          "output_type": "execute_result",
          "data": {
            "text/plain": [
              "Wheels | Type               | MPG\n",
              "2      | motorbike          | 60\n",
              "4      | car                | 30\n",
              "18     | semi-trailer truck | 5"
            ],
            "text/html": [
              "<table border=\"1\" class=\"dataframe\">\n",
              "    <thead>\n",
              "        <tr>\n",
              "            <th>Wheels</th> <th>Type</th> <th>MPG</th>\n",
              "        </tr>\n",
              "    </thead>\n",
              "    <tbody>\n",
              "        <tr>\n",
              "            <td>2     </td> <td>motorbike         </td> <td>60  </td>\n",
              "        </tr>\n",
              "        <tr>\n",
              "            <td>4     </td> <td>car               </td> <td>30  </td>\n",
              "        </tr>\n",
              "        <tr>\n",
              "            <td>18    </td> <td>semi-trailer truck</td> <td>5   </td>\n",
              "        </tr>\n",
              "    </tbody>\n",
              "</table>"
            ]
          },
          "metadata": {},
          "execution_count": 53
        }
      ],
      "source": [
        "vehicles = Table().with_columns(\n",
        "    'Wheels', make_array(2, 4, 18),\n",
        "    'Type', make_array('motorbike', 'car', 'semi-trailer truck')\n",
        ")\n",
        "vehicles.with_columns('MPG', make_array(60, 30, 5))"
      ]
    },
    {
      "cell_type": "markdown",
      "id": "0ebba834-90b9-4219-8d36-51575eb4c521",
      "metadata": {
        "id": "0ebba834-90b9-4219-8d36-51575eb4c521"
      },
      "source": [
        "Note that the original table is unchanged:"
      ]
    },
    {
      "cell_type": "code",
      "execution_count": 54,
      "id": "9f905b3b-6c63-4400-a43e-88e48f73a265",
      "metadata": {
        "id": "9f905b3b-6c63-4400-a43e-88e48f73a265",
        "colab": {
          "base_uri": "https://localhost:8080/",
          "height": 143
        },
        "outputId": "c1558531-26ca-42c6-e76d-29093bd75512"
      },
      "outputs": [
        {
          "output_type": "execute_result",
          "data": {
            "text/plain": [
              "Wheels | Type\n",
              "2      | motorbike\n",
              "4      | car\n",
              "18     | semi-trailer truck"
            ],
            "text/html": [
              "<table border=\"1\" class=\"dataframe\">\n",
              "    <thead>\n",
              "        <tr>\n",
              "            <th>Wheels</th> <th>Type</th>\n",
              "        </tr>\n",
              "    </thead>\n",
              "    <tbody>\n",
              "        <tr>\n",
              "            <td>2     </td> <td>motorbike         </td>\n",
              "        </tr>\n",
              "        <tr>\n",
              "            <td>4     </td> <td>car               </td>\n",
              "        </tr>\n",
              "        <tr>\n",
              "            <td>18    </td> <td>semi-trailer truck</td>\n",
              "        </tr>\n",
              "    </tbody>\n",
              "</table>"
            ]
          },
          "metadata": {},
          "execution_count": 54
        }
      ],
      "source": [
        "vehicles"
      ]
    },
    {
      "cell_type": "markdown",
      "id": "48655264-ad29-40d0-81c2-7ea7e82968c2",
      "metadata": {
        "id": "48655264-ad29-40d0-81c2-7ea7e82968c2"
      },
      "source": [
        "Manually entering data is no fun. Fortunately, the `datascience` module also allows us to load data from a file (note that you must first upload the file `IMDB_movies.csv` to your JupyterHub account or your Google Colab session, which you can do using the upload button in the file manager on the left):"
      ]
    },
    {
      "cell_type": "code",
      "execution_count": 55,
      "id": "362d7096-5ecf-4b83-82da-3e69b4ceb45b",
      "metadata": {
        "id": "362d7096-5ecf-4b83-82da-3e69b4ceb45b",
        "colab": {
          "base_uri": "https://localhost:8080/",
          "height": 759
        },
        "outputId": "1facc72c-8358-403f-ccb6-9462bea99a19"
      },
      "outputs": [
        {
          "output_type": "execute_result",
          "data": {
            "text/plain": [
              "color            | director_name    | num_critic_for_reviews | duration | director_facebook_likes | actor_3_facebook_likes | actor_2_name    | actor_1_facebook_likes | gross       | genres                           | actor_1_name         | movie_title                   | num_voted_users | cast_total_facebook_likes | actor_3_name       | facenumber_in_poster | plot_keywords                                                | movie_imdb_link                                      | num_user_for_reviews | language | country | content_rating | budget    | title_year | actor_2_facebook_likes | imdb_score | aspect_ratio | movie_facebook_likes\n",
              " Black and White | nan              | 15                     | 30       | nan                     | 94                     | Art Carney      | 491                    | nan         | Comedy|Family                    | Jackie Gleason       | The Honeymooners              | 3446            | 812                       | Joyce Randolph     | 4                    | 1950s|bus driver|money scheme|poverty|sewer                  | http://www.imdb.com/title/tt0042114/?ref_=fn_tt_tt_1 | 31                   | English  | USA     | nan            | nan       | nan        | 154                    | 8.7        | 1.33         | 459\n",
              " Black and White | nan              | 31                     | 25       | nan                     | 474                    | Agnes Moorehead | 1000                   | nan         | Comedy|Family|Fantasy            | Elizabeth Montgomery | Bewitched                     | 11427           | 2614                      | Dick York          | 1                    | connecticut|magic|marriage|witch|witchcraft                  | http://www.imdb.com/title/tt0057733/?ref_=fn_tt_tt_1 | 71                   | English  | USA     | TV-G           | nan       | nan        | 960                    | 7.6        | 4            | 0\n",
              " Black and White | nan              | 4                      | 30       | nan                     | 253                    | Gavin MacLeod   | 870                    | nan         | Comedy|War                       | Tim Conway           | McHale's Navy                 | 1558            | 1610                      | Bob Hastings       | 1                    | american soldier|naval uniform|navy|patrol boat|uniform      | http://www.imdb.com/title/tt0055689/?ref_=fn_tt_tt_1 | 18                   | English  | USA     | TV-G           | nan       | nan        | 284                    | 7.5        | 4            | 455\n",
              " Black and White | Akira Kurosawa   | 153                    | 202      | 0                       | 4                      | Minoru Chiaki   | 304                    | 269061      | Action|Adventure|Drama           | Takashi Shimura      | Seven Samurai                 | 229012          | 338                       | Kamatari Fujiwara  | 6                    | 16th century|battle|japan|practice|samurai                   | http://www.imdb.com/title/tt0047478/?ref_=fn_tt_tt_1 | 596                  | Japanese | Japan   | Unrated        | 2e+06     | 1954       | 8                      | 8.7        | 1.37         | 11000\n",
              " Black and White | Aleksey German   | 121                    | 177      | 23                      | 0                      | Yuriy Tsurilo   | 4                      | nan         | Drama|Sci-Fi                     | Leonid Yarmolnik     | Hard to Be a God              | 2518            | 8                         | Valentin Golubenko | 0                    | fictional war|hanging|male full frontal nudity|medieval  ... | http://www.imdb.com/title/tt2328813/?ref_=fn_tt_tt_1 | 28                   | Russian  | Russia  | Not Rated      | 7e+06     | 2013       | 4                      | 6.7        | 1.66         | 1000\n",
              " Black and White | Alex Garland     | 489                    | 108      | 232                     | 123                    | Sonoya Mizuno   | 149                    | 2.5441e+07  | Drama|Mystery|Sci-Fi|Thriller    | Elina Alminas        | Ex Machina                    | 289508          | 430                       | Corey Johnson      | 0                    | artificial intelligence|robot|robot human relationship|t ... | http://www.imdb.com/title/tt0470752/?ref_=fn_tt_tt_1 | 611                  | English  | UK      | R              | 1.5e+07   | 2015       | 145                    | 7.7        | 2.35         | 109000\n",
              " Black and White | Alexander Payne  | 433                    | 115      | 729                     | 622                    | Bruce Dern      | 1000                   | 1.76135e+07 | Adventure|Comedy|Drama           | Devin Ratray         | Nebraska                      | 91082           | 3798                      | Will Forte         | 0                    | aging|billings montana|lincoln nebraska|nebraska|pickup  ... | http://www.imdb.com/title/tt1821549/?ref_=fn_tt_tt_1 | 274                  | English  | USA     | R              | 1.2e+07   | 2013       | 844                    | 7.8        | 2.35         | 28000\n",
              " Black and White | Alfred Hitchcock | 144                    | 130      | 13000                   | 333                    | Joan Fontaine   | 1000                   | nan         | Drama|Film-Noir|Mystery|Thriller | Laurence Olivier     | Rebecca                       | 87424           | 2888                      | George Sanders     | 2                    | death|estate|housekeeper|love|monte carlo                    | http://www.imdb.com/title/tt0032976/?ref_=fn_tt_tt_1 | 276                  | English  | USA     | Not Rated      | 1.288e+06 | 1940       | 991                    | 8.2        | 1.37         | 0\n",
              " Black and White | Alfred Hitchcock | 290                    | 108      | 13000                   | 285                    | Vera Miles      | 606                    | 3.2e+07     | Horror|Mystery|Thriller          | Janet Leigh          | Psycho                        | 422432          | 1885                      | John Gavin         | 2                    | money|motel|rain|shower|theft                                | http://www.imdb.com/title/tt0054215/?ref_=fn_tt_tt_1 | 1040                 | English  | USA     | R              | 806947    | 1960       | 332                    | 8.5        | 1.85         | 18000\n",
              " Black and White | Allan Dwan       | 40                     | 109      | 23                      | 88                     | Richard Jaeckel | 183                    | nan         | Action|Drama|Romance|War         | James Brown          | Sands of Iwo Jima             | 7346            | 510                       | Forrest Tucker     | 0                    | battle|combat|heroic military|sergeant|tarawa                | http://www.imdb.com/title/tt0041841/?ref_=fn_tt_tt_1 | 69                   | English  | USA     | Approved       | 1e+06     | 1949       | 102                    | 7.2        | 1.37         | 624\n",
              "... (4987 rows omitted)"
            ],
            "text/html": [
              "<table border=\"1\" class=\"dataframe\">\n",
              "    <thead>\n",
              "        <tr>\n",
              "            <th>color</th> <th>director_name</th> <th>num_critic_for_reviews</th> <th>duration</th> <th>director_facebook_likes</th> <th>actor_3_facebook_likes</th> <th>actor_2_name</th> <th>actor_1_facebook_likes</th> <th>gross</th> <th>genres</th> <th>actor_1_name</th> <th>movie_title</th> <th>num_voted_users</th> <th>cast_total_facebook_likes</th> <th>actor_3_name</th> <th>facenumber_in_poster</th> <th>plot_keywords</th> <th>movie_imdb_link</th> <th>num_user_for_reviews</th> <th>language</th> <th>country</th> <th>content_rating</th> <th>budget</th> <th>title_year</th> <th>actor_2_facebook_likes</th> <th>imdb_score</th> <th>aspect_ratio</th> <th>movie_facebook_likes</th>\n",
              "        </tr>\n",
              "    </thead>\n",
              "    <tbody>\n",
              "        <tr>\n",
              "            <td> Black and White</td> <td>nan             </td> <td>15                    </td> <td>30      </td> <td>nan                    </td> <td>94                    </td> <td>Art Carney     </td> <td>491                   </td> <td>nan        </td> <td>Comedy|Family                   </td> <td>Jackie Gleason      </td> <td>The Honeymooners             </td> <td>3446           </td> <td>812                      </td> <td>Joyce Randolph    </td> <td>4                   </td> <td>1950s|bus driver|money scheme|poverty|sewer                 </td> <td>http://www.imdb.com/title/tt0042114/?ref_=fn_tt_tt_1</td> <td>31                  </td> <td>English </td> <td>USA    </td> <td>nan           </td> <td>nan      </td> <td>nan       </td> <td>154                   </td> <td>8.7       </td> <td>1.33        </td> <td>459                 </td>\n",
              "        </tr>\n",
              "        <tr>\n",
              "            <td> Black and White</td> <td>nan             </td> <td>31                    </td> <td>25      </td> <td>nan                    </td> <td>474                   </td> <td>Agnes Moorehead</td> <td>1000                  </td> <td>nan        </td> <td>Comedy|Family|Fantasy           </td> <td>Elizabeth Montgomery</td> <td>Bewitched                    </td> <td>11427          </td> <td>2614                     </td> <td>Dick York         </td> <td>1                   </td> <td>connecticut|magic|marriage|witch|witchcraft                 </td> <td>http://www.imdb.com/title/tt0057733/?ref_=fn_tt_tt_1</td> <td>71                  </td> <td>English </td> <td>USA    </td> <td>TV-G          </td> <td>nan      </td> <td>nan       </td> <td>960                   </td> <td>7.6       </td> <td>4           </td> <td>0                   </td>\n",
              "        </tr>\n",
              "        <tr>\n",
              "            <td> Black and White</td> <td>nan             </td> <td>4                     </td> <td>30      </td> <td>nan                    </td> <td>253                   </td> <td>Gavin MacLeod  </td> <td>870                   </td> <td>nan        </td> <td>Comedy|War                      </td> <td>Tim Conway          </td> <td>McHale's Navy                </td> <td>1558           </td> <td>1610                     </td> <td>Bob Hastings      </td> <td>1                   </td> <td>american soldier|naval uniform|navy|patrol boat|uniform     </td> <td>http://www.imdb.com/title/tt0055689/?ref_=fn_tt_tt_1</td> <td>18                  </td> <td>English </td> <td>USA    </td> <td>TV-G          </td> <td>nan      </td> <td>nan       </td> <td>284                   </td> <td>7.5       </td> <td>4           </td> <td>455                 </td>\n",
              "        </tr>\n",
              "        <tr>\n",
              "            <td> Black and White</td> <td>Akira Kurosawa  </td> <td>153                   </td> <td>202     </td> <td>0                      </td> <td>4                     </td> <td>Minoru Chiaki  </td> <td>304                   </td> <td>269061     </td> <td>Action|Adventure|Drama          </td> <td>Takashi Shimura     </td> <td>Seven Samurai                </td> <td>229012         </td> <td>338                      </td> <td>Kamatari Fujiwara </td> <td>6                   </td> <td>16th century|battle|japan|practice|samurai                  </td> <td>http://www.imdb.com/title/tt0047478/?ref_=fn_tt_tt_1</td> <td>596                 </td> <td>Japanese</td> <td>Japan  </td> <td>Unrated       </td> <td>2e+06    </td> <td>1954      </td> <td>8                     </td> <td>8.7       </td> <td>1.37        </td> <td>11000               </td>\n",
              "        </tr>\n",
              "        <tr>\n",
              "            <td> Black and White</td> <td>Aleksey German  </td> <td>121                   </td> <td>177     </td> <td>23                     </td> <td>0                     </td> <td>Yuriy Tsurilo  </td> <td>4                     </td> <td>nan        </td> <td>Drama|Sci-Fi                    </td> <td>Leonid Yarmolnik    </td> <td>Hard to Be a God             </td> <td>2518           </td> <td>8                        </td> <td>Valentin Golubenko</td> <td>0                   </td> <td>fictional war|hanging|male full frontal nudity|medieval  ...</td> <td>http://www.imdb.com/title/tt2328813/?ref_=fn_tt_tt_1</td> <td>28                  </td> <td>Russian </td> <td>Russia </td> <td>Not Rated     </td> <td>7e+06    </td> <td>2013      </td> <td>4                     </td> <td>6.7       </td> <td>1.66        </td> <td>1000                </td>\n",
              "        </tr>\n",
              "        <tr>\n",
              "            <td> Black and White</td> <td>Alex Garland    </td> <td>489                   </td> <td>108     </td> <td>232                    </td> <td>123                   </td> <td>Sonoya Mizuno  </td> <td>149                   </td> <td>2.5441e+07 </td> <td>Drama|Mystery|Sci-Fi|Thriller   </td> <td>Elina Alminas       </td> <td>Ex Machina                   </td> <td>289508         </td> <td>430                      </td> <td>Corey Johnson     </td> <td>0                   </td> <td>artificial intelligence|robot|robot human relationship|t ...</td> <td>http://www.imdb.com/title/tt0470752/?ref_=fn_tt_tt_1</td> <td>611                 </td> <td>English </td> <td>UK     </td> <td>R             </td> <td>1.5e+07  </td> <td>2015      </td> <td>145                   </td> <td>7.7       </td> <td>2.35        </td> <td>109000              </td>\n",
              "        </tr>\n",
              "        <tr>\n",
              "            <td> Black and White</td> <td>Alexander Payne </td> <td>433                   </td> <td>115     </td> <td>729                    </td> <td>622                   </td> <td>Bruce Dern     </td> <td>1000                  </td> <td>1.76135e+07</td> <td>Adventure|Comedy|Drama          </td> <td>Devin Ratray        </td> <td>Nebraska                     </td> <td>91082          </td> <td>3798                     </td> <td>Will Forte        </td> <td>0                   </td> <td>aging|billings montana|lincoln nebraska|nebraska|pickup  ...</td> <td>http://www.imdb.com/title/tt1821549/?ref_=fn_tt_tt_1</td> <td>274                 </td> <td>English </td> <td>USA    </td> <td>R             </td> <td>1.2e+07  </td> <td>2013      </td> <td>844                   </td> <td>7.8       </td> <td>2.35        </td> <td>28000               </td>\n",
              "        </tr>\n",
              "        <tr>\n",
              "            <td> Black and White</td> <td>Alfred Hitchcock</td> <td>144                   </td> <td>130     </td> <td>13000                  </td> <td>333                   </td> <td>Joan Fontaine  </td> <td>1000                  </td> <td>nan        </td> <td>Drama|Film-Noir|Mystery|Thriller</td> <td>Laurence Olivier    </td> <td>Rebecca                      </td> <td>87424          </td> <td>2888                     </td> <td>George Sanders    </td> <td>2                   </td> <td>death|estate|housekeeper|love|monte carlo                   </td> <td>http://www.imdb.com/title/tt0032976/?ref_=fn_tt_tt_1</td> <td>276                 </td> <td>English </td> <td>USA    </td> <td>Not Rated     </td> <td>1.288e+06</td> <td>1940      </td> <td>991                   </td> <td>8.2       </td> <td>1.37        </td> <td>0                   </td>\n",
              "        </tr>\n",
              "        <tr>\n",
              "            <td> Black and White</td> <td>Alfred Hitchcock</td> <td>290                   </td> <td>108     </td> <td>13000                  </td> <td>285                   </td> <td>Vera Miles     </td> <td>606                   </td> <td>3.2e+07    </td> <td>Horror|Mystery|Thriller         </td> <td>Janet Leigh         </td> <td>Psycho                       </td> <td>422432         </td> <td>1885                     </td> <td>John Gavin        </td> <td>2                   </td> <td>money|motel|rain|shower|theft                               </td> <td>http://www.imdb.com/title/tt0054215/?ref_=fn_tt_tt_1</td> <td>1040                </td> <td>English </td> <td>USA    </td> <td>R             </td> <td>806947   </td> <td>1960      </td> <td>332                   </td> <td>8.5       </td> <td>1.85        </td> <td>18000               </td>\n",
              "        </tr>\n",
              "        <tr>\n",
              "            <td> Black and White</td> <td>Allan Dwan      </td> <td>40                    </td> <td>109     </td> <td>23                     </td> <td>88                    </td> <td>Richard Jaeckel</td> <td>183                   </td> <td>nan        </td> <td>Action|Drama|Romance|War        </td> <td>James Brown         </td> <td>Sands of Iwo Jima            </td> <td>7346           </td> <td>510                      </td> <td>Forrest Tucker    </td> <td>0                   </td> <td>battle|combat|heroic military|sergeant|tarawa               </td> <td>http://www.imdb.com/title/tt0041841/?ref_=fn_tt_tt_1</td> <td>69                  </td> <td>English </td> <td>USA    </td> <td>Approved      </td> <td>1e+06    </td> <td>1949      </td> <td>102                   </td> <td>7.2       </td> <td>1.37        </td> <td>624                 </td>\n",
              "        </tr>\n",
              "    </tbody>\n",
              "</table>\n",
              "<p>... (4987 rows omitted)</p>"
            ]
          },
          "metadata": {},
          "execution_count": 55
        }
      ],
      "source": [
        "movies = Table.read_table('IMDB_movies.csv')\n",
        "movies"
      ]
    },
    {
      "cell_type": "markdown",
      "id": "640c71e1-60dd-4b1d-a099-0ba9fbd04691",
      "metadata": {
        "id": "640c71e1-60dd-4b1d-a099-0ba9fbd04691"
      },
      "source": [
        "Since the table is very large, the notebook displays only a fraction of it. Let's first see how many rows and how many columns this table has:"
      ]
    },
    {
      "cell_type": "code",
      "execution_count": 56,
      "id": "10bc985c-03ce-4556-b8a8-bbfd5128f215",
      "metadata": {
        "id": "10bc985c-03ce-4556-b8a8-bbfd5128f215",
        "colab": {
          "base_uri": "https://localhost:8080/"
        },
        "outputId": "e1b41970-29c7-49d4-9815-ab59542a624f"
      },
      "outputs": [
        {
          "output_type": "execute_result",
          "data": {
            "text/plain": [
              "4997"
            ]
          },
          "metadata": {},
          "execution_count": 56
        }
      ],
      "source": [
        "movies.num_rows"
      ]
    },
    {
      "cell_type": "code",
      "execution_count": 57,
      "id": "ce3ff950-d11c-461d-bc6a-b78d02fcd9ba",
      "metadata": {
        "id": "ce3ff950-d11c-461d-bc6a-b78d02fcd9ba",
        "colab": {
          "base_uri": "https://localhost:8080/"
        },
        "outputId": "638646a6-4c9d-4ada-b265-7630c545018e"
      },
      "outputs": [
        {
          "output_type": "execute_result",
          "data": {
            "text/plain": [
              "28"
            ]
          },
          "metadata": {},
          "execution_count": 57
        }
      ],
      "source": [
        "movies.num_columns"
      ]
    },
    {
      "cell_type": "markdown",
      "id": "b64da794-1081-4679-8d23-b33bcaaf8bb2",
      "metadata": {
        "id": "b64da794-1081-4679-8d23-b33bcaaf8bb2"
      },
      "source": [
        "We can also list the labels (i.e., names) of the columns:"
      ]
    },
    {
      "cell_type": "code",
      "execution_count": 58,
      "id": "581b6365-534b-4d6f-80e6-561fbd411d5e",
      "metadata": {
        "id": "581b6365-534b-4d6f-80e6-561fbd411d5e",
        "colab": {
          "base_uri": "https://localhost:8080/"
        },
        "outputId": "271efe3b-8578-434d-f2f4-a943fac9b4f0"
      },
      "outputs": [
        {
          "output_type": "execute_result",
          "data": {
            "text/plain": [
              "('color',\n",
              " 'director_name',\n",
              " 'num_critic_for_reviews',\n",
              " 'duration',\n",
              " 'director_facebook_likes',\n",
              " 'actor_3_facebook_likes',\n",
              " 'actor_2_name',\n",
              " 'actor_1_facebook_likes',\n",
              " 'gross',\n",
              " 'genres',\n",
              " 'actor_1_name',\n",
              " 'movie_title',\n",
              " 'num_voted_users',\n",
              " 'cast_total_facebook_likes',\n",
              " 'actor_3_name',\n",
              " 'facenumber_in_poster',\n",
              " 'plot_keywords',\n",
              " 'movie_imdb_link',\n",
              " 'num_user_for_reviews',\n",
              " 'language',\n",
              " 'country',\n",
              " 'content_rating',\n",
              " 'budget',\n",
              " 'title_year',\n",
              " 'actor_2_facebook_likes',\n",
              " 'imdb_score',\n",
              " 'aspect_ratio',\n",
              " 'movie_facebook_likes')"
            ]
          },
          "metadata": {},
          "execution_count": 58
        }
      ],
      "source": [
        "movies.labels"
      ]
    },
    {
      "cell_type": "markdown",
      "id": "90aaccb4-6b4d-47f3-89a9-58c8f5e5aa8b",
      "metadata": {
        "id": "90aaccb4-6b4d-47f3-89a9-58c8f5e5aa8b"
      },
      "source": [
        "We can create a new table by including only selected columns (as usual, this leaves the original table unchanged):"
      ]
    },
    {
      "cell_type": "code",
      "execution_count": 59,
      "id": "67f377cd-d5c8-4600-afe9-b3387e108dd7",
      "metadata": {
        "id": "67f377cd-d5c8-4600-afe9-b3387e108dd7",
        "colab": {
          "base_uri": "https://localhost:8080/",
          "height": 392
        },
        "outputId": "f4371f26-a429-4bec-986a-4eeac88b56e6"
      },
      "outputs": [
        {
          "output_type": "execute_result",
          "data": {
            "text/plain": [
              "movie_title                   | imdb_score\n",
              "The Honeymooners              | 8.7\n",
              "Bewitched                     | 7.6\n",
              "McHale's Navy                 | 7.5\n",
              "Seven Samurai                 | 8.7\n",
              "Hard to Be a God              | 6.7\n",
              "Ex Machina                    | 7.7\n",
              "Nebraska                      | 7.8\n",
              "Rebecca                       | 8.2\n",
              "Psycho                        | 8.5\n",
              "Sands of Iwo Jima             | 7.2\n",
              "... (4987 rows omitted)"
            ],
            "text/html": [
              "<table border=\"1\" class=\"dataframe\">\n",
              "    <thead>\n",
              "        <tr>\n",
              "            <th>movie_title</th> <th>imdb_score</th>\n",
              "        </tr>\n",
              "    </thead>\n",
              "    <tbody>\n",
              "        <tr>\n",
              "            <td>The Honeymooners             </td> <td>8.7       </td>\n",
              "        </tr>\n",
              "        <tr>\n",
              "            <td>Bewitched                    </td> <td>7.6       </td>\n",
              "        </tr>\n",
              "        <tr>\n",
              "            <td>McHale's Navy                </td> <td>7.5       </td>\n",
              "        </tr>\n",
              "        <tr>\n",
              "            <td>Seven Samurai                </td> <td>8.7       </td>\n",
              "        </tr>\n",
              "        <tr>\n",
              "            <td>Hard to Be a God             </td> <td>6.7       </td>\n",
              "        </tr>\n",
              "        <tr>\n",
              "            <td>Ex Machina                   </td> <td>7.7       </td>\n",
              "        </tr>\n",
              "        <tr>\n",
              "            <td>Nebraska                     </td> <td>7.8       </td>\n",
              "        </tr>\n",
              "        <tr>\n",
              "            <td>Rebecca                      </td> <td>8.2       </td>\n",
              "        </tr>\n",
              "        <tr>\n",
              "            <td>Psycho                       </td> <td>8.5       </td>\n",
              "        </tr>\n",
              "        <tr>\n",
              "            <td>Sands of Iwo Jima            </td> <td>7.2       </td>\n",
              "        </tr>\n",
              "    </tbody>\n",
              "</table>\n",
              "<p>... (4987 rows omitted)</p>"
            ]
          },
          "metadata": {},
          "execution_count": 59
        }
      ],
      "source": [
        "title_score = movies.select('movie_title', 'imdb_score')\n",
        "title_score"
      ]
    },
    {
      "cell_type": "markdown",
      "id": "e39527cb-6d55-449a-b701-b59cc5e009f0",
      "metadata": {
        "id": "e39527cb-6d55-449a-b701-b59cc5e009f0"
      },
      "source": [
        "Now, let's work with the rows. First, we can sort them:"
      ]
    },
    {
      "cell_type": "code",
      "execution_count": 60,
      "id": "6f3d77b0-f329-4033-84f3-17bbecb38378",
      "metadata": {
        "id": "6f3d77b0-f329-4033-84f3-17bbecb38378",
        "colab": {
          "base_uri": "https://localhost:8080/",
          "height": 392
        },
        "outputId": "b72f10ee-bb7b-44cd-dc60-7bb7aff595c2"
      },
      "outputs": [
        {
          "output_type": "execute_result",
          "data": {
            "text/plain": [
              "movie_title                     | imdb_score\n",
              "Justin Bieber: Never Say Never  | 1.6\n",
              "Foodfight!                      | 1.7\n",
              "The Helix... Loaded             | 1.9\n",
              "Superbabies: Baby Geniuses 2    | 1.9\n",
              "Disaster Movie                  | 1.9\n",
              "Who's Your Caddy?               | 2\n",
              "United Passions                 | 2\n",
              "Crossover                       | 2.1\n",
              "From Justin to Kelly            | 2.1\n",
              "Glitter                         | 2.1\n",
              "... (4987 rows omitted)"
            ],
            "text/html": [
              "<table border=\"1\" class=\"dataframe\">\n",
              "    <thead>\n",
              "        <tr>\n",
              "            <th>movie_title</th> <th>imdb_score</th>\n",
              "        </tr>\n",
              "    </thead>\n",
              "    <tbody>\n",
              "        <tr>\n",
              "            <td>Justin Bieber: Never Say Never </td> <td>1.6       </td>\n",
              "        </tr>\n",
              "        <tr>\n",
              "            <td>Foodfight!                     </td> <td>1.7       </td>\n",
              "        </tr>\n",
              "        <tr>\n",
              "            <td>The Helix... Loaded            </td> <td>1.9       </td>\n",
              "        </tr>\n",
              "        <tr>\n",
              "            <td>Superbabies: Baby Geniuses 2   </td> <td>1.9       </td>\n",
              "        </tr>\n",
              "        <tr>\n",
              "            <td>Disaster Movie                 </td> <td>1.9       </td>\n",
              "        </tr>\n",
              "        <tr>\n",
              "            <td>Who's Your Caddy?              </td> <td>2         </td>\n",
              "        </tr>\n",
              "        <tr>\n",
              "            <td>United Passions                </td> <td>2         </td>\n",
              "        </tr>\n",
              "        <tr>\n",
              "            <td>Crossover                      </td> <td>2.1       </td>\n",
              "        </tr>\n",
              "        <tr>\n",
              "            <td>From Justin to Kelly           </td> <td>2.1       </td>\n",
              "        </tr>\n",
              "        <tr>\n",
              "            <td>Glitter                        </td> <td>2.1       </td>\n",
              "        </tr>\n",
              "    </tbody>\n",
              "</table>\n",
              "<p>... (4987 rows omitted)</p>"
            ]
          },
          "metadata": {},
          "execution_count": 60
        }
      ],
      "source": [
        "title_score.sort('imdb_score')"
      ]
    },
    {
      "cell_type": "markdown",
      "id": "090024b4-8f7c-4b84-b2a5-ed208312a3cc",
      "metadata": {
        "id": "090024b4-8f7c-4b84-b2a5-ed208312a3cc"
      },
      "source": [
        "But these are not the movies that we would like to see. Fortunately, we can also sort them in descending order:"
      ]
    },
    {
      "cell_type": "code",
      "execution_count": 61,
      "id": "6c407ebb-9656-41f5-8d5c-36290622c7c5",
      "metadata": {
        "id": "6c407ebb-9656-41f5-8d5c-36290622c7c5",
        "colab": {
          "base_uri": "https://localhost:8080/",
          "height": 392
        },
        "outputId": "360f49fa-1523-47d7-84e4-6917f90aef41"
      },
      "outputs": [
        {
          "output_type": "execute_result",
          "data": {
            "text/plain": [
              "movie_title                   | imdb_score\n",
              "Towering Inferno              | 9.5\n",
              "The Shawshank Redemption      | 9.3\n",
              "The Godfather                 | 9.2\n",
              "Kickboxer: Vengeance          | 9.1\n",
              "Dekalog                       | 9.1\n",
              "Fargo                         | 9\n",
              "The Dark Knight               | 9\n",
              "The Godfather: Part II        | 9\n",
              "12 Angry Men                  | 8.9\n",
              "Schindler's List              | 8.9\n",
              "... (4987 rows omitted)"
            ],
            "text/html": [
              "<table border=\"1\" class=\"dataframe\">\n",
              "    <thead>\n",
              "        <tr>\n",
              "            <th>movie_title</th> <th>imdb_score</th>\n",
              "        </tr>\n",
              "    </thead>\n",
              "    <tbody>\n",
              "        <tr>\n",
              "            <td>Towering Inferno             </td> <td>9.5       </td>\n",
              "        </tr>\n",
              "        <tr>\n",
              "            <td>The Shawshank Redemption     </td> <td>9.3       </td>\n",
              "        </tr>\n",
              "        <tr>\n",
              "            <td>The Godfather                </td> <td>9.2       </td>\n",
              "        </tr>\n",
              "        <tr>\n",
              "            <td>Kickboxer: Vengeance         </td> <td>9.1       </td>\n",
              "        </tr>\n",
              "        <tr>\n",
              "            <td>Dekalog                      </td> <td>9.1       </td>\n",
              "        </tr>\n",
              "        <tr>\n",
              "            <td>Fargo                        </td> <td>9         </td>\n",
              "        </tr>\n",
              "        <tr>\n",
              "            <td>The Dark Knight              </td> <td>9         </td>\n",
              "        </tr>\n",
              "        <tr>\n",
              "            <td>The Godfather: Part II       </td> <td>9         </td>\n",
              "        </tr>\n",
              "        <tr>\n",
              "            <td>12 Angry Men                 </td> <td>8.9       </td>\n",
              "        </tr>\n",
              "        <tr>\n",
              "            <td>Schindler's List             </td> <td>8.9       </td>\n",
              "        </tr>\n",
              "    </tbody>\n",
              "</table>\n",
              "<p>... (4987 rows omitted)</p>"
            ]
          },
          "metadata": {},
          "execution_count": 61
        }
      ],
      "source": [
        "title_score.sort('imdb_score', descending=True)"
      ]
    },
    {
      "cell_type": "markdown",
      "id": "e16af007-0f4d-48d9-81ed-55f9d5e0c08f",
      "metadata": {
        "id": "e16af007-0f4d-48d9-81ed-55f9d5e0c08f"
      },
      "source": [
        "That's much better. However, the table still has too many rows to display. We can address this problem using the `take` function, which enables us to select only certain rows:"
      ]
    },
    {
      "cell_type": "code",
      "execution_count": 62,
      "id": "458ff0ca-7567-4e2d-8031-20032bc85682",
      "metadata": {
        "id": "458ff0ca-7567-4e2d-8031-20032bc85682",
        "colab": {
          "base_uri": "https://localhost:8080/",
          "height": 143
        },
        "outputId": "c1ee2804-171b-4e2b-bd87-8e7ff9e61e74"
      },
      "outputs": [
        {
          "output_type": "execute_result",
          "data": {
            "text/plain": [
              "movie_title                   | imdb_score\n",
              "Towering Inferno              | 9.5\n",
              "The Shawshank Redemption      | 9.3\n",
              "The Godfather                 | 9.2"
            ],
            "text/html": [
              "<table border=\"1\" class=\"dataframe\">\n",
              "    <thead>\n",
              "        <tr>\n",
              "            <th>movie_title</th> <th>imdb_score</th>\n",
              "        </tr>\n",
              "    </thead>\n",
              "    <tbody>\n",
              "        <tr>\n",
              "            <td>Towering Inferno             </td> <td>9.5       </td>\n",
              "        </tr>\n",
              "        <tr>\n",
              "            <td>The Shawshank Redemption     </td> <td>9.3       </td>\n",
              "        </tr>\n",
              "        <tr>\n",
              "            <td>The Godfather                </td> <td>9.2       </td>\n",
              "        </tr>\n",
              "    </tbody>\n",
              "</table>"
            ]
          },
          "metadata": {},
          "execution_count": 62
        }
      ],
      "source": [
        "title_score.sort('imdb_score', descending=True).take(0, 1, 2)"
      ]
    },
    {
      "cell_type": "markdown",
      "id": "5e27f482-8194-40a0-912e-648e43d2876a",
      "metadata": {
        "id": "5e27f482-8194-40a0-912e-648e43d2876a"
      },
      "source": [
        "The arguments of `take` identify the rows that should be included in the result. We can combine this with what we learned earlier about specifying sequences of integers:"
      ]
    },
    {
      "cell_type": "code",
      "execution_count": 63,
      "id": "b2409c21-7ac1-426e-b080-94eb75513aeb",
      "metadata": {
        "id": "b2409c21-7ac1-426e-b080-94eb75513aeb",
        "colab": {
          "base_uri": "https://localhost:8080/",
          "height": 206
        },
        "outputId": "28ea373f-4cd5-416c-a885-70b5f9f95ff7"
      },
      "outputs": [
        {
          "output_type": "execute_result",
          "data": {
            "text/plain": [
              "movie_title                   | imdb_score\n",
              "Towering Inferno              | 9.5\n",
              "The Shawshank Redemption      | 9.3\n",
              "The Godfather                 | 9.2\n",
              "Kickboxer: Vengeance          | 9.1\n",
              "Dekalog                       | 9.1"
            ],
            "text/html": [
              "<table border=\"1\" class=\"dataframe\">\n",
              "    <thead>\n",
              "        <tr>\n",
              "            <th>movie_title</th> <th>imdb_score</th>\n",
              "        </tr>\n",
              "    </thead>\n",
              "    <tbody>\n",
              "        <tr>\n",
              "            <td>Towering Inferno             </td> <td>9.5       </td>\n",
              "        </tr>\n",
              "        <tr>\n",
              "            <td>The Shawshank Redemption     </td> <td>9.3       </td>\n",
              "        </tr>\n",
              "        <tr>\n",
              "            <td>The Godfather                </td> <td>9.2       </td>\n",
              "        </tr>\n",
              "        <tr>\n",
              "            <td>Kickboxer: Vengeance         </td> <td>9.1       </td>\n",
              "        </tr>\n",
              "        <tr>\n",
              "            <td>Dekalog                      </td> <td>9.1       </td>\n",
              "        </tr>\n",
              "    </tbody>\n",
              "</table>"
            ]
          },
          "metadata": {},
          "execution_count": 63
        }
      ],
      "source": [
        "title_score.sort('imdb_score', descending=True).take(np.arange(5))"
      ]
    },
    {
      "cell_type": "markdown",
      "id": "03d6ee4a-69b6-4883-b43d-fb4a3f700ead",
      "metadata": {
        "id": "03d6ee4a-69b6-4883-b43d-fb4a3f700ead"
      },
      "source": [
        "Finally, let's visualize some of the data. We can use the `scatter` function to draw a so-called scatter plot, which is good for studying the relationship between two features (we will look at visualizations in more detail in a later lab):"
      ]
    },
    {
      "cell_type": "code",
      "execution_count": 64,
      "id": "87cc6c12-eb41-478c-b1f6-6f54a02426a9",
      "metadata": {
        "id": "87cc6c12-eb41-478c-b1f6-6f54a02426a9",
        "colab": {
          "base_uri": "https://localhost:8080/",
          "height": 492
        },
        "outputId": "274553f1-a997-4e8a-d99f-d719318adba0"
      },
      "outputs": [
        {
          "output_type": "display_data",
          "data": {
            "text/plain": [
              "<Figure size 500x500 with 1 Axes>"
            ],
            "image/png": "[encoded data removed]"
          },
          "metadata": {}
        }
      ],
      "source": [
        "# ignore these lines (for now, just consider them to be 'magic spells' that we need to say before drawing plots)\n",
        "import matplotlib\n",
        "matplotlib.use('Agg')\n",
        "%matplotlib inline\n",
        "import matplotlib.pyplot as plots\n",
        "plots.style.use('fivethirtyeight')\n",
        "\n",
        "movies.scatter('imdb_score', 'duration')"
      ]
    },
    {
      "cell_type": "markdown",
      "id": "cb7965ff-017e-4a3e-b8e1-500a1fa0fc7c",
      "metadata": {
        "id": "cb7965ff-017e-4a3e-b8e1-500a1fa0fc7c"
      },
      "source": [
        "### Problem 6: Visualizing Budgets (0.4 points)\n",
        "\n",
        "Write a code cell that\n",
        "- takes the 1000 highest-rated movies (by their IMDB score)\n",
        "- removes the 200 most-expensive movies (by their budget)\n",
        "- and creates a scatter plot showing the relation between the year in which the movie was released and its budget.\n",
        "\n",
        "Hints:\n",
        "- 1. The column name of the year of the movie is 'title_year'.\n",
        "- 2. You may want to first store the top 1000 highested-rated movies in a variable (say top_movies). Then, you can sort top_movies by the column 'budget' in ascending order, and then take the top (1000-200) movies in the sorted top movies.\n"
      ]
    },
    {
      "cell_type": "code",
      "execution_count": 78,
      "id": "8edaf37b-e14a-4494-9415-5b68ecaeb607",
      "metadata": {
        "id": "8edaf37b-e14a-4494-9415-5b68ecaeb607",
        "colab": {
          "base_uri": "https://localhost:8080/",
          "height": 392
        },
        "outputId": "0f21704c-36d0-4fe4-91f0-1a16e821f76a"
      },
      "outputs": [
        {
          "output_type": "execute_result",
          "data": {
            "text/plain": [
              "movie_title                   | imdb_score | budget   | title_year\n",
              "Towering Inferno              | 9.5        | nan      | nan\n",
              "The Shawshank Redemption      | 9.3        | 2.5e+07  | 1994\n",
              "The Godfather                 | 9.2        | 6e+06    | 1972\n",
              "Kickboxer: Vengeance          | 9.1        | 1.7e+07  | 2016\n",
              "Dekalog                       | 9.1        | nan      | nan\n",
              "Fargo                         | 9          | nan      | nan\n",
              "The Dark Knight               | 9          | 1.85e+08 | 2008\n",
              "The Godfather: Part II        | 9          | 1.3e+07  | 1974\n",
              "12 Angry Men                  | 8.9        | 350000   | 1957\n",
              "Schindler's List              | 8.9        | 2.2e+07  | 1993\n",
              "... (990 rows omitted)"
            ],
            "text/html": [
              "<table border=\"1\" class=\"dataframe\">\n",
              "    <thead>\n",
              "        <tr>\n",
              "            <th>movie_title</th> <th>imdb_score</th> <th>budget</th> <th>title_year</th>\n",
              "        </tr>\n",
              "    </thead>\n",
              "    <tbody>\n",
              "        <tr>\n",
              "            <td>Towering Inferno             </td> <td>9.5       </td> <td>nan     </td> <td>nan       </td>\n",
              "        </tr>\n",
              "        <tr>\n",
              "            <td>The Shawshank Redemption     </td> <td>9.3       </td> <td>2.5e+07 </td> <td>1994      </td>\n",
              "        </tr>\n",
              "        <tr>\n",
              "            <td>The Godfather                </td> <td>9.2       </td> <td>6e+06   </td> <td>1972      </td>\n",
              "        </tr>\n",
              "        <tr>\n",
              "            <td>Kickboxer: Vengeance         </td> <td>9.1       </td> <td>1.7e+07 </td> <td>2016      </td>\n",
              "        </tr>\n",
              "        <tr>\n",
              "            <td>Dekalog                      </td> <td>9.1       </td> <td>nan     </td> <td>nan       </td>\n",
              "        </tr>\n",
              "        <tr>\n",
              "            <td>Fargo                        </td> <td>9         </td> <td>nan     </td> <td>nan       </td>\n",
              "        </tr>\n",
              "        <tr>\n",
              "            <td>The Dark Knight              </td> <td>9         </td> <td>1.85e+08</td> <td>2008      </td>\n",
              "        </tr>\n",
              "        <tr>\n",
              "            <td>The Godfather: Part II       </td> <td>9         </td> <td>1.3e+07 </td> <td>1974      </td>\n",
              "        </tr>\n",
              "        <tr>\n",
              "            <td>12 Angry Men                 </td> <td>8.9       </td> <td>350000  </td> <td>1957      </td>\n",
              "        </tr>\n",
              "        <tr>\n",
              "            <td>Schindler's List             </td> <td>8.9       </td> <td>2.2e+07 </td> <td>1993      </td>\n",
              "        </tr>\n",
              "    </tbody>\n",
              "</table>\n",
              "<p>... (990 rows omitted)</p>"
            ]
          },
          "metadata": {},
          "execution_count": 78
        }
      ],
      "source": [
        "top_movies = movies.select('movie_title', 'imdb_score', 'budget', 'title_year')\n",
        "top_movies = top_movies.sort('imdb_score', descending=True).take(np.arange(1000))\n",
        "top_movies"
      ]
    },
    {
      "cell_type": "code",
      "source": [
        "top_movies = top_movies.sort('budget', descending = False).take(np.arange(800))\n",
        "top_movies"
      ],
      "metadata": {
        "colab": {
          "base_uri": "https://localhost:8080/",
          "height": 392
        },
        "id": "WWVBOna_aoyH",
        "outputId": "41ce3278-dd41-4fad-d91e-7379f6d0f422"
      },
      "id": "WWVBOna_aoyH",
      "execution_count": 79,
      "outputs": [
        {
          "output_type": "execute_result",
          "data": {
            "text/plain": [
              "movie_title                            | imdb_score | budget | title_year\n",
              "The Mongol King                        | 7.8        | 3250   | 2005\n",
              "The Circle                             | 7.5        | 10000  | 2000\n",
              "Stories of Our Lives                   | 7.4        | 15000  | 2014\n",
              "Eraserhead                             | 7.4        | 20000  | 1977\n",
              "Smiling Fish & Goat on Fire            | 7.6        | 40000  | 1999\n",
              "George Washington                      | 7.5        | 42000  | 2000\n",
              "Bending Steel                          | 7.9        | 50000  | 2013\n",
              "The Image Revolution                   | 7.4        | 50000  | 2014\n",
              "Pi                                     | 7.5        | 60000  | 1998\n",
              "Peace, Propaganda & the Promised Land  | 8.3        | 70000  | 2004\n",
              "... (790 rows omitted)"
            ],
            "text/html": [
              "<table border=\"1\" class=\"dataframe\">\n",
              "    <thead>\n",
              "        <tr>\n",
              "            <th>movie_title</th> <th>imdb_score</th> <th>budget</th> <th>title_year</th>\n",
              "        </tr>\n",
              "    </thead>\n",
              "    <tbody>\n",
              "        <tr>\n",
              "            <td>The Mongol King                       </td> <td>7.8       </td> <td>3250  </td> <td>2005      </td>\n",
              "        </tr>\n",
              "        <tr>\n",
              "            <td>The Circle                            </td> <td>7.5       </td> <td>10000 </td> <td>2000      </td>\n",
              "        </tr>\n",
              "        <tr>\n",
              "            <td>Stories of Our Lives                  </td> <td>7.4       </td> <td>15000 </td> <td>2014      </td>\n",
              "        </tr>\n",
              "        <tr>\n",
              "            <td>Eraserhead                            </td> <td>7.4       </td> <td>20000 </td> <td>1977      </td>\n",
              "        </tr>\n",
              "        <tr>\n",
              "            <td>Smiling Fish & Goat on Fire           </td> <td>7.6       </td> <td>40000 </td> <td>1999      </td>\n",
              "        </tr>\n",
              "        <tr>\n",
              "            <td>George Washington                     </td> <td>7.5       </td> <td>42000 </td> <td>2000      </td>\n",
              "        </tr>\n",
              "        <tr>\n",
              "            <td>Bending Steel                         </td> <td>7.9       </td> <td>50000 </td> <td>2013      </td>\n",
              "        </tr>\n",
              "        <tr>\n",
              "            <td>The Image Revolution                  </td> <td>7.4       </td> <td>50000 </td> <td>2014      </td>\n",
              "        </tr>\n",
              "        <tr>\n",
              "            <td>Pi                                    </td> <td>7.5       </td> <td>60000 </td> <td>1998      </td>\n",
              "        </tr>\n",
              "        <tr>\n",
              "            <td>Peace, Propaganda & the Promised Land </td> <td>8.3       </td> <td>70000 </td> <td>2004      </td>\n",
              "        </tr>\n",
              "    </tbody>\n",
              "</table>\n",
              "<p>... (790 rows omitted)</p>"
            ]
          },
          "metadata": {},
          "execution_count": 79
        }
      ]
    },
    {
      "cell_type": "code",
      "source": [
        "import matplotlib\n",
        "matplotlib.use('Agg')\n",
        "%matplotlib inline\n",
        "import matplotlib.pyplot as plots\n",
        "plots.style.use('fivethirtyeight')\n",
        "\n",
        "movies.scatter('title_year', 'budget')"
      ],
      "metadata": {
        "colab": {
          "base_uri": "https://localhost:8080/",
          "height": 511
        },
        "id": "_6DEm_GwbuYg",
        "outputId": "d88ae804-41f4-4197-e9ca-af306140a74e"
      },
      "id": "_6DEm_GwbuYg",
      "execution_count": 82,
      "outputs": [
        {
          "output_type": "display_data",
          "data": {
            "text/plain": [
              "<Figure size 500x500 with 1 Axes>"
            ],
            "image/png": "[encoded data removed]"
          },
          "metadata": {}
        }
      ]
    },
    {
      "cell_type": "markdown",
      "id": "ebd40382-8efb-412b-b528-0192a92da6f9",
      "metadata": {
        "id": "ebd40382-8efb-412b-b528-0192a92da6f9"
      },
      "source": [
        "## Submit the Notebook on Canvas\n",
        "\n",
        "To download the Jupyter Notebook on your computer, click on the `File` menu and select the `Download` item. If you are using Google Colab, select the sub-item `Download .ipynb` within the `Download` item.\n",
        "\n",
        "Submit your completed notebook (with all the cells calculated) on Canvas for Laboratory Assignment 1."
      ]
    }
  ],
  "metadata": {
    "kernelspec": {
      "display_name": "Python 3",
      "name": "python3"
    },
    "language_info": {
      "codemirror_mode": {
        "name": "ipython",
        "version": 3
      },
      "file_extension": ".py",
      "mimetype": "text/x-python",
      "name": "python",
      "nbconvert_exporter": "python",
      "pygments_lexer": "ipython3",
      "version": "3.9.12"
    },
    "colab": {
      "provenance": [],
      "collapsed_sections": [
        "d80fb7ca-5717-4de0-9b78-74c6d3f386e3",
        "b1306fe3-738e-45e6-9b67-209f9372096a",
        "2f3c83b6-f54c-4fca-8398-1dc4f24e3126"
      ]
    }
  },
  "nbformat": 4,
  "nbformat_minor": 5
}