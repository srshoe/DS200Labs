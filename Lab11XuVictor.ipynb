{
  "nbformat": 4,
  "nbformat_minor": 0,
  "metadata": {
    "kernelspec": {
      "name": "python3",
      "display_name": "Python 3",
      "language": "python"
    },
    "language_info": {
      "mimetype": "text/x-python",
      "nbconvert_exporter": "python",
      "name": "python",
      "pygments_lexer": "ipython3",
      "version": "3.5.4",
      "file_extension": ".py",
      "codemirror_mode": {
        "version": 3,
        "name": "ipython"
      }
    },
    "colab": {
      "provenance": []
    }
  },
  "cells": [
    {
      "cell_type": "markdown",
      "metadata": {
        "id": "aMY_T5FLzFAA"
      },
      "source": [
        "# PSU DS 200  Fall 2024\n",
        "# Optional Lab 11 Stratified K-fold CV for DT Hyperparameter Tuning\n",
        "\n",
        "## Instructor: John Yen\n",
        "\n",
        "## LAs: Lauren Miller, Aaron Almeida, Amiera Masheetah Binti Irwan Rizalman, and Sharifah Rodziah Hanim BintiSyed Alwi\n",
        "\n",
        "## Problems:\n",
        "- Problem 1 : 1 point\n",
        "- Problem 2 : 1 point\n",
        "- Problem 3 : 1 point\n",
        "- Problem 4 : 1 point\n",
        "- Problem 5: 1 point\n",
        "\n",
        "## Total: 5 points\n",
        "## Due: Nov 13, 11:59 pm\n",
        "\n",
        "## Early Submission Bonus: 10 points, before midnight November 10th\n"
      ]
    },
    {
      "cell_type": "code",
      "metadata": {
        "trusted": true,
        "id": "YDHybLjyzFAP"
      },
      "source": [
        "import datascience\n",
        "import numpy as np\n",
        "import graphviz\n",
        "\n",
        "from datascience import *\n",
        "from sklearn.feature_extraction.text import CountVectorizer\n",
        "from sklearn.model_selection import train_test_split\n",
        "from sklearn.pipeline import Pipeline\n",
        "from sklearn import tree\n",
        "from sklearn.tree import DecisionTreeClassifier\n",
        "from sklearn import metrics\n",
        "\n",
        "\n",
        "from sklearn.metrics import f1_score\n",
        "from sklearn.metrics import precision_score\n",
        "from sklearn.metrics import recall_score\n",
        "from sklearn.model_selection import cross_val_score\n",
        "from sklearn.model_selection import cross_validate\n",
        "from sklearn.base import ClassifierMixin\n",
        "from sklearn.model_selection import StratifiedKFold\n",
        "from sklearn.metrics import precision_recall_fscore_support\n",
        "\n",
        "import pandas as pd\n",
        "import numpy as np\n",
        "\n",
        "# from sklearn.externals import joblib\n",
        "\n",
        "import os\n",
        "os.environ[\"PATH\"] += os.pathsep + 'C:/Program Files (x86)/Graphviz2.38/bin/'"
      ],
      "execution_count": 162,
      "outputs": []
    },
    {
      "cell_type": "code",
      "metadata": {
        "trusted": true,
        "id": "x5AbEEUMrnKZ"
      },
      "source": [
        "import matplotlib.pyplot as plt\n",
        "from matplotlib.pyplot import *"
      ],
      "execution_count": 163,
      "outputs": []
    },
    {
      "cell_type": "code",
      "metadata": {
        "trusted": true,
        "id": "rR99vkTMrvGi"
      },
      "source": [
        "matplotlib.use('Agg')\n",
        "%matplotlib inline\n",
        "import matplotlib.pyplot as plots\n",
        "plots.style.use('fivethirtyeight')\n",
        "\n",
        "import warnings\n",
        "warnings.simplefilter(action=\"ignore\", category=FutureWarning)"
      ],
      "execution_count": 164,
      "outputs": []
    },
    {
      "cell_type": "code",
      "metadata": {
        "id": "u9IRGZ6GPIyT",
        "colab": {
          "base_uri": "https://localhost:8080/"
        },
        "outputId": "1d8a5b49-ea08-498c-f256-8cb99b7ad152"
      },
      "source": [
        "from google.colab import drive\n",
        "drive.mount('/content/drive')"
      ],
      "execution_count": 165,
      "outputs": [
        {
          "output_type": "stream",
          "name": "stdout",
          "text": [
            "Drive already mounted at /content/drive; to attempt to forcibly remount, call drive.mount(\"/content/drive\", force_remount=True).\n"
          ]
        }
      ]
    },
    {
      "cell_type": "code",
      "metadata": {
        "id": "93Msrl_OQO7s",
        "colab": {
          "base_uri": "https://localhost:8080/"
        },
        "outputId": "e310c900-8190-42ed-dfaf-3ae21643a2b7"
      },
      "source": [
        "!ls /content/drive/My\\ Drive/DS200F24/"
      ],
      "execution_count": 166,
      "outputs": [
        {
          "output_type": "stream",
          "name": "stdout",
          "text": [
            "Ben-NE-9-10-2015-pass.csv  BreatCancerFinal.csv\t\tsentiment_classifier_P4_vxu.pdf\n",
            "Ben_pass_vx_10_22_Ex3\t   ChatGPTtweets.csv\n",
            "Ben_pass_vx_10_22_Ex3.pdf  sentiment_classifier_P4_vxu\n"
          ]
        }
      ]
    },
    {
      "cell_type": "code",
      "metadata": {
        "id": "czVKB6kbQXe0",
        "colab": {
          "base_uri": "https://localhost:8080/",
          "height": 273
        },
        "outputId": "e8d61804-4695-41fe-8b9d-4617f0cd5f4d"
      },
      "source": [
        "path= \"/content/drive/My Drive/DS200F24/BreatCancerFinal.csv\"\n",
        "BC_table = Table.read_table(path)\n",
        "BC_table.show(5)"
      ],
      "execution_count": 167,
      "outputs": [
        {
          "output_type": "display_data",
          "data": {
            "text/plain": [
              "<IPython.core.display.HTML object>"
            ],
            "text/html": [
              "<table border=\"1\" class=\"dataframe\">\n",
              "    <thead>\n",
              "        <tr>\n",
              "            <th>radius_mean</th> <th>texture_mean</th> <th>perimeter_mean</th> <th>area_mean</th> <th>smoothness_mean</th> <th>compactness_mean</th> <th>concavity_mean</th> <th>concave points_mean</th> <th>symmetry_mean</th> <th>fractal_dimension_mean</th> <th>radius_se</th> <th>texture_se</th> <th>perimeter_se</th> <th>area_se</th> <th>smoothness_se</th> <th>compactness_se</th> <th>concavity_se</th> <th>concave points_se</th> <th>symmetry_se</th> <th>fractal_dimension_se</th> <th>radius_worst</th> <th>texture_worst</th> <th>perimeter_worst</th> <th>area_worst</th> <th>smoothness_worst</th> <th>compactness_worst</th> <th>concavity_worst</th> <th>concave points_worst</th> <th>symmetry_worst</th> <th>fractal_dimension_worst</th> <th>classification</th>\n",
              "        </tr>\n",
              "    </thead>\n",
              "    <tbody>\n",
              "        <tr>\n",
              "            <td>17.99      </td> <td>10.38       </td> <td>122.8         </td> <td>1001     </td> <td>0.1184         </td> <td>0.2776          </td> <td>0.3001        </td> <td>0.1471             </td> <td>0.2419       </td> <td>0.07871               </td> <td>1.095    </td> <td>0.9053    </td> <td>8.589       </td> <td>153.4  </td> <td>0.006399     </td> <td>0.04904       </td> <td>0.05373     </td> <td>0.01587          </td> <td>0.03003    </td> <td>0.006193            </td> <td>25.38       </td> <td>17.33        </td> <td>184.6          </td> <td>2019      </td> <td>0.1622          </td> <td>0.6656           </td> <td>0.7119         </td> <td>0.2654              </td> <td>0.4601        </td> <td>0.1189                 </td> <td>1             </td>\n",
              "        </tr>\n",
              "        <tr>\n",
              "            <td>20.57      </td> <td>17.77       </td> <td>132.9         </td> <td>1326     </td> <td>0.08474        </td> <td>0.07864         </td> <td>0.0869        </td> <td>0.07017            </td> <td>0.1812       </td> <td>0.05667               </td> <td>0.5435   </td> <td>0.7339    </td> <td>3.398       </td> <td>74.08  </td> <td>0.005225     </td> <td>0.01308       </td> <td>0.0186      </td> <td>0.0134           </td> <td>0.01389    </td> <td>0.003532            </td> <td>24.99       </td> <td>23.41        </td> <td>158.8          </td> <td>1956      </td> <td>0.1238          </td> <td>0.1866           </td> <td>0.2416         </td> <td>0.186               </td> <td>0.275         </td> <td>0.08902                </td> <td>1             </td>\n",
              "        </tr>\n",
              "        <tr>\n",
              "            <td>19.69      </td> <td>21.25       </td> <td>130           </td> <td>1203     </td> <td>0.1096         </td> <td>0.1599          </td> <td>0.1974        </td> <td>0.1279             </td> <td>0.2069       </td> <td>0.05999               </td> <td>0.7456   </td> <td>0.7869    </td> <td>4.585       </td> <td>94.03  </td> <td>0.00615      </td> <td>0.04006       </td> <td>0.03832     </td> <td>0.02058          </td> <td>0.0225     </td> <td>0.004571            </td> <td>23.57       </td> <td>25.53        </td> <td>152.5          </td> <td>1709      </td> <td>0.1444          </td> <td>0.4245           </td> <td>0.4504         </td> <td>0.243               </td> <td>0.3613        </td> <td>0.08758                </td> <td>1             </td>\n",
              "        </tr>\n",
              "        <tr>\n",
              "            <td>11.42      </td> <td>20.38       </td> <td>77.58         </td> <td>386.1    </td> <td>0.1425         </td> <td>0.2839          </td> <td>0.2414        </td> <td>0.1052             </td> <td>0.2597       </td> <td>0.09744               </td> <td>0.4956   </td> <td>1.156     </td> <td>3.445       </td> <td>27.23  </td> <td>0.00911      </td> <td>0.07458       </td> <td>0.05661     </td> <td>0.01867          </td> <td>0.05963    </td> <td>0.009208            </td> <td>14.91       </td> <td>26.5         </td> <td>98.87          </td> <td>567.7     </td> <td>0.2098          </td> <td>0.8663           </td> <td>0.6869         </td> <td>0.2575              </td> <td>0.6638        </td> <td>0.173                  </td> <td>1             </td>\n",
              "        </tr>\n",
              "        <tr>\n",
              "            <td>20.29      </td> <td>14.34       </td> <td>135.1         </td> <td>1297     </td> <td>0.1003         </td> <td>0.1328          </td> <td>0.198         </td> <td>0.1043             </td> <td>0.1809       </td> <td>0.05883               </td> <td>0.7572   </td> <td>0.7813    </td> <td>5.438       </td> <td>94.44  </td> <td>0.01149      </td> <td>0.02461       </td> <td>0.05688     </td> <td>0.01885          </td> <td>0.01756    </td> <td>0.005115            </td> <td>22.54       </td> <td>16.67        </td> <td>152.2          </td> <td>1575      </td> <td>0.1374          </td> <td>0.205            </td> <td>0.4            </td> <td>0.1625              </td> <td>0.2364        </td> <td>0.07678                </td> <td>1             </td>\n",
              "        </tr>\n",
              "    </tbody>\n",
              "</table>\n",
              "<p>... (564 rows omitted)</p>"
            ]
          },
          "metadata": {}
        }
      ]
    },
    {
      "cell_type": "code",
      "metadata": {
        "id": "Igg23233JoDh",
        "colab": {
          "base_uri": "https://localhost:8080/"
        },
        "outputId": "74e7b2a3-d534-4fc8-897f-3d6668fc0962"
      },
      "source": [
        "BC_feature_names= BC_table.labels\n",
        "print(BC_feature_names)\n",
        "BC_table.num_columns"
      ],
      "execution_count": 168,
      "outputs": [
        {
          "output_type": "stream",
          "name": "stdout",
          "text": [
            "('radius_mean', 'texture_mean', 'perimeter_mean', 'area_mean', 'smoothness_mean', 'compactness_mean', 'concavity_mean', 'concave points_mean', 'symmetry_mean', 'fractal_dimension_mean', 'radius_se', 'texture_se', 'perimeter_se', 'area_se', 'smoothness_se', 'compactness_se', 'concavity_se', 'concave points_se', 'symmetry_se', 'fractal_dimension_se', 'radius_worst', 'texture_worst', 'perimeter_worst', 'area_worst', 'smoothness_worst', 'compactness_worst', 'concavity_worst', 'concave points_worst', 'symmetry_worst', 'fractal_dimension_worst', 'classification')\n"
          ]
        },
        {
          "output_type": "execute_result",
          "data": {
            "text/plain": [
              "31"
            ]
          },
          "metadata": {},
          "execution_count": 168
        }
      ]
    },
    {
      "cell_type": "code",
      "metadata": {
        "id": "nQdgd6b0KRLd",
        "colab": {
          "base_uri": "https://localhost:8080/"
        },
        "outputId": "e8f2fbe9-3362-4393-946c-0d182ab9f793"
      },
      "source": [
        "# Because the last column is 'classification', which is NOT a feture, but the model's prediction variable, therefore we need to extract the first 30 columns as the list of feature names.\n",
        "BC_feature_names = BC_feature_names[0:30]\n",
        "print(BC_feature_names)"
      ],
      "execution_count": 169,
      "outputs": [
        {
          "output_type": "stream",
          "name": "stdout",
          "text": [
            "('radius_mean', 'texture_mean', 'perimeter_mean', 'area_mean', 'smoothness_mean', 'compactness_mean', 'concavity_mean', 'concave points_mean', 'symmetry_mean', 'fractal_dimension_mean', 'radius_se', 'texture_se', 'perimeter_se', 'area_se', 'smoothness_se', 'compactness_se', 'concavity_se', 'concave points_se', 'symmetry_se', 'fractal_dimension_se', 'radius_worst', 'texture_worst', 'perimeter_worst', 'area_worst', 'smoothness_worst', 'compactness_worst', 'concavity_worst', 'concave points_worst', 'symmetry_worst', 'fractal_dimension_worst')\n"
          ]
        }
      ]
    },
    {
      "cell_type": "code",
      "metadata": {
        "id": "htzy_9oHMVpU",
        "colab": {
          "base_uri": "https://localhost:8080/"
        },
        "outputId": "940525d9-5d73-4d34-a8eb-44426b24dcbc"
      },
      "source": [
        "BC_features = BC_table.values[:, 0:30]\n",
        "print(BC_features)"
      ],
      "execution_count": 170,
      "outputs": [
        {
          "output_type": "stream",
          "name": "stdout",
          "text": [
            "[[17.99 10.38 122.8 ..., 0.2654 0.4601 0.1189]\n",
            " [20.57 17.77 132.9 ..., 0.186 0.275 0.08902]\n",
            " [19.69 21.25 130.0 ..., 0.243 0.3613 0.0875799999999999]\n",
            " ..., \n",
            " [14.05 27.15 91.38 ..., 0.1048 0.225 0.08321]\n",
            " [11.2 29.37 70.67 ..., 0.0 0.1566 0.05905]\n",
            " [7.76 24.54 47.92 ..., 0.0 0.2871 0.07039]]\n"
          ]
        }
      ]
    },
    {
      "cell_type": "code",
      "metadata": {
        "id": "2WJp2EqWMrqL",
        "colab": {
          "base_uri": "https://localhost:8080/"
        },
        "outputId": "bf9846a4-2886-44ed-e578-4de8361e6b5b"
      },
      "source": [
        "BC_classification = BC_table.values[:, 30]\n",
        "print(BC_classification)\n",
        "type(BC_classification)"
      ],
      "execution_count": 171,
      "outputs": [
        {
          "output_type": "stream",
          "name": "stdout",
          "text": [
            "[1 1 1 1 1 1 1 1 1 1 1 1 1 1 1 1 1 1 1 1 1 1 1 1 1 1 1 1 1 1 1 1 1 1 1 1 1\n",
            " 1 1 1 1 1 1 1 1 1 1 1 1 1 1 1 1 1 1 1 1 1 1 1 1 1 1 1 1 1 1 1 1 1 1 1 1 1\n",
            " 1 1 1 1 1 1 1 1 1 1 1 1 1 1 1 1 1 1 1 1 1 1 1 1 1 1 1 1 1 1 1 1 1 1 1 1 1\n",
            " 1 1 1 1 1 1 1 1 1 1 1 1 1 1 1 1 1 1 1 1 1 1 1 1 1 1 1 1 1 1 1 1 1 1 1 1 1\n",
            " 1 1 1 1 1 1 1 1 1 1 1 1 1 1 1 1 1 1 1 1 1 1 1 1 1 1 1 1 1 1 1 1 1 1 1 1 1\n",
            " 1 1 1 1 1 1 1 1 1 1 1 1 1 1 1 1 1 1 1 1 1 1 1 1 1 1 1 0 0 0 0 0 0 0 0 0 0\n",
            " 0 0 0 0 0 0 0 0 0 0 0 0 0 0 0 0 0 0 0 0 0 0 0 0 0 0 0 0 0 0 0 0 0 0 0 0 0\n",
            " 0 0 0 0 0 0 0 0 0 0 0 0 0 0 0 0 0 0 0 0 0 0 0 0 0 0 0 0 0 0 0 0 0 0 0 0 0\n",
            " 0 0 0 0 0 0 0 0 0 0 0 0 0 0 0 0 0 0 0 0 0 0 0 0 0 0 0 0 0 0 0 0 0 0 0 0 0\n",
            " 0 0 0 0 0 0 0 0 0 0 0 0 0 0 0 0 0 0 0 0 0 0 0 0 0 0 0 0 0 0 0 0 0 0 0 0 0\n",
            " 0 0 0 0 0 0 0 0 0 0 0 0 0 0 0 0 0 0 0 0 0 0 0 0 0 0 0 0 0 0 0 0 0 0 0 0 0\n",
            " 0 0 0 0 0 0 0 0 0 0 0 0 0 0 0 0 0 0 0 0 0 0 0 0 0 0 0 0 0 0 0 0 0 0 0 0 0\n",
            " 0 0 0 0 0 0 0 0 0 0 0 0 0 0 0 0 0 0 0 0 0 0 0 0 0 0 0 0 0 0 0 0 0 0 0 0 0\n",
            " 0 0 0 0 0 0 0 0 0 0 0 0 0 0 0 0 0 0 0 0 0 0 0 0 0 0 0 0 0 0 0 0 0 0 0 0 0\n",
            " 0 0 0 0 0 0 0 0 0 0 0 0 0 0 0 0 0 0 0 0 0 0 0 0 0 0 0 0 0 0 0 0 0 0 0 0 0\n",
            " 0 0 0 0 0 0 0 0 0 0 0 0 0 0]\n"
          ]
        },
        {
          "output_type": "execute_result",
          "data": {
            "text/plain": [
              "numpy.ndarray"
            ]
          },
          "metadata": {},
          "execution_count": 171
        }
      ]
    },
    {
      "cell_type": "markdown",
      "source": [
        "# Convert the labels to ``float`` type, which is expected by ``sklearn``"
      ],
      "metadata": {
        "id": "1Jbp19H3TqYR"
      }
    },
    {
      "cell_type": "code",
      "source": [
        "BC_labels = BC_classification.astype(float)\n",
        "print(BC_labels)"
      ],
      "metadata": {
        "id": "a00w3QsUGKUT",
        "colab": {
          "base_uri": "https://localhost:8080/"
        },
        "outputId": "f07b1f79-00cc-4054-a241-01a2e5acb3ba"
      },
      "execution_count": 172,
      "outputs": [
        {
          "output_type": "stream",
          "name": "stdout",
          "text": [
            "[ 1.  1.  1.  1.  1.  1.  1.  1.  1.  1.  1.  1.  1.  1.  1.  1.  1.  1.\n",
            "  1.  1.  1.  1.  1.  1.  1.  1.  1.  1.  1.  1.  1.  1.  1.  1.  1.  1.\n",
            "  1.  1.  1.  1.  1.  1.  1.  1.  1.  1.  1.  1.  1.  1.  1.  1.  1.  1.\n",
            "  1.  1.  1.  1.  1.  1.  1.  1.  1.  1.  1.  1.  1.  1.  1.  1.  1.  1.\n",
            "  1.  1.  1.  1.  1.  1.  1.  1.  1.  1.  1.  1.  1.  1.  1.  1.  1.  1.\n",
            "  1.  1.  1.  1.  1.  1.  1.  1.  1.  1.  1.  1.  1.  1.  1.  1.  1.  1.\n",
            "  1.  1.  1.  1.  1.  1.  1.  1.  1.  1.  1.  1.  1.  1.  1.  1.  1.  1.\n",
            "  1.  1.  1.  1.  1.  1.  1.  1.  1.  1.  1.  1.  1.  1.  1.  1.  1.  1.\n",
            "  1.  1.  1.  1.  1.  1.  1.  1.  1.  1.  1.  1.  1.  1.  1.  1.  1.  1.\n",
            "  1.  1.  1.  1.  1.  1.  1.  1.  1.  1.  1.  1.  1.  1.  1.  1.  1.  1.\n",
            "  1.  1.  1.  1.  1.  1.  1.  1.  1.  1.  1.  1.  1.  1.  1.  1.  1.  1.\n",
            "  1.  1.  1.  1.  1.  1.  1.  1.  1.  1.  1.  1.  1.  1.  0.  0.  0.  0.\n",
            "  0.  0.  0.  0.  0.  0.  0.  0.  0.  0.  0.  0.  0.  0.  0.  0.  0.  0.\n",
            "  0.  0.  0.  0.  0.  0.  0.  0.  0.  0.  0.  0.  0.  0.  0.  0.  0.  0.\n",
            "  0.  0.  0.  0.  0.  0.  0.  0.  0.  0.  0.  0.  0.  0.  0.  0.  0.  0.\n",
            "  0.  0.  0.  0.  0.  0.  0.  0.  0.  0.  0.  0.  0.  0.  0.  0.  0.  0.\n",
            "  0.  0.  0.  0.  0.  0.  0.  0.  0.  0.  0.  0.  0.  0.  0.  0.  0.  0.\n",
            "  0.  0.  0.  0.  0.  0.  0.  0.  0.  0.  0.  0.  0.  0.  0.  0.  0.  0.\n",
            "  0.  0.  0.  0.  0.  0.  0.  0.  0.  0.  0.  0.  0.  0.  0.  0.  0.  0.\n",
            "  0.  0.  0.  0.  0.  0.  0.  0.  0.  0.  0.  0.  0.  0.  0.  0.  0.  0.\n",
            "  0.  0.  0.  0.  0.  0.  0.  0.  0.  0.  0.  0.  0.  0.  0.  0.  0.  0.\n",
            "  0.  0.  0.  0.  0.  0.  0.  0.  0.  0.  0.  0.  0.  0.  0.  0.  0.  0.\n",
            "  0.  0.  0.  0.  0.  0.  0.  0.  0.  0.  0.  0.  0.  0.  0.  0.  0.  0.\n",
            "  0.  0.  0.  0.  0.  0.  0.  0.  0.  0.  0.  0.  0.  0.  0.  0.  0.  0.\n",
            "  0.  0.  0.  0.  0.  0.  0.  0.  0.  0.  0.  0.  0.  0.  0.  0.  0.  0.\n",
            "  0.  0.  0.  0.  0.  0.  0.  0.  0.  0.  0.  0.  0.  0.  0.  0.  0.  0.\n",
            "  0.  0.  0.  0.  0.  0.  0.  0.  0.  0.  0.  0.  0.  0.  0.  0.  0.  0.\n",
            "  0.  0.  0.  0.  0.  0.  0.  0.  0.  0.  0.  0.  0.  0.  0.  0.  0.  0.\n",
            "  0.  0.  0.  0.  0.  0.  0.  0.  0.  0.  0.  0.  0.  0.  0.  0.  0.  0.\n",
            "  0.  0.  0.  0.  0.  0.  0.  0.  0.  0.  0.  0.  0.  0.  0.  0.  0.  0.\n",
            "  0.  0.  0.  0.  0.  0.  0.  0.  0.  0.  0.  0.  0.  0.  0.  0.  0.  0.\n",
            "  0.  0.  0.  0.  0.  0.  0.  0.  0.  0.  0.]\n"
          ]
        }
      ]
    },
    {
      "cell_type": "code",
      "metadata": {
        "trusted": true,
        "id": "F3MIZrcrzFBT",
        "colab": {
          "base_uri": "https://localhost:8080/"
        },
        "outputId": "f5592590-e69d-422a-f8ea-369af8b78fa3"
      },
      "source": [
        "# Print the total number of labelled data. This way, we can double check the number of training and testing in each fold is correct.\n",
        "print('Size of Labelled Data: ', len(BC_classification))"
      ],
      "execution_count": 173,
      "outputs": [
        {
          "output_type": "stream",
          "name": "stdout",
          "text": [
            "Size of Labelled Data:  569\n"
          ]
        }
      ]
    },
    {
      "cell_type": "markdown",
      "metadata": {
        "id": "AFr7dpKwzFBa"
      },
      "source": [
        "# Stratified KFold Cross Validation\n",
        "StratifiedKFold is a function in sklearn under the submodule model_selection.\n",
        "### Notice: In the beginning of this notebook, we import StratifiedKFold using the following python code:\n",
        "```\n",
        "    from sklearn.model_selection import StratifiedKFold\n",
        "```\n",
        "### The ``n_splits`` parameter of StratifiedKFold indicates how many folds to use.  For example, n_splits=5 means Stratified 5-fold cross validation.\n"
      ]
    },
    {
      "cell_type": "code",
      "metadata": {
        "trusted": true,
        "id": "af76aIqfzFBb"
      },
      "source": [
        "# Use Stratified Kfold Cross Validation so that\n",
        "#   each fold contains the same ratio of positive/negative instances\n",
        "k = 5\n",
        "skf = StratifiedKFold(n_splits= k , random_state=11, shuffle= True)"
      ],
      "execution_count": 174,
      "outputs": []
    },
    {
      "cell_type": "markdown",
      "source": [
        "## Using Numpy Array to record model performance (f1) for each fold, and each hyper-parameter value."
      ],
      "metadata": {
        "id": "kxMAe98HU3mQ"
      }
    },
    {
      "cell_type": "code",
      "metadata": {
        "trusted": true,
        "id": "ISn3xADqNuxb"
      },
      "source": [
        "### Set the range of max_depth for finding the best max_depth for this problem\n",
        "low_max_depth = 2\n",
        "high_max_depth = 12\n",
        "training_performance_table = np.empty( [high_max_depth+1, k+1] )\n",
        "testing_performance_table = np.empty( [high_max_depth+1, k+1] )"
      ],
      "execution_count": 175,
      "outputs": []
    },
    {
      "cell_type": "markdown",
      "metadata": {
        "id": "qRqLuTlNQGOJ"
      },
      "source": [
        "# Problem 1 (1 point)\n",
        "Complete the following code to specify\n",
        "- The parameters for clf.fit (the first parameter is the training input features, and the second parameter is the labels of the training data)\n",
        "\n",
        "- The hyper-parameter value for ``max_depth``, which changes in the loop ``for depth in ..``.\n",
        "\n",
        "Execute the code, which iterates over (1) different folds of training-testing split generated from stratified k-fold earlier, and (2) different max_depth choices.\n",
        "\n"
      ]
    },
    {
      "cell_type": "code",
      "metadata": {
        "trusted": true,
        "id": "DtoyJnSiNolw"
      },
      "source": [
        "X = BC_features\n",
        "y = BC_labels\n",
        "fold = 0\n",
        "for train_index, test_index in skf.split(X,y):\n",
        "  fold = fold + 1\n",
        "  X_train = X[train_index]\n",
        "  y_train = y[train_index]\n",
        "  X_test = X[test_index]\n",
        "  y_test = y[test_index]\n",
        "  for depth in range(low_max_depth, high_max_depth + 1):\n",
        "        clf = tree.DecisionTreeClassifier(criterion='entropy', random_state = 100, max_depth=depth,\n",
        "                                  min_samples_leaf =2)\n",
        "        clf.fit(X_train, y_train)\n",
        "        predicted_training_y = clf.predict(X_train)\n",
        "        train_f1= metrics.f1_score(y_train, predicted_training_y)\n",
        "        training_performance_table[depth, fold]=train_f1\n",
        "        predicted_testing_y = clf.predict(X_test)\n",
        "        test_f1 = metrics.f1_score(y_test, predicted_testing_y)\n",
        "        testing_performance_table[depth, fold]= test_f1\n",
        "        # end of the inner for loop\n",
        "# end of the outer for loop"
      ],
      "execution_count": 176,
      "outputs": []
    },
    {
      "cell_type": "markdown",
      "source": [
        "# We can extract model performance for a specific hyper-parameter across all folds from ``f1_training_array`` using the index ``[5, 1:k+1:1]``"
      ],
      "metadata": {
        "id": "HEGmASXXVbqS"
      }
    },
    {
      "cell_type": "code",
      "metadata": {
        "trusted": true,
        "id": "rdGe2zR7OY80",
        "colab": {
          "base_uri": "https://localhost:8080/"
        },
        "outputId": "21df6db7-f4a6-46ae-cfde-5db8f511cf14"
      },
      "source": [
        "f1_training_array=training_performance_table[5, 1:k+1:1]\n",
        "print(f1_training_array)"
      ],
      "execution_count": 177,
      "outputs": [
        {
          "output_type": "stream",
          "name": "stdout",
          "text": [
            "[ 0.98525074  0.98203593  0.99706745  0.97947214  0.98224852]\n"
          ]
        }
      ]
    },
    {
      "cell_type": "code",
      "source": [
        "f1_testing_array = testing_performance_table[5, 1:k+1:1]\n",
        "print(f1_testing_array)"
      ],
      "metadata": {
        "id": "LWZIV5wNOY82",
        "colab": {
          "base_uri": "https://localhost:8080/"
        },
        "outputId": "c05ba8d7-7817-43a5-b7f3-d6704e020cbc"
      },
      "execution_count": 178,
      "outputs": [
        {
          "output_type": "stream",
          "name": "stdout",
          "text": [
            "[ 0.89411765  0.93181818  0.89156627  0.91954023  0.9047619 ]\n"
          ]
        }
      ]
    },
    {
      "cell_type": "code",
      "source": [
        "f1_testing_d6_array = testing_performance_table[6, 1:k+1:1]\n",
        "print(f1_testing_d6_array)"
      ],
      "metadata": {
        "id": "rQ7m_GMBOY83",
        "colab": {
          "base_uri": "https://localhost:8080/"
        },
        "outputId": "c131dfc8-e6ba-49cc-cb0e-435d5b0447f4"
      },
      "execution_count": 179,
      "outputs": [
        {
          "output_type": "stream",
          "name": "stdout",
          "text": [
            "[ 0.89411765  0.91954023  0.89156627  0.9047619   0.9047619 ]\n"
          ]
        }
      ]
    },
    {
      "cell_type": "markdown",
      "metadata": {
        "id": "m8HDmYKcQYjn"
      },
      "source": [
        "### Calculate Average, Minimum, and Maximum f1 score across folds\n",
        "The first dimension of training_performance_table refers to a specific max_depth value.\n",
        "The second dimension of training_performance_table refers to the number of a fold (in a Stratified k-fold).\n",
        "\n",
        "For example, the code below returns an array of f1_score for all k folds for max_depth set to 5."
      ]
    },
    {
      "cell_type": "markdown",
      "metadata": {
        "id": "LHelIuS9Qhbq"
      },
      "source": [
        "#### Numpy offers a convenient way to calculate the average, the minimum, and the maximum value of a given array:\n",
        "    np.average returns the average of a given array\n",
        "    np.amin returns the minimum value of a given array\n",
        "    np.amax regturns the maximum value of a given array"
      ]
    },
    {
      "cell_type": "code",
      "metadata": {
        "trusted": true,
        "id": "YKyg0wacOqp8",
        "colab": {
          "base_uri": "https://localhost:8080/"
        },
        "outputId": "297098e9-aeec-4aa0-910f-a4de5676c6b3"
      },
      "source": [
        "np.average(f1_testing_array)"
      ],
      "execution_count": 180,
      "outputs": [
        {
          "output_type": "execute_result",
          "data": {
            "text/plain": [
              "0.90836084571684172"
            ]
          },
          "metadata": {},
          "execution_count": 180
        }
      ]
    },
    {
      "cell_type": "code",
      "source": [
        "np.std(f1_testing_array)"
      ],
      "metadata": {
        "id": "R4nTSRGmOqp9",
        "colab": {
          "base_uri": "https://localhost:8080/"
        },
        "outputId": "13cd53f6-4fb7-41a4-e137-8ace7828c98c"
      },
      "execution_count": 181,
      "outputs": [
        {
          "output_type": "execute_result",
          "data": {
            "text/plain": [
              "0.015317338350978248"
            ]
          },
          "metadata": {},
          "execution_count": 181
        }
      ]
    },
    {
      "cell_type": "code",
      "source": [
        "np.average(f1_testing_d6_array)"
      ],
      "metadata": {
        "id": "5pUR35yyOqp9",
        "colab": {
          "base_uri": "https://localhost:8080/"
        },
        "outputId": "d2966598-e08c-43aa-fa37-4be8cffc04f4"
      },
      "execution_count": 182,
      "outputs": [
        {
          "output_type": "execute_result",
          "data": {
            "text/plain": [
              "0.90294959030558641"
            ]
          },
          "metadata": {},
          "execution_count": 182
        }
      ]
    },
    {
      "cell_type": "code",
      "source": [
        "np.std(f1_testing_d6_array)"
      ],
      "metadata": {
        "id": "5m2NUBNgOqp-",
        "colab": {
          "base_uri": "https://localhost:8080/"
        },
        "outputId": "91786370-7e65-4ebb-a795-d2828f2e91c5"
      },
      "execution_count": 183,
      "outputs": [
        {
          "output_type": "execute_result",
          "data": {
            "text/plain": [
              "0.009893448379492676"
            ]
          },
          "metadata": {},
          "execution_count": 183
        }
      ]
    },
    {
      "cell_type": "code",
      "metadata": {
        "trusted": true,
        "id": "1hLDpBaYOqp-",
        "colab": {
          "base_uri": "https://localhost:8080/"
        },
        "outputId": "d0197f9c-803d-4144-8d2c-afd69a78a25d"
      },
      "source": [
        "np.amin(training_performance_table[7, 1:k+1:1])"
      ],
      "execution_count": 184,
      "outputs": [
        {
          "output_type": "execute_result",
          "data": {
            "text/plain": [
              "0.98809523809523814"
            ]
          },
          "metadata": {},
          "execution_count": 184
        }
      ]
    },
    {
      "cell_type": "code",
      "metadata": {
        "trusted": true,
        "id": "VRNimff4Oqp-",
        "colab": {
          "base_uri": "https://localhost:8080/"
        },
        "outputId": "0a110488-b96c-47a2-cb36-8f366f233604"
      },
      "source": [
        "np.amax(training_performance_table[7, 1:k+1:1])"
      ],
      "execution_count": 185,
      "outputs": [
        {
          "output_type": "execute_result",
          "data": {
            "text/plain": [
              "0.99706744868035191"
            ]
          },
          "metadata": {},
          "execution_count": 185
        }
      ]
    },
    {
      "cell_type": "markdown",
      "metadata": {
        "trusted": false,
        "id": "TbXkhqIuQ1mE"
      },
      "source": [
        "### We want to calculate the average and minimum f1 across all folds for each max_depth so that we can compare them."
      ]
    },
    {
      "cell_type": "markdown",
      "metadata": {
        "id": "tJ_V7EPlQ1mF"
      },
      "source": [
        "# Problem 2 (1 point)\n",
        " We want to compare the average and minimum of f1 scores (across all k folds) for each max_depth for training data and testing data. Complete the following code to compute the average, minimum, and maximum using `np.average`m `np.amin`, and `np.amax`. We store them in the cv_training_f1_summary table with different value for the second coloumn:\n",
        " * 0: average\n",
        " * 1: minimum\n",
        " * 2: maximum\n",
        "\n",
        "\n"
      ]
    },
    {
      "cell_type": "code",
      "metadata": {
        "trusted": true,
        "id": "PdCB-YZhPOI9"
      },
      "source": [
        "cv_training_f1_summary = np.empty( [high_max_depth+1, 3])\n",
        "cv_testing_f1_summary = np.empty( [high_max_depth+1, 3])\n",
        "first_fold = 1\n",
        "last_fold = k\n",
        "for depth in range(low_max_depth, high_max_depth+1):\n",
        "    train_f1_array = training_performance_table[depth, first_fold:last_fold+1:1]\n",
        "    cv_training_f1_summary[depth, 0] = np.average(train_f1_array)\n",
        "    cv_training_f1_summary[depth, 1] = np.amin(train_f1_array)\n",
        "    cv_training_f1_summary[depth, 2] = np.amax(train_f1_array)\n",
        "    test_f1_array = testing_performance_table[depth, first_fold:last_fold+1:1]\n",
        "    cv_testing_f1_summary[depth, 0] = np.average(test_f1_array)\n",
        "    cv_testing_f1_summary[depth, 1] = np.amin(test_f1_array)\n",
        "    cv_testing_f1_summary[depth, 2] = np.amax(test_f1_array)"
      ],
      "execution_count": 186,
      "outputs": []
    },
    {
      "cell_type": "markdown",
      "metadata": {
        "id": "kBmfk1n8Pufh"
      },
      "source": [
        "# Problem 3 (1 point)\n",
        " We want to compare the average of f1 scores (across all k folds) for each max_depth for training data and testing data. Complete the following code to compute the average and minimum using `np.average` and `np.amin`."
      ]
    },
    {
      "cell_type": "code",
      "metadata": {
        "trusted": true,
        "id": "0ncTy81pPufh"
      },
      "source": [
        "import matplotlib.pyplot as plt\n",
        "from matplotlib.pyplot import *"
      ],
      "execution_count": 187,
      "outputs": []
    },
    {
      "cell_type": "code",
      "metadata": {
        "trusted": true,
        "id": "uwYbPIPnPufh"
      },
      "source": [
        "matplotlib.use('Agg')\n",
        "%matplotlib inline\n",
        "import matplotlib.pyplot as plots\n",
        "plots.style.use('fivethirtyeight')\n",
        "\n",
        "import warnings\n",
        "warnings.simplefilter(action=\"ignore\", category=FutureWarning )"
      ],
      "execution_count": 188,
      "outputs": []
    },
    {
      "cell_type": "code",
      "metadata": {
        "trusted": true,
        "id": "D81E147SPufh",
        "colab": {
          "base_uri": "https://localhost:8080/"
        },
        "outputId": "01021d25-3fd2-4712-f5fb-699cf8b65e9d"
      },
      "source": [
        "depth=np.linspace(low_max_depth, high_max_depth, high_max_depth-low_max_depth+1)\n",
        "print(depth)"
      ],
      "execution_count": 189,
      "outputs": [
        {
          "output_type": "stream",
          "name": "stdout",
          "text": [
            "[  2.   3.   4.   5.   6.   7.   8.   9.  10.  11.  12.]\n"
          ]
        }
      ]
    },
    {
      "cell_type": "code",
      "metadata": {
        "trusted": true,
        "id": "rcRzHr2ePufh",
        "colab": {
          "base_uri": "https://localhost:8080/"
        },
        "outputId": "0a046c16-03e0-4597-cfcb-bb1e7f8af1b0"
      },
      "source": [
        "avg_f1_training = cv_training_f1_summary[low_max_depth:high_max_depth+1, 0]\n",
        "min_f1_training = cv_training_f1_summary[low_max_depth:high_max_depth+1, 1]\n",
        "avg_f1_testing = cv_testing_f1_summary[low_max_depth:high_max_depth+1, 0]\n",
        "min_f1_testing = cv_testing_f1_summary[low_max_depth:high_max_depth+1, 1]\n",
        "print(avg_f1_training)\n",
        "print(avg_f1_testing)"
      ],
      "execution_count": 190,
      "outputs": [
        {
          "output_type": "stream",
          "name": "stdout",
          "text": [
            "[ 0.91415844  0.96253202  0.97310729  0.98521496  0.99288514  0.99348568\n",
            "  0.99348568  0.99348568  0.99348568  0.99348568  0.99348568]\n",
            "[ 0.8916274   0.92043314  0.9068553   0.90836085  0.90294959  0.90570821\n",
            "  0.90570821  0.90570821  0.90570821  0.90570821  0.90570821]\n"
          ]
        }
      ]
    },
    {
      "cell_type": "markdown",
      "metadata": {
        "id": "d60kKHroPufi"
      },
      "source": [
        "# Problem 4 (1 point)\n",
        "Complete the following code for plotting average f1 training (across k folds) and\n",
        "average f1 testing. Make sure you enter the correct variable corresponding to the correct lable."
      ]
    },
    {
      "cell_type": "code",
      "metadata": {
        "trusted": true,
        "id": "m9C0E0DGPufi",
        "colab": {
          "base_uri": "https://localhost:8080/",
          "height": 358
        },
        "outputId": "07d0f925-abfd-40cc-9405-0057f63b4b9a"
      },
      "source": [
        "training_avg_label= str(k) + \" fold CV Avg f1 for training\"\n",
        "testing_avg_label = str(k) + \" fold CV Avg f1 for testing\"\n",
        "plt.plot(depth, avg_f1_training, label= training_avg_label)\n",
        "plt.plot(depth, avg_f1_testing, label = testing_avg_label)\n",
        "plt.xlabel('max_depth')\n",
        "title= str(k) + ' Fold CV Avg f1 vs max_depth for training data and testing data'\n",
        "plt.title(title)\n",
        "plt.legend()\n",
        "plt.show()"
      ],
      "execution_count": 191,
      "outputs": [
        {
          "output_type": "display_data",
          "data": {
            "text/plain": [
              "<Figure size 640x480 with 1 Axes>"
            ],
            "image/png": "[encoded data removed]"
          },
          "metadata": {}
        }
      ]
    },
    {
      "cell_type": "markdown",
      "source": [
        "# Problem 5 (1 point)\n",
        "- (a) What is your choice of the best hyper-parameter for ``max_depth``? (0.5 point)\n",
        "- (b) If you had used the performance of training data, what hyper-parameteter for ``max_depth`` would you have chosen?  What problem will this lead to? Explain your answer by referring to the figure above. (0.5 point)"
      ],
      "metadata": {
        "id": "iiAYi18-ZEnN"
      }
    },
    {
      "cell_type": "markdown",
      "source": [
        "# Answer to Problem 5:\n",
        "- (a) The best hyper-parameter would be max_depth = 5. This hyper-parameter has a good f1 score for the training and testing data while keeping the depth relatively low.\n",
        "- (b) Based off of training data performance, I probably would have used max_depth = 7 or higher. This high amount of depth would have resulted in overfitting as the model would become too specialized for the training data."
      ],
      "metadata": {
        "id": "zredvUHnZ1r2"
      }
    }
  ]
}