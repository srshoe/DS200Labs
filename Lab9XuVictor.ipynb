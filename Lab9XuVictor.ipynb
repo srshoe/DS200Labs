{
  "nbformat": 4,
  "nbformat_minor": 0,
  "metadata": {
    "kernelspec": {
      "name": "python3",
      "display_name": "Python 3",
      "language": "python"
    },
    "language_info": {
      "mimetype": "text/x-python",
      "nbconvert_exporter": "python",
      "name": "python",
      "file_extension": ".py",
      "version": "3.5.4",
      "pygments_lexer": "ipython3",
      "codemirror_mode": {
        "version": 3,
        "name": "ipython"
      }
    },
    "colab": {
      "provenance": []
    }
  },
  "cells": [
    {
      "cell_type": "markdown",
      "metadata": {
        "id": "vILyB7DHDZ1q"
      },
      "source": [
        "# PSU DS 200\n",
        "# Fall 2024\n",
        "# Lab 9 Learning Decision Tree-based Prediction Model: NFL Pass Completion Prediction\n",
        "\n",
        "## Instructor: Dr. John Yen\n",
        "## LAs:  Lauren Miller, Aaron Almeida, Amiera Masheetah Binti Irwan Rizalman, and Sharifah Rodziah Hanim BintiSyed Alwi\n",
        "\n",
        "## Total 5 Exercises:\n",
        "- Exercise 1: 1 point\n",
        "- Exercise 2: 0.5 point\n",
        "- Exercise 3: 0.5 point\n",
        "- Exercise 4: 1 point\n",
        "- Exercise 5: 1 point\n",
        "\n",
        "## Total: 4 points\n",
        "\n",
        "## Due: 11:59 pm, October 30, 2024\n",
        "## Early Submission: 11:59 pm, October 27, 2024 (10% bonus)\n",
        "\n",
        "## Learning Objectives\n",
        "\n",
        "In this lab, you will learn to be able to do the following:\n",
        "- Learn a decision tree model for predicting pass completing using a structured data from an NFL game.\n",
        "- Learn about the hyper-parameters that need to be specified for decision tree learning.\n",
        "-  Split a set of labelled data with desired prediction output (e.g., pass complete or incomplete) into two groups: (1) those data to be used to \"train\" the model, and (2) those data to be used to test how well the model can predict.\n",
        "- Interpret the decision tree model by extracting \"decision rules\" from the true.  This is important to explain to decision makers the rationale/reason of the model's prediction.  This is often referred to as **explainable AI**.\n",
        "- Understand that the selection of feature tests in decision tree learning is based on maximizing expected information gain (i.e., maximizing expected reduction of entropy of class probability distribution)."
      ]
    },
    {
      "cell_type": "code",
      "metadata": {
        "trusted": true,
        "id": "w8wAkLaRDZ1v"
      },
      "source": [
        "import numpy as np\n",
        "import graphviz"
      ],
      "execution_count": 1,
      "outputs": []
    },
    {
      "cell_type": "code",
      "metadata": {
        "trusted": true,
        "id": "tziPa1tgDZ18"
      },
      "source": [
        "from sklearn.model_selection import train_test_split\n",
        "from sklearn import tree\n",
        "from sklearn.tree import DecisionTreeClassifier\n",
        "from sklearn import metrics\n",
        "from datascience import *"
      ],
      "execution_count": 2,
      "outputs": []
    },
    {
      "cell_type": "code",
      "metadata": {
        "id": "b5LzQ_qGWD84"
      },
      "source": [
        "import os\n",
        "os.environ[\"PATH\"] += os.pathsep + 'C:/Program Files (x86)/Graphviz2.38/bin'"
      ],
      "execution_count": 3,
      "outputs": []
    },
    {
      "cell_type": "markdown",
      "metadata": {
        "id": "QQ2VyEScDZ2J"
      },
      "source": [
        "## Reading Data for Constructing a Predictive Model\n",
        "### Format of the Data\n",
        "Data for constructing a predictive model is often stored in a \"Comma-Separated Values\" format, also commonly referred to as \"CSV\" format.  A file that stores data in CSV format uses \".csv\" as its file extension.  \n",
        "\n",
        "### Upload Data to Google Drive under DS200F24\n",
        "Like previous labs, upload two CSV files for the lab from Canvas to Google Drive under the directory DS200Labs:\n",
        "- Ben-NE-9-10-1025-pass.csv\n",
        "\n",
        "### Mount the Google Drive\n",
        "Like previous labs, we mount Google Drive in Colab Notebook.\n",
        "\n",
        "\n",
        "\n"
      ]
    },
    {
      "cell_type": "code",
      "metadata": {
        "id": "JCGOKA4JDnwi",
        "colab": {
          "base_uri": "https://localhost:8080/"
        },
        "outputId": "bc688509-0568-417b-abd6-85cf068ae47a"
      },
      "source": [
        "from google.colab import drive\n",
        "drive.mount('/content/drive')"
      ],
      "execution_count": 4,
      "outputs": [
        {
          "output_type": "stream",
          "name": "stdout",
          "text": [
            "Mounted at /content/drive\n"
          ]
        }
      ]
    },
    {
      "cell_type": "code",
      "metadata": {
        "id": "IXCTTqigDDgn",
        "colab": {
          "base_uri": "https://localhost:8080/"
        },
        "outputId": "f8504ad5-9a1b-4dc6-ba19-cc706e6ab8e7"
      },
      "source": [
        "!ls /content/drive/My\\ Drive/DS200F24/"
      ],
      "execution_count": 6,
      "outputs": [
        {
          "output_type": "stream",
          "name": "stdout",
          "text": [
            "Ben-NE-9-10-2015-pass.csv  united_summer2015.csv\n"
          ]
        }
      ]
    },
    {
      "cell_type": "markdown",
      "metadata": {
        "id": "DeadZ7y7eInz"
      },
      "source": [
        "## Reading Labelled Data into a Table\n"
      ]
    },
    {
      "cell_type": "code",
      "metadata": {
        "id": "sX3aoCRoi7g-"
      },
      "source": [
        "path1=\"/content/drive/My Drive/DS200F24/Ben-NE-9-10-2015-pass.csv\""
      ],
      "execution_count": 7,
      "outputs": []
    },
    {
      "cell_type": "code",
      "metadata": {
        "id": "4rj3LXZzMS3W",
        "colab": {
          "base_uri": "https://localhost:8080/",
          "height": 392
        },
        "outputId": "9df5b29e-4a80-4e54-eede-3d5178896fb0"
      },
      "source": [
        "Ben_table = Table.read_table(path1)\n",
        "Ben_table.show(10)"
      ],
      "execution_count": 8,
      "outputs": [
        {
          "output_type": "display_data",
          "data": {
            "text/plain": [
              "<IPython.core.display.HTML object>"
            ],
            "text/html": [
              "<table border=\"1\" class=\"dataframe\">\n",
              "    <thead>\n",
              "        <tr>\n",
              "            <th>down</th> <th>ydstogo</th> <th>Yards.Gained.PrevPlay</th> <th>AirYards</th> <th>PassLocation</th> <th>PassOutcome</th>\n",
              "        </tr>\n",
              "    </thead>\n",
              "    <tbody>\n",
              "        <tr>\n",
              "            <td>1   </td> <td>10     </td> <td>18                   </td> <td>-4      </td> <td>1           </td> <td>1          </td>\n",
              "        </tr>\n",
              "        <tr>\n",
              "            <td>1   </td> <td>10     </td> <td>0                    </td> <td>9       </td> <td>1           </td> <td>1          </td>\n",
              "        </tr>\n",
              "        <tr>\n",
              "            <td>3   </td> <td>22     </td> <td>6                    </td> <td>1       </td> <td>1           </td> <td>1          </td>\n",
              "        </tr>\n",
              "        <tr>\n",
              "            <td>1   </td> <td>10     </td> <td>0                    </td> <td>7       </td> <td>-1          </td> <td>1          </td>\n",
              "        </tr>\n",
              "        <tr>\n",
              "            <td>1   </td> <td>10     </td> <td>13                   </td> <td>6       </td> <td>-1          </td> <td>1          </td>\n",
              "        </tr>\n",
              "        <tr>\n",
              "            <td>1   </td> <td>10     </td> <td>12                   </td> <td>7       </td> <td>-1          </td> <td>1          </td>\n",
              "        </tr>\n",
              "        <tr>\n",
              "            <td>1   </td> <td>10     </td> <td>0                    </td> <td>5       </td> <td>1           </td> <td>0          </td>\n",
              "        </tr>\n",
              "        <tr>\n",
              "            <td>2   </td> <td>10     </td> <td>0                    </td> <td>25      </td> <td>1           </td> <td>0          </td>\n",
              "        </tr>\n",
              "        <tr>\n",
              "            <td>3   </td> <td>5      </td> <td>-1                   </td> <td>6       </td> <td>-1          </td> <td>1          </td>\n",
              "        </tr>\n",
              "        <tr>\n",
              "            <td>1   </td> <td>15     </td> <td>4                    </td> <td>-1      </td> <td>1           </td> <td>1          </td>\n",
              "        </tr>\n",
              "    </tbody>\n",
              "</table>\n",
              "<p>... (60 rows omitted)</p>"
            ]
          },
          "metadata": {}
        }
      ]
    },
    {
      "cell_type": "markdown",
      "metadata": {
        "id": "-Qbhv_r7JR65"
      },
      "source": [
        "# Features for Pass Completion Prediction\n",
        "\n",
        "The first row of the CSV file contains the names of attributes/features for each passing play of a specific NFL game (between Pittsburgh Steelers and New England Patriots held on September 10th, 2015).  Because pass prediction model for each quaterback can be different, so this dataset is prepared for the purpose of predicting the outcome of passing play by Steeler quaterback Ben Rothlisberger. The last column of the CSV file contains the outcome of each passing play.\n",
        "\n",
        "In general, the data for building a predictive model involves two types:\n",
        "<ol>\n",
        "    <li> The input data to the model (which we also call FEATURES), and </li>\n",
        "    <li> The DESIRED prediction output data of the model (for each corresponding input), i.e., the labels in a labelled dataset. </li>\n",
        "    </ol>\n",
        "Together, these data are used to \"train\" the model, as we shall see later, so that the model's output,\n",
        "given each input, is AS CLOSE AS POSSIBLE (we will elaborate this point later) to the DESIRED output.\n",
        "\n",
        "For example, the data for training to predict pass completion includes input data for the prediction (e.g., distance of pass, number of down, yards to go, etc), and the DESIRED output of the prediction (i.e., whether a pass plays completes or not).\n",
        "\n",
        "The meaning of all the input attributes/features for this lab are listed below:\n",
        "<ul>\n",
        "    <li>column 0: down: The number of down for the play</li>\n",
        "    <li>column 1: ydstogo: The remaining yards needed to gain for a first down</li>\n",
        "    <li>column 2: Yards.Gained.PrevPlay: The number of yards gained in the previous play (which can be a run play or passing play}</li>\n",
        "    <li>column 3: AirYards: The distance between the starting position of the play and the receiving position of the passing play. A negative number means the quarterback moves back in the play such that the net yardage gain, if the pass completes, is negative. </li>\n",
        "    <li>column 4: PassLocation: The area of passing location: -1 means left field, 0 means center field, 1 means right field. </li>\n",
        "</ul>\n",
        "\n",
        "The value of the desired prediction output (i.e., PassOutcome in the last column) in the dataset indicates whether the outcome of each passing play, represented by each row, is completes (i.e., having the value \"1\") or incomplete (i.e., having the value \"0\").  "
      ]
    },
    {
      "cell_type": "markdown",
      "source": [
        "# Split the Labelled Data into two Subgroups: One for Training, the other for Testing\n",
        "\n"
      ],
      "metadata": {
        "id": "7-73oOFiJzwn"
      }
    },
    {
      "cell_type": "code",
      "source": [
        "# First, find out the size of the labelled data\n",
        "data_size = Ben_table.num_rows"
      ],
      "metadata": {
        "id": "feZXCS9YKB70"
      },
      "execution_count": 9,
      "outputs": []
    },
    {
      "cell_type": "code",
      "source": [
        "print(data_size)"
      ],
      "metadata": {
        "id": "DvYtq3hwKUqT",
        "colab": {
          "base_uri": "https://localhost:8080/"
        },
        "outputId": "f994a17f-99ef-4bc6-b8ba-aae53c355ec7"
      },
      "execution_count": 10,
      "outputs": [
        {
          "output_type": "stream",
          "name": "stdout",
          "text": [
            "70\n"
          ]
        }
      ]
    },
    {
      "cell_type": "markdown",
      "source": [
        "# We will use the first 80% of the plays (data) for training, the last 20% of the plays (data) for testing.\n",
        "\n",
        "## ``Ben_table.take(np.arange(0, training_size))`` returns a table that that is from the first row (row index 0) to the row with row index ``training_size - 1``.  Therefore, the number of rows in the ``training_table`` is ``training_size``.\n",
        "\n",
        "## Similary, ``Ben_table(np.arange(training_size, data_size))`` returnbs a table that is from the row with index ``training_size`` to the row with index ``data_size - 1``.  Therefore, the number of rows in the ``testing_table`` is ``data_size - training_size``."
      ],
      "metadata": {
        "id": "V_QiaEE5J4IN"
      }
    },
    {
      "cell_type": "code",
      "source": [
        "training_size = int(data_size * 0.8)"
      ],
      "metadata": {
        "id": "2kwJtkiaKQ7p"
      },
      "execution_count": 11,
      "outputs": []
    },
    {
      "cell_type": "code",
      "source": [
        "print(training_size)"
      ],
      "metadata": {
        "id": "zCW4GRYuKd3c",
        "colab": {
          "base_uri": "https://localhost:8080/"
        },
        "outputId": "0068f8ae-9e43-40b4-bd20-190740cd9400"
      },
      "execution_count": 12,
      "outputs": [
        {
          "output_type": "stream",
          "name": "stdout",
          "text": [
            "56\n"
          ]
        }
      ]
    },
    {
      "cell_type": "code",
      "source": [
        "training_table = Ben_table.take(np.arange(0,training_size))"
      ],
      "metadata": {
        "id": "_e2FFHHZKiPj"
      },
      "execution_count": 13,
      "outputs": []
    },
    {
      "cell_type": "code",
      "source": [
        "training_table.show(2)"
      ],
      "metadata": {
        "id": "BWJ7tGhrK8O8",
        "colab": {
          "base_uri": "https://localhost:8080/",
          "height": 141
        },
        "outputId": "dfcc4f2c-6d1e-455e-a56a-f653a20c7f1f"
      },
      "execution_count": 14,
      "outputs": [
        {
          "output_type": "display_data",
          "data": {
            "text/plain": [
              "<IPython.core.display.HTML object>"
            ],
            "text/html": [
              "<table border=\"1\" class=\"dataframe\">\n",
              "    <thead>\n",
              "        <tr>\n",
              "            <th>down</th> <th>ydstogo</th> <th>Yards.Gained.PrevPlay</th> <th>AirYards</th> <th>PassLocation</th> <th>PassOutcome</th>\n",
              "        </tr>\n",
              "    </thead>\n",
              "    <tbody>\n",
              "        <tr>\n",
              "            <td>1   </td> <td>10     </td> <td>18                   </td> <td>-4      </td> <td>1           </td> <td>1          </td>\n",
              "        </tr>\n",
              "        <tr>\n",
              "            <td>1   </td> <td>10     </td> <td>0                    </td> <td>9       </td> <td>1           </td> <td>1          </td>\n",
              "        </tr>\n",
              "    </tbody>\n",
              "</table>\n",
              "<p>... (54 rows omitted)</p>"
            ]
          },
          "metadata": {}
        }
      ]
    },
    {
      "cell_type": "code",
      "source": [
        "testing_table = Ben_table.take(np.arange(training_size, data_size))"
      ],
      "metadata": {
        "id": "jVaRiBUhSSM2"
      },
      "execution_count": 15,
      "outputs": []
    },
    {
      "cell_type": "code",
      "source": [
        "testing_table.show(2)"
      ],
      "metadata": {
        "id": "95cxFI0JLNFC",
        "colab": {
          "base_uri": "https://localhost:8080/",
          "height": 141
        },
        "outputId": "b487cbd5-b425-49f2-fc7d-a7ace90939ed"
      },
      "execution_count": 16,
      "outputs": [
        {
          "output_type": "display_data",
          "data": {
            "text/plain": [
              "<IPython.core.display.HTML object>"
            ],
            "text/html": [
              "<table border=\"1\" class=\"dataframe\">\n",
              "    <thead>\n",
              "        <tr>\n",
              "            <th>down</th> <th>ydstogo</th> <th>Yards.Gained.PrevPlay</th> <th>AirYards</th> <th>PassLocation</th> <th>PassOutcome</th>\n",
              "        </tr>\n",
              "    </thead>\n",
              "    <tbody>\n",
              "        <tr>\n",
              "            <td>1   </td> <td>10     </td> <td>18                   </td> <td>39      </td> <td>-1          </td> <td>0          </td>\n",
              "        </tr>\n",
              "        <tr>\n",
              "            <td>2   </td> <td>9      </td> <td>1                    </td> <td>7       </td> <td>-1          </td> <td>1          </td>\n",
              "        </tr>\n",
              "    </tbody>\n",
              "</table>\n",
              "<p>... (12 rows omitted)</p>"
            ]
          },
          "metadata": {}
        }
      ]
    },
    {
      "cell_type": "markdown",
      "source": [
        "# We can extract contents of a ``Table`` object, using ``.values``, into an array.\n",
        "\n",
        "# Machine learning modules, like the one we are using in this lab, often expect the input training data in the form of an array."
      ],
      "metadata": {
        "id": "mJz5P3ggLTdU"
      }
    },
    {
      "cell_type": "code",
      "source": [
        "training_array = training_table.values"
      ],
      "metadata": {
        "id": "bNpOgCCVxSOB"
      },
      "execution_count": 17,
      "outputs": []
    },
    {
      "cell_type": "code",
      "source": [
        "print(training_array)"
      ],
      "metadata": {
        "id": "CnTCpHIaxcL3",
        "colab": {
          "base_uri": "https://localhost:8080/"
        },
        "outputId": "0f8c28ad-1430-44e6-8ba0-76f0dd4458ff"
      },
      "execution_count": 18,
      "outputs": [
        {
          "output_type": "stream",
          "name": "stdout",
          "text": [
            "[[ 1 10 18 -4  1  1]\n",
            " [ 1 10  0  9  1  1]\n",
            " [ 3 22  6  1  1  1]\n",
            " [ 1 10  0  7 -1  1]\n",
            " [ 1 10 13  6 -1  1]\n",
            " [ 1 10 12  7 -1  1]\n",
            " [ 1 10  0  5  1  0]\n",
            " [ 2 10  0 25  1  0]\n",
            " [ 3  5 -1  6 -1  1]\n",
            " [ 1 15  4 -1  1  1]\n",
            " [ 3 18 -6 17 -1  1]\n",
            " [ 1 20  5  5 -1  1]\n",
            " [ 2 11  9  4 -1  1]\n",
            " [ 2 13 -3 -2 -1  1]\n",
            " [ 3  6  7  6  0  1]\n",
            " [ 2  7  0 11  1  1]\n",
            " [ 1 10 13 16  1  1]\n",
            " [ 1 10 19  6  1  1]\n",
            " [ 2  8  2  0 -1  0]\n",
            " [ 3  8  0 39 -1  1]\n",
            " [ 3  3  1 19  1  0]\n",
            " [ 1 10  0 11  0  1]\n",
            " [ 2 10  0 17 -1  1]\n",
            " [ 1 10 18  7  0  1]\n",
            " [ 1  9  2  4 -1  1]\n",
            " [ 2  6  3  6  0  1]\n",
            " [ 1 10  0  5  1  1]\n",
            " [ 2 15  9  4 -1  1]\n",
            " [ 3  6  9 26  1  1]\n",
            " [ 2  8  2  0 -1  1]\n",
            " [ 3  3  5 23  1  0]\n",
            " [ 4  3  0  4  0  1]\n",
            " [ 2  5  5 26 -1  0]\n",
            " [ 3  5  0  7  0  0]\n",
            " [ 1 10  0  4  1  1]\n",
            " [ 3  5  1  5  1  1]\n",
            " [ 2  1  9 -1 -1  1]\n",
            " [ 2  1  0  0 -1  1]\n",
            " [ 1 10 28 23 -1  1]\n",
            " [ 1 10 13 -5 -1  1]\n",
            " [ 2 15 -5  7  0  1]\n",
            " [ 3  6 -1  2 -1  1]\n",
            " [ 1 10  0 25  1  1]\n",
            " [ 2  5  5  2  1  1]\n",
            " [ 2  8  0  1  1  1]\n",
            " [ 1  1  0  1  0  0]\n",
            " [ 1 10  0 18  1  1]\n",
            " [ 1 10  0 27  0  0]\n",
            " [ 3  5  5  4  0  1]\n",
            " [ 2  1  0  1  1  0]\n",
            " [ 3  1  0  1 -1  1]\n",
            " [ 2  3  7  9  0  0]\n",
            " [ 3  3  0  9  1  0]\n",
            " [ 2 12 -2 23  1  0]\n",
            " [ 3 12  0  6  0  0]\n",
            " [ 1 10  0 18  1  1]]\n"
          ]
        }
      ]
    },
    {
      "cell_type": "code",
      "source": [
        "testing_array = testing_table.values"
      ],
      "metadata": {
        "id": "j8TElvYXLt1c"
      },
      "execution_count": 19,
      "outputs": []
    },
    {
      "cell_type": "code",
      "source": [
        "print(testing_array)"
      ],
      "metadata": {
        "id": "s-3OVOOSLxfW",
        "colab": {
          "base_uri": "https://localhost:8080/"
        },
        "outputId": "e8647566-7c37-47f3-f1d5-d3512c504663"
      },
      "execution_count": 20,
      "outputs": [
        {
          "output_type": "stream",
          "name": "stdout",
          "text": [
            "[[ 1 10 18 39 -1  0]\n",
            " [ 2  9  1  7 -1  1]\n",
            " [ 3  4  3 -3  1  0]\n",
            " [ 1 10  0 11  1  0]\n",
            " [ 2 10  0  4 -1  1]\n",
            " [ 3  1  9  6  0  1]\n",
            " [ 1 10  0 29  0  0]\n",
            " [ 2 10  0  1 -1  1]\n",
            " [ 3  8  2 13  0  1]\n",
            " [ 2 27 -7 14  0  1]\n",
            " [ 3  9  0 12 -1  0]\n",
            " [ 4  9  0 15 -1  1]\n",
            " [ 1 10  0 11 -1  1]\n",
            " [ 1 10 11 11 -1  1]]\n"
          ]
        }
      ]
    },
    {
      "cell_type": "markdown",
      "metadata": {
        "id": "vCAT884ADZ2i"
      },
      "source": [
        "\n",
        "### Extract Features from Training Data\n",
        "\n",
        "We want to use the following five attributes as inputs for predicting pass completion:\n",
        "<ul>\n",
        "    <li> down: The number of down for the play </li>\n",
        "    <li> ydstogo: The remaining yards needed to gain for a first down </li>\n",
        "<li> Yards.Gained.PrevPlay: The number of yards gained in the previous play (which can be a run play or passing play} </li>\n",
        "<li> AirYards: The distance between the starting position of the play and the receiving position of the passing play. A negative number means the quarterback moves back in the play such that the net yardage gain, if the pass completes, is negative. </li>\n",
        "<li>PassLocation: The area of passing location: -1 means left field, 0 means center field, 1 means right field.</li>\n",
        "    </ul>\n",
        "\n",
        "In array, the first column is referred to as column \"0\" (rather than column 1).  Therefore, the column index in the data array from Ben_table are:\n",
        "<ul>\n",
        "    <li> The column\n",
        "        storing the value of \"down\" is column 0. </li>\n",
        "    <li> The column storing the value of \"ydstogo\" is column 1. </li>\n",
        "    <li> The column storing the value of \"Yards.Gained.PrevPlay\" is column 2. </li>\n",
        "    <li> The column storing the value of \"AirYards\" is column 3. </li>\n",
        "    <li> The column storing the value of \"PassLocation\" is column 4. </li>\n",
        "    <li> The column storing the value of desired model output \"PassOutcome\" is column 5. </li>\n",
        "    </ul>\n",
        "\n",
        "To extract column 0, 1, 2, 3, and 4 from data_array, we use \"0:5\" to indicate a range of columns from column 0 up to (but NOT including) column 5.   The colon, \":\", in the row index position indicates that we are extracting ALL Rows.  Together with the second parameter \"0:5\", ``[:, 0:5]`` indicates we are extracting column 0 to column 4 for all rows from the data_array.  \n",
        "\n",
        "We store the extracted input features in a variable called X.\n",
        "\n",
        "### Notice that we do not want to extract column 5 because it contains the desired class label, so we want to save it in a different variable that stores class labels."
      ]
    },
    {
      "cell_type": "code",
      "source": [
        "training_X = training_table.values[:, 0:5]"
      ],
      "metadata": {
        "id": "enD0d0nryzjn"
      },
      "execution_count": 21,
      "outputs": []
    },
    {
      "cell_type": "code",
      "source": [
        "print(training_X)"
      ],
      "metadata": {
        "id": "GB_u5TGxyzjp",
        "colab": {
          "base_uri": "https://localhost:8080/"
        },
        "outputId": "894538ed-bc55-4f98-f428-2a0e18bd3899"
      },
      "execution_count": 22,
      "outputs": [
        {
          "output_type": "stream",
          "name": "stdout",
          "text": [
            "[[ 1 10 18 -4  1]\n",
            " [ 1 10  0  9  1]\n",
            " [ 3 22  6  1  1]\n",
            " [ 1 10  0  7 -1]\n",
            " [ 1 10 13  6 -1]\n",
            " [ 1 10 12  7 -1]\n",
            " [ 1 10  0  5  1]\n",
            " [ 2 10  0 25  1]\n",
            " [ 3  5 -1  6 -1]\n",
            " [ 1 15  4 -1  1]\n",
            " [ 3 18 -6 17 -1]\n",
            " [ 1 20  5  5 -1]\n",
            " [ 2 11  9  4 -1]\n",
            " [ 2 13 -3 -2 -1]\n",
            " [ 3  6  7  6  0]\n",
            " [ 2  7  0 11  1]\n",
            " [ 1 10 13 16  1]\n",
            " [ 1 10 19  6  1]\n",
            " [ 2  8  2  0 -1]\n",
            " [ 3  8  0 39 -1]\n",
            " [ 3  3  1 19  1]\n",
            " [ 1 10  0 11  0]\n",
            " [ 2 10  0 17 -1]\n",
            " [ 1 10 18  7  0]\n",
            " [ 1  9  2  4 -1]\n",
            " [ 2  6  3  6  0]\n",
            " [ 1 10  0  5  1]\n",
            " [ 2 15  9  4 -1]\n",
            " [ 3  6  9 26  1]\n",
            " [ 2  8  2  0 -1]\n",
            " [ 3  3  5 23  1]\n",
            " [ 4  3  0  4  0]\n",
            " [ 2  5  5 26 -1]\n",
            " [ 3  5  0  7  0]\n",
            " [ 1 10  0  4  1]\n",
            " [ 3  5  1  5  1]\n",
            " [ 2  1  9 -1 -1]\n",
            " [ 2  1  0  0 -1]\n",
            " [ 1 10 28 23 -1]\n",
            " [ 1 10 13 -5 -1]\n",
            " [ 2 15 -5  7  0]\n",
            " [ 3  6 -1  2 -1]\n",
            " [ 1 10  0 25  1]\n",
            " [ 2  5  5  2  1]\n",
            " [ 2  8  0  1  1]\n",
            " [ 1  1  0  1  0]\n",
            " [ 1 10  0 18  1]\n",
            " [ 1 10  0 27  0]\n",
            " [ 3  5  5  4  0]\n",
            " [ 2  1  0  1  1]\n",
            " [ 3  1  0  1 -1]\n",
            " [ 2  3  7  9  0]\n",
            " [ 3  3  0  9  1]\n",
            " [ 2 12 -2 23  1]\n",
            " [ 3 12  0  6  0]\n",
            " [ 1 10  0 18  1]]\n"
          ]
        }
      ]
    },
    {
      "cell_type": "markdown",
      "source": [],
      "metadata": {
        "id": "aagYMfpG2Isa"
      }
    },
    {
      "cell_type": "markdown",
      "metadata": {
        "id": "Q_w0aHL-2KYS"
      },
      "source": [
        "## Extract Class Labels of the Training Data\n",
        "To extract desired output labels (also referred to as target output) for training a decision tree, we extract PassOutcome, which is stored in column index 5 of data_array.  Similar to the previous step, we extract this data from ALL ROWS of the data_array.\n",
        "\n",
        "We store this output data in a variable Y."
      ]
    },
    {
      "cell_type": "code",
      "source": [
        "training_Y = training_table.values[:, 5]"
      ],
      "metadata": {
        "id": "uHLx6PDmyoJ7"
      },
      "execution_count": 23,
      "outputs": []
    },
    {
      "cell_type": "code",
      "source": [
        "print(training_Y)"
      ],
      "metadata": {
        "id": "M0TTTRYfyoJ8",
        "colab": {
          "base_uri": "https://localhost:8080/"
        },
        "outputId": "361f1f3e-137e-4a17-e95f-2918f2836491"
      },
      "execution_count": 24,
      "outputs": [
        {
          "output_type": "stream",
          "name": "stdout",
          "text": [
            "[1 1 1 1 1 1 0 0 1 1 1 1 1 1 1 1 1 1 0 1 0 1 1 1 1 1 1 1 1 1 0 1 0 0 1 1 1\n",
            " 1 1 1 1 1 1 1 1 0 1 0 1 0 1 0 0 0 0 1]\n"
          ]
        }
      ]
    },
    {
      "cell_type": "markdown",
      "metadata": {
        "id": "AA2LvDubDZ2_"
      },
      "source": [
        "As we can see from the result of print(training_Y), Y is a one-dimensional array.  "
      ]
    },
    {
      "cell_type": "markdown",
      "source": [
        "# Extract Features and Class Labels of the Testing Data\n",
        "To prepare for evaluating the decision trees learned using testing data, we also extract its features and labels below."
      ],
      "metadata": {
        "id": "eQ4NKEWaNN0M"
      }
    },
    {
      "cell_type": "code",
      "source": [
        "testing_X = testing_table.values[:, 0:5]\n",
        "print(testing_X)"
      ],
      "metadata": {
        "id": "p_F700GDMZav",
        "colab": {
          "base_uri": "https://localhost:8080/"
        },
        "outputId": "31259ad6-6111-433b-df7c-ba48e673d84d"
      },
      "execution_count": 25,
      "outputs": [
        {
          "output_type": "stream",
          "name": "stdout",
          "text": [
            "[[ 1 10 18 39 -1]\n",
            " [ 2  9  1  7 -1]\n",
            " [ 3  4  3 -3  1]\n",
            " [ 1 10  0 11  1]\n",
            " [ 2 10  0  4 -1]\n",
            " [ 3  1  9  6  0]\n",
            " [ 1 10  0 29  0]\n",
            " [ 2 10  0  1 -1]\n",
            " [ 3  8  2 13  0]\n",
            " [ 2 27 -7 14  0]\n",
            " [ 3  9  0 12 -1]\n",
            " [ 4  9  0 15 -1]\n",
            " [ 1 10  0 11 -1]\n",
            " [ 1 10 11 11 -1]]\n"
          ]
        }
      ]
    },
    {
      "cell_type": "code",
      "source": [
        "testing_Y = testing_table.values[:, 5]\n",
        "print(testing_Y)"
      ],
      "metadata": {
        "id": "PsdM1xy3Mf5d",
        "colab": {
          "base_uri": "https://localhost:8080/"
        },
        "outputId": "f38e11ef-5355-40bb-ae93-b9c2b3088eb1"
      },
      "execution_count": 26,
      "outputs": [
        {
          "output_type": "stream",
          "name": "stdout",
          "text": [
            "[0 1 0 0 1 1 0 1 1 1 0 1 1 1]\n"
          ]
        }
      ]
    },
    {
      "cell_type": "markdown",
      "metadata": {
        "id": "U_GqxqWtDZ3C"
      },
      "source": [
        "# Train a Decision Tree from a Set of Training Data\n",
        "\n",
        "## Python scikit-learn Module for Machine Learning\n",
        "\n",
        "We will use Python scikit-learn (also referred to as sklearn) module to create a decision tree.\n",
        "I should point out, though, that Scikit-learn offers a broad range of machine learning models beyond decision trees, which you will learn if you take DS 310 in the future.\n",
        "We do not need to install scikit-learn, because it has already been pre-installed in Colab (together with Python 3).\n",
        "\n",
        "Scikit-learn (sklearn) is a Python module that contains many useful machine learning code, including code for constructing model from data, for creating predictive models using multiple machine learning methods (including decision tree which we will use), and for evaluating how good is the model created.  \n",
        "\n",
        "In the beginning of this notebook, we used the following import statement to import a submodule of scikit-learn (sklearn), tree (which provides functions/methods related to decision trees)\n",
        "```\n",
        "    from sklearn import tree\n",
        "```\n",
        "\n"
      ]
    },
    {
      "cell_type": "markdown",
      "metadata": {
        "id": "DGEXxk66DZ3T"
      },
      "source": [
        "### We also imported DecisionTreeClassifier from the tree submodule in sklearn:\n",
        "    from sklearn.tree import DecisionTreeClassifier\n",
        "\n",
        "### Using DecisionTreeClassifier to Train a Decision Tree\n",
        "There are two steps involved in creating a decision tree using DecisionTreeClassifier.\n",
        "1. Create an \"empty\" Decision Tree Classifier by specifying the various parameters we use to construct the decision tree. Save the created empty Decision Tree Classifier in a variable (e.g., \"clf\" in the code below) for the next step. Some of the important parameters are the following:\n",
        "    * criterion: We will use 'entropy' as the criteria for creating decision trees in this class.  \n",
        "    * max_depth: This parameter specifies how \"deep\" the decision tree is allowed.  If you choose \"max_depth=3\", the tree created will be limited to 3 levels. (The root node is at level 0.) As we will see later, the choice of this parameter can affect the model's risk for overfitting.\n",
        "    * min_samples_leaf: This parameter specifies the minimum number of samples required in a leaf node. As we will see later, the choice of this parameter can also affect the model's risk for overfitting.\n",
        "2. Use a set of input training data and output training data to \"train\" the Decision Tree Classifier (previously \"empty\" one; but will have an actual Decision Tree."
      ]
    },
    {
      "cell_type": "markdown",
      "metadata": {
        "id": "chiLiIc2DZ3U"
      },
      "source": [
        "## Exercise 1 Train a Decision Tree (1 point)\n",
        "Fill in the parameters of max_depth (recommended number: between 3 and 6) and\n",
        "min_samples_leaf (recommended value: between 1 and 3) of DecisionTreeClassifier,\n",
        "then create an \"empty\" decision tree, then using the input training data (X_train)\n",
        "and output training data (y_train) to train the model."
      ]
    },
    {
      "cell_type": "code",
      "metadata": {
        "trusted": true,
        "id": "8GXo68j5DZ3V",
        "colab": {
          "base_uri": "https://localhost:8080/",
          "height": 97
        },
        "outputId": "f35711f5-449a-4fed-f09c-acb6237bbfb9"
      },
      "source": [
        "clf = DecisionTreeClassifier(criterion = 'entropy', random_state = 100,\n",
        "                               max_depth=4, min_samples_leaf= 2)\n",
        "clf.fit(training_X, training_Y)"
      ],
      "execution_count": 28,
      "outputs": [
        {
          "output_type": "execute_result",
          "data": {
            "text/plain": [
              "DecisionTreeClassifier(criterion='entropy', max_depth=4, min_samples_leaf=2,\n",
              "                       random_state=100)"
            ],
            "text/html": [
              "<style>#sk-container-id-1 {\n",
              "  /* Definition of color scheme common for light and dark mode */\n",
              "  --sklearn-color-text: black;\n",
              "  --sklearn-color-line: gray;\n",
              "  /* Definition of color scheme for unfitted estimators */\n",
              "  --sklearn-color-unfitted-level-0: #fff5e6;\n",
              "  --sklearn-color-unfitted-level-1: #f6e4d2;\n",
              "  --sklearn-color-unfitted-level-2: #ffe0b3;\n",
              "  --sklearn-color-unfitted-level-3: chocolate;\n",
              "  /* Definition of color scheme for fitted estimators */\n",
              "  --sklearn-color-fitted-level-0: #f0f8ff;\n",
              "  --sklearn-color-fitted-level-1: #d4ebff;\n",
              "  --sklearn-color-fitted-level-2: #b3dbfd;\n",
              "  --sklearn-color-fitted-level-3: cornflowerblue;\n",
              "\n",
              "  /* Specific color for light theme */\n",
              "  --sklearn-color-text-on-default-background: var(--sg-text-color, var(--theme-code-foreground, var(--jp-content-font-color1, black)));\n",
              "  --sklearn-color-background: var(--sg-background-color, var(--theme-background, var(--jp-layout-color0, white)));\n",
              "  --sklearn-color-border-box: var(--sg-text-color, var(--theme-code-foreground, var(--jp-content-font-color1, black)));\n",
              "  --sklearn-color-icon: #696969;\n",
              "\n",
              "  @media (prefers-color-scheme: dark) {\n",
              "    /* Redefinition of color scheme for dark theme */\n",
              "    --sklearn-color-text-on-default-background: var(--sg-text-color, var(--theme-code-foreground, var(--jp-content-font-color1, white)));\n",
              "    --sklearn-color-background: var(--sg-background-color, var(--theme-background, var(--jp-layout-color0, #111)));\n",
              "    --sklearn-color-border-box: var(--sg-text-color, var(--theme-code-foreground, var(--jp-content-font-color1, white)));\n",
              "    --sklearn-color-icon: #878787;\n",
              "  }\n",
              "}\n",
              "\n",
              "#sk-container-id-1 {\n",
              "  color: var(--sklearn-color-text);\n",
              "}\n",
              "\n",
              "#sk-container-id-1 pre {\n",
              "  padding: 0;\n",
              "}\n",
              "\n",
              "#sk-container-id-1 input.sk-hidden--visually {\n",
              "  border: 0;\n",
              "  clip: rect(1px 1px 1px 1px);\n",
              "  clip: rect(1px, 1px, 1px, 1px);\n",
              "  height: 1px;\n",
              "  margin: -1px;\n",
              "  overflow: hidden;\n",
              "  padding: 0;\n",
              "  position: absolute;\n",
              "  width: 1px;\n",
              "}\n",
              "\n",
              "#sk-container-id-1 div.sk-dashed-wrapped {\n",
              "  border: 1px dashed var(--sklearn-color-line);\n",
              "  margin: 0 0.4em 0.5em 0.4em;\n",
              "  box-sizing: border-box;\n",
              "  padding-bottom: 0.4em;\n",
              "  background-color: var(--sklearn-color-background);\n",
              "}\n",
              "\n",
              "#sk-container-id-1 div.sk-container {\n",
              "  /* jupyter's `normalize.less` sets `[hidden] { display: none; }`\n",
              "     but bootstrap.min.css set `[hidden] { display: none !important; }`\n",
              "     so we also need the `!important` here to be able to override the\n",
              "     default hidden behavior on the sphinx rendered scikit-learn.org.\n",
              "     See: https://github.com/scikit-learn/scikit-learn/issues/21755 */\n",
              "  display: inline-block !important;\n",
              "  position: relative;\n",
              "}\n",
              "\n",
              "#sk-container-id-1 div.sk-text-repr-fallback {\n",
              "  display: none;\n",
              "}\n",
              "\n",
              "div.sk-parallel-item,\n",
              "div.sk-serial,\n",
              "div.sk-item {\n",
              "  /* draw centered vertical line to link estimators */\n",
              "  background-image: linear-gradient(var(--sklearn-color-text-on-default-background), var(--sklearn-color-text-on-default-background));\n",
              "  background-size: 2px 100%;\n",
              "  background-repeat: no-repeat;\n",
              "  background-position: center center;\n",
              "}\n",
              "\n",
              "/* Parallel-specific style estimator block */\n",
              "\n",
              "#sk-container-id-1 div.sk-parallel-item::after {\n",
              "  content: \"\";\n",
              "  width: 100%;\n",
              "  border-bottom: 2px solid var(--sklearn-color-text-on-default-background);\n",
              "  flex-grow: 1;\n",
              "}\n",
              "\n",
              "#sk-container-id-1 div.sk-parallel {\n",
              "  display: flex;\n",
              "  align-items: stretch;\n",
              "  justify-content: center;\n",
              "  background-color: var(--sklearn-color-background);\n",
              "  position: relative;\n",
              "}\n",
              "\n",
              "#sk-container-id-1 div.sk-parallel-item {\n",
              "  display: flex;\n",
              "  flex-direction: column;\n",
              "}\n",
              "\n",
              "#sk-container-id-1 div.sk-parallel-item:first-child::after {\n",
              "  align-self: flex-end;\n",
              "  width: 50%;\n",
              "}\n",
              "\n",
              "#sk-container-id-1 div.sk-parallel-item:last-child::after {\n",
              "  align-self: flex-start;\n",
              "  width: 50%;\n",
              "}\n",
              "\n",
              "#sk-container-id-1 div.sk-parallel-item:only-child::after {\n",
              "  width: 0;\n",
              "}\n",
              "\n",
              "/* Serial-specific style estimator block */\n",
              "\n",
              "#sk-container-id-1 div.sk-serial {\n",
              "  display: flex;\n",
              "  flex-direction: column;\n",
              "  align-items: center;\n",
              "  background-color: var(--sklearn-color-background);\n",
              "  padding-right: 1em;\n",
              "  padding-left: 1em;\n",
              "}\n",
              "\n",
              "\n",
              "/* Toggleable style: style used for estimator/Pipeline/ColumnTransformer box that is\n",
              "clickable and can be expanded/collapsed.\n",
              "- Pipeline and ColumnTransformer use this feature and define the default style\n",
              "- Estimators will overwrite some part of the style using the `sk-estimator` class\n",
              "*/\n",
              "\n",
              "/* Pipeline and ColumnTransformer style (default) */\n",
              "\n",
              "#sk-container-id-1 div.sk-toggleable {\n",
              "  /* Default theme specific background. It is overwritten whether we have a\n",
              "  specific estimator or a Pipeline/ColumnTransformer */\n",
              "  background-color: var(--sklearn-color-background);\n",
              "}\n",
              "\n",
              "/* Toggleable label */\n",
              "#sk-container-id-1 label.sk-toggleable__label {\n",
              "  cursor: pointer;\n",
              "  display: block;\n",
              "  width: 100%;\n",
              "  margin-bottom: 0;\n",
              "  padding: 0.5em;\n",
              "  box-sizing: border-box;\n",
              "  text-align: center;\n",
              "}\n",
              "\n",
              "#sk-container-id-1 label.sk-toggleable__label-arrow:before {\n",
              "  /* Arrow on the left of the label */\n",
              "  content: \"▸\";\n",
              "  float: left;\n",
              "  margin-right: 0.25em;\n",
              "  color: var(--sklearn-color-icon);\n",
              "}\n",
              "\n",
              "#sk-container-id-1 label.sk-toggleable__label-arrow:hover:before {\n",
              "  color: var(--sklearn-color-text);\n",
              "}\n",
              "\n",
              "/* Toggleable content - dropdown */\n",
              "\n",
              "#sk-container-id-1 div.sk-toggleable__content {\n",
              "  max-height: 0;\n",
              "  max-width: 0;\n",
              "  overflow: hidden;\n",
              "  text-align: left;\n",
              "  /* unfitted */\n",
              "  background-color: var(--sklearn-color-unfitted-level-0);\n",
              "}\n",
              "\n",
              "#sk-container-id-1 div.sk-toggleable__content.fitted {\n",
              "  /* fitted */\n",
              "  background-color: var(--sklearn-color-fitted-level-0);\n",
              "}\n",
              "\n",
              "#sk-container-id-1 div.sk-toggleable__content pre {\n",
              "  margin: 0.2em;\n",
              "  border-radius: 0.25em;\n",
              "  color: var(--sklearn-color-text);\n",
              "  /* unfitted */\n",
              "  background-color: var(--sklearn-color-unfitted-level-0);\n",
              "}\n",
              "\n",
              "#sk-container-id-1 div.sk-toggleable__content.fitted pre {\n",
              "  /* unfitted */\n",
              "  background-color: var(--sklearn-color-fitted-level-0);\n",
              "}\n",
              "\n",
              "#sk-container-id-1 input.sk-toggleable__control:checked~div.sk-toggleable__content {\n",
              "  /* Expand drop-down */\n",
              "  max-height: 200px;\n",
              "  max-width: 100%;\n",
              "  overflow: auto;\n",
              "}\n",
              "\n",
              "#sk-container-id-1 input.sk-toggleable__control:checked~label.sk-toggleable__label-arrow:before {\n",
              "  content: \"▾\";\n",
              "}\n",
              "\n",
              "/* Pipeline/ColumnTransformer-specific style */\n",
              "\n",
              "#sk-container-id-1 div.sk-label input.sk-toggleable__control:checked~label.sk-toggleable__label {\n",
              "  color: var(--sklearn-color-text);\n",
              "  background-color: var(--sklearn-color-unfitted-level-2);\n",
              "}\n",
              "\n",
              "#sk-container-id-1 div.sk-label.fitted input.sk-toggleable__control:checked~label.sk-toggleable__label {\n",
              "  background-color: var(--sklearn-color-fitted-level-2);\n",
              "}\n",
              "\n",
              "/* Estimator-specific style */\n",
              "\n",
              "/* Colorize estimator box */\n",
              "#sk-container-id-1 div.sk-estimator input.sk-toggleable__control:checked~label.sk-toggleable__label {\n",
              "  /* unfitted */\n",
              "  background-color: var(--sklearn-color-unfitted-level-2);\n",
              "}\n",
              "\n",
              "#sk-container-id-1 div.sk-estimator.fitted input.sk-toggleable__control:checked~label.sk-toggleable__label {\n",
              "  /* fitted */\n",
              "  background-color: var(--sklearn-color-fitted-level-2);\n",
              "}\n",
              "\n",
              "#sk-container-id-1 div.sk-label label.sk-toggleable__label,\n",
              "#sk-container-id-1 div.sk-label label {\n",
              "  /* The background is the default theme color */\n",
              "  color: var(--sklearn-color-text-on-default-background);\n",
              "}\n",
              "\n",
              "/* On hover, darken the color of the background */\n",
              "#sk-container-id-1 div.sk-label:hover label.sk-toggleable__label {\n",
              "  color: var(--sklearn-color-text);\n",
              "  background-color: var(--sklearn-color-unfitted-level-2);\n",
              "}\n",
              "\n",
              "/* Label box, darken color on hover, fitted */\n",
              "#sk-container-id-1 div.sk-label.fitted:hover label.sk-toggleable__label.fitted {\n",
              "  color: var(--sklearn-color-text);\n",
              "  background-color: var(--sklearn-color-fitted-level-2);\n",
              "}\n",
              "\n",
              "/* Estimator label */\n",
              "\n",
              "#sk-container-id-1 div.sk-label label {\n",
              "  font-family: monospace;\n",
              "  font-weight: bold;\n",
              "  display: inline-block;\n",
              "  line-height: 1.2em;\n",
              "}\n",
              "\n",
              "#sk-container-id-1 div.sk-label-container {\n",
              "  text-align: center;\n",
              "}\n",
              "\n",
              "/* Estimator-specific */\n",
              "#sk-container-id-1 div.sk-estimator {\n",
              "  font-family: monospace;\n",
              "  border: 1px dotted var(--sklearn-color-border-box);\n",
              "  border-radius: 0.25em;\n",
              "  box-sizing: border-box;\n",
              "  margin-bottom: 0.5em;\n",
              "  /* unfitted */\n",
              "  background-color: var(--sklearn-color-unfitted-level-0);\n",
              "}\n",
              "\n",
              "#sk-container-id-1 div.sk-estimator.fitted {\n",
              "  /* fitted */\n",
              "  background-color: var(--sklearn-color-fitted-level-0);\n",
              "}\n",
              "\n",
              "/* on hover */\n",
              "#sk-container-id-1 div.sk-estimator:hover {\n",
              "  /* unfitted */\n",
              "  background-color: var(--sklearn-color-unfitted-level-2);\n",
              "}\n",
              "\n",
              "#sk-container-id-1 div.sk-estimator.fitted:hover {\n",
              "  /* fitted */\n",
              "  background-color: var(--sklearn-color-fitted-level-2);\n",
              "}\n",
              "\n",
              "/* Specification for estimator info (e.g. \"i\" and \"?\") */\n",
              "\n",
              "/* Common style for \"i\" and \"?\" */\n",
              "\n",
              ".sk-estimator-doc-link,\n",
              "a:link.sk-estimator-doc-link,\n",
              "a:visited.sk-estimator-doc-link {\n",
              "  float: right;\n",
              "  font-size: smaller;\n",
              "  line-height: 1em;\n",
              "  font-family: monospace;\n",
              "  background-color: var(--sklearn-color-background);\n",
              "  border-radius: 1em;\n",
              "  height: 1em;\n",
              "  width: 1em;\n",
              "  text-decoration: none !important;\n",
              "  margin-left: 1ex;\n",
              "  /* unfitted */\n",
              "  border: var(--sklearn-color-unfitted-level-1) 1pt solid;\n",
              "  color: var(--sklearn-color-unfitted-level-1);\n",
              "}\n",
              "\n",
              ".sk-estimator-doc-link.fitted,\n",
              "a:link.sk-estimator-doc-link.fitted,\n",
              "a:visited.sk-estimator-doc-link.fitted {\n",
              "  /* fitted */\n",
              "  border: var(--sklearn-color-fitted-level-1) 1pt solid;\n",
              "  color: var(--sklearn-color-fitted-level-1);\n",
              "}\n",
              "\n",
              "/* On hover */\n",
              "div.sk-estimator:hover .sk-estimator-doc-link:hover,\n",
              ".sk-estimator-doc-link:hover,\n",
              "div.sk-label-container:hover .sk-estimator-doc-link:hover,\n",
              ".sk-estimator-doc-link:hover {\n",
              "  /* unfitted */\n",
              "  background-color: var(--sklearn-color-unfitted-level-3);\n",
              "  color: var(--sklearn-color-background);\n",
              "  text-decoration: none;\n",
              "}\n",
              "\n",
              "div.sk-estimator.fitted:hover .sk-estimator-doc-link.fitted:hover,\n",
              ".sk-estimator-doc-link.fitted:hover,\n",
              "div.sk-label-container:hover .sk-estimator-doc-link.fitted:hover,\n",
              ".sk-estimator-doc-link.fitted:hover {\n",
              "  /* fitted */\n",
              "  background-color: var(--sklearn-color-fitted-level-3);\n",
              "  color: var(--sklearn-color-background);\n",
              "  text-decoration: none;\n",
              "}\n",
              "\n",
              "/* Span, style for the box shown on hovering the info icon */\n",
              ".sk-estimator-doc-link span {\n",
              "  display: none;\n",
              "  z-index: 9999;\n",
              "  position: relative;\n",
              "  font-weight: normal;\n",
              "  right: .2ex;\n",
              "  padding: .5ex;\n",
              "  margin: .5ex;\n",
              "  width: min-content;\n",
              "  min-width: 20ex;\n",
              "  max-width: 50ex;\n",
              "  color: var(--sklearn-color-text);\n",
              "  box-shadow: 2pt 2pt 4pt #999;\n",
              "  /* unfitted */\n",
              "  background: var(--sklearn-color-unfitted-level-0);\n",
              "  border: .5pt solid var(--sklearn-color-unfitted-level-3);\n",
              "}\n",
              "\n",
              ".sk-estimator-doc-link.fitted span {\n",
              "  /* fitted */\n",
              "  background: var(--sklearn-color-fitted-level-0);\n",
              "  border: var(--sklearn-color-fitted-level-3);\n",
              "}\n",
              "\n",
              ".sk-estimator-doc-link:hover span {\n",
              "  display: block;\n",
              "}\n",
              "\n",
              "/* \"?\"-specific style due to the `<a>` HTML tag */\n",
              "\n",
              "#sk-container-id-1 a.estimator_doc_link {\n",
              "  float: right;\n",
              "  font-size: 1rem;\n",
              "  line-height: 1em;\n",
              "  font-family: monospace;\n",
              "  background-color: var(--sklearn-color-background);\n",
              "  border-radius: 1rem;\n",
              "  height: 1rem;\n",
              "  width: 1rem;\n",
              "  text-decoration: none;\n",
              "  /* unfitted */\n",
              "  color: var(--sklearn-color-unfitted-level-1);\n",
              "  border: var(--sklearn-color-unfitted-level-1) 1pt solid;\n",
              "}\n",
              "\n",
              "#sk-container-id-1 a.estimator_doc_link.fitted {\n",
              "  /* fitted */\n",
              "  border: var(--sklearn-color-fitted-level-1) 1pt solid;\n",
              "  color: var(--sklearn-color-fitted-level-1);\n",
              "}\n",
              "\n",
              "/* On hover */\n",
              "#sk-container-id-1 a.estimator_doc_link:hover {\n",
              "  /* unfitted */\n",
              "  background-color: var(--sklearn-color-unfitted-level-3);\n",
              "  color: var(--sklearn-color-background);\n",
              "  text-decoration: none;\n",
              "}\n",
              "\n",
              "#sk-container-id-1 a.estimator_doc_link.fitted:hover {\n",
              "  /* fitted */\n",
              "  background-color: var(--sklearn-color-fitted-level-3);\n",
              "}\n",
              "</style><div id=\"sk-container-id-1\" class=\"sk-top-container\"><div class=\"sk-text-repr-fallback\"><pre>DecisionTreeClassifier(criterion=&#x27;entropy&#x27;, max_depth=4, min_samples_leaf=2,\n",
              "                       random_state=100)</pre><b>In a Jupyter environment, please rerun this cell to show the HTML representation or trust the notebook. <br />On GitHub, the HTML representation is unable to render, please try loading this page with nbviewer.org.</b></div><div class=\"sk-container\" hidden><div class=\"sk-item\"><div class=\"sk-estimator fitted sk-toggleable\"><input class=\"sk-toggleable__control sk-hidden--visually\" id=\"sk-estimator-id-1\" type=\"checkbox\" checked><label for=\"sk-estimator-id-1\" class=\"sk-toggleable__label fitted sk-toggleable__label-arrow fitted\">&nbsp;&nbsp;DecisionTreeClassifier<a class=\"sk-estimator-doc-link fitted\" rel=\"noreferrer\" target=\"_blank\" href=\"https://scikit-learn.org/1.5/modules/generated/sklearn.tree.DecisionTreeClassifier.html\">?<span>Documentation for DecisionTreeClassifier</span></a><span class=\"sk-estimator-doc-link fitted\">i<span>Fitted</span></span></label><div class=\"sk-toggleable__content fitted\"><pre>DecisionTreeClassifier(criterion=&#x27;entropy&#x27;, max_depth=4, min_samples_leaf=2,\n",
              "                       random_state=100)</pre></div> </div></div></div></div>"
            ]
          },
          "metadata": {},
          "execution_count": 28
        }
      ]
    },
    {
      "cell_type": "markdown",
      "metadata": {
        "id": "vZAUXNerDZ3h"
      },
      "source": [
        "## Exercise 2 Visualize a Decision Tree (0.5 points)\n",
        "Execute the code below to visualize the decision tree. The only thing you need to fill in is the name of the 2nd feature you used for input.  Replace '???' with a string of that feature name."
      ]
    },
    {
      "cell_type": "code",
      "metadata": {
        "trusted": true,
        "id": "Z9zEAX7ZDZ3k"
      },
      "source": [
        "dot_data= tree.export_graphviz(clf, out_file=None, feature_names=('down','ydstogo','YardsGainedPrevPlay','AirYards','PassLocation'))"
      ],
      "execution_count": 32,
      "outputs": []
    },
    {
      "cell_type": "code",
      "metadata": {
        "trusted": true,
        "id": "BNlauyTGDZ3r",
        "colab": {
          "base_uri": "https://localhost:8080/",
          "height": 658
        },
        "outputId": "c2bd2394-acfb-43e4-8c67-f2ffe2d83fdc"
      },
      "source": [
        "graph = graphviz.Source(dot_data)\n",
        "graph"
      ],
      "execution_count": 33,
      "outputs": [
        {
          "output_type": "execute_result",
          "data": {
            "image/svg+xml": "<?xml version=\"1.0\" encoding=\"UTF-8\" standalone=\"no\"?>\n<!DOCTYPE svg PUBLIC \"-//W3C//DTD SVG 1.1//EN\"\n \"http://www.w3.org/Graphics/SVG/1.1/DTD/svg11.dtd\">\n<!-- Generated by graphviz version 2.43.0 (0)\n -->\n<!-- Title: Tree Pages: 1 -->\n<svg width=\"721pt\" height=\"477pt\"\n viewBox=\"0.00 0.00 720.50 477.00\" xmlns=\"http://www.w3.org/2000/svg\" xmlns:xlink=\"http://www.w3.org/1999/xlink\">\n<g id=\"graph0\" class=\"graph\" transform=\"scale(1 1) rotate(0) translate(4 473)\">\n<title>Tree</title>\n<polygon fill=\"white\" stroke=\"transparent\" points=\"-4,4 -4,-473 716.5,-473 716.5,4 -4,4\"/>\n<!-- 0 -->\n<g id=\"node1\" class=\"node\">\n<title>0</title>\n<polygon fill=\"none\" stroke=\"black\" points=\"613,-469 421,-469 421,-401 613,-401 613,-469\"/>\n<text text-anchor=\"middle\" x=\"517\" y=\"-453.8\" font-family=\"Helvetica,sans-Serif\" font-size=\"14.00\">YardsGainedPrevPlay &lt;= 8.0</text>\n<text text-anchor=\"middle\" x=\"517\" y=\"-438.8\" font-family=\"Helvetica,sans-Serif\" font-size=\"14.00\">entropy = 0.811</text>\n<text text-anchor=\"middle\" x=\"517\" y=\"-423.8\" font-family=\"Helvetica,sans-Serif\" font-size=\"14.00\">samples = 56</text>\n<text text-anchor=\"middle\" x=\"517\" y=\"-408.8\" font-family=\"Helvetica,sans-Serif\" font-size=\"14.00\">value = [14, 42]</text>\n</g>\n<!-- 1 -->\n<g id=\"node2\" class=\"node\">\n<title>1</title>\n<polygon fill=\"none\" stroke=\"black\" points=\"516,-365 384,-365 384,-297 516,-297 516,-365\"/>\n<text text-anchor=\"middle\" x=\"450\" y=\"-349.8\" font-family=\"Helvetica,sans-Serif\" font-size=\"14.00\">AirYards &lt;= 18.5</text>\n<text text-anchor=\"middle\" x=\"450\" y=\"-334.8\" font-family=\"Helvetica,sans-Serif\" font-size=\"14.00\">entropy = 0.902</text>\n<text text-anchor=\"middle\" x=\"450\" y=\"-319.8\" font-family=\"Helvetica,sans-Serif\" font-size=\"14.00\">samples = 44</text>\n<text text-anchor=\"middle\" x=\"450\" y=\"-304.8\" font-family=\"Helvetica,sans-Serif\" font-size=\"14.00\">value = [14.0, 30.0]</text>\n</g>\n<!-- 0&#45;&gt;1 -->\n<g id=\"edge1\" class=\"edge\">\n<title>0&#45;&gt;1</title>\n<path fill=\"none\" stroke=\"black\" d=\"M495.25,-400.88C489.57,-392.24 483.38,-382.82 477.45,-373.79\"/>\n<polygon fill=\"black\" stroke=\"black\" points=\"480.29,-371.74 471.87,-365.3 474.44,-375.58 480.29,-371.74\"/>\n<text text-anchor=\"middle\" x=\"466.8\" y=\"-386.08\" font-family=\"Helvetica,sans-Serif\" font-size=\"14.00\">True</text>\n</g>\n<!-- 14 -->\n<g id=\"node15\" class=\"node\">\n<title>14</title>\n<polygon fill=\"none\" stroke=\"black\" points=\"636,-357.5 534,-357.5 534,-304.5 636,-304.5 636,-357.5\"/>\n<text text-anchor=\"middle\" x=\"585\" y=\"-342.3\" font-family=\"Helvetica,sans-Serif\" font-size=\"14.00\">entropy = 0.0</text>\n<text text-anchor=\"middle\" x=\"585\" y=\"-327.3\" font-family=\"Helvetica,sans-Serif\" font-size=\"14.00\">samples = 12</text>\n<text text-anchor=\"middle\" x=\"585\" y=\"-312.3\" font-family=\"Helvetica,sans-Serif\" font-size=\"14.00\">value = [0, 12]</text>\n</g>\n<!-- 0&#45;&gt;14 -->\n<g id=\"edge14\" class=\"edge\">\n<title>0&#45;&gt;14</title>\n<path fill=\"none\" stroke=\"black\" d=\"M539.08,-400.88C546.56,-389.67 554.92,-377.13 562.43,-365.85\"/>\n<polygon fill=\"black\" stroke=\"black\" points=\"565.35,-367.78 567.99,-357.52 559.53,-363.9 565.35,-367.78\"/>\n<text text-anchor=\"middle\" x=\"572.89\" y=\"-378.33\" font-family=\"Helvetica,sans-Serif\" font-size=\"14.00\">False</text>\n</g>\n<!-- 2 -->\n<g id=\"node3\" class=\"node\">\n<title>2</title>\n<polygon fill=\"none\" stroke=\"black\" points=\"416.5,-261 305.5,-261 305.5,-193 416.5,-193 416.5,-261\"/>\n<text text-anchor=\"middle\" x=\"361\" y=\"-245.8\" font-family=\"Helvetica,sans-Serif\" font-size=\"14.00\">ydstogo &lt;= 4.0</text>\n<text text-anchor=\"middle\" x=\"361\" y=\"-230.8\" font-family=\"Helvetica,sans-Serif\" font-size=\"14.00\">entropy = 0.764</text>\n<text text-anchor=\"middle\" x=\"361\" y=\"-215.8\" font-family=\"Helvetica,sans-Serif\" font-size=\"14.00\">samples = 36</text>\n<text text-anchor=\"middle\" x=\"361\" y=\"-200.8\" font-family=\"Helvetica,sans-Serif\" font-size=\"14.00\">value = [8, 28]</text>\n</g>\n<!-- 1&#45;&gt;2 -->\n<g id=\"edge2\" class=\"edge\">\n<title>1&#45;&gt;2</title>\n<path fill=\"none\" stroke=\"black\" d=\"M421.1,-296.88C413.33,-287.98 404.83,-278.24 396.74,-268.96\"/>\n<polygon fill=\"black\" stroke=\"black\" points=\"399.27,-266.53 390.06,-261.3 393.99,-271.14 399.27,-266.53\"/>\n</g>\n<!-- 9 -->\n<g id=\"node10\" class=\"node\">\n<title>9</title>\n<polygon fill=\"none\" stroke=\"black\" points=\"631,-261 439,-261 439,-193 631,-193 631,-261\"/>\n<text text-anchor=\"middle\" x=\"535\" y=\"-245.8\" font-family=\"Helvetica,sans-Serif\" font-size=\"14.00\">YardsGainedPrevPlay &lt;= 0.5</text>\n<text text-anchor=\"middle\" x=\"535\" y=\"-230.8\" font-family=\"Helvetica,sans-Serif\" font-size=\"14.00\">entropy = 0.811</text>\n<text text-anchor=\"middle\" x=\"535\" y=\"-215.8\" font-family=\"Helvetica,sans-Serif\" font-size=\"14.00\">samples = 8</text>\n<text text-anchor=\"middle\" x=\"535\" y=\"-200.8\" font-family=\"Helvetica,sans-Serif\" font-size=\"14.00\">value = [6, 2]</text>\n</g>\n<!-- 1&#45;&gt;9 -->\n<g id=\"edge9\" class=\"edge\">\n<title>1&#45;&gt;9</title>\n<path fill=\"none\" stroke=\"black\" d=\"M477.6,-296.88C484.95,-288.07 492.97,-278.43 500.64,-269.24\"/>\n<polygon fill=\"black\" stroke=\"black\" points=\"503.54,-271.22 507.25,-261.3 498.16,-266.74 503.54,-271.22\"/>\n</g>\n<!-- 3 -->\n<g id=\"node4\" class=\"node\">\n<title>3</title>\n<polygon fill=\"none\" stroke=\"black\" points=\"242.5,-157 97.5,-157 97.5,-89 242.5,-89 242.5,-157\"/>\n<text text-anchor=\"middle\" x=\"170\" y=\"-141.8\" font-family=\"Helvetica,sans-Serif\" font-size=\"14.00\">PassLocation &lt;= &#45;0.5</text>\n<text text-anchor=\"middle\" x=\"170\" y=\"-126.8\" font-family=\"Helvetica,sans-Serif\" font-size=\"14.00\">entropy = 0.985</text>\n<text text-anchor=\"middle\" x=\"170\" y=\"-111.8\" font-family=\"Helvetica,sans-Serif\" font-size=\"14.00\">samples = 7</text>\n<text text-anchor=\"middle\" x=\"170\" y=\"-96.8\" font-family=\"Helvetica,sans-Serif\" font-size=\"14.00\">value = [4, 3]</text>\n</g>\n<!-- 2&#45;&gt;3 -->\n<g id=\"edge3\" class=\"edge\">\n<title>2&#45;&gt;3</title>\n<path fill=\"none\" stroke=\"black\" d=\"M305.5,-196.36C285.36,-185.6 262.32,-173.3 241.02,-161.93\"/>\n<polygon fill=\"black\" stroke=\"black\" points=\"242.48,-158.74 232.01,-157.12 239.18,-164.91 242.48,-158.74\"/>\n</g>\n<!-- 6 -->\n<g id=\"node7\" class=\"node\">\n<title>6</title>\n<polygon fill=\"none\" stroke=\"black\" points=\"457,-157 265,-157 265,-89 457,-89 457,-157\"/>\n<text text-anchor=\"middle\" x=\"361\" y=\"-141.8\" font-family=\"Helvetica,sans-Serif\" font-size=\"14.00\">YardsGainedPrevPlay &lt;= 2.5</text>\n<text text-anchor=\"middle\" x=\"361\" y=\"-126.8\" font-family=\"Helvetica,sans-Serif\" font-size=\"14.00\">entropy = 0.579</text>\n<text text-anchor=\"middle\" x=\"361\" y=\"-111.8\" font-family=\"Helvetica,sans-Serif\" font-size=\"14.00\">samples = 29</text>\n<text text-anchor=\"middle\" x=\"361\" y=\"-96.8\" font-family=\"Helvetica,sans-Serif\" font-size=\"14.00\">value = [4, 25]</text>\n</g>\n<!-- 2&#45;&gt;6 -->\n<g id=\"edge6\" class=\"edge\">\n<title>2&#45;&gt;6</title>\n<path fill=\"none\" stroke=\"black\" d=\"M361,-192.88C361,-184.78 361,-175.98 361,-167.47\"/>\n<polygon fill=\"black\" stroke=\"black\" points=\"364.5,-167.3 361,-157.3 357.5,-167.3 364.5,-167.3\"/>\n</g>\n<!-- 4 -->\n<g id=\"node5\" class=\"node\">\n<title>4</title>\n<polygon fill=\"none\" stroke=\"black\" points=\"96,-53 0,-53 0,0 96,0 96,-53\"/>\n<text text-anchor=\"middle\" x=\"48\" y=\"-37.8\" font-family=\"Helvetica,sans-Serif\" font-size=\"14.00\">entropy = 0.0</text>\n<text text-anchor=\"middle\" x=\"48\" y=\"-22.8\" font-family=\"Helvetica,sans-Serif\" font-size=\"14.00\">samples = 2</text>\n<text text-anchor=\"middle\" x=\"48\" y=\"-7.8\" font-family=\"Helvetica,sans-Serif\" font-size=\"14.00\">value = [0, 2]</text>\n</g>\n<!-- 3&#45;&gt;4 -->\n<g id=\"edge4\" class=\"edge\">\n<title>3&#45;&gt;4</title>\n<path fill=\"none\" stroke=\"black\" d=\"M127.33,-88.95C115.05,-79.43 101.67,-69.07 89.46,-59.62\"/>\n<polygon fill=\"black\" stroke=\"black\" points=\"91.28,-56.59 81.23,-53.24 86.99,-62.13 91.28,-56.59\"/>\n</g>\n<!-- 5 -->\n<g id=\"node6\" class=\"node\">\n<title>5</title>\n<polygon fill=\"none\" stroke=\"black\" points=\"225.5,-53 114.5,-53 114.5,0 225.5,0 225.5,-53\"/>\n<text text-anchor=\"middle\" x=\"170\" y=\"-37.8\" font-family=\"Helvetica,sans-Serif\" font-size=\"14.00\">entropy = 0.722</text>\n<text text-anchor=\"middle\" x=\"170\" y=\"-22.8\" font-family=\"Helvetica,sans-Serif\" font-size=\"14.00\">samples = 5</text>\n<text text-anchor=\"middle\" x=\"170\" y=\"-7.8\" font-family=\"Helvetica,sans-Serif\" font-size=\"14.00\">value = [4, 1]</text>\n</g>\n<!-- 3&#45;&gt;5 -->\n<g id=\"edge5\" class=\"edge\">\n<title>3&#45;&gt;5</title>\n<path fill=\"none\" stroke=\"black\" d=\"M170,-88.95C170,-80.72 170,-71.85 170,-63.48\"/>\n<polygon fill=\"black\" stroke=\"black\" points=\"173.5,-63.24 170,-53.24 166.5,-63.24 173.5,-63.24\"/>\n</g>\n<!-- 7 -->\n<g id=\"node8\" class=\"node\">\n<title>7</title>\n<polygon fill=\"none\" stroke=\"black\" points=\"354.5,-53 243.5,-53 243.5,0 354.5,0 354.5,-53\"/>\n<text text-anchor=\"middle\" x=\"299\" y=\"-37.8\" font-family=\"Helvetica,sans-Serif\" font-size=\"14.00\">entropy = 0.684</text>\n<text text-anchor=\"middle\" x=\"299\" y=\"-22.8\" font-family=\"Helvetica,sans-Serif\" font-size=\"14.00\">samples = 22</text>\n<text text-anchor=\"middle\" x=\"299\" y=\"-7.8\" font-family=\"Helvetica,sans-Serif\" font-size=\"14.00\">value = [4, 18]</text>\n</g>\n<!-- 6&#45;&gt;7 -->\n<g id=\"edge7\" class=\"edge\">\n<title>6&#45;&gt;7</title>\n<path fill=\"none\" stroke=\"black\" d=\"M339.32,-88.95C333.55,-80.17 327.32,-70.66 321.51,-61.82\"/>\n<polygon fill=\"black\" stroke=\"black\" points=\"324.3,-59.68 315.89,-53.24 318.44,-63.52 324.3,-59.68\"/>\n</g>\n<!-- 8 -->\n<g id=\"node9\" class=\"node\">\n<title>8</title>\n<polygon fill=\"none\" stroke=\"black\" points=\"469,-53 373,-53 373,0 469,0 469,-53\"/>\n<text text-anchor=\"middle\" x=\"421\" y=\"-37.8\" font-family=\"Helvetica,sans-Serif\" font-size=\"14.00\">entropy = 0.0</text>\n<text text-anchor=\"middle\" x=\"421\" y=\"-22.8\" font-family=\"Helvetica,sans-Serif\" font-size=\"14.00\">samples = 7</text>\n<text text-anchor=\"middle\" x=\"421\" y=\"-7.8\" font-family=\"Helvetica,sans-Serif\" font-size=\"14.00\">value = [0, 7]</text>\n</g>\n<!-- 6&#45;&gt;8 -->\n<g id=\"edge8\" class=\"edge\">\n<title>6&#45;&gt;8</title>\n<path fill=\"none\" stroke=\"black\" d=\"M381.99,-88.95C387.56,-80.17 393.59,-70.66 399.21,-61.82\"/>\n<polygon fill=\"black\" stroke=\"black\" points=\"402.25,-63.55 404.66,-53.24 396.34,-59.8 402.25,-63.55\"/>\n</g>\n<!-- 10 -->\n<g id=\"node11\" class=\"node\">\n<title>10</title>\n<polygon fill=\"none\" stroke=\"black\" points=\"590.5,-157 479.5,-157 479.5,-89 590.5,-89 590.5,-157\"/>\n<text text-anchor=\"middle\" x=\"535\" y=\"-141.8\" font-family=\"Helvetica,sans-Serif\" font-size=\"14.00\">down &lt;= 1.5</text>\n<text text-anchor=\"middle\" x=\"535\" y=\"-126.8\" font-family=\"Helvetica,sans-Serif\" font-size=\"14.00\">entropy = 0.971</text>\n<text text-anchor=\"middle\" x=\"535\" y=\"-111.8\" font-family=\"Helvetica,sans-Serif\" font-size=\"14.00\">samples = 5</text>\n<text text-anchor=\"middle\" x=\"535\" y=\"-96.8\" font-family=\"Helvetica,sans-Serif\" font-size=\"14.00\">value = [3, 2]</text>\n</g>\n<!-- 9&#45;&gt;10 -->\n<g id=\"edge10\" class=\"edge\">\n<title>9&#45;&gt;10</title>\n<path fill=\"none\" stroke=\"black\" d=\"M535,-192.88C535,-184.78 535,-175.98 535,-167.47\"/>\n<polygon fill=\"black\" stroke=\"black\" points=\"538.5,-167.3 535,-157.3 531.5,-167.3 538.5,-167.3\"/>\n</g>\n<!-- 13 -->\n<g id=\"node14\" class=\"node\">\n<title>13</title>\n<polygon fill=\"none\" stroke=\"black\" points=\"705,-149.5 609,-149.5 609,-96.5 705,-96.5 705,-149.5\"/>\n<text text-anchor=\"middle\" x=\"657\" y=\"-134.3\" font-family=\"Helvetica,sans-Serif\" font-size=\"14.00\">entropy = 0.0</text>\n<text text-anchor=\"middle\" x=\"657\" y=\"-119.3\" font-family=\"Helvetica,sans-Serif\" font-size=\"14.00\">samples = 3</text>\n<text text-anchor=\"middle\" x=\"657\" y=\"-104.3\" font-family=\"Helvetica,sans-Serif\" font-size=\"14.00\">value = [3, 0]</text>\n</g>\n<!-- 9&#45;&gt;13 -->\n<g id=\"edge13\" class=\"edge\">\n<title>9&#45;&gt;13</title>\n<path fill=\"none\" stroke=\"black\" d=\"M574.61,-192.88C588.69,-181.12 604.5,-167.89 618.48,-156.2\"/>\n<polygon fill=\"black\" stroke=\"black\" points=\"621.05,-158.62 626.48,-149.52 616.56,-153.25 621.05,-158.62\"/>\n</g>\n<!-- 11 -->\n<g id=\"node12\" class=\"node\">\n<title>11</title>\n<polygon fill=\"none\" stroke=\"black\" points=\"583,-53 487,-53 487,0 583,0 583,-53\"/>\n<text text-anchor=\"middle\" x=\"535\" y=\"-37.8\" font-family=\"Helvetica,sans-Serif\" font-size=\"14.00\">entropy = 1.0</text>\n<text text-anchor=\"middle\" x=\"535\" y=\"-22.8\" font-family=\"Helvetica,sans-Serif\" font-size=\"14.00\">samples = 2</text>\n<text text-anchor=\"middle\" x=\"535\" y=\"-7.8\" font-family=\"Helvetica,sans-Serif\" font-size=\"14.00\">value = [1, 1]</text>\n</g>\n<!-- 10&#45;&gt;11 -->\n<g id=\"edge11\" class=\"edge\">\n<title>10&#45;&gt;11</title>\n<path fill=\"none\" stroke=\"black\" d=\"M535,-88.95C535,-80.72 535,-71.85 535,-63.48\"/>\n<polygon fill=\"black\" stroke=\"black\" points=\"538.5,-63.24 535,-53.24 531.5,-63.24 538.5,-63.24\"/>\n</g>\n<!-- 12 -->\n<g id=\"node13\" class=\"node\">\n<title>12</title>\n<polygon fill=\"none\" stroke=\"black\" points=\"712.5,-53 601.5,-53 601.5,0 712.5,0 712.5,-53\"/>\n<text text-anchor=\"middle\" x=\"657\" y=\"-37.8\" font-family=\"Helvetica,sans-Serif\" font-size=\"14.00\">entropy = 0.918</text>\n<text text-anchor=\"middle\" x=\"657\" y=\"-22.8\" font-family=\"Helvetica,sans-Serif\" font-size=\"14.00\">samples = 3</text>\n<text text-anchor=\"middle\" x=\"657\" y=\"-7.8\" font-family=\"Helvetica,sans-Serif\" font-size=\"14.00\">value = [2, 1]</text>\n</g>\n<!-- 10&#45;&gt;12 -->\n<g id=\"edge12\" class=\"edge\">\n<title>10&#45;&gt;12</title>\n<path fill=\"none\" stroke=\"black\" d=\"M577.67,-88.95C589.95,-79.43 603.33,-69.07 615.54,-59.62\"/>\n<polygon fill=\"black\" stroke=\"black\" points=\"618.01,-62.13 623.77,-53.24 613.72,-56.59 618.01,-62.13\"/>\n</g>\n</g>\n</svg>\n",
            "text/plain": [
              "<graphviz.sources.Source at 0x7fe6130ed4b0>"
            ]
          },
          "metadata": {},
          "execution_count": 33
        }
      ]
    },
    {
      "cell_type": "markdown",
      "metadata": {
        "id": "i6DDNQe8DZ3w"
      },
      "source": [
        "## Exercise 3 Save a Visualization of Decision Tree (0.5 points)\n",
        "You can save the visualization of decision tree in a PDF file using graph.render command below. Replace '????' with ** your first initials ** (e.g., jy for me).  After executing the code below with the file name, you should be able to find the file (with .pdf extension) in the DS200F24 folder of your Google Drive."
      ]
    },
    {
      "cell_type": "code",
      "metadata": {
        "trusted": true,
        "id": "nZPG93d1DZ3z",
        "colab": {
          "base_uri": "https://localhost:8080/",
          "height": 36
        },
        "outputId": "68d24e7e-8cbb-4b73-ab63-4891cb9de0a6"
      },
      "source": [
        "path3='/content/drive/My Drive/DS200F24/Ben_pass_vx_10_22_Ex3'\n",
        "graph.render(path3)"
      ],
      "execution_count": 34,
      "outputs": [
        {
          "output_type": "execute_result",
          "data": {
            "text/plain": [
              "'/content/drive/My Drive/DS200F24/Ben_pass_vx_10_22_Ex3.pdf'"
            ],
            "application/vnd.google.colaboratory.intrinsic+json": {
              "type": "string"
            }
          },
          "metadata": {},
          "execution_count": 34
        }
      ]
    },
    {
      "cell_type": "markdown",
      "metadata": {
        "id": "YU5BWQsxDZ34"
      },
      "source": [
        "### Exercise 4 Interpret a Decision Tree (1 point)\n",
        "- (1) Find a leaf node in your decision tree that has the largest number of samples. Describe the prediction associated with the node.\n",
        "- (2) Describe the rule associated with the path from the root node to the leaf node.  When possible, **describe a condition of the \"False\" branch by negating the condition** so that it is easier for humans to understand.  For example, a condition of \"PassLocation < 0.5 is False\" can be more easily understood as \"PassLocation >= 0.5\"."
      ]
    },
    {
      "cell_type": "markdown",
      "metadata": {
        "id": "KQ70Mu44DZ37"
      },
      "source": [
        "### Answer to Exercise 5:\n",
        "- (1) YardsGainedPrevPlay has the most samples: 56 samples. 14 samples are negative; 42 samples are positive. Therefore, the probability of a false test is 14/56 or 0.25. The probability of a true test is 42/56 or 0.75.\n",
        "- (2) The root node follows the rule YardsGainPrevPlay > 8 to the leaf node of False. There are more routes to the other 6 leaf nodes involving other rules."
      ]
    },
    {
      "cell_type": "markdown",
      "source": [
        "# Evaluate the Decision Tree: Using the Decition Tree for Prediction on Testing Data (Data Not Used for Training the DT)"
      ],
      "metadata": {
        "id": "vIgdo6ZnAXZN"
      }
    },
    {
      "cell_type": "code",
      "metadata": {
        "trusted": true,
        "id": "EY7xhAz0DZ39"
      },
      "source": [
        "predicted_completion = clf.predict(testing_X)"
      ],
      "execution_count": 35,
      "outputs": []
    },
    {
      "cell_type": "code",
      "metadata": {
        "trusted": true,
        "id": "4pclipyeDZ4G",
        "colab": {
          "base_uri": "https://localhost:8080/"
        },
        "outputId": "20289c38-20b5-46fe-8a72-d3b7fd53fc68"
      },
      "source": [
        "print(predicted_completion)"
      ],
      "execution_count": 36,
      "outputs": [
        {
          "output_type": "stream",
          "name": "stdout",
          "text": [
            "[1 1 0 1 1 1 0 1 1 1 1 1 1 1]\n"
          ]
        }
      ]
    },
    {
      "cell_type": "code",
      "metadata": {
        "trusted": true,
        "id": "Drm3FRH7DZ4K",
        "colab": {
          "base_uri": "https://localhost:8080/"
        },
        "outputId": "249d1568-200f-4662-9183-f310ab829892"
      },
      "source": [
        "print(testing_Y)"
      ],
      "execution_count": 37,
      "outputs": [
        {
          "output_type": "stream",
          "name": "stdout",
          "text": [
            "[0 1 0 0 1 1 0 1 1 1 0 1 1 1]\n"
          ]
        }
      ]
    },
    {
      "cell_type": "code",
      "metadata": {
        "trusted": true,
        "id": "C1OkVmgVDZ4W",
        "colab": {
          "base_uri": "https://localhost:8080/"
        },
        "outputId": "7b0ed9bc-d758-49c0-e8ee-b5901cd8a908"
      },
      "source": [
        "print(metrics.classification_report(testing_Y, predicted_completion))"
      ],
      "execution_count": 38,
      "outputs": [
        {
          "output_type": "stream",
          "name": "stdout",
          "text": [
            "              precision    recall  f1-score   support\n",
            "\n",
            "           0       1.00      0.40      0.57         5\n",
            "           1       0.75      1.00      0.86         9\n",
            "\n",
            "    accuracy                           0.79        14\n",
            "   macro avg       0.88      0.70      0.71        14\n",
            "weighted avg       0.84      0.79      0.76        14\n",
            "\n"
          ]
        }
      ]
    },
    {
      "cell_type": "code",
      "metadata": {
        "trusted": true,
        "id": "r5CPC7SPDZ4b",
        "colab": {
          "base_uri": "https://localhost:8080/"
        },
        "outputId": "ab0d301c-b483-42d5-9853-87f389bd0696"
      },
      "source": [
        "metrics.confusion_matrix(testing_Y, predicted_completion)"
      ],
      "execution_count": 39,
      "outputs": [
        {
          "output_type": "execute_result",
          "data": {
            "text/plain": [
              "array([[2, 3],\n",
              "       [0, 9]])"
            ]
          },
          "metadata": {},
          "execution_count": 39
        }
      ]
    },
    {
      "cell_type": "markdown",
      "source": [
        "# Demonstrate the Principle of Decision Tree Learning\n",
        "- Selection of Thrsholds\n",
        "- Entropy of the Probability Distribution of Class Labels"
      ],
      "metadata": {
        "id": "XG3TEHLeIpq1"
      }
    },
    {
      "cell_type": "markdown",
      "source": [
        "# How was the threshold of a Feature Test determined?\n",
        "\n",
        "*   Sort the values of the feature\n",
        "*   Consider every mid-point of two adjacent values as a candidate threshold.\n",
        "\n",
        "\n",
        "\n"
      ],
      "metadata": {
        "id": "nylk6orWBX73"
      }
    },
    {
      "cell_type": "code",
      "source": [
        "sorted_YGPP_table = training_table.sort(\"Yards.Gained.PrevPlay\", descending=False)"
      ],
      "metadata": {
        "id": "wwf2fJ9-EqA0"
      },
      "execution_count": 40,
      "outputs": []
    },
    {
      "cell_type": "code",
      "source": [
        "sorted_YGPP_table.show(50)"
      ],
      "metadata": {
        "id": "XVXC3togfi0L",
        "colab": {
          "base_uri": "https://localhost:8080/",
          "height": 1000
        },
        "outputId": "a69e6da9-5821-4841-b0da-a05279b9c63a"
      },
      "execution_count": 41,
      "outputs": [
        {
          "output_type": "display_data",
          "data": {
            "text/plain": [
              "<IPython.core.display.HTML object>"
            ],
            "text/html": [
              "<table border=\"1\" class=\"dataframe\">\n",
              "    <thead>\n",
              "        <tr>\n",
              "            <th>down</th> <th>ydstogo</th> <th>Yards.Gained.PrevPlay</th> <th>AirYards</th> <th>PassLocation</th> <th>PassOutcome</th>\n",
              "        </tr>\n",
              "    </thead>\n",
              "    <tbody>\n",
              "        <tr>\n",
              "            <td>3   </td> <td>18     </td> <td>-6                   </td> <td>17      </td> <td>-1          </td> <td>1          </td>\n",
              "        </tr>\n",
              "        <tr>\n",
              "            <td>2   </td> <td>15     </td> <td>-5                   </td> <td>7       </td> <td>0           </td> <td>1          </td>\n",
              "        </tr>\n",
              "        <tr>\n",
              "            <td>2   </td> <td>13     </td> <td>-3                   </td> <td>-2      </td> <td>-1          </td> <td>1          </td>\n",
              "        </tr>\n",
              "        <tr>\n",
              "            <td>2   </td> <td>12     </td> <td>-2                   </td> <td>23      </td> <td>1           </td> <td>0          </td>\n",
              "        </tr>\n",
              "        <tr>\n",
              "            <td>3   </td> <td>5      </td> <td>-1                   </td> <td>6       </td> <td>-1          </td> <td>1          </td>\n",
              "        </tr>\n",
              "        <tr>\n",
              "            <td>3   </td> <td>6      </td> <td>-1                   </td> <td>2       </td> <td>-1          </td> <td>1          </td>\n",
              "        </tr>\n",
              "        <tr>\n",
              "            <td>1   </td> <td>10     </td> <td>0                    </td> <td>9       </td> <td>1           </td> <td>1          </td>\n",
              "        </tr>\n",
              "        <tr>\n",
              "            <td>1   </td> <td>10     </td> <td>0                    </td> <td>7       </td> <td>-1          </td> <td>1          </td>\n",
              "        </tr>\n",
              "        <tr>\n",
              "            <td>1   </td> <td>10     </td> <td>0                    </td> <td>5       </td> <td>1           </td> <td>0          </td>\n",
              "        </tr>\n",
              "        <tr>\n",
              "            <td>2   </td> <td>10     </td> <td>0                    </td> <td>25      </td> <td>1           </td> <td>0          </td>\n",
              "        </tr>\n",
              "        <tr>\n",
              "            <td>2   </td> <td>7      </td> <td>0                    </td> <td>11      </td> <td>1           </td> <td>1          </td>\n",
              "        </tr>\n",
              "        <tr>\n",
              "            <td>3   </td> <td>8      </td> <td>0                    </td> <td>39      </td> <td>-1          </td> <td>1          </td>\n",
              "        </tr>\n",
              "        <tr>\n",
              "            <td>1   </td> <td>10     </td> <td>0                    </td> <td>11      </td> <td>0           </td> <td>1          </td>\n",
              "        </tr>\n",
              "        <tr>\n",
              "            <td>2   </td> <td>10     </td> <td>0                    </td> <td>17      </td> <td>-1          </td> <td>1          </td>\n",
              "        </tr>\n",
              "        <tr>\n",
              "            <td>1   </td> <td>10     </td> <td>0                    </td> <td>5       </td> <td>1           </td> <td>1          </td>\n",
              "        </tr>\n",
              "        <tr>\n",
              "            <td>4   </td> <td>3      </td> <td>0                    </td> <td>4       </td> <td>0           </td> <td>1          </td>\n",
              "        </tr>\n",
              "        <tr>\n",
              "            <td>3   </td> <td>5      </td> <td>0                    </td> <td>7       </td> <td>0           </td> <td>0          </td>\n",
              "        </tr>\n",
              "        <tr>\n",
              "            <td>1   </td> <td>10     </td> <td>0                    </td> <td>4       </td> <td>1           </td> <td>1          </td>\n",
              "        </tr>\n",
              "        <tr>\n",
              "            <td>2   </td> <td>1      </td> <td>0                    </td> <td>0       </td> <td>-1          </td> <td>1          </td>\n",
              "        </tr>\n",
              "        <tr>\n",
              "            <td>1   </td> <td>10     </td> <td>0                    </td> <td>25      </td> <td>1           </td> <td>1          </td>\n",
              "        </tr>\n",
              "        <tr>\n",
              "            <td>2   </td> <td>8      </td> <td>0                    </td> <td>1       </td> <td>1           </td> <td>1          </td>\n",
              "        </tr>\n",
              "        <tr>\n",
              "            <td>1   </td> <td>1      </td> <td>0                    </td> <td>1       </td> <td>0           </td> <td>0          </td>\n",
              "        </tr>\n",
              "        <tr>\n",
              "            <td>1   </td> <td>10     </td> <td>0                    </td> <td>18      </td> <td>1           </td> <td>1          </td>\n",
              "        </tr>\n",
              "        <tr>\n",
              "            <td>1   </td> <td>10     </td> <td>0                    </td> <td>27      </td> <td>0           </td> <td>0          </td>\n",
              "        </tr>\n",
              "        <tr>\n",
              "            <td>2   </td> <td>1      </td> <td>0                    </td> <td>1       </td> <td>1           </td> <td>0          </td>\n",
              "        </tr>\n",
              "        <tr>\n",
              "            <td>3   </td> <td>1      </td> <td>0                    </td> <td>1       </td> <td>-1          </td> <td>1          </td>\n",
              "        </tr>\n",
              "        <tr>\n",
              "            <td>3   </td> <td>3      </td> <td>0                    </td> <td>9       </td> <td>1           </td> <td>0          </td>\n",
              "        </tr>\n",
              "        <tr>\n",
              "            <td>3   </td> <td>12     </td> <td>0                    </td> <td>6       </td> <td>0           </td> <td>0          </td>\n",
              "        </tr>\n",
              "        <tr>\n",
              "            <td>1   </td> <td>10     </td> <td>0                    </td> <td>18      </td> <td>1           </td> <td>1          </td>\n",
              "        </tr>\n",
              "        <tr>\n",
              "            <td>3   </td> <td>3      </td> <td>1                    </td> <td>19      </td> <td>1           </td> <td>0          </td>\n",
              "        </tr>\n",
              "        <tr>\n",
              "            <td>3   </td> <td>5      </td> <td>1                    </td> <td>5       </td> <td>1           </td> <td>1          </td>\n",
              "        </tr>\n",
              "        <tr>\n",
              "            <td>2   </td> <td>8      </td> <td>2                    </td> <td>0       </td> <td>-1          </td> <td>0          </td>\n",
              "        </tr>\n",
              "        <tr>\n",
              "            <td>1   </td> <td>9      </td> <td>2                    </td> <td>4       </td> <td>-1          </td> <td>1          </td>\n",
              "        </tr>\n",
              "        <tr>\n",
              "            <td>2   </td> <td>8      </td> <td>2                    </td> <td>0       </td> <td>-1          </td> <td>1          </td>\n",
              "        </tr>\n",
              "        <tr>\n",
              "            <td>2   </td> <td>6      </td> <td>3                    </td> <td>6       </td> <td>0           </td> <td>1          </td>\n",
              "        </tr>\n",
              "        <tr>\n",
              "            <td>1   </td> <td>15     </td> <td>4                    </td> <td>-1      </td> <td>1           </td> <td>1          </td>\n",
              "        </tr>\n",
              "        <tr>\n",
              "            <td>1   </td> <td>20     </td> <td>5                    </td> <td>5       </td> <td>-1          </td> <td>1          </td>\n",
              "        </tr>\n",
              "        <tr>\n",
              "            <td>3   </td> <td>3      </td> <td>5                    </td> <td>23      </td> <td>1           </td> <td>0          </td>\n",
              "        </tr>\n",
              "        <tr>\n",
              "            <td>2   </td> <td>5      </td> <td>5                    </td> <td>26      </td> <td>-1          </td> <td>0          </td>\n",
              "        </tr>\n",
              "        <tr>\n",
              "            <td>2   </td> <td>5      </td> <td>5                    </td> <td>2       </td> <td>1           </td> <td>1          </td>\n",
              "        </tr>\n",
              "        <tr>\n",
              "            <td>3   </td> <td>5      </td> <td>5                    </td> <td>4       </td> <td>0           </td> <td>1          </td>\n",
              "        </tr>\n",
              "        <tr>\n",
              "            <td>3   </td> <td>22     </td> <td>6                    </td> <td>1       </td> <td>1           </td> <td>1          </td>\n",
              "        </tr>\n",
              "        <tr>\n",
              "            <td>3   </td> <td>6      </td> <td>7                    </td> <td>6       </td> <td>0           </td> <td>1          </td>\n",
              "        </tr>\n",
              "        <tr>\n",
              "            <td>2   </td> <td>3      </td> <td>7                    </td> <td>9       </td> <td>0           </td> <td>0          </td>\n",
              "        </tr>\n",
              "        <tr>\n",
              "            <td>2   </td> <td>11     </td> <td>9                    </td> <td>4       </td> <td>-1          </td> <td>1          </td>\n",
              "        </tr>\n",
              "        <tr>\n",
              "            <td>2   </td> <td>15     </td> <td>9                    </td> <td>4       </td> <td>-1          </td> <td>1          </td>\n",
              "        </tr>\n",
              "        <tr>\n",
              "            <td>3   </td> <td>6      </td> <td>9                    </td> <td>26      </td> <td>1           </td> <td>1          </td>\n",
              "        </tr>\n",
              "        <tr>\n",
              "            <td>2   </td> <td>1      </td> <td>9                    </td> <td>-1      </td> <td>-1          </td> <td>1          </td>\n",
              "        </tr>\n",
              "        <tr>\n",
              "            <td>1   </td> <td>10     </td> <td>12                   </td> <td>7       </td> <td>-1          </td> <td>1          </td>\n",
              "        </tr>\n",
              "        <tr>\n",
              "            <td>1   </td> <td>10     </td> <td>13                   </td> <td>6       </td> <td>-1          </td> <td>1          </td>\n",
              "        </tr>\n",
              "    </tbody>\n",
              "</table>\n",
              "<p>... (6 rows omitted)</p>"
            ]
          },
          "metadata": {}
        }
      ]
    },
    {
      "cell_type": "code",
      "source": [
        "YGPP_values_table = sorted_YGPP_table.pivot(\"PassOutcome\",\"Yards.Gained.PrevPlay\")"
      ],
      "metadata": {
        "id": "oFc2i5TaipP9"
      },
      "execution_count": 42,
      "outputs": []
    },
    {
      "cell_type": "code",
      "source": [
        "YGPP_values_table.show(20)"
      ],
      "metadata": {
        "id": "rlvzSOqPjmrw",
        "colab": {
          "base_uri": "https://localhost:8080/",
          "height": 645
        },
        "outputId": "09b1a524-7cdd-4d59-d4d6-95119bdccb59"
      },
      "execution_count": 43,
      "outputs": [
        {
          "output_type": "display_data",
          "data": {
            "text/plain": [
              "<IPython.core.display.HTML object>"
            ],
            "text/html": [
              "<table border=\"1\" class=\"dataframe\">\n",
              "    <thead>\n",
              "        <tr>\n",
              "            <th>Yards.Gained.PrevPlay</th> <th>0</th> <th>1</th>\n",
              "        </tr>\n",
              "    </thead>\n",
              "    <tbody>\n",
              "        <tr>\n",
              "            <td>-6                   </td> <td>0   </td> <td>1   </td>\n",
              "        </tr>\n",
              "        <tr>\n",
              "            <td>-5                   </td> <td>0   </td> <td>1   </td>\n",
              "        </tr>\n",
              "        <tr>\n",
              "            <td>-3                   </td> <td>0   </td> <td>1   </td>\n",
              "        </tr>\n",
              "        <tr>\n",
              "            <td>-2                   </td> <td>1   </td> <td>0   </td>\n",
              "        </tr>\n",
              "        <tr>\n",
              "            <td>-1                   </td> <td>0   </td> <td>2   </td>\n",
              "        </tr>\n",
              "        <tr>\n",
              "            <td>0                    </td> <td>8   </td> <td>15  </td>\n",
              "        </tr>\n",
              "        <tr>\n",
              "            <td>1                    </td> <td>1   </td> <td>1   </td>\n",
              "        </tr>\n",
              "        <tr>\n",
              "            <td>2                    </td> <td>1   </td> <td>2   </td>\n",
              "        </tr>\n",
              "        <tr>\n",
              "            <td>3                    </td> <td>0   </td> <td>1   </td>\n",
              "        </tr>\n",
              "        <tr>\n",
              "            <td>4                    </td> <td>0   </td> <td>1   </td>\n",
              "        </tr>\n",
              "        <tr>\n",
              "            <td>5                    </td> <td>2   </td> <td>3   </td>\n",
              "        </tr>\n",
              "        <tr>\n",
              "            <td>6                    </td> <td>0   </td> <td>1   </td>\n",
              "        </tr>\n",
              "        <tr>\n",
              "            <td>7                    </td> <td>1   </td> <td>1   </td>\n",
              "        </tr>\n",
              "        <tr>\n",
              "            <td>9                    </td> <td>0   </td> <td>4   </td>\n",
              "        </tr>\n",
              "        <tr>\n",
              "            <td>12                   </td> <td>0   </td> <td>1   </td>\n",
              "        </tr>\n",
              "        <tr>\n",
              "            <td>13                   </td> <td>0   </td> <td>3   </td>\n",
              "        </tr>\n",
              "        <tr>\n",
              "            <td>18                   </td> <td>0   </td> <td>2   </td>\n",
              "        </tr>\n",
              "        <tr>\n",
              "            <td>19                   </td> <td>0   </td> <td>1   </td>\n",
              "        </tr>\n",
              "        <tr>\n",
              "            <td>28                   </td> <td>0   </td> <td>1   </td>\n",
              "        </tr>\n",
              "    </tbody>\n",
              "</table>"
            ]
          },
          "metadata": {}
        }
      ]
    },
    {
      "cell_type": "code",
      "source": [
        "import matplotlib\n",
        "matplotlib.use('Agg')\n",
        "%matplotlib inline\n",
        "import matplotlib.pyplot as plots\n",
        "plots.style.use('fivethirtyeight')"
      ],
      "metadata": {
        "id": "vTo1Vbp7lTH8"
      },
      "execution_count": 44,
      "outputs": []
    },
    {
      "cell_type": "code",
      "source": [
        "YGPP_array = training_table.values[:, 2]\n",
        "PassOutcome_array = training_table.values[:, 5]"
      ],
      "metadata": {
        "id": "NEjdUWxRZrfb"
      },
      "execution_count": 45,
      "outputs": []
    },
    {
      "cell_type": "code",
      "source": [
        "plots.scatter(YGPP_array,PassOutcome_array)"
      ],
      "metadata": {
        "id": "-cVeETJKHJBP",
        "colab": {
          "base_uri": "https://localhost:8080/",
          "height": 466
        },
        "outputId": "a1be9172-3ee1-454c-af9c-a4cb93b4ce31"
      },
      "execution_count": 46,
      "outputs": [
        {
          "output_type": "execute_result",
          "data": {
            "text/plain": [
              "<matplotlib.collections.PathCollection at 0x7fe611246bc0>"
            ]
          },
          "metadata": {},
          "execution_count": 46
        },
        {
          "output_type": "display_data",
          "data": {
            "text/plain": [
              "<Figure size 640x480 with 1 Axes>"
            ],
            "image/png": "[encoded data removed]"
          },
          "metadata": {}
        }
      ]
    },
    {
      "cell_type": "markdown",
      "source": [
        "# Demonstrate the Principle of Decision Tree Learning\n",
        "- Selection of Thrsholds\n",
        "- **Entropy of the Probability Distribution of Class Labels**"
      ],
      "metadata": {
        "id": "OOFksU7oG_6x"
      }
    },
    {
      "cell_type": "code",
      "source": [
        "def entropy(prob_list):\n",
        "  length = len(prob_list)\n",
        "  entropy = 0\n",
        "  for i in range(length):\n",
        "    if prob_list[i] == 0:\n",
        "      entropy = entropy + 0\n",
        "    else:\n",
        "      entropy = entropy - prob_list[i] * np.log2(prob_list[i])\n",
        "  return entropy"
      ],
      "metadata": {
        "id": "p3ov37hczEdV"
      },
      "execution_count": 47,
      "outputs": []
    },
    {
      "cell_type": "markdown",
      "source": [
        "# Problem 4 (1 point)\n",
        "- (a) Using the function above, compute the entropy of the three nodes in slide 34 of Topic 9. (0.5 point)\n",
        "- (b) Compute the Expected Information Gain of the feature test at the root node of slide 34. (0.5 point)"
      ],
      "metadata": {
        "id": "DoTrEl9cPAT1"
      }
    },
    {
      "cell_type": "markdown",
      "source": [
        "# Put answer to Problem 4 (a) in the following code cells:"
      ],
      "metadata": {
        "id": "9dZ3wq_ohuTr"
      }
    },
    {
      "cell_type": "code",
      "source": [
        "# The input to entropy is a list of probability. [Prob(incomplete), Prob(complete)]\n",
        "# For example, the following list is for Prob(incomplete)=0.5\n",
        "# Notice: Prob(incomplete) + P(complete)=1\n",
        "list = [0, 1]"
      ],
      "metadata": {
        "id": "FlD1TVr2zs6C"
      },
      "execution_count": 48,
      "outputs": []
    },
    {
      "cell_type": "code",
      "source": [
        "entropy(list)"
      ],
      "metadata": {
        "id": "7wg-tzQ3z3sO",
        "colab": {
          "base_uri": "https://localhost:8080/"
        },
        "outputId": "798d3f9b-c2e6-4bc5-e4ea-6fe0a12af66f"
      },
      "execution_count": 49,
      "outputs": [
        {
          "output_type": "execute_result",
          "data": {
            "text/plain": [
              "0.0"
            ]
          },
          "metadata": {},
          "execution_count": 49
        }
      ]
    },
    {
      "cell_type": "code",
      "source": [
        "listRoot= entropy([14/56, 42/56])\n",
        "print(listRoot)"
      ],
      "metadata": {
        "id": "W3tEMPI10tHN",
        "colab": {
          "base_uri": "https://localhost:8080/"
        },
        "outputId": "ea3cc03a-6cc5-4934-833b-cc100fc952f1"
      },
      "execution_count": 53,
      "outputs": [
        {
          "output_type": "stream",
          "name": "stdout",
          "text": [
            "0.811278124459\n"
          ]
        }
      ]
    },
    {
      "cell_type": "code",
      "source": [
        "listTrueChild= entropy([14/44, 30/44])\n",
        "print(listTrueChild)"
      ],
      "metadata": {
        "id": "020tUc-92lkf",
        "colab": {
          "base_uri": "https://localhost:8080/"
        },
        "outputId": "62db71ca-fa5d-4699-f6d6-719ae78e734a"
      },
      "execution_count": 54,
      "outputs": [
        {
          "output_type": "stream",
          "name": "stdout",
          "text": [
            "0.902393282795\n"
          ]
        }
      ]
    },
    {
      "cell_type": "code",
      "source": [
        "listFalseChild= entropy([0/12, 12/12])\n",
        "print(listFalseChild)"
      ],
      "metadata": {
        "id": "uNxQ6Ne3FhFj",
        "colab": {
          "base_uri": "https://localhost:8080/"
        },
        "outputId": "f3b7c2fa-0871-4a37-b549-059ee3367e52"
      },
      "execution_count": 55,
      "outputs": [
        {
          "output_type": "stream",
          "name": "stdout",
          "text": [
            "0.0\n"
          ]
        }
      ]
    },
    {
      "cell_type": "markdown",
      "source": [
        "# Enter Answer to Problem 4 (b) in the code cell below:"
      ],
      "metadata": {
        "id": "bJeb-R1hGhla"
      }
    },
    {
      "cell_type": "markdown",
      "source": [
        "Expected Information Gain =\n",
        "\n",
        "p(True Bowl) * [Ebefore – Entropy(True Bowl) ] +\n",
        "p(False Bowl) * [Ebefore – Entropy(False Bowl) ]\n",
        "Copyright @ 2024 John Yen, All Rights Reserved 29\n"
      ],
      "metadata": {
        "id": "Ep8Ip7sHEnJW"
      }
    },
    {
      "cell_type": "code",
      "source": [
        "# Code for Exepcted Information Gain\n",
        "EIG = (44/56) * (listRoot - listTrueChild) + (12/56) * (listRoot - listFalseChild)\n"
      ],
      "metadata": {
        "id": "mIu1dvdxGmte"
      },
      "execution_count": 56,
      "outputs": []
    },
    {
      "cell_type": "code",
      "source": [
        "print(EIG)"
      ],
      "metadata": {
        "id": "RFnae_1HGt_m",
        "colab": {
          "base_uri": "https://localhost:8080/"
        },
        "outputId": "1fee408a-ad61-4420-fe47-583114633ea6"
      },
      "execution_count": 57,
      "outputs": [
        {
          "output_type": "stream",
          "name": "stdout",
          "text": [
            "0.102254830835\n"
          ]
        }
      ]
    }
  ]
}