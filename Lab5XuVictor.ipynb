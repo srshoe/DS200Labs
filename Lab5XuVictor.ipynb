{
  "nbformat": 4,
  "nbformat_minor": 0,
  "metadata": {
    "colab": {
      "provenance": []
    },
    "kernelspec": {
      "name": "python3",
      "display_name": "Python 3"
    },
    "language_info": {
      "name": "python"
    }
  },
  "cells": [
    {
      "cell_type": "markdown",
      "source": [
        "# DS200: Introduction to Data Sciences\n",
        "# Fall 2024\n",
        "\n",
        "# Lab Assignment 5: Standard Deviation and Correlation (3 points)\n",
        "## Instructor: John Yen\n",
        "## LAs: Lauren Miller, Aaron Almeida, Amiera Masheetah Binti Irwan Rizalman, and Sharifah Rodziah Hanim BintiSyed Alwi\n",
        "\n",
        "# Total points: 3 points\n",
        "- Exercise 1: 0.1 point\n",
        "- Exercise 2A: 0.2 points\n",
        "- Exercise 2B: 0.4 points\n",
        "- Exercise 2C: 0.3 points\n",
        "- Exercise 2D: 0.9 points\n",
        "- Exercise 3: 0.4 points\n",
        "- Exercise 4: 0.4 points\n",
        "- Exercise 5: 0.3 points\n",
        "\n",
        "\n",
        "## Due: midnight October 2 (Wed), 2024\n"
      ],
      "metadata": {
        "id": "4opC7I_fVScx"
      }
    },
    {
      "cell_type": "code",
      "source": [
        "from datascience import *\n",
        "import numpy as np\n",
        "\n",
        "import matplotlib\n",
        "matplotlib.use('Agg')\n",
        "%matplotlib inline\n",
        "import matplotlib.pyplot as plots\n",
        "plots.style.use('fivethirtyeight')"
      ],
      "metadata": {
        "id": "vTo1Vbp7lTH8"
      },
      "execution_count": 1,
      "outputs": []
    },
    {
      "cell_type": "markdown",
      "source": [
        "# A Question:\n",
        "Suppose you have told to find out, based on a global survey regarding income and the degree of satisfaction, **whether there is a linear relationship between national average income and national average level of satisfaction.**\n",
        "\n"
      ],
      "metadata": {
        "id": "D-JQEdnDlmuq"
      }
    },
    {
      "cell_type": "code",
      "source": [
        "happy_table = Table.read_table('happyscore_income.csv')\n",
        "happy_table.show(5)"
      ],
      "metadata": {
        "id": "ZEN3nkr3k6Cq",
        "colab": {
          "base_uri": "https://localhost:8080/",
          "height": 446
        },
        "outputId": "f4e0befd-f616-41fa-def8-898d93e9eab2"
      },
      "execution_count": 3,
      "outputs": [
        {
          "output_type": "display_data",
          "data": {
            "text/plain": [
              "<IPython.core.display.HTML object>"
            ],
            "text/html": [
              "<table border=\"1\" class=\"dataframe\">\n",
              "    <thead>\n",
              "        <tr>\n",
              "            <th>country</th> <th>adjusted_satisfaction</th> <th>avg_satisfaction</th> <th>std_satisfaction</th> <th>avg_income</th> <th>median_income</th> <th>income_inequality</th> <th>region</th> <th>happyScore</th> <th>GDP</th> <th>country.1</th>\n",
              "        </tr>\n",
              "    </thead>\n",
              "    <tbody>\n",
              "        <tr>\n",
              "            <td>Armenia  </td> <td>37                   </td> <td>4.9             </td> <td>2.42            </td> <td>2096.76   </td> <td>1731.51      </td> <td>31.4456          </td> <td>'Central and Eastern Europe' </td> <td>4.35      </td> <td>0.76821</td> <td>Armenia  </td>\n",
              "        </tr>\n",
              "        <tr>\n",
              "            <td>Angola   </td> <td>26                   </td> <td>4.3             </td> <td>3.19            </td> <td>1448.88   </td> <td>1044.24      </td> <td>42.72            </td> <td>'Sub-Saharan Africa'         </td> <td>4.033     </td> <td>0.75778</td> <td>Angola   </td>\n",
              "        </tr>\n",
              "        <tr>\n",
              "            <td>Argentina</td> <td>60                   </td> <td>7.1             </td> <td>1.91            </td> <td>7101.12   </td> <td>5109.4       </td> <td>45.4756          </td> <td>'Latin America and Caribbean'</td> <td>6.574     </td> <td>1.05351</td> <td>Argentina</td>\n",
              "        </tr>\n",
              "        <tr>\n",
              "            <td>Austria  </td> <td>59                   </td> <td>7.2             </td> <td>2.11            </td> <td>19457     </td> <td>16879.6      </td> <td>30.2963          </td> <td>'Western Europe'             </td> <td>7.2       </td> <td>1.33723</td> <td>Austria  </td>\n",
              "        </tr>\n",
              "        <tr>\n",
              "            <td>Australia</td> <td>65                   </td> <td>7.6             </td> <td>1.8             </td> <td>19917     </td> <td>15846.1      </td> <td>35.285           </td> <td>'Australia and New Zealand'  </td> <td>7.284     </td> <td>1.33358</td> <td>Australia</td>\n",
              "        </tr>\n",
              "    </tbody>\n",
              "</table>\n",
              "<p>... (106 rows omitted)</p>"
            ]
          },
          "metadata": {}
        }
      ]
    },
    {
      "cell_type": "markdown",
      "source": [
        "# Use `.stats()` of `Table` to get basic statistics of the different columns."
      ],
      "metadata": {
        "id": "l2o9dOrjnh_N"
      }
    },
    {
      "cell_type": "code",
      "source": [
        "happy_table.stats()"
      ],
      "metadata": {
        "id": "OgiJtzK2HGm4",
        "colab": {
          "base_uri": "https://localhost:8080/",
          "height": 247
        },
        "outputId": "c9f6a45f-df7a-4aa6-9568-c3cfaa48878e"
      },
      "execution_count": 4,
      "outputs": [
        {
          "output_type": "execute_result",
          "data": {
            "text/plain": [
              "statistic | country  | adjusted_satisfaction | avg_satisfaction | std_satisfaction | avg_income | median_income | income_inequality | region                      | happyScore | GDP     | country.1\n",
              "min       | Angola   | 19                    | 2.5              | 1.38             | 572.88     | 415.48        | 24.215            | 'Australia and New Zealand' | 2.839      | 0.0153  | Angola\n",
              "max       | Zimbabwe | 74                    | 8.5              | 3.19             | 26182.3    | 22240.2       | 63.7267           | 'Western Europe'            | 7.587      | 1.56391 | Zimbabwe\n",
              "median    |          | 48                    | 6                | 2.13             | 3889.32    | 2646.97       | 36.48             |                             | 5.268      | 0.91861 |\n",
              "sum       |          | 5409                  | 659              | 235.83           | 715145     | 575647        | 4264.38           |                             | 601.832    | 93.4519 |"
            ],
            "text/html": [
              "<table border=\"1\" class=\"dataframe\">\n",
              "    <thead>\n",
              "        <tr>\n",
              "            <th>statistic</th> <th>country</th> <th>adjusted_satisfaction</th> <th>avg_satisfaction</th> <th>std_satisfaction</th> <th>avg_income</th> <th>median_income</th> <th>income_inequality</th> <th>region</th> <th>happyScore</th> <th>GDP</th> <th>country.1</th>\n",
              "        </tr>\n",
              "    </thead>\n",
              "    <tbody>\n",
              "        <tr>\n",
              "            <td>min      </td> <td>Angola  </td> <td>19                   </td> <td>2.5             </td> <td>1.38            </td> <td>572.88    </td> <td>415.48       </td> <td>24.215           </td> <td>'Australia and New Zealand'</td> <td>2.839     </td> <td>0.0153 </td> <td>Angola   </td>\n",
              "        </tr>\n",
              "        <tr>\n",
              "            <td>max      </td> <td>Zimbabwe</td> <td>74                   </td> <td>8.5             </td> <td>3.19            </td> <td>26182.3   </td> <td>22240.2      </td> <td>63.7267          </td> <td>'Western Europe'           </td> <td>7.587     </td> <td>1.56391</td> <td>Zimbabwe </td>\n",
              "        </tr>\n",
              "        <tr>\n",
              "            <td>median   </td> <td>        </td> <td>48                   </td> <td>6               </td> <td>2.13            </td> <td>3889.32   </td> <td>2646.97      </td> <td>36.48            </td> <td>                           </td> <td>5.268     </td> <td>0.91861</td> <td>         </td>\n",
              "        </tr>\n",
              "        <tr>\n",
              "            <td>sum      </td> <td>        </td> <td>5409                 </td> <td>659             </td> <td>235.83          </td> <td>715145    </td> <td>575647       </td> <td>4264.38          </td> <td>                           </td> <td>601.832   </td> <td>93.4519</td> <td>         </td>\n",
              "        </tr>\n",
              "    </tbody>\n",
              "</table>"
            ]
          },
          "metadata": {},
          "execution_count": 4
        }
      ]
    },
    {
      "cell_type": "markdown",
      "source": [
        "# Histogram and Bins\n",
        "\n",
        "In lab 2, we have used a histogram to visualize the distribution of delay time among all flights in the table.  \n",
        "Recalls that one of the parameter for generating a histogram of a Table's column is `bins`.\n",
        "\n"
      ],
      "metadata": {
        "id": "Uy6WeOJSpRFt"
      }
    },
    {
      "cell_type": "markdown",
      "source": [
        "## Problem 1 Generate a histogram of the avg_satisfaction column and the avg_income column using 20 bins. (0.1 points)"
      ],
      "metadata": {
        "id": "nxAoRD3QRy1D"
      }
    },
    {
      "cell_type": "code",
      "source": [
        "# Enter your code in this cell.\n",
        "happy_table.hist('avg_satisfaction', bins=20)"
      ],
      "metadata": {
        "id": "cfrfx-KcR9_s",
        "colab": {
          "base_uri": "https://localhost:8080/",
          "height": 411
        },
        "outputId": "8e173daa-708a-4936-d947-99511a1a2b0a"
      },
      "execution_count": 5,
      "outputs": [
        {
          "output_type": "display_data",
          "data": {
            "text/plain": [
              "<Figure size 600x400 with 1 Axes>"
            ],
            "image/png": "[encoded data removed]"
          },
          "metadata": {}
        }
      ]
    },
    {
      "cell_type": "code",
      "source": [
        "happy_table.hist('avg_income', bins=20)"
      ],
      "metadata": {
        "id": "UA8uivnWIeYE",
        "colab": {
          "base_uri": "https://localhost:8080/",
          "height": 411
        },
        "outputId": "940fb23d-ea06-4f82-b57b-8d0d8c17fc7d"
      },
      "execution_count": 6,
      "outputs": [
        {
          "output_type": "display_data",
          "data": {
            "text/plain": [
              "<Figure size 600x400 with 1 Axes>"
            ],
            "image/png": "[encoded data removed]"
          },
          "metadata": {}
        }
      ]
    },
    {
      "cell_type": "markdown",
      "source": [
        "# Part 2: Mean, Variance, Standard Deviation\n",
        "\n",
        "\n",
        "To calculate the mean, across all countries in the dataset, of ``avg_satisfaction``, we need to first extract all value in the `Delay` column into an array."
      ],
      "metadata": {
        "id": "xEPHjUASqbWv"
      }
    },
    {
      "cell_type": "markdown",
      "source": [
        "## Two Ways to Extract Columns of a Table\n",
        "There are two ways to extract values of column from a table: (1) `select` returns a new `Table` containing **one or more columns** specified, (2) `column` returns a `numpy array` containing all values of **one column**.\n",
        "\n",
        "- If we want to select a few columns of a `Table` for further data analysis, aggregation, and/or visualization, we use ``select`` (the first approach).\n",
        "\n",
        "- If we want to compute average, standard deviation of a column, we use `column` to extract its values into a `numpy array``, because it enables us to use `numpy functions` for arrays."
      ],
      "metadata": {
        "id": "PnL0wQHWT4Ic"
      }
    },
    {
      "cell_type": "code",
      "source": [
        "avg_sat_array = happy_table.column('avg_satisfaction')\n",
        "print(avg_sat_array)"
      ],
      "metadata": {
        "id": "XHX5uO1SSvyD",
        "colab": {
          "base_uri": "https://localhost:8080/"
        },
        "outputId": "6bbd1933-71a0-4e79-8570-d30bcb8ded18"
      },
      "execution_count": 7,
      "outputs": [
        {
          "output_type": "stream",
          "name": "stdout",
          "text": [
            "[ 4.9  4.3  7.1  7.2  7.6  5.8  5.3  7.2  4.4  4.6  2.9  3.   6.3  6.9  4.7\n",
            "  5.5  8.   8.   6.8  3.9  6.2  7.9  8.5  7.1  6.6  7.2  5.7  8.4  7.5  6.8\n",
            "  6.2  7.   4.2  7.9  6.4  4.2  7.1  4.3  5.4  6.5  7.   6.   5.5  6.1  7.5\n",
            "  7.3  5.5  5.8  8.1  6.6  6.4  3.7  5.8  4.9  5.7  6.5  6.2  5.1  4.4  5.2\n",
            "  5.8  7.7  5.5  5.3  5.3  3.7  4.7  5.7  4.9  5.9  8.3  6.6  3.8  3.8  5.3\n",
            "  7.1  7.6  8.   5.3  7.8  6.5  7.   6.   6.8  5.8  6.8  6.   5.6  5.6  4.9\n",
            "  7.8  7.   6.3  3.5  4.5  6.7  5.4  2.6  6.8  5.1  5.5  6.   2.5  5.1  4.5\n",
            "  7.3  7.   6.1  6.3  5.   4.1]\n"
          ]
        }
      ]
    },
    {
      "cell_type": "code",
      "source": [
        "avg_income_array = happy_table.column('avg_income')\n",
        "print(avg_income_array)"
      ],
      "metadata": {
        "id": "LcXhuhVDoaiK",
        "colab": {
          "base_uri": "https://localhost:8080/"
        },
        "outputId": "118b7ca6-93e6-46f5-c93f-ad666f4970b1"
      },
      "execution_count": 8,
      "outputs": [
        {
          "output_type": "stream",
          "name": "stdout",
          "text": [
            "[  2096.76         1448.88         7101.12        19457.04\n",
            "  19917.           3381.6          1265.34        17168.505\n",
            "    870.84         5354.82          572.88          989.04\n",
            "   3985.71         5567.235        3484.68         5453.93333333\n",
            "  20190.78        23400.04         7557.99         1490.52\n",
            "   2673.64285714   4618.06285714   6901.46666667  10493.955\n",
            "   9430.905       19285.96         1875.24        17496.51\n",
            "   4430.76         3835.65333333   7906.725       13842.99\n",
            "   1050.72        17310.195       18096.78857143   2520.96\n",
            "  17099.55         1957.26666667   1577.04        11507.565\n",
            "   3080.44         7828.08         6903.88363636   1541.74736842\n",
            "  16657.77        10645.24         1357.848        5215.04\n",
            "  18828.345       15437.595       14542.8          1492.68\n",
            "   1852.64         1868.72         2627.00571429   3555.09333333\n",
            "   1491.72         2558.28          653.04          908.64\n",
            "   6789.16        26182.275        6722.90181818   2864.88\n",
            "   3077.28          574.2           903.3          3181.8\n",
            "   1922.64         4120.5          4148.           7286.82\n",
            "    714.72          718.4           910.32         2419.2\n",
            "  18234.435       21877.71         1428.12         6250.36\n",
            "   4312.66666667   2224.464        1463.856        6582.46588235\n",
            "   9982.875        4938.52         3174.15         4629.90857143\n",
            "   7647.195         946.52        17032.755       12174.765\n",
            "   7986.39692308    850.08         1135.08         3410.89333333\n",
            "   1177.68          936.36         4792.5          1497.03\n",
            "   3251.28         5242.66666667    941.4          4129.68\n",
            "   1126.48        23127.           7544.4          2231.4\n",
            "   3889.32          956.76         1768.56      ]\n"
          ]
        }
      ]
    },
    {
      "cell_type": "markdown",
      "source": [
        "### Problem 2A: Mean (0.2 points)\n",
        "\n",
        "Calculate the mean value of `avg_satisfaction` and `avg_income` across all countries in the dataset using ``<array>.mean()``, and store the value in the variable `global_mean_sat`, and `global_mean_income`.\n",
        "\n",
        "Another way to calculate the mean of an array of number is to use ``np.mean(<array>)``\n",
        "\n",
        "\n"
      ],
      "metadata": {
        "id": "w2BfOo3GLp1c"
      }
    },
    {
      "cell_type": "code",
      "source": [
        "global_mean_sat = avg_sat_array.mean()"
      ],
      "metadata": {
        "id": "jkoAPc9GL3k0"
      },
      "execution_count": 12,
      "outputs": []
    },
    {
      "cell_type": "markdown",
      "source": [
        "### The other way to calculate the mean of an array ..."
      ],
      "metadata": {
        "id": "aG95Shu8powq"
      }
    },
    {
      "cell_type": "code",
      "source": [
        "np.mean(avg_sat_array)"
      ],
      "metadata": {
        "id": "dt3v_kwEpSJy",
        "colab": {
          "base_uri": "https://localhost:8080/"
        },
        "outputId": "e4ac615a-6ecc-4633-90c8-6fcf4bdb950f"
      },
      "execution_count": 11,
      "outputs": [
        {
          "output_type": "execute_result",
          "data": {
            "text/plain": [
              "5.9369369369369362"
            ]
          },
          "metadata": {},
          "execution_count": 11
        }
      ]
    },
    {
      "cell_type": "code",
      "source": [
        "print(global_mean_sat)"
      ],
      "metadata": {
        "id": "d1DP8_RRMeIo",
        "colab": {
          "base_uri": "https://localhost:8080/"
        },
        "outputId": "f71e68b8-f9cf-4ff1-cd6e-68a962b3d315"
      },
      "execution_count": 13,
      "outputs": [
        {
          "output_type": "stream",
          "name": "stdout",
          "text": [
            "5.93693693694\n"
          ]
        }
      ]
    },
    {
      "cell_type": "code",
      "source": [
        "global_mean_income = avg_income_array.mean()"
      ],
      "metadata": {
        "id": "8FwWnPAFMh8t"
      },
      "execution_count": 15,
      "outputs": []
    },
    {
      "cell_type": "code",
      "source": [
        "print(global_mean_income)"
      ],
      "metadata": {
        "id": "__4ExhMrMo-s",
        "colab": {
          "base_uri": "https://localhost:8080/"
        },
        "outputId": "24886806-7dfd-4849-b998-f5cfcd78b5a1"
      },
      "execution_count": 16,
      "outputs": [
        {
          "output_type": "stream",
          "name": "stdout",
          "text": [
            "6442.75141621\n"
          ]
        }
      ]
    },
    {
      "cell_type": "markdown",
      "source": [
        "## Calculating Variance\n",
        "\n",
        "Recall that variance is the average squared deviation from the mean. For example, so to calculate the variance of the `avg_satisfaction` across countries, you can follow the steps below:\n",
        "- 1. Calculate every country's deviation from `global_mean_sat` and store the resulting array in variable `sat_deviations`,\n",
        "- 2. Use Numpy function `np.square` to calculate the squared deviations. When `np.square` applies to an array, it computes the square of each element of the array, and returns the squared elements as a new array.\n",
        "- 3. Use Numpy function `np.mean` to calculate the mean of all squared deviations and store the result in variable `sat_variance`."
      ],
      "metadata": {
        "id": "GNMAfWb8irx0"
      }
    },
    {
      "cell_type": "markdown",
      "source": [
        "### Problem 2B: Variance (0.4 points)\n",
        "\n",
        "First, calculate every country's deviation from global_mean_sat.\n",
        "\n",
        "\n",
        "\n",
        "\n",
        "\n",
        "\n",
        "\n",
        "\n",
        "\n"
      ],
      "metadata": {
        "id": "rTUDDLNnvTxf"
      }
    },
    {
      "cell_type": "code",
      "source": [
        "# Complete your solution to Problem 2B using the code cells below:"
      ],
      "metadata": {
        "id": "Y3wT6IZ2xN0W"
      },
      "execution_count": null,
      "outputs": []
    },
    {
      "cell_type": "code",
      "source": [
        "global_sat_deviations = avg_sat_array - global_mean_sat\n",
        "print(global_sat_deviations)"
      ],
      "metadata": {
        "id": "wylM-IyrPQve",
        "colab": {
          "base_uri": "https://localhost:8080/"
        },
        "outputId": "efad1252-7739-461f-e211-f098b6b8ad90"
      },
      "execution_count": 17,
      "outputs": [
        {
          "output_type": "stream",
          "name": "stdout",
          "text": [
            "[-1.03693694 -1.63693694  1.16306306  1.26306306  1.66306306 -0.13693694\n",
            " -0.63693694  1.26306306 -1.53693694 -1.33693694 -3.03693694 -2.93693694\n",
            "  0.36306306  0.96306306 -1.23693694 -0.43693694  2.06306306  2.06306306\n",
            "  0.86306306 -2.03693694  0.26306306  1.96306306  2.56306306  1.16306306\n",
            "  0.66306306  1.26306306 -0.23693694  2.46306306  1.56306306  0.86306306\n",
            "  0.26306306  1.06306306 -1.73693694  1.96306306  0.46306306 -1.73693694\n",
            "  1.16306306 -1.63693694 -0.53693694  0.56306306  1.06306306  0.06306306\n",
            " -0.43693694  0.16306306  1.56306306  1.36306306 -0.43693694 -0.13693694\n",
            "  2.16306306  0.66306306  0.46306306 -2.23693694 -0.13693694 -1.03693694\n",
            " -0.23693694  0.56306306  0.26306306 -0.83693694 -1.53693694 -0.73693694\n",
            " -0.13693694  1.76306306 -0.43693694 -0.63693694 -0.63693694 -2.23693694\n",
            " -1.23693694 -0.23693694 -1.03693694 -0.03693694  2.36306306  0.66306306\n",
            " -2.13693694 -2.13693694 -0.63693694  1.16306306  1.66306306  2.06306306\n",
            " -0.63693694  1.86306306  0.56306306  1.06306306  0.06306306  0.86306306\n",
            " -0.13693694  0.86306306  0.06306306 -0.33693694 -0.33693694 -1.03693694\n",
            "  1.86306306  1.06306306  0.36306306 -2.43693694 -1.43693694  0.76306306\n",
            " -0.53693694 -3.33693694  0.86306306 -0.83693694 -0.43693694  0.06306306\n",
            " -3.43693694 -0.83693694 -1.43693694  1.36306306  1.06306306  0.16306306\n",
            "  0.36306306 -0.93693694 -1.83693694]\n"
          ]
        }
      ]
    },
    {
      "cell_type": "code",
      "source": [
        "global_sat_dev_square = np.square(global_sat_deviations)\n",
        "print(global_sat_dev_square)"
      ],
      "metadata": {
        "id": "YqNY3tTAjf5g",
        "colab": {
          "base_uri": "https://localhost:8080/"
        },
        "outputId": "e72f576a-d6fd-4ed1-9a4c-e1a35581d93b"
      },
      "execution_count": 18,
      "outputs": [
        {
          "output_type": "stream",
          "name": "stdout",
          "text": [
            "[  1.07523821e+00   2.67956254e+00   1.35271569e+00   1.59532830e+00\n",
            "   2.76577875e+00   1.87517247e-02   4.05688662e-01   1.59532830e+00\n",
            "   2.36217515e+00   1.78740037e+00   9.22298596e+00   8.62559857e+00\n",
            "   1.31814788e-01   9.27490463e-01   1.53001299e+00   1.90913887e-01\n",
            "   4.25622920e+00   4.25622920e+00   7.44877851e-01   4.14911209e+00\n",
            "   6.92021751e-02   3.85361659e+00   6.56929227e+00   1.35271569e+00\n",
            "   4.39652626e-01   1.59532830e+00   5.61391121e-02   6.06667965e+00\n",
            "   2.44316614e+00   7.44877851e-01   6.92021751e-02   1.13010308e+00\n",
            "   3.01694992e+00   3.85361659e+00   2.14427400e-01   3.01694992e+00\n",
            "   1.35271569e+00   2.67956254e+00   2.88301274e-01   3.17040013e-01\n",
            "   1.13010308e+00   3.97694992e-03   1.90913887e-01   2.65895625e-02\n",
            "   2.44316614e+00   1.85794091e+00   1.90913887e-01   1.87517247e-02\n",
            "   4.67884181e+00   4.39652626e-01   2.14427400e-01   5.00388686e+00\n",
            "   1.87517247e-02   1.07523821e+00   5.61391121e-02   3.17040013e-01\n",
            "   6.92021751e-02   7.00463436e-01   2.36217515e+00   5.43076049e-01\n",
            "   1.87517247e-02   3.10839136e+00   1.90913887e-01   4.05688662e-01\n",
            "   4.05688662e-01   5.00388686e+00   1.53001299e+00   5.61391121e-02\n",
            "   1.07523821e+00   1.36433731e-03   5.58406704e+00   4.39652626e-01\n",
            "   4.56649947e+00   4.56649947e+00   4.05688662e-01   1.35271569e+00\n",
            "   2.76577875e+00   4.25622920e+00   4.05688662e-01   3.47100398e+00\n",
            "   3.17040013e-01   1.13010308e+00   3.97694992e-03   7.44877851e-01\n",
            "   1.87517247e-02   7.44877851e-01   3.97694992e-03   1.13526499e-01\n",
            "   1.13526499e-01   1.07523821e+00   3.47100398e+00   1.13010308e+00\n",
            "   1.31814788e-01   5.93866163e+00   2.06478776e+00   5.82265238e-01\n",
            "   2.88301274e-01   1.11351481e+01   7.44877851e-01   7.00463436e-01\n",
            "   1.90913887e-01   3.97694992e-03   1.18125355e+01   7.00463436e-01\n",
            "   2.06478776e+00   1.85794091e+00   1.13010308e+00   2.65895625e-02\n",
            "   1.31814788e-01   8.77850824e-01   3.37433731e+00]\n"
          ]
        }
      ]
    },
    {
      "cell_type": "code",
      "source": [
        "global_sat_variance = np.mean(global_sat_dev_square)\n",
        "print(global_sat_variance)"
      ],
      "metadata": {
        "id": "x58OGdu3kHD-",
        "colab": {
          "base_uri": "https://localhost:8080/"
        },
        "outputId": "b72e1602-0ef1-407d-fe1d-2ce46c7939a1"
      },
      "execution_count": 19,
      "outputs": [
        {
          "output_type": "stream",
          "name": "stdout",
          "text": [
            "1.82323025728\n"
          ]
        }
      ]
    },
    {
      "cell_type": "markdown",
      "source": [
        "# Standard Deviation\n",
        "\n",
        "Standard deviation is the positive square root of variance.\n",
        "\n",
        "There are two ways to calcuate square root of a number:\n",
        "1. Use the Python exponent operator `**` with a power of 0.5. For example, `sat_variance**0.5`.\n",
        "\n",
        "2. Use the `numpy sqrt` function. For example, `np.sqrt(sat_variance)`\n",
        "\n",
        "- Numpy also provides a function `np.std` that directly computes the standard deviation of the input array.\n",
        "\n",
        "# Problem 2C Standard Deviation (0.3 points)\n",
        "\n",
        "Complte the code below to calculate standard deviation using all three methods above.\n",
        "\n"
      ],
      "metadata": {
        "id": "f20tkVM6Pky5"
      }
    },
    {
      "cell_type": "code",
      "source": [
        "global_sat_variance**0.5"
      ],
      "metadata": {
        "id": "qMO2RvAVnKva",
        "colab": {
          "base_uri": "https://localhost:8080/"
        },
        "outputId": "4b7c6384-61f4-4614-fd8c-123376b533fc"
      },
      "execution_count": 21,
      "outputs": [
        {
          "output_type": "execute_result",
          "data": {
            "text/plain": [
              "1.3502704385730702"
            ]
          },
          "metadata": {},
          "execution_count": 21
        }
      ]
    },
    {
      "cell_type": "code",
      "source": [
        "global_std_sat = np.sqrt(global_sat_variance)\n",
        "print(global_std_sat)"
      ],
      "metadata": {
        "id": "Rt4_RgUWnKvb",
        "colab": {
          "base_uri": "https://localhost:8080/"
        },
        "outputId": "5502942c-de3d-4883-a37f-e3ca9d07b9c7"
      },
      "execution_count": 27,
      "outputs": [
        {
          "output_type": "stream",
          "name": "stdout",
          "text": [
            "1.35027043857\n"
          ]
        }
      ]
    },
    {
      "cell_type": "code",
      "source": [
        "np.std(avg_sat_array)"
      ],
      "metadata": {
        "id": "ziVLHOjZmNp4",
        "colab": {
          "base_uri": "https://localhost:8080/"
        },
        "outputId": "aeeb022b-5ea1-4291-eb44-9db10b3cd136"
      },
      "execution_count": 26,
      "outputs": [
        {
          "output_type": "execute_result",
          "data": {
            "text/plain": [
              "1.3502704385730702"
            ]
          },
          "metadata": {},
          "execution_count": 26
        }
      ]
    },
    {
      "cell_type": "markdown",
      "source": [
        "# Problem 2D (0.9 points)\n",
        "Apply the steps of 2A, 2B, and 2C to the array ``avg_income_array`` to compute the following:\n",
        "- ``global_income_deviations``: deviations (of all countries) from global mean of average income. (0.2 points)\n",
        "- ``global_income_variance``: variance of avg_income across all countries (0.4 points)\n",
        "- ``global_std_income``: standard deviation (calculated using np.sqrt) of avg_income (0.3 points)"
      ],
      "metadata": {
        "id": "mw-EEreuQhmD"
      }
    },
    {
      "cell_type": "code",
      "source": [
        "global_income_deviations = avg_income_array - global_mean_income"
      ],
      "metadata": {
        "id": "rkv450zkRt2y"
      },
      "execution_count": 28,
      "outputs": []
    },
    {
      "cell_type": "code",
      "source": [
        "print(global_income_deviations)"
      ],
      "metadata": {
        "id": "-B3J8axpRuFu",
        "colab": {
          "base_uri": "https://localhost:8080/"
        },
        "outputId": "bd6e198f-7d0d-4d80-a63f-d73d2b35b956"
      },
      "execution_count": 29,
      "outputs": [
        {
          "output_type": "stream",
          "name": "stdout",
          "text": [
            "[ -4345.99141621  -4993.87141621    658.36858379  13014.28858379\n",
            "  13474.24858379  -3061.15141621  -5177.41141621  10725.75358379\n",
            "  -5571.91141621  -1087.93141621  -5869.87141621  -5453.71141621\n",
            "  -2457.04141621   -875.51641621  -2958.07141621   -988.81808288\n",
            "  13748.02858379  16957.28858379   1115.23858379  -4952.23141621\n",
            "  -3769.10855907  -1824.68855907    458.71525045   4051.20358379\n",
            "   2988.15358379  12843.20858379  -4567.51141621  11053.75858379\n",
            "  -2011.99141621  -2607.09808288   1463.97358379   7400.23858379\n",
            "  -5392.03141621  10867.44358379  11654.03715521  -3921.79141621\n",
            "  10656.79858379  -4485.48474955  -4865.71141621   5064.81358379\n",
            "  -3362.31141621   1385.32858379    461.13222015  -4901.00404779\n",
            "  10215.01858379   4202.48858379  -5084.90341621  -1227.71141621\n",
            "  12385.59358379   8994.84358379   8100.04858379  -4950.07141621\n",
            "  -4590.11141621  -4574.03141621  -3815.74570193  -2887.65808288\n",
            "  -4951.03141621  -3884.47141621  -5789.71141621  -5534.11141621\n",
            "    346.40858379  19739.52358379    280.15040197  -3577.87141621\n",
            "  -3365.47141621  -5868.55141621  -5539.45141621  -3260.95141621\n",
            "  -4520.11141621  -2322.25141621  -2294.75141621    844.06858379\n",
            "  -5728.03141621  -5724.35141621  -5532.43141621  -4023.55141621\n",
            "  11791.68358379  15434.95858379  -5014.63141621   -192.39141621\n",
            "  -2130.08474955  -4218.28741621  -4978.89541621    139.71446614\n",
            "   3540.12358379  -1504.23141621  -3268.60141621  -1812.84284479\n",
            "   1204.44358379  -5496.23141621  10590.00358379   5732.01358379\n",
            "   1543.64550686  -5592.67141621  -5307.67141621  -3031.85808288\n",
            "  -5265.07141621  -5506.39141621  -1650.25141621  -4945.72141621\n",
            "  -3191.47141621  -1200.08474955  -5501.35141621  -2313.07141621\n",
            "  -5316.27141621  16684.24858379   1101.64858379  -4211.35141621\n",
            "  -2553.43141621  -5485.99141621  -4674.19141621]\n"
          ]
        }
      ]
    },
    {
      "cell_type": "code",
      "source": [
        "global_income_dev_square= np.square(global_income_deviations)"
      ],
      "metadata": {
        "id": "FY0dAnWIUTek"
      },
      "execution_count": 30,
      "outputs": []
    },
    {
      "cell_type": "code",
      "source": [
        "print(global_income_dev_square)"
      ],
      "metadata": {
        "id": "gPO7SORtU1Yi",
        "colab": {
          "base_uri": "https://localhost:8080/"
        },
        "outputId": "cf56d2ec-0152-4221-ef7f-83d9cc897b5e"
      },
      "execution_count": 31,
      "outputs": [
        {
          "output_type": "stream",
          "name": "stdout",
          "text": [
            "[  1.88876414e+07   2.49387517e+07   4.33449192e+05   1.69371707e+08\n",
            "   1.81555375e+08   9.37064799e+06   2.68055890e+07   1.15041790e+08\n",
            "   3.10461968e+07   1.18359477e+06   3.44553904e+07   2.97429682e+07\n",
            "   6.03705252e+06   7.66528995e+05   8.75018650e+06   9.77761201e+05\n",
            "   1.89008290e+08   2.87549636e+08   1.24375710e+06   2.45245960e+07\n",
            "   1.42061793e+07   3.32948834e+06   2.10419681e+05   1.64122505e+07\n",
            "   8.92906184e+06   1.64948007e+08   2.08621605e+07   1.22185579e+08\n",
            "   4.04810946e+06   6.79696041e+06   2.14321865e+06   5.47635311e+07\n",
            "   2.90740028e+07   1.18101330e+08   1.35816582e+08   1.53804479e+07\n",
            "   1.13567356e+08   2.01195734e+07   2.36751476e+07   2.56523366e+07\n",
            "   1.13051381e+07   1.91913529e+06   2.12642924e+05   2.40198407e+07\n",
            "   1.04346605e+08   1.76609103e+07   2.58562428e+07   1.50727532e+06\n",
            "   1.53402928e+08   8.09072111e+07   6.56107871e+07   2.45032070e+07\n",
            "   2.10691228e+07   2.09217634e+07   1.45599153e+07   8.33856920e+06\n",
            "   2.45127121e+07   1.50891182e+07   3.35207583e+07   3.06263892e+07\n",
            "   1.19998907e+05   3.89648791e+08   7.84842477e+04   1.28011639e+07\n",
            "   1.13263979e+07   3.44398957e+07   3.06855220e+07   1.06338041e+07\n",
            "   2.04314072e+07   5.39285164e+06   5.26588406e+06   7.12451774e+05\n",
            "   3.28103439e+07   3.27681991e+07   3.06077974e+07   1.61889660e+07\n",
            "   1.39043802e+08   2.38237946e+08   2.51465282e+07   3.70144570e+04\n",
            "   4.53726104e+06   1.77939487e+07   2.47893996e+07   1.95201320e+04\n",
            "   1.25324750e+07   2.26271215e+06   1.06837552e+07   3.28639918e+06\n",
            "   1.45068435e+06   3.02085598e+07   1.12148176e+08   3.28559797e+07\n",
            "   2.38284145e+06   3.12779736e+07   2.81713759e+07   9.19216343e+06\n",
            "   2.77209770e+07   3.03203464e+07   2.72332974e+06   2.44601603e+07\n",
            "   1.01854898e+07   1.44020341e+06   3.02648674e+07   5.35029938e+06\n",
            "   2.82627418e+07   2.78364151e+08   1.21362960e+06   1.77354808e+07\n",
            "   6.52001200e+06   3.00961018e+07   2.18480654e+07]\n"
          ]
        }
      ]
    },
    {
      "cell_type": "markdown",
      "source": [
        "## Notice: All entries are positive. This way, negative deviation does not cancel out positive deviations.  This is the reason we use **square of deviations**, rather than deviations, to calculate variance."
      ],
      "metadata": {
        "id": "152SlrmfU-NZ"
      }
    },
    {
      "cell_type": "code",
      "source": [
        "global_income_variance = np.mean(global_income_dev_square)"
      ],
      "metadata": {
        "id": "IFGhbNmFRuQ_"
      },
      "execution_count": 34,
      "outputs": []
    },
    {
      "cell_type": "code",
      "source": [
        "print(global_income_variance)"
      ],
      "metadata": {
        "id": "hRfgt_6KTxaX",
        "colab": {
          "base_uri": "https://localhost:8080/"
        },
        "outputId": "97e4b153-abfa-4472-8ebd-a27758681a8e"
      },
      "execution_count": 35,
      "outputs": [
        {
          "output_type": "stream",
          "name": "stdout",
          "text": [
            "41606119.4119\n"
          ]
        }
      ]
    },
    {
      "cell_type": "code",
      "source": [
        "global_std_income= np.sqrt(global_income_variance)"
      ],
      "metadata": {
        "id": "AnKWPtraTVyf"
      },
      "execution_count": 36,
      "outputs": []
    },
    {
      "cell_type": "code",
      "source": [
        "print(global_std_income)"
      ],
      "metadata": {
        "id": "3rf1Cjr6T2Z4",
        "colab": {
          "base_uri": "https://localhost:8080/"
        },
        "outputId": "bd5bf993-f419-4b61-c1bc-f36c1bf8cae7"
      },
      "execution_count": 37,
      "outputs": [
        {
          "output_type": "stream",
          "name": "stdout",
          "text": [
            "6450.28056846\n"
          ]
        }
      ]
    },
    {
      "cell_type": "markdown",
      "source": [
        "# Part 2 Covariance"
      ],
      "metadata": {
        "id": "lT-ze8QTug35"
      }
    },
    {
      "cell_type": "markdown",
      "source": [
        "Using the same dataset as Part 1, we want to know\n",
        "- Whether `avg_income` and `avg_satisfication` of different countries around the globe are related or not (in a linear way)?  If so, is the relationship positive or negative?"
      ],
      "metadata": {
        "id": "OCkb634Bvslc"
      }
    },
    {
      "cell_type": "markdown",
      "source": [
        "# Pairwise Multiplication of Two Arrays\n",
        "\n",
        "In order to calculate covariance, we need to perform pairwise multiplication of the following two arrys:\n",
        "- the array of deviation from mean for all values of \"avg_income\", and\n",
        "- the array of deviation from mean for all values of \"avg_satisfaction\".\n",
        "\n",
        "The pairwise multiplication calculates, for each country,\n",
        "the product of the deviation of \"avg_income\" from global mean of income (across all countries) and the\n",
        "deviation of \"avg_satisfaction\" from global mean of satisfaction (across all countries).\n",
        "- If the product is **positive**, it means the two deviations are in the **same** direction (either both above average, or both below average).\n",
        "- If the product is **negative**, it means that the two deviations are in the **oppositive** direction (one above average, while the other below average).\n",
        "\n",
        "Therefore, the mean of these products indicates, over all countries, whether the two measures are correlated (i.e., whether the covariance is non-zero), and, if they are\n",
        "correlated, what is the direction (i.e., positive or negative)?\n",
        "\n",
        "In Python, `numpy` offers a convenient way to perform pairwise multipliction of two arrays: ``np.multiply``"
      ],
      "metadata": {
        "id": "yUaOc74PHHvs"
      }
    },
    {
      "cell_type": "code",
      "source": [
        "Income_Sat_dev_product = np.multiply(global_income_deviations, global_sat_deviations)\n",
        "print(Income_Sat_dev_product)"
      ],
      "metadata": {
        "id": "_DxLbmoiKCTL",
        "colab": {
          "base_uri": "https://localhost:8080/"
        },
        "outputId": "d931a15b-0442-4c54-e084-8dbe5909721b"
      },
      "execution_count": 38,
      "outputs": [
        {
          "output_type": "stream",
          "name": "stdout",
          "text": [
            "[  4506.51902708   8174.65257952    765.72418168  16437.86720222\n",
            "  22408.52512222    419.18469844   3297.68456871  13547.3031752\n",
            "   8563.67646492   1454.49569519  17826.42931897  16017.20650168\n",
            "   -892.06098264   -843.17752156   3658.94779681    432.05114432\n",
            "  28363.04996114  34983.95572691    962.52122817  10087.38309195\n",
            "   -991.51324257  -3581.97871191   1175.7161149    4711.80524925\n",
            "   1981.33426817  16221.78237339   1082.21216438  27226.10447574\n",
            "  -3144.86946589  -2250.09005712    385.11737519   7866.92029628\n",
            "   9365.61853195  21333.47708925   5396.55414214   6811.90436979\n",
            "  12394.5288033    7342.4556666    2612.58018384   2851.80945033\n",
            "  -3574.34907309     87.36306384   -201.48569979   -799.17273212\n",
            "  15966.71823682   5728.2569615    2221.7821233     168.11904078\n",
            "  26790.8199952    5964.14853844   3750.83330817  11072.99759141\n",
            "    628.55579754   4742.98212618    904.09109875  -1625.93360523\n",
            "  -1302.43348967   3251.05760871   8898.42132979   4078.29111573\n",
            "    -47.43613039  34802.02491303   -122.40805852   2278.8784606\n",
            "   2143.59305519  13127.57942924   6851.95206708    772.63984006\n",
            "   4687.07048654     85.77685411  -5422.64231057    559.6707006\n",
            "  12240.44190924  12232.57798132   3523.80992006  -4679.64403453\n",
            "  19610.31341952  31843.29293412   3194.00397411   -358.4373412\n",
            "  -1199.37204366  -4484.30554156   -313.98439562    120.5823951\n",
            "   -484.77367994  -1298.24657363   -206.12801724    610.81371527\n",
            "   -405.82153183   5699.24536943  19729.84451466   6093.4919179\n",
            "    560.440666    13628.98755032   7626.78910708  -2313.4989155\n",
            "   2827.01131898  18374.480906    -1424.2710421    4139.25693303\n",
            "   1394.47174492    -75.68102024  18907.79788546   1935.894906\n",
            "   7639.14676474  22741.68297952   1171.1219179    -686.71586156\n",
            "   -927.05663129   5140.02799357   8586.19486276]\n"
          ]
        }
      ]
    },
    {
      "cell_type": "markdown",
      "source": [
        "# Problem 3 (0.4 points)\n",
        "Complete the code below to compute the covariance of \"avg_income\" and \"avg_satisfaction\" across all countries by computing the mean of the arry above formed by the product of deviation of each country's `avg_income` from the global mean and the deviation of each country's `avg_satisfaction` from the global mean of satisfaction."
      ],
      "metadata": {
        "id": "X_dLJBRFKGX-"
      }
    },
    {
      "cell_type": "code",
      "source": [
        "Income_Sat_cov = np.mean(Income_Sat_dev_product)\n",
        "print(Income_Sat_cov)"
      ],
      "metadata": {
        "id": "qehiDsXuz-Gf",
        "colab": {
          "base_uri": "https://localhost:8080/"
        },
        "outputId": "68140549-4b18-473f-a8bf-3df1b489ddf9"
      },
      "execution_count": 39,
      "outputs": [
        {
          "output_type": "stream",
          "name": "stdout",
          "text": [
            "6001.30592485\n"
          ]
        }
      ]
    },
    {
      "cell_type": "markdown",
      "source": [
        "# Part 4: Correlation Coefficient\n",
        "\n",
        "The *correlation coefficient* measures the strength of the linear relationship between two variables. Recall that the correlation coefficient $r$ is a number between $-1$ and $+1$. When the two variables have perfect positive linear relationship, i.e. as one variable increases in its values, the other variable also increases in its values following a linear rule, then $r$ has the value $+1$. When the two variables have perfect negative linear relationship, then $r$ has the value $-1$. When $r=0$, it indicates that the two variables have no linear relationship.  Other values of $r$ indicate varying degrees of linear association between the two variables; the larger the absolute value of $r$, the stronger the linear relationship between the two variables.\n",
        "\n",
        "We can now calculate correlation coefficient of avg_income and avg_satisfaction across countries."
      ],
      "metadata": {
        "id": "QwCs11I2vXRC"
      }
    },
    {
      "cell_type": "markdown",
      "source": [
        "### Problem 4: Correlation Coefficient (0.4 points)\n",
        "\n",
        "Calculate the correlation coefficient between the two variables ``avg_income`` and ``avg_satisfaction``, following the steps below:\n",
        "* Use the *covariance* of ``avg_income`` and ``avg_satisfication`` from problem 3C;\n",
        "* Calculate the *standard deviation (std)* of ``avg_income`` and the *standard deviation* of ``avg_satisfaction`` (see Part 2);\n",
        "* Calculate the *correlation coefficient* between ``avg_income`` and ``avg_satisfaction``.\n",
        "\n",
        "*Hints*:\n",
        "- The equation for calculating the correlation coefficient between two variables $X$ and $Y$ is:\n",
        "$r_{X,Y} = \\frac{cov(X,Y)}{\\sigma_X  \\sigma_Y}$, where $cov$ is the covariance of $X$ and $Y$, $\\sigma_X$ and $\\sigma_Y$ are the standard deviation of $X$ and $Y$, respectively.\n",
        "\n",
        "\n",
        "\n",
        "\n"
      ],
      "metadata": {
        "id": "51F1bdfMvXRK"
      }
    },
    {
      "cell_type": "code",
      "source": [
        "# write your solution to Problem 4 in this and following code cells\n"
      ],
      "metadata": {
        "id": "jNS9p1O-vXRL"
      },
      "execution_count": null,
      "outputs": []
    },
    {
      "cell_type": "code",
      "source": [
        "# print covariance of avg_income and avg_satisfaction\n",
        "print(Income_Sat_cov)"
      ],
      "metadata": {
        "id": "HRPUC6AbOZ8j",
        "colab": {
          "base_uri": "https://localhost:8080/"
        },
        "outputId": "121a5018-627b-43cb-c2c4-ddab5cd859e6"
      },
      "execution_count": 40,
      "outputs": [
        {
          "output_type": "stream",
          "name": "stdout",
          "text": [
            "6001.30592485\n"
          ]
        }
      ]
    },
    {
      "cell_type": "code",
      "source": [
        "# Use the standard deviation of avg_income (Part 2)\n",
        "print(global_std_income)"
      ],
      "metadata": {
        "id": "RFbMrO3zNxIK",
        "colab": {
          "base_uri": "https://localhost:8080/"
        },
        "outputId": "471ded14-05de-4fe6-c6ab-6c8f10823d1d"
      },
      "execution_count": 41,
      "outputs": [
        {
          "output_type": "stream",
          "name": "stdout",
          "text": [
            "6450.28056846\n"
          ]
        }
      ]
    },
    {
      "cell_type": "code",
      "source": [
        "# Use the standard deviation of avg_satisfaction (Part 2)\n",
        "print(global_std_sat)"
      ],
      "metadata": {
        "id": "lP5rPXiHODvh",
        "colab": {
          "base_uri": "https://localhost:8080/"
        },
        "outputId": "e414c06f-f2c6-4a7c-dc27-9c567f507c03"
      },
      "execution_count": 42,
      "outputs": [
        {
          "output_type": "stream",
          "name": "stdout",
          "text": [
            "1.35027043857\n"
          ]
        }
      ]
    },
    {
      "cell_type": "code",
      "source": [
        "Income_Sat_corr = (Income_Sat_cov)/(global_std_income * global_std_sat)\n",
        "print(Income_Sat_corr)"
      ],
      "metadata": {
        "id": "ia4vsm3KOS65",
        "colab": {
          "base_uri": "https://localhost:8080/"
        },
        "outputId": "aaf4ab56-dccf-4f01-b9e2-505e345b58f1"
      },
      "execution_count": 43,
      "outputs": [
        {
          "output_type": "stream",
          "name": "stdout",
          "text": [
            "0.689043120037\n"
          ]
        }
      ]
    },
    {
      "cell_type": "markdown",
      "source": [
        "### Double check your answer using Numpy `corrcoef` function\n",
        "\n",
        "NumPy has a function `np.corrcoef(x, y)` that returns a 2x2 correlation matrix for the two given arrays.\n",
        "\n"
      ],
      "metadata": {
        "id": "K9BvO5FQvXRL"
      }
    },
    {
      "cell_type": "code",
      "source": [
        "r_matrix = np.corrcoef(avg_income_array, avg_sat_array)\n",
        "r_matrix"
      ],
      "metadata": {
        "id": "q6O1s1HWIfuf",
        "colab": {
          "base_uri": "https://localhost:8080/"
        },
        "outputId": "9fbad30c-924c-4a4a-d5e4-1077ec431e49"
      },
      "execution_count": 44,
      "outputs": [
        {
          "output_type": "execute_result",
          "data": {
            "text/plain": [
              "array([[ 1.        ,  0.68904312],\n",
              "       [ 0.68904312,  1.        ]])"
            ]
          },
          "metadata": {},
          "execution_count": 44
        }
      ]
    },
    {
      "cell_type": "markdown",
      "source": [
        "- In Python, we access elements of a 2-dimension array/matrix (such as r_matrix) using two indices: one index for row, the other index for column.\n",
        "- Index to Python array starts with 0. That is, the first row has an index 0, the second row has the index 1, and so on.  Similarly, the first column of a 2-D matrix has an index 0, the second column has an index 1, and so on.\n",
        "- Note that the (0, 0)th of the matrix, `r_matrix[0, 0]`, is the correlation coefficient of $X$ and itself and that is why its value is $1$.\n",
        "- Similarly, `r_matrix[1, 1]` is the correlation coefficient of $Y$ and itself and its value is also $1$.\n",
        "- `r_matrix[0, 1]` and `r_matrix[1, 0]` are the same, because correlation is a symmetric measure (i.e., correlation coefficent of X and Y is the same as the correlation coefficient of Y and X).\n",
        "- To access the correlation coefficient from the `r_matrix`, which records the correlation coefficient between $X$ and $Y$, we can simply use index `[0, 1]`.  \n",
        "\n",
        "*Double Check*: The solution of Problem 4 should be the same (or very, very close) to the correlation coefficient below, obtained from Numpy `np.corrcoef` funciton."
      ],
      "metadata": {
        "id": "k1aXrhkxItNV"
      }
    },
    {
      "cell_type": "code",
      "source": [
        "r_matrix[0, 1]"
      ],
      "metadata": {
        "id": "NKoKbeBxQiI_",
        "colab": {
          "base_uri": "https://localhost:8080/"
        },
        "outputId": "af3bc853-9094-4cbb-badb-bf64a908c94c"
      },
      "execution_count": 45,
      "outputs": [
        {
          "output_type": "execute_result",
          "data": {
            "text/plain": [
              "0.68904312003725965"
            ]
          },
          "metadata": {},
          "execution_count": 45
        }
      ]
    },
    {
      "cell_type": "code",
      "source": [
        "r_matrix[1, 0]"
      ],
      "metadata": {
        "id": "_HBpvoewQmse",
        "colab": {
          "base_uri": "https://localhost:8080/"
        },
        "outputId": "40131121-2fbc-4a00-b7ad-e506cbd57bf4"
      },
      "execution_count": 46,
      "outputs": [
        {
          "output_type": "execute_result",
          "data": {
            "text/plain": [
              "0.68904312003725976"
            ]
          },
          "metadata": {},
          "execution_count": 46
        }
      ]
    },
    {
      "cell_type": "markdown",
      "source": [
        "# Problem 5 (0.3 points)\n",
        "Describe your answer to the question posted in the beginning of this lab."
      ],
      "metadata": {
        "id": "sCCu1fLnkjOf"
      }
    },
    {
      "cell_type": "markdown",
      "source": [
        "## Answer to Problem 5:\n",
        "Based on the data provided, there is a postive linear correlation between income and degree of satisfaction. Since the r value is not negative, this means there is some correlation. However, it is not one, so the relationship is not completely linear."
      ],
      "metadata": {
        "id": "z80CtQb_kwHF"
      }
    },
    {
      "cell_type": "markdown",
      "source": [
        "# Congratulation! You have completed Lab 5. Give your self a treat now.\n"
      ],
      "metadata": {
        "id": "WdoCvDmqjDtL"
      }
    }
  ]
}