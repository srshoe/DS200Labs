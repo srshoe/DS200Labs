{
  "nbformat": 4,
  "nbformat_minor": 0,
  "metadata": {
    "colab": {
      "provenance": []
    },
    "kernelspec": {
      "name": "python3",
      "display_name": "Python 3"
    },
    "language_info": {
      "name": "python"
    }
  },
  "cells": [
    {
      "cell_type": "markdown",
      "source": [
        "## DS200: Introduction to Data Sciences\n",
        "# Section 1, Fall 2024\n",
        "# Lab Assignment 6: Linear Regression, Least Squares Regression (4 points)\n",
        "\n",
        "# Instructor: John Yen\n",
        "# LAs: Lauren Miller, Aaron Almeida, Amiera Masheetah Binti Irwan Rizalman, and Sharifah Rodziah Hanim BintiSyed Alwi\n",
        "# Total points: 4 points\n",
        "\n",
        "- Exercise 1A: 0.3 point\n",
        "- Exercise 1B: 0.4 point\n",
        "- Exercise 1C: 0.4 point\n",
        "- Exercise 1D: 0.4 point\n",
        "- Exercise 2A: 0.3 points\n",
        "- Exercise 2B: 0.4 points\n",
        "- Exercise 2C: 0.4 points\n",
        "- Exercise 2D: 0.4 points\n",
        "- Exercise 3A: 0.3 points\n",
        "- Exercise 3B: 0.3 points\n",
        "= Exercise 3C: 0.4 points\n",
        "\n",
        "## Due: midnight October 9, 2024\n"
      ],
      "metadata": {
        "id": "mwhXqtCYa5_M"
      }
    },
    {
      "cell_type": "code",
      "source": [
        "from datascience import *\n",
        "import numpy as np\n",
        "\n",
        "import matplotlib\n",
        "matplotlib.use('Agg')\n",
        "%matplotlib inline\n",
        "import matplotlib.pyplot as plots\n",
        "plots.style.use('fivethirtyeight')"
      ],
      "metadata": {
        "id": "vTo1Vbp7lTH8"
      },
      "execution_count": null,
      "outputs": []
    },
    {
      "cell_type": "markdown",
      "source": [
        "In this lab assignment, we will use the happyscore_income.csv file as the dataset:\n",
        "\n",
        "We will use this dataset to learn to apply least squares regression to find the optimal linear model that minimizes the root mean squares error (RMSE).\n"
      ],
      "metadata": {
        "id": "D-JQEdnDlmuq"
      }
    },
    {
      "cell_type": "code",
      "source": [
        "world_happiness_table = Table.read_table('world-happiness-report-2024.csv')\n"
      ],
      "metadata": {
        "id": "7wSzK8zz2JN5"
      },
      "execution_count": null,
      "outputs": []
    },
    {
      "cell_type": "code",
      "source": [
        "world_happiness_table.show(5)"
      ],
      "metadata": {
        "id": "nMqyPNXBq9_w",
        "colab": {
          "base_uri": "https://localhost:8080/",
          "height": 429
        },
        "outputId": "405d153f-1eaa-485d-a6a2-28b291a29189"
      },
      "execution_count": null,
      "outputs": [
        {
          "output_type": "display_data",
          "data": {
            "text/plain": [
              "<IPython.core.display.HTML object>"
            ],
            "text/html": [
              "<table border=\"1\" class=\"dataframe\">\n",
              "    <thead>\n",
              "        <tr>\n",
              "            <th>Country name</th> <th>Regional indicator</th> <th>Ladder score</th> <th>upperwhisker</th> <th>lowerwhisker</th> <th>Log GDP per capita</th> <th>Social support</th> <th>Healthy life expectancy</th> <th>Freedom to make life choices</th> <th>Generosity</th> <th>Perceptions of corruption</th> <th>Dystopia + residual</th>\n",
              "        </tr>\n",
              "    </thead>\n",
              "    <tbody>\n",
              "        <tr>\n",
              "            <td>Finland     </td> <td>Western Europe              </td> <td>7.741       </td> <td>7.815       </td> <td>7.667       </td> <td>1.844             </td> <td>1.572         </td> <td>0.695                  </td> <td>0.859                       </td> <td>0.142     </td> <td>0.546                    </td> <td>2.082              </td>\n",
              "        </tr>\n",
              "        <tr>\n",
              "            <td>Denmark     </td> <td>Western Europe              </td> <td>7.583       </td> <td>7.665       </td> <td>7.5         </td> <td>1.908             </td> <td>1.52          </td> <td>0.699                  </td> <td>0.823                       </td> <td>0.204     </td> <td>0.548                    </td> <td>1.881              </td>\n",
              "        </tr>\n",
              "        <tr>\n",
              "            <td>Iceland     </td> <td>Western Europe              </td> <td>7.525       </td> <td>7.618       </td> <td>7.433       </td> <td>1.881             </td> <td>1.617         </td> <td>0.718                  </td> <td>0.819                       </td> <td>0.258     </td> <td>0.182                    </td> <td>2.05               </td>\n",
              "        </tr>\n",
              "        <tr>\n",
              "            <td>Sweden      </td> <td>Western Europe              </td> <td>7.344       </td> <td>7.422       </td> <td>7.267       </td> <td>1.878             </td> <td>1.501         </td> <td>0.724                  </td> <td>0.838                       </td> <td>0.221     </td> <td>0.524                    </td> <td>1.658              </td>\n",
              "        </tr>\n",
              "        <tr>\n",
              "            <td>Israel      </td> <td>Middle East and North Africa</td> <td>7.341       </td> <td>7.405       </td> <td>7.277       </td> <td>1.803             </td> <td>1.513         </td> <td>0.74                   </td> <td>0.641                       </td> <td>0.153     </td> <td>0.193                    </td> <td>2.298              </td>\n",
              "        </tr>\n",
              "    </tbody>\n",
              "</table>\n",
              "<p>... (138 rows omitted)</p>"
            ]
          },
          "metadata": {}
        }
      ]
    },
    {
      "cell_type": "code",
      "source": [
        "Ladder_array = world_happiness_table.column(\"Ladder score\")"
      ],
      "metadata": {
        "id": "lMcf63XYPOjl"
      },
      "execution_count": null,
      "outputs": []
    },
    {
      "cell_type": "code",
      "source": [
        "print(Ladder_array)"
      ],
      "metadata": {
        "id": "fNofQfMwvUXC",
        "colab": {
          "base_uri": "https://localhost:8080/"
        },
        "outputId": "2cb9709d-e4d6-4035-bad1-d65e21bf589c"
      },
      "execution_count": null,
      "outputs": [
        {
          "output_type": "stream",
          "name": "stdout",
          "text": [
            "[ 7.741  7.583  7.525  7.344  7.341  7.319  7.302  7.122  7.06   7.057\n",
            "  7.029  6.955  6.951  6.905  6.9    6.894  6.838  6.822  6.818  6.749\n",
            "  6.743  6.733  6.725  6.719  6.678  6.611  6.609  6.594  6.561  6.523\n",
            "  6.503  6.491  6.469  6.448  6.442  6.421  6.411  6.36   6.358  6.346\n",
            "  6.324  6.287  6.284  6.272  6.257  6.234  6.195  6.188  6.188  6.068\n",
            "  6.06   6.058  6.048  6.043  6.03   6.017  5.977  5.976  5.975  5.973\n",
            "  5.968  5.959  5.942  5.934  5.877  5.866  5.842  5.841  5.823  5.816\n",
            "  5.816  5.785  5.784  5.725  5.714  5.707  5.696  5.695  5.607  5.568\n",
            "  5.463  5.455  5.422  5.369  5.364  5.316  5.304  5.281  5.221  5.216\n",
            "  5.185  5.166  5.158  5.139  5.106  5.08   5.023  4.975  4.969  4.923\n",
            "  4.893  4.881  4.879  4.874  4.873  4.832  4.795  4.657  4.556  4.548\n",
            "  4.505  4.485  4.471  4.47   4.422  4.377  4.372  4.354  4.341  4.289\n",
            "  4.269  4.232  4.228  4.214  4.186  4.054  3.977  3.898  3.886  3.861\n",
            "  3.781  3.566  3.561  3.502  3.502  3.421  3.383  3.341  3.295  3.245\n",
            "  3.186  2.707  1.721]\n"
          ]
        }
      ]
    },
    {
      "cell_type": "code",
      "source": [
        "GDP_pc_array = world_happiness_table.column(\"Log GDP per capita\")"
      ],
      "metadata": {
        "id": "IsVe1BXxtaVf"
      },
      "execution_count": null,
      "outputs": []
    },
    {
      "cell_type": "code",
      "source": [
        "print(GDP_pc_array)"
      ],
      "metadata": {
        "id": "5o_OuZfSvMXj",
        "outputId": "bed00d38-baf1-4325-dd72-62bcbcaf3aff",
        "colab": {
          "base_uri": "https://localhost:8080/"
        }
      },
      "execution_count": null,
      "outputs": [
        {
          "output_type": "stream",
          "name": "stdout",
          "text": [
            "[ 1.844  1.908  1.881  1.878  1.803  1.901  1.952  2.141  1.97   1.854\n",
            "  1.81   1.561  1.845  1.885  1.84   1.868  2.129  1.783  1.766  1.822\n",
            "  1.786  1.983  1.939  1.871  1.521  1.596  1.818  1.842  1.364  2.118\n",
            "  1.842  1.699  1.265  1.752  1.738  1.766  1.538  1.616  1.702  1.827\n",
            "  1.8    1.26   1.097  1.43   1.706  1.7    1.212  1.562  1.622  1.794\n",
            "  1.786  1.815  1.232  1.331  1.728  1.722  1.398  1.484  1.646  1.497\n",
            "  1.091    nan  1.71   1.684  1.465  1.526  1.28   1.371  1.517  1.57\n",
            "  1.385  1.642  1.217  1.315  1.054  1.571  1.353  1.437  0.     1.361\n",
            "  1.629  1.444  1.389  1.475  1.324  1.909  1.438    nan  0.892  0.56\n",
            "  1.467  1.249  0.965  1.208  1.403  1.08   0.831  1.702  0.927  1.435\n",
            "  1.433  1.042    nan  0.943  1.35   1.266  1.213  1.069  0.573  0.756\n",
            "  1.078  0.75   0.603  1.037  1.306  0.914  0.772  0.978  1.011  1.077\n",
            "  0.619  0.747  0.628  0.758  1.262  1.166  1.37   1.361  1.122  0.792\n",
            "  0.82   0.896  0.671  0.899  1.255  0.617  1.445  0.748  0.534  0.654\n",
            "  0.771  1.377  0.628]\n"
          ]
        }
      ]
    },
    {
      "cell_type": "markdown",
      "source": [
        "# Problem 1A (0.3 points)\n",
        "Using ``are.above(0.0)`` in ``where`` method of ``Table`` to filter out countries that have missing or zero value for \"Log GDP per capita\" column."
      ],
      "metadata": {
        "id": "xu_l8HyMM5cG"
      }
    },
    {
      "cell_type": "code",
      "source": [
        "filtered_GDP_table = world_happiness_table.where(\"Log GDP per capita\", are.above(0.0))"
      ],
      "metadata": {
        "id": "j4vsjBgTxwOh"
      },
      "execution_count": null,
      "outputs": []
    },
    {
      "cell_type": "code",
      "source": [
        "filtered_GDP_table.show(4)"
      ],
      "metadata": {
        "id": "4PojjiC9OXCU",
        "outputId": "a32eccb1-f36e-4464-c9a3-77a0d7d7900b",
        "colab": {
          "base_uri": "https://localhost:8080/",
          "height": 345
        }
      },
      "execution_count": null,
      "outputs": [
        {
          "output_type": "display_data",
          "data": {
            "text/plain": [
              "<IPython.core.display.HTML object>"
            ],
            "text/html": [
              "<table border=\"1\" class=\"dataframe\">\n",
              "    <thead>\n",
              "        <tr>\n",
              "            <th>Country name</th> <th>Regional indicator</th> <th>Ladder score</th> <th>upperwhisker</th> <th>lowerwhisker</th> <th>Log GDP per capita</th> <th>Social support</th> <th>Healthy life expectancy</th> <th>Freedom to make life choices</th> <th>Generosity</th> <th>Perceptions of corruption</th> <th>Dystopia + residual</th>\n",
              "        </tr>\n",
              "    </thead>\n",
              "    <tbody>\n",
              "        <tr>\n",
              "            <td>Finland     </td> <td>Western Europe    </td> <td>7.741       </td> <td>7.815       </td> <td>7.667       </td> <td>1.844             </td> <td>1.572         </td> <td>0.695                  </td> <td>0.859                       </td> <td>0.142     </td> <td>0.546                    </td> <td>2.082              </td>\n",
              "        </tr>\n",
              "        <tr>\n",
              "            <td>Denmark     </td> <td>Western Europe    </td> <td>7.583       </td> <td>7.665       </td> <td>7.5         </td> <td>1.908             </td> <td>1.52          </td> <td>0.699                  </td> <td>0.823                       </td> <td>0.204     </td> <td>0.548                    </td> <td>1.881              </td>\n",
              "        </tr>\n",
              "        <tr>\n",
              "            <td>Iceland     </td> <td>Western Europe    </td> <td>7.525       </td> <td>7.618       </td> <td>7.433       </td> <td>1.881             </td> <td>1.617         </td> <td>0.718                  </td> <td>0.819                       </td> <td>0.258     </td> <td>0.182                    </td> <td>2.05               </td>\n",
              "        </tr>\n",
              "        <tr>\n",
              "            <td>Sweden      </td> <td>Western Europe    </td> <td>7.344       </td> <td>7.422       </td> <td>7.267       </td> <td>1.878             </td> <td>1.501         </td> <td>0.724                  </td> <td>0.838                       </td> <td>0.221     </td> <td>0.524                    </td> <td>1.658              </td>\n",
              "        </tr>\n",
              "    </tbody>\n",
              "</table>\n",
              "<p>... (135 rows omitted)</p>"
            ]
          },
          "metadata": {}
        }
      ]
    },
    {
      "cell_type": "code",
      "source": [
        "filtered_GDP_pc_array = filtered_GDP_table.column(\"Log GDP per capita\")"
      ],
      "metadata": {
        "id": "jTNqUha0y7DE"
      },
      "execution_count": null,
      "outputs": []
    },
    {
      "cell_type": "markdown",
      "source": [
        "## Check filtered results:\n",
        "If you filtered correctly, you should not see any zeros or missing values (e.g., nan) in the array of GDP per capita from filtered countries."
      ],
      "metadata": {
        "id": "_YJNsjBpNmN_"
      }
    },
    {
      "cell_type": "code",
      "source": [
        "print(filtered_GDP_pc_array)"
      ],
      "metadata": {
        "id": "u-KTsEM4zKxB",
        "outputId": "edd74d45-9ea9-4f35-ae96-4fd48c4bfe03",
        "colab": {
          "base_uri": "https://localhost:8080/"
        }
      },
      "execution_count": null,
      "outputs": [
        {
          "output_type": "stream",
          "name": "stdout",
          "text": [
            "[ 1.844  1.908  1.881  1.878  1.803  1.901  1.952  2.141  1.97   1.854\n",
            "  1.81   1.561  1.845  1.885  1.84   1.868  2.129  1.783  1.766  1.822\n",
            "  1.786  1.983  1.939  1.871  1.521  1.596  1.818  1.842  1.364  2.118\n",
            "  1.842  1.699  1.265  1.752  1.738  1.766  1.538  1.616  1.702  1.827\n",
            "  1.8    1.26   1.097  1.43   1.706  1.7    1.212  1.562  1.622  1.794\n",
            "  1.786  1.815  1.232  1.331  1.728  1.722  1.398  1.484  1.646  1.497\n",
            "  1.091  1.71   1.684  1.465  1.526  1.28   1.371  1.517  1.57   1.385\n",
            "  1.642  1.217  1.315  1.054  1.571  1.353  1.437  1.361  1.629  1.444\n",
            "  1.389  1.475  1.324  1.909  1.438  0.892  0.56   1.467  1.249  0.965\n",
            "  1.208  1.403  1.08   0.831  1.702  0.927  1.435  1.433  1.042  0.943\n",
            "  1.35   1.266  1.213  1.069  0.573  0.756  1.078  0.75   0.603  1.037\n",
            "  1.306  0.914  0.772  0.978  1.011  1.077  0.619  0.747  0.628  0.758\n",
            "  1.262  1.166  1.37   1.361  1.122  0.792  0.82   0.896  0.671  0.899\n",
            "  1.255  0.617  1.445  0.748  0.534  0.654  0.771  1.377  0.628]\n"
          ]
        }
      ]
    },
    {
      "cell_type": "markdown",
      "source": [
        "## Notice: To develop a linear regression model to predict happiness (\"ladder score\" in the table) from \"GDP per captia\", we want to gather \"Ladder score\" of countries from the **filtered table** so that countries who do not have non-zero GDP per capita are **NOT INCLUDED**.\n",
        "\n",
        "### There are other more advanced techniques in machine learning for dealing with missing values."
      ],
      "metadata": {
        "id": "xfZQ4CpMOQ50"
      }
    },
    {
      "cell_type": "code",
      "source": [
        "filtered_ladder_array = filtered_GDP_table.column(\"Ladder score\")"
      ],
      "metadata": {
        "id": "mtiyRGk80cgX"
      },
      "execution_count": null,
      "outputs": []
    },
    {
      "cell_type": "code",
      "source": [
        "print(filtered_ladder_array)"
      ],
      "metadata": {
        "id": "fygqluWQ0m9L",
        "outputId": "10c3b0a8-29af-453f-b35f-f0292b258cca",
        "colab": {
          "base_uri": "https://localhost:8080/"
        }
      },
      "execution_count": null,
      "outputs": [
        {
          "output_type": "stream",
          "name": "stdout",
          "text": [
            "[ 7.741  7.583  7.525  7.344  7.341  7.319  7.302  7.122  7.06   7.057\n",
            "  7.029  6.955  6.951  6.905  6.9    6.894  6.838  6.822  6.818  6.749\n",
            "  6.743  6.733  6.725  6.719  6.678  6.611  6.609  6.594  6.561  6.523\n",
            "  6.503  6.491  6.469  6.448  6.442  6.421  6.411  6.36   6.358  6.346\n",
            "  6.324  6.287  6.284  6.272  6.257  6.234  6.195  6.188  6.188  6.068\n",
            "  6.06   6.058  6.048  6.043  6.03   6.017  5.977  5.976  5.975  5.973\n",
            "  5.968  5.942  5.934  5.877  5.866  5.842  5.841  5.823  5.816  5.816\n",
            "  5.785  5.784  5.725  5.714  5.707  5.696  5.695  5.568  5.463  5.455\n",
            "  5.422  5.369  5.364  5.316  5.304  5.221  5.216  5.185  5.166  5.158\n",
            "  5.139  5.106  5.08   5.023  4.975  4.969  4.923  4.893  4.881  4.874\n",
            "  4.873  4.832  4.795  4.657  4.556  4.548  4.505  4.485  4.471  4.47\n",
            "  4.422  4.377  4.372  4.354  4.341  4.289  4.269  4.232  4.228  4.214\n",
            "  4.186  4.054  3.977  3.898  3.886  3.861  3.781  3.566  3.561  3.502\n",
            "  3.502  3.421  3.383  3.341  3.295  3.245  3.186  2.707  1.721]\n"
          ]
        }
      ]
    },
    {
      "cell_type": "markdown",
      "source": [
        "# Before building a linear regression model, it is a good idea to check where there is a correlation between GDP per captia and ladder score.\n",
        "\n",
        "## If the correlation stregnth is low, we may need to consider other variables (or combination of variables) in designing the linear regression model."
      ],
      "metadata": {
        "id": "yXXHlSJyOHAU"
      }
    },
    {
      "cell_type": "code",
      "source": [
        "c_matrix = np.corrcoef(filtered_GDP_pc_array, filtered_ladder_array)"
      ],
      "metadata": {
        "id": "F87T5k8O0rxH"
      },
      "execution_count": null,
      "outputs": []
    },
    {
      "cell_type": "code",
      "source": [
        "print(c_matrix)"
      ],
      "metadata": {
        "id": "7WBRaLV407Q4",
        "outputId": "741af0de-2772-4fb6-a445-09622ec914a6",
        "colab": {
          "base_uri": "https://localhost:8080/"
        }
      },
      "execution_count": null,
      "outputs": [
        {
          "output_type": "stream",
          "name": "stdout",
          "text": [
            "[[ 1.          0.80117147]\n",
            " [ 0.80117147  1.        ]]\n"
          ]
        }
      ]
    },
    {
      "cell_type": "markdown",
      "source": [
        "# Linear Regression\n",
        "\n",
        "We have learned about linear regresion in class, where the optimal linear model can be found by minimizing the sum of squared errors (SSE). Let's use the global happiness dataset as a practice example to go through the steps of linear regression. Recall that, in a linear regression, we assume the relationship between $X$ and $Y$ is linear, as described by the linear function:\n",
        "\n",
        "$y = f(x) = a x + b$\n",
        "\n",
        "where slope $a$ and intercept $b$ are the parameters (or coefficients) of the linear model that minimizes the sum of squred errors.\n",
        "\n",
        "\n"
      ],
      "metadata": {
        "id": "S7cemNXyCRhI"
      }
    },
    {
      "cell_type": "markdown",
      "source": [
        "The parameters, $a$ and $b$, can either be calculated using the closed-form solution for linear regression, or through numerical optimization."
      ],
      "metadata": {
        "id": "0J_s2B32Qyze"
      }
    },
    {
      "cell_type": "markdown",
      "source": [
        "### Problem 1B: Slope and Intercept of Regression Line using Closed-form Solution of Linear Regression (0.4 points)\n",
        "\n",
        "Use linear regression to model the relationship between the two variables ``GDP per capita`` ($X$) and ``Ladder score`` ($Y$). Write the code to calculate the slope and intercept of the regression line using equations given in Lecture 6 notes. Print out the values of slope and intercept after calculation.\n",
        "\n",
        "*Hint*: Recall from lecture notes that the closed-form solution regression line is defined by the following linear model:\n",
        "\n",
        "$y = f(x) = r_{X,Y} \\frac{\\sigma_Y}{\\sigma_X} x + \\mu_Y - r_{X,Y} \\frac{\\sigma_Y}{\\sigma_X} \\mu_X$\n",
        "\n",
        "where $r_{X,Y}$ is the correlation coefficient between $X$ and $Y$, $\\sigma_X$ and $\\sigma_Y$ are the standard deviation of $X$ and $Y$ respectively, and $\\mu_X$ and $\\mu_Y$ are the mean of $X$ and $Y$ respectively.\n",
        "\n",
        "\n",
        "\n"
      ],
      "metadata": {
        "id": "f0AnODZbE4Tq"
      }
    },
    {
      "cell_type": "code",
      "source": [
        "# write your solution to Problem 1A by completing the code cells below\n"
      ],
      "metadata": {
        "id": "boYkLmz-WwqO"
      },
      "execution_count": null,
      "outputs": []
    },
    {
      "cell_type": "code",
      "source": [
        "X_mean = np.mean(filtered_GDP_pc_array)\n",
        "print(X_mean)"
      ],
      "metadata": {
        "id": "bIXKOYO4F2bG",
        "outputId": "88d434a9-618c-45ca-f84a-5410ab8bd19a",
        "colab": {
          "base_uri": "https://localhost:8080/"
        }
      },
      "execution_count": null,
      "outputs": [
        {
          "output_type": "stream",
          "name": "stdout",
          "text": [
            "1.38872661871\n"
          ]
        }
      ]
    },
    {
      "cell_type": "code",
      "source": [
        "X_std = np.std(filtered_GDP_pc_array)\n",
        "print(X_std)"
      ],
      "metadata": {
        "id": "AfXk60G5F_0C",
        "outputId": "ddcb732f-2be2-4e10-bcc2-903b67b27e23",
        "colab": {
          "base_uri": "https://localhost:8080/"
        }
      },
      "execution_count": null,
      "outputs": [
        {
          "output_type": "stream",
          "name": "stdout",
          "text": [
            "0.408574532104\n"
          ]
        }
      ]
    },
    {
      "cell_type": "code",
      "source": [
        "Y_mean = np.mean(filtered_ladder_array)\n",
        "print(Y_mean)"
      ],
      "metadata": {
        "id": "lQzgtD-4GR22",
        "outputId": "4286cd58-e113-4b35-d5e1-49f173d57eb0",
        "colab": {
          "base_uri": "https://localhost:8080/"
        }
      },
      "execution_count": null,
      "outputs": [
        {
          "output_type": "stream",
          "name": "stdout",
          "text": [
            "5.53034532374\n"
          ]
        }
      ]
    },
    {
      "cell_type": "code",
      "source": [
        "Y_std = np.std(filtered_ladder_array)\n",
        "print(Y_std)"
      ],
      "metadata": {
        "id": "uhQpR88DGZyp",
        "outputId": "5deb360f-aa90-4f79-ad55-753fbed00f6d",
        "colab": {
          "base_uri": "https://localhost:8080/"
        }
      },
      "execution_count": null,
      "outputs": [
        {
          "output_type": "stream",
          "name": "stdout",
          "text": [
            "1.1812290984\n"
          ]
        }
      ]
    },
    {
      "cell_type": "code",
      "source": [
        "XY_corr_matrix = np.corrcoef(filtered_GDP_pc_array, filtered_ladder_array)\n",
        "print(XY_corr_matrix)"
      ],
      "metadata": {
        "id": "gzkH9xGIGhiH",
        "outputId": "468222c7-7520-4b49-abee-8b49627388f8",
        "colab": {
          "base_uri": "https://localhost:8080/"
        }
      },
      "execution_count": null,
      "outputs": [
        {
          "output_type": "stream",
          "name": "stdout",
          "text": [
            "[[ 1.          0.80117147]\n",
            " [ 0.80117147  1.        ]]\n"
          ]
        }
      ]
    },
    {
      "cell_type": "code",
      "source": [
        "XY_corr = XY_corr_matrix[0][1]\n",
        "print(XY_corr)"
      ],
      "metadata": {
        "id": "07T--rhQGyzG",
        "outputId": "6dafab97-a0c9-4753-c872-631c589c0d04",
        "colab": {
          "base_uri": "https://localhost:8080/"
        }
      },
      "execution_count": null,
      "outputs": [
        {
          "output_type": "stream",
          "name": "stdout",
          "text": [
            "0.801171469484\n"
          ]
        }
      ]
    },
    {
      "cell_type": "code",
      "source": [
        "slope = XY_corr * Y_std / X_std\n",
        "print(slope)"
      ],
      "metadata": {
        "id": "PGYNXd4NHBct",
        "outputId": "c289b0c3-0a64-4ef2-f77b-a8e0de5a1c39",
        "colab": {
          "base_uri": "https://localhost:8080/"
        }
      },
      "execution_count": null,
      "outputs": [
        {
          "output_type": "stream",
          "name": "stdout",
          "text": [
            "2.31626540129\n"
          ]
        }
      ]
    },
    {
      "cell_type": "code",
      "source": [
        "intercept = Y_mean - slope * X_mean\n",
        "print(intercept)"
      ],
      "metadata": {
        "id": "h4NJ0IRxHuUR",
        "outputId": "6b8aa09b-2aee-4b40-f1ba-97b465f080fd",
        "colab": {
          "base_uri": "https://localhost:8080/"
        }
      },
      "execution_count": null,
      "outputs": [
        {
          "output_type": "stream",
          "name": "stdout",
          "text": [
            "2.31368590498\n"
          ]
        }
      ]
    },
    {
      "cell_type": "markdown",
      "source": [
        "### Problem 1C: Draw a Scatter Plot to Visualize the Two Variables and Draw the Regression Line on the Scatter Plot (0.4 points)\n",
        "\n",
        "Draw a scatter plot to visualize the two variables $X$ (``GDP per capita`` on the x-axis) and $Y$ (``Ladder score`` on the y-axis). Visualize the regression line on the scatter plot by drawing a dot at *(x, predicted_y)* for many values of *x* in its range.\n",
        "\n",
        "The Python module `matplotlib`\n",
        "is a very useful visualization library for Python.\n",
        "We will use `scatter` method associated with `matplotlib.pyplots`, which\n",
        "we have imported as `plots`.  \n",
        "Therefore, we can invoke the\n",
        "method using `plots.scatter` for drawing scatter plots.\n",
        "The parameters of `plots.scatter` are two arrays, corresponding to the\n",
        "X-dimension and Y-dimension of the scatter plot.\n",
        "\n",
        "*Hint:* If sometimes your call to a plot function is not working as expected, go to the beginning of this notebook, re-run the first code cell where the `matplotlib.pyplot` was imported, and then try again.\n",
        "\n",
        "**Notice:** The **first** parameter to ``scatter`` is the array of the **X** dimension, and the second parameter to ``scatter`` is the array of the Y dimension.\n"
      ],
      "metadata": {
        "id": "GIqqR4tWXhvj"
      }
    },
    {
      "cell_type": "code",
      "source": [
        "plots.scatter(filtered_GDP_pc_array, filtered_ladder_array)"
      ],
      "metadata": {
        "id": "VrV1mHIIJYRy",
        "outputId": "f1ff5798-6c21-4794-cfc7-e720607188cc",
        "colab": {
          "base_uri": "https://localhost:8080/",
          "height": 471
        }
      },
      "execution_count": null,
      "outputs": [
        {
          "output_type": "execute_result",
          "data": {
            "text/plain": [
              "<matplotlib.collections.PathCollection at 0x7b0313a871c0>"
            ]
          },
          "metadata": {},
          "execution_count": 32
        },
        {
          "output_type": "display_data",
          "data": {
            "text/plain": [
              "<Figure size 640x480 with 1 Axes>"
            ],
            "image/png": "[encoded data removed]"
          },
          "metadata": {}
        }
      ]
    },
    {
      "cell_type": "code",
      "source": [
        "# write your solution to Problem 1C by completing codes in this code cell\n",
        "\n",
        "# write one line of code below to draw the scatter plot\n",
        "plots.scatter(filtered_GDP_pc_array, filtered_ladder_array)\n",
        "\n",
        "# Specify the range of x values for the regression line\n",
        "regline_x_values = np.arange(min(filtered_GDP_pc_array)-0.2, max(filtered_GDP_pc_array)+0.2, 0.1)\n",
        "\n",
        "# write one line of code below to calculate the y values on the regression line, using regline_x_values, slope and intercept (from Problem 1B)\n",
        "# store the calculated y values in a variable `regline_y_values`\n",
        "regline_y_values = slope * regline_x_values + intercept\n",
        "# plot the regression line in blue\n",
        "# note: you need to first write the line of code above to calculate `regline_y_values`, before the line below for plotting would work\n",
        "plots.plot(regline_x_values, regline_y_values, 'b')\n",
        "\n",
        "\n",
        "\n"
      ],
      "metadata": {
        "id": "12wBoSvrYlAO",
        "outputId": "1886f549-20f7-44d5-8a4d-dee0930c3c48",
        "colab": {
          "base_uri": "https://localhost:8080/",
          "height": 471
        }
      },
      "execution_count": null,
      "outputs": [
        {
          "output_type": "execute_result",
          "data": {
            "text/plain": [
              "[<matplotlib.lines.Line2D at 0x7b02d850ee90>]"
            ]
          },
          "metadata": {},
          "execution_count": 33
        },
        {
          "output_type": "display_data",
          "data": {
            "text/plain": [
              "<Figure size 640x480 with 1 Axes>"
            ],
            "image/png": "[encoded data removed]"
          },
          "metadata": {}
        }
      ]
    },
    {
      "cell_type": "markdown",
      "source": [
        "### Problem 1D: Estimation of Slope and Intercept of Regression Line using Numerical Optimization Minimizing RMSE (0.4 points)\n",
        "\n",
        "The slope and intercept of the best-fit linear model can also be estimated using numerical optimization. Starting from an initial guess for the values of the two parameters, an optimization algorithm can search for the optimal parameter values that miminize an objective function. In linear regression, the objective function can be the root mean square error calculated from observed and predicted y values. See Topic 6 notes for details about linear regression using numerical optimization.\n",
        "\n",
        "In Problem 1C, you are asked to write the code that uses the *minimize* function to find the slope and intercept of the optimal line. First, define a function *linear_rmse* that returns the root mean square error (RMSE) of predicted ladder score from GDP-per-capita, given any slope and any intercept. Second, call the *minimize* function with *linear_rmse* as its input argument to get the optimal slope and intercept. Third, print out the slope and intercept and compare them with the values obtained from your solution to Problem 1A.\n",
        "\n",
        "\n",
        "\n"
      ],
      "metadata": {
        "id": "imZ17tmJH0pX"
      }
    },
    {
      "cell_type": "code",
      "source": [
        "len(filtered_GDP_pc_array)"
      ],
      "metadata": {
        "id": "g3R9fZl5ZYgZ",
        "outputId": "acd1f936-afad-4cb8-ad89-96c16fa09b12",
        "colab": {
          "base_uri": "https://localhost:8080/"
        }
      },
      "execution_count": null,
      "outputs": [
        {
          "output_type": "execute_result",
          "data": {
            "text/plain": [
              "139"
            ]
          },
          "metadata": {},
          "execution_count": 34
        }
      ]
    },
    {
      "cell_type": "code",
      "source": [
        "filtered_GDP_pc_array[0]"
      ],
      "metadata": {
        "id": "csbPHRRfHIUj",
        "outputId": "e0f49e5b-9d7b-45f5-c9c6-a30314dee48e",
        "colab": {
          "base_uri": "https://localhost:8080/"
        }
      },
      "execution_count": null,
      "outputs": [
        {
          "output_type": "execute_result",
          "data": {
            "text/plain": [
              "1.8440000000000001"
            ]
          },
          "metadata": {},
          "execution_count": 35
        }
      ]
    },
    {
      "cell_type": "code",
      "source": [
        "filtered_GDP_pc_array[138]"
      ],
      "metadata": {
        "id": "SXUXYs41YWLa",
        "outputId": "1971fc84-62b1-4052-93cc-3993019fd55c",
        "colab": {
          "base_uri": "https://localhost:8080/"
        }
      },
      "execution_count": null,
      "outputs": [
        {
          "output_type": "execute_result",
          "data": {
            "text/plain": [
              "0.628"
            ]
          },
          "metadata": {},
          "execution_count": 36
        }
      ]
    },
    {
      "cell_type": "markdown",
      "source": [
        "### Notice how the index for an array starts with 0, ends with n-1; where n is the length of the array.\n",
        "### However, the ``for`` statement in Python uses ``range(0, n)`` to indicate the index starts with 0, and ends at **n-1**.\n",
        "\n",
        "#### As an example, the following for loop prints all elements of the X_array. Double check that the last element printed from X_array is the last element of the array."
      ],
      "metadata": {
        "id": "RZK2O3ba3r3Q"
      }
    },
    {
      "cell_type": "code",
      "source": [
        "for i in range(0, len(filtered_GDP_pc_array)):\n",
        "  print(filtered_GDP_pc_array[i])"
      ],
      "metadata": {
        "id": "HTP_IPL5YpDB",
        "outputId": "4edbd763-2585-4902-a219-5c7dce0cd3c1",
        "colab": {
          "base_uri": "https://localhost:8080/"
        }
      },
      "execution_count": null,
      "outputs": [
        {
          "output_type": "stream",
          "name": "stdout",
          "text": [
            "1.844\n",
            "1.908\n",
            "1.881\n",
            "1.878\n",
            "1.803\n",
            "1.901\n",
            "1.952\n",
            "2.141\n",
            "1.97\n",
            "1.854\n",
            "1.81\n",
            "1.561\n",
            "1.845\n",
            "1.885\n",
            "1.84\n",
            "1.868\n",
            "2.129\n",
            "1.783\n",
            "1.766\n",
            "1.822\n",
            "1.786\n",
            "1.983\n",
            "1.939\n",
            "1.871\n",
            "1.521\n",
            "1.596\n",
            "1.818\n",
            "1.842\n",
            "1.364\n",
            "2.118\n",
            "1.842\n",
            "1.699\n",
            "1.265\n",
            "1.752\n",
            "1.738\n",
            "1.766\n",
            "1.538\n",
            "1.616\n",
            "1.702\n",
            "1.827\n",
            "1.8\n",
            "1.26\n",
            "1.097\n",
            "1.43\n",
            "1.706\n",
            "1.7\n",
            "1.212\n",
            "1.562\n",
            "1.622\n",
            "1.794\n",
            "1.786\n",
            "1.815\n",
            "1.232\n",
            "1.331\n",
            "1.728\n",
            "1.722\n",
            "1.398\n",
            "1.484\n",
            "1.646\n",
            "1.497\n",
            "1.091\n",
            "1.71\n",
            "1.684\n",
            "1.465\n",
            "1.526\n",
            "1.28\n",
            "1.371\n",
            "1.517\n",
            "1.57\n",
            "1.385\n",
            "1.642\n",
            "1.217\n",
            "1.315\n",
            "1.054\n",
            "1.571\n",
            "1.353\n",
            "1.437\n",
            "1.361\n",
            "1.629\n",
            "1.444\n",
            "1.389\n",
            "1.475\n",
            "1.324\n",
            "1.909\n",
            "1.438\n",
            "0.892\n",
            "0.56\n",
            "1.467\n",
            "1.249\n",
            "0.965\n",
            "1.208\n",
            "1.403\n",
            "1.08\n",
            "0.831\n",
            "1.702\n",
            "0.927\n",
            "1.435\n",
            "1.433\n",
            "1.042\n",
            "0.943\n",
            "1.35\n",
            "1.266\n",
            "1.213\n",
            "1.069\n",
            "0.573\n",
            "0.756\n",
            "1.078\n",
            "0.75\n",
            "0.603\n",
            "1.037\n",
            "1.306\n",
            "0.914\n",
            "0.772\n",
            "0.978\n",
            "1.011\n",
            "1.077\n",
            "0.619\n",
            "0.747\n",
            "0.628\n",
            "0.758\n",
            "1.262\n",
            "1.166\n",
            "1.37\n",
            "1.361\n",
            "1.122\n",
            "0.792\n",
            "0.82\n",
            "0.896\n",
            "0.671\n",
            "0.899\n",
            "1.255\n",
            "0.617\n",
            "1.445\n",
            "0.748\n",
            "0.534\n",
            "0.654\n",
            "0.771\n",
            "1.377\n",
            "0.628\n"
          ]
        }
      ]
    },
    {
      "cell_type": "code",
      "source": [
        "# write your solution to Problem 1D in this code cell\n",
        "\n",
        "def linear_rmse(slope, intercept):\n",
        "  X_array = filtered_GDP_pc_array\n",
        "  Y_array = filtered_ladder_array\n",
        "\n",
        "  # write code below to calculate and return the RMSE given input slope and intercept\n",
        "  # ...\n",
        "  data_size = len(X_array)\n",
        "  sum_error_sq = 0\n",
        "  predictions = Table().with_column('Y prediction', make_array())\n",
        "  for i in range(0, data_size):\n",
        "    Y_predict = X_array[i] * slope + intercept\n",
        "    predictions = predictions.with_row([Y_predict])\n",
        "    error = Y_array[i] - Y_predict\n",
        "    sum_error_sq = sum_error_sq + (error**2)\n",
        "  RMSE = (sum_error_sq/data_size)**0.5\n",
        "  print(\"slope =\", slope, \", intercept =\", intercept, \", RMSE = \", RMSE)\n",
        "  return(RMSE)\n"
      ],
      "metadata": {
        "id": "ys_V22tIWqQi"
      },
      "execution_count": null,
      "outputs": []
    },
    {
      "cell_type": "code",
      "source": [
        "# call the minimize function with linear_rmse function as its argument\n",
        "parameters = minimize(linear_rmse)\n",
        "\n",
        "# write code below to print out the optimal slope and intercept returned by the minimize function\n",
        "# Note: the returned parameters is an array with two values, which are the optimal slope and the intercept values, respectively."
      ],
      "metadata": {
        "id": "b6PipVsSQdib",
        "outputId": "5704f232-c61c-4405-c7a4-f4b9e994980c",
        "colab": {
          "base_uri": "https://localhost:8080/"
        }
      },
      "execution_count": null,
      "outputs": [
        {
          "output_type": "stream",
          "name": "stdout",
          "text": [
            "slope = 0.0 , intercept = 0.0 , RMSE =  5.6550881145\n",
            "slope = 0.0 , intercept = 0.0 , RMSE =  5.6550881145\n",
            "slope = 1.0 , intercept = 0.0 , RMSE =  4.23579011256\n",
            "slope = 2.618034 , intercept = 0.0 , RMSE =  2.02594352799\n",
            "slope = 35.2023646503 , intercept = 0.0 , RMSE =  45.3959237832\n",
            "slope = 15.0641404412 , intercept = 0.0 , RMSE =  16.2624829336\n",
            "slope = 7.37202349291 , intercept = 0.0 , RMSE =  5.18903111066\n",
            "slope = 4.43389635065 , intercept = 0.0 , RMSE =  1.28123583891\n",
            "slope = 4.08616956923 , intercept = 0.0 , RMSE =  1.02147994545\n",
            "slope = 3.78613637659 , intercept = 0.0 , RMSE =  0.966734709827\n",
            "slope = 3.83147371822 , intercept = 0.0 , RMSE =  0.962718130556\n",
            "slope = 3.86978845541 , intercept = 0.0 , RMSE =  0.962804810388\n",
            "slope = 3.83147371822 , intercept = 0.0 , RMSE =  0.962718130556\n",
            "slope = 3.83147371822 , intercept = 1.0 , RMSE =  1.22795546912\n",
            "slope = 3.83147371822 , intercept = -1.618034 , RMSE =  2.05493019351\n",
            "slope = 3.83147371822 , intercept = -0.618033974844 , RMSE =  1.25208565754\n",
            "slope = 3.83147371822 , intercept = 0.381966 , RMSE =  0.955352799058\n",
            "slope = 3.83147371822 , intercept = 0.212459570869 , RMSE =  0.939656851457\n",
            "slope = 3.83147371822 , intercept = 0.209291761371 , RMSE =  0.9396521321\n",
            "slope = 3.83147371822 , intercept = 0.207198843747 , RMSE =  0.939654872783\n",
            "slope = 7.66294743643 , intercept = 0.418583522742 , RMSE =  5.9876923516\n",
            "slope = 3.83147371822 , intercept = 0.209291761371 , RMSE =  0.9396521321\n",
            "slope = 4.83147371822 , intercept = 0.209291761371 , RMSE =  1.86649585552\n",
            "slope = 2.21343971822 , intercept = 0.209291761371 , RMSE =  2.35612469124\n",
            "slope = 3.21343974337 , intercept = 0.209291761371 , RMSE =  1.17090588387\n",
            "slope = 4.21343971822 , intercept = 0.209291761371 , RMSE =  1.17546044661\n",
            "slope = 3.71114299756 , intercept = 0.209291761371 , RMSE =  0.923296684917\n",
            "slope = 3.70499921386 , intercept = 0.209291761371 , RMSE =  0.923335987598\n",
            "slope = 3.70993969034 , intercept = 0.209291761371 , RMSE =  0.92329763659\n",
            "slope = 3.71234630478 , intercept = 0.209291761371 , RMSE =  0.923299019474\n",
            "slope = 3.71114299756 , intercept = 0.209291761371 , RMSE =  0.923296684917\n",
            "slope = 3.71114299756 , intercept = 1.20929176137 , RMSE =  1.23202912981\n",
            "slope = 3.71114299756 , intercept = -1.40874223863 , RMSE =  2.00296635364\n",
            "slope = 3.71114299756 , intercept = -0.408742213473 , RMSE =  1.20051038423\n",
            "slope = 3.71114299756 , intercept = 0.591257761371 , RMSE =  0.933046746133\n",
            "slope = 3.71114299756 , intercept = 0.373352425997 , RMSE =  0.908020423884\n",
            "slope = 3.71114299756 , intercept = 0.376832944913 , RMSE =  0.908014714212\n",
            "slope = 3.71114299756 , intercept = 0.378508356758 , RMSE =  0.908016722446\n",
            "slope = 3.71114299756 , intercept = 0.375157533068 , RMSE =  0.908015797341\n",
            "slope = 3.5908122769 , intercept = 0.544374128455 , RMSE =  0.877991971591\n",
            "slope = 3.71114299756 , intercept = 0.376832944913 , RMSE =  0.908014714212\n",
            "slope = 3.5908122769 , intercept = 0.544374128455 , RMSE =  0.877991971591\n",
            "slope = 3.39611307964 , intercept = 0.815461459826 , RMSE =  0.8332763155\n",
            "slope = 1.66977317726 , intercept = 3.21911223881 , RMSE =  0.754665360885\n",
            "slope = -1.12350348034 , intercept = 7.10830092333 , RMSE =  1.57326416374\n",
            "slope = 0.602836465466 , intercept = 4.70465008388 , RMSE =  0.994943300275\n",
            "slope = 2.32917632441 , intercept = 2.30099936536 , RMSE =  0.706927791447\n",
            "slope = 2.40841349833 , intercept = 2.19067433925 , RMSE =  0.707907925378\n",
            "slope = 2.31490043964 , intercept = 2.32087623985 , RMSE =  0.706908714336\n",
            "slope = 2.30093801406 , intercept = 2.3403166728 , RMSE =  0.706936612069\n",
            "slope = 2.31490043964 , intercept = 2.32087623985 , RMSE =  0.706908714336\n",
            "slope = 2.31490043964 , intercept = 3.32087623985 , RMSE =  1.22894649313\n",
            "slope = 2.31490043964 , intercept = 0.702842239853 , RMSE =  1.76085766019\n",
            "slope = 2.31490043964 , intercept = 1.70284226501 , RMSE =  0.935489829552\n",
            "slope = 2.31490043964 , intercept = 2.70284223985 , RMSE =  0.806016627993\n",
            "slope = 2.31490043964 , intercept = 2.30570980695 , RMSE =  0.706957810165\n",
            "slope = 2.31490043964 , intercept = 2.31573982139 , RMSE =  0.706888902746\n",
            "slope = 2.31490043964 , intercept = 2.31558140293 , RMSE =  0.706888885009\n",
            "slope = 2.31490043964 , intercept = 2.3156343513 , RMSE =  0.706888886987\n",
            "slope = 2.31490043964 , intercept = 2.31552845455 , RMSE =  0.706888886996\n",
            "slope = 2.31490043964 , intercept = 2.31558140293 , RMSE =  0.706888885009\n",
            "slope = 0.918657881715 , intercept = 4.25962469787 , RMSE =  0.908729154973\n",
            "slope = 4.5740683706 , intercept = -0.82994674576 , RMSE =  1.16220867623\n",
            "slope = 3.17782577756 , intercept = 1.11409659808 , RMSE =  0.789692021854\n",
            "slope = 1.78158325476 , intercept = 3.05813984412 , RMSE =  0.739877678601\n",
            "slope = 2.32187657132 , intercept = 2.30586826107 , RMSE =  0.70689238311\n",
            "slope = 2.31621615441 , intercept = 2.31374948162 , RMSE =  0.706888665322\n",
            "slope = 2.31626529467 , intercept = 2.31368106171 , RMSE =  0.706888665037\n",
            "slope = 2.31625164611 , intercept = 2.31370006514 , RMSE =  0.706888665059\n",
            "slope = 2.31627894324 , intercept = 2.31366205828 , RMSE =  0.706888665059\n"
          ]
        }
      ]
    },
    {
      "cell_type": "code",
      "source": [
        "print(parameters)"
      ],
      "metadata": {
        "id": "GYJvogmPaRKw",
        "outputId": "7dcdfe43-01b4-439c-a7e5-7c8379a0e5e2",
        "colab": {
          "base_uri": "https://localhost:8080/"
        }
      },
      "execution_count": null,
      "outputs": [
        {
          "output_type": "stream",
          "name": "stdout",
          "text": [
            "[ 2.31626529  2.31368106]\n"
          ]
        }
      ]
    },
    {
      "cell_type": "markdown",
      "source": [
        "# Compare the slope and intersept calculated this way with those calculated using the formula.  Are they close?"
      ],
      "metadata": {
        "id": "knOQZphHeQ3_"
      }
    },
    {
      "cell_type": "markdown",
      "source": [
        "# Problem 2: Linear Regression using another variable\n",
        "\n",
        "In this last part of the assignment, let us try linear regression using another variable.  Modify your code for Problem 1A, 1B, 1C, and 1D and use them to perform linear regression using ``Healthy life_expectancy`` of each country to predict its ``Ladder score`` (i.e., how happy are people in the country).\n",
        "\n",
        "\n"
      ],
      "metadata": {
        "id": "AelUTtgOt2R_"
      }
    },
    {
      "cell_type": "code",
      "source": [
        "life_exp_array = world_happiness_table.column(\"Healthy life expectancy\")"
      ],
      "metadata": {
        "id": "oWawkHlM9cgn"
      },
      "execution_count": null,
      "outputs": []
    },
    {
      "cell_type": "code",
      "source": [
        "print(life_exp_array)"
      ],
      "metadata": {
        "id": "CM_S7st1-Xb_",
        "outputId": "fdc3ffe3-c823-4f08-a20c-a5b6a7b8d7b6",
        "colab": {
          "base_uri": "https://localhost:8080/"
        }
      },
      "execution_count": null,
      "outputs": [
        {
          "output_type": "stream",
          "name": "stdout",
          "text": [
            "[ 0.695  0.699  0.718  0.724  0.74   0.706  0.704  0.708  0.747  0.692\n",
            "  0.673  0.661  0.661  0.696  0.701  0.69   0.7    0.638  0.598  0.672\n",
            "  0.695  0.563  0.542  0.702  0.544  0.592  0.727  0.511  0.599  0.769\n",
            "  0.65   0.583  0.549  0.657  0.639  0.729  0.585  0.673  0.633  0.707\n",
            "  0.72   0.467  0.542  0.548  0.638  0.564  0.539  0.585  0.556  0.744\n",
            "  0.785  0.77   0.441  0.539  0.699  0.596  0.549  0.62   0.54   0.629\n",
            "  0.502    nan  0.637  0.696  0.587  0.55   0.567  0.662  0.511  0.49\n",
            "  0.542  0.531  0.488  0.64   0.588  0.587  0.4    0.648  0.491  0.472\n",
            "  0.567  0.603  0.322  0.569  0.568  0.857  0.638    nan  0.306  0.156\n",
            "  0.524  0.498  0.443  0.423  0.344  0.288  0.236  0.631  0.392  0.571\n",
            "  0.496  0.256    nan  0.288  0.513  0.307  0.495  0.321  0.293  0.274\n",
            "  0.4    0.33   0.199  0.353  0.579  0.284  0.373  0.436  0.442  0.36\n",
            "  0.301  0.267  0.333  0.32   0.594  0.417  0.488  0.586  0.513  0.42\n",
            "  0.38   0.37   0.293  0.264  0.176  0.349  0.241  0.232  0.262  0.253\n",
            "  0.     0.556  0.242]\n"
          ]
        }
      ]
    },
    {
      "cell_type": "markdown",
      "source": [
        "# If you see `nan` in the array, it means missing values.\n",
        "## We need to filter out countries who do not have positive values for ``Healthy lifetime expectancy``."
      ],
      "metadata": {
        "id": "Jf1WrfnM-b45"
      }
    },
    {
      "cell_type": "markdown",
      "source": [
        "# Problem 2A (0.3 points)\n",
        "Create a table that does not (i.e., filter out) any countries that do not have positive values for the column \"Healthy life expectancy\", in a way similar to your solution to Problem 1A."
      ],
      "metadata": {
        "id": "RRQD72eiQ5JB"
      }
    },
    {
      "cell_type": "code",
      "source": [
        "filtered_expectancy_table = world_happiness_table.where(\"Healthy life expectancy\", are.above(0.0))"
      ],
      "metadata": {
        "id": "Qzgs7IeF-qJ5"
      },
      "execution_count": 44,
      "outputs": []
    },
    {
      "cell_type": "code",
      "source": [
        "filtered_expectancy_table.show(5)"
      ],
      "metadata": {
        "id": "B9pdwlyx-_Oc",
        "colab": {
          "base_uri": "https://localhost:8080/",
          "height": 270
        },
        "outputId": "a126b57e-a1ac-42bb-e3ad-ab3e82f32117"
      },
      "execution_count": 45,
      "outputs": [
        {
          "output_type": "display_data",
          "data": {
            "text/plain": [
              "<IPython.core.display.HTML object>"
            ],
            "text/html": [
              "<table border=\"1\" class=\"dataframe\">\n",
              "    <thead>\n",
              "        <tr>\n",
              "            <th>Country name</th> <th>Regional indicator</th> <th>Ladder score</th> <th>upperwhisker</th> <th>lowerwhisker</th> <th>Log GDP per capita</th> <th>Social support</th> <th>Healthy life expectancy</th> <th>Freedom to make life choices</th> <th>Generosity</th> <th>Perceptions of corruption</th> <th>Dystopia + residual</th>\n",
              "        </tr>\n",
              "    </thead>\n",
              "    <tbody>\n",
              "        <tr>\n",
              "            <td>Finland     </td> <td>Western Europe              </td> <td>7.741       </td> <td>7.815       </td> <td>7.667       </td> <td>1.844             </td> <td>1.572         </td> <td>0.695                  </td> <td>0.859                       </td> <td>0.142     </td> <td>0.546                    </td> <td>2.082              </td>\n",
              "        </tr>\n",
              "        <tr>\n",
              "            <td>Denmark     </td> <td>Western Europe              </td> <td>7.583       </td> <td>7.665       </td> <td>7.5         </td> <td>1.908             </td> <td>1.52          </td> <td>0.699                  </td> <td>0.823                       </td> <td>0.204     </td> <td>0.548                    </td> <td>1.881              </td>\n",
              "        </tr>\n",
              "        <tr>\n",
              "            <td>Iceland     </td> <td>Western Europe              </td> <td>7.525       </td> <td>7.618       </td> <td>7.433       </td> <td>1.881             </td> <td>1.617         </td> <td>0.718                  </td> <td>0.819                       </td> <td>0.258     </td> <td>0.182                    </td> <td>2.05               </td>\n",
              "        </tr>\n",
              "        <tr>\n",
              "            <td>Sweden      </td> <td>Western Europe              </td> <td>7.344       </td> <td>7.422       </td> <td>7.267       </td> <td>1.878             </td> <td>1.501         </td> <td>0.724                  </td> <td>0.838                       </td> <td>0.221     </td> <td>0.524                    </td> <td>1.658              </td>\n",
              "        </tr>\n",
              "        <tr>\n",
              "            <td>Israel      </td> <td>Middle East and North Africa</td> <td>7.341       </td> <td>7.405       </td> <td>7.277       </td> <td>1.803             </td> <td>1.513         </td> <td>0.74                   </td> <td>0.641                       </td> <td>0.153     </td> <td>0.193                    </td> <td>2.298              </td>\n",
              "        </tr>\n",
              "    </tbody>\n",
              "</table>\n",
              "<p>... (134 rows omitted)</p>"
            ]
          },
          "metadata": {}
        }
      ]
    },
    {
      "cell_type": "code",
      "source": [
        "filtered_expectancy_array = filtered_expectancy_table.column(\"Healthy life expectancy\")"
      ],
      "metadata": {
        "id": "xUmKVcts_Vxs"
      },
      "execution_count": 46,
      "outputs": []
    },
    {
      "cell_type": "code",
      "source": [
        "print(filtered_expectancy_array)"
      ],
      "metadata": {
        "id": "bGiv90BF_rmU",
        "colab": {
          "base_uri": "https://localhost:8080/"
        },
        "outputId": "e3603789-02b7-47e2-b88c-c6319304f874"
      },
      "execution_count": 47,
      "outputs": [
        {
          "output_type": "stream",
          "name": "stdout",
          "text": [
            "[ 0.695  0.699  0.718  0.724  0.74   0.706  0.704  0.708  0.747  0.692\n",
            "  0.673  0.661  0.661  0.696  0.701  0.69   0.7    0.638  0.598  0.672\n",
            "  0.695  0.563  0.542  0.702  0.544  0.592  0.727  0.511  0.599  0.769\n",
            "  0.65   0.583  0.549  0.657  0.639  0.729  0.585  0.673  0.633  0.707\n",
            "  0.72   0.467  0.542  0.548  0.638  0.564  0.539  0.585  0.556  0.744\n",
            "  0.785  0.77   0.441  0.539  0.699  0.596  0.549  0.62   0.54   0.629\n",
            "  0.502  0.637  0.696  0.587  0.55   0.567  0.662  0.511  0.49   0.542\n",
            "  0.531  0.488  0.64   0.588  0.587  0.4    0.648  0.491  0.472  0.567\n",
            "  0.603  0.322  0.569  0.568  0.857  0.638  0.306  0.156  0.524  0.498\n",
            "  0.443  0.423  0.344  0.288  0.236  0.631  0.392  0.571  0.496  0.256\n",
            "  0.288  0.513  0.307  0.495  0.321  0.293  0.274  0.4    0.33   0.199\n",
            "  0.353  0.579  0.284  0.373  0.436  0.442  0.36   0.301  0.267  0.333\n",
            "  0.32   0.594  0.417  0.488  0.586  0.513  0.42   0.38   0.37   0.293\n",
            "  0.264  0.176  0.349  0.241  0.232  0.262  0.253  0.556  0.242]\n"
          ]
        }
      ]
    },
    {
      "cell_type": "code",
      "source": [
        "# We slightly change the variable name so that it does not conflict with the variable used earlier.\n",
        "filtered_2_ladder_array = filtered_expectancy_table.column(\"Ladder score\")"
      ],
      "metadata": {
        "id": "dHoXL4iw_xTP"
      },
      "execution_count": 48,
      "outputs": []
    },
    {
      "cell_type": "code",
      "source": [
        "print(filtered_2_ladder_array)"
      ],
      "metadata": {
        "id": "VlmZmC9uADBi",
        "colab": {
          "base_uri": "https://localhost:8080/"
        },
        "outputId": "cea42bce-d628-4fd7-c047-ddc8aaa61289"
      },
      "execution_count": 49,
      "outputs": [
        {
          "output_type": "stream",
          "name": "stdout",
          "text": [
            "[ 7.741  7.583  7.525  7.344  7.341  7.319  7.302  7.122  7.06   7.057\n",
            "  7.029  6.955  6.951  6.905  6.9    6.894  6.838  6.822  6.818  6.749\n",
            "  6.743  6.733  6.725  6.719  6.678  6.611  6.609  6.594  6.561  6.523\n",
            "  6.503  6.491  6.469  6.448  6.442  6.421  6.411  6.36   6.358  6.346\n",
            "  6.324  6.287  6.284  6.272  6.257  6.234  6.195  6.188  6.188  6.068\n",
            "  6.06   6.058  6.048  6.043  6.03   6.017  5.977  5.976  5.975  5.973\n",
            "  5.968  5.942  5.934  5.877  5.866  5.842  5.841  5.823  5.816  5.816\n",
            "  5.785  5.784  5.725  5.714  5.707  5.696  5.695  5.607  5.568  5.463\n",
            "  5.455  5.422  5.369  5.364  5.316  5.304  5.221  5.216  5.185  5.166\n",
            "  5.158  5.139  5.106  5.08   5.023  4.975  4.969  4.923  4.893  4.881\n",
            "  4.874  4.873  4.832  4.795  4.657  4.556  4.548  4.505  4.485  4.471\n",
            "  4.47   4.422  4.377  4.372  4.354  4.341  4.289  4.269  4.232  4.228\n",
            "  4.214  4.186  4.054  3.977  3.898  3.886  3.861  3.781  3.566  3.561\n",
            "  3.502  3.502  3.421  3.383  3.341  3.295  3.245  2.707  1.721]\n"
          ]
        }
      ]
    },
    {
      "cell_type": "code",
      "source": [
        "X_array = filtered_expectancy_array"
      ],
      "metadata": {
        "id": "QlyP5K6tSKeE"
      },
      "execution_count": 50,
      "outputs": []
    },
    {
      "cell_type": "code",
      "source": [
        "Y_array = filtered_2_ladder_array"
      ],
      "metadata": {
        "id": "zatmUjC-STVf"
      },
      "execution_count": 51,
      "outputs": []
    },
    {
      "cell_type": "markdown",
      "source": [
        "# Problem 2B (0.4 points)\n",
        "Compute the slope and intercept of the linear regression model that predicts ``Ladder score`` of a country from its ``Healthy life expectancy``."
      ],
      "metadata": {
        "id": "6hUPetoPSOB0"
      }
    },
    {
      "cell_type": "code",
      "source": [
        "X_mean = np.mean(X_array)\n",
        "print(X_mean)"
      ],
      "metadata": {
        "id": "lakHfFBzSMPN",
        "colab": {
          "base_uri": "https://localhost:8080/"
        },
        "outputId": "49b93dae-3081-4ce8-b272-c9de598590ee"
      },
      "execution_count": 52,
      "outputs": [
        {
          "output_type": "stream",
          "name": "stdout",
          "text": [
            "0.524633093525\n"
          ]
        }
      ]
    },
    {
      "cell_type": "code",
      "source": [
        "X_std = np.std(X_array)\n",
        "print(X_std)"
      ],
      "metadata": {
        "id": "AHj-DyGgSMPO",
        "colab": {
          "base_uri": "https://localhost:8080/"
        },
        "outputId": "92fbc1c2-5a4f-4a98-eb8d-59c2592170b2"
      },
      "execution_count": 53,
      "outputs": [
        {
          "output_type": "stream",
          "name": "stdout",
          "text": [
            "0.158850372739\n"
          ]
        }
      ]
    },
    {
      "cell_type": "code",
      "source": [
        "Y_mean = np.mean(Y_array)\n",
        "print(Y_mean)"
      ],
      "metadata": {
        "id": "qVZ8w5HDSMPP",
        "colab": {
          "base_uri": "https://localhost:8080/"
        },
        "outputId": "1f39606f-b2ee-4a08-e5a4-99fccaf83bf0"
      },
      "execution_count": 54,
      "outputs": [
        {
          "output_type": "stream",
          "name": "stdout",
          "text": [
            "5.54776258993\n"
          ]
        }
      ]
    },
    {
      "cell_type": "code",
      "source": [
        "Y_std = np.std(Y_array)\n",
        "print(Y_std)"
      ],
      "metadata": {
        "id": "EY_c7U_eSMPP",
        "colab": {
          "base_uri": "https://localhost:8080/"
        },
        "outputId": "ad829ef8-d87c-49cc-c7e7-dfba601d973f"
      },
      "execution_count": 55,
      "outputs": [
        {
          "output_type": "stream",
          "name": "stdout",
          "text": [
            "1.16426021581\n"
          ]
        }
      ]
    },
    {
      "cell_type": "code",
      "source": [
        "XY_corr_matrix = np.corrcoef(X_array, Y_array)\n",
        "print(XY_corr_matrix)"
      ],
      "metadata": {
        "id": "HyqT8U6HSMPQ",
        "colab": {
          "base_uri": "https://localhost:8080/"
        },
        "outputId": "858a6eeb-7c24-434c-cc9c-c43b8f2e97ae"
      },
      "execution_count": 56,
      "outputs": [
        {
          "output_type": "stream",
          "name": "stdout",
          "text": [
            "[[ 1.          0.75235019]\n",
            " [ 0.75235019  1.        ]]\n"
          ]
        }
      ]
    },
    {
      "cell_type": "code",
      "source": [
        "XY_corr = XY_corr_matrix[0][1]\n",
        "print(XY_corr)"
      ],
      "metadata": {
        "id": "A94Z2TSISMPR",
        "colab": {
          "base_uri": "https://localhost:8080/"
        },
        "outputId": "4ad7a1a4-d20e-4c8f-8a78-c24b4cc54035"
      },
      "execution_count": 57,
      "outputs": [
        {
          "output_type": "stream",
          "name": "stdout",
          "text": [
            "0.752350187185\n"
          ]
        }
      ]
    },
    {
      "cell_type": "code",
      "source": [
        "slope = XY_corr * Y_std / X_std\n",
        "print(slope)"
      ],
      "metadata": {
        "id": "FOKe3Y7sSMPR",
        "colab": {
          "base_uri": "https://localhost:8080/"
        },
        "outputId": "95a67b1e-6b0f-4c63-f818-48896825e3a5"
      },
      "execution_count": 58,
      "outputs": [
        {
          "output_type": "stream",
          "name": "stdout",
          "text": [
            "5.51419160178\n"
          ]
        }
      ]
    },
    {
      "cell_type": "code",
      "source": [
        "intercept = Y_mean - slope * X_mean\n",
        "print(intercept)"
      ],
      "metadata": {
        "id": "wheETnBvSMPS",
        "colab": {
          "base_uri": "https://localhost:8080/"
        },
        "outputId": "b43a845b-435e-4ae4-dfaf-5485cb15ba80"
      },
      "execution_count": 59,
      "outputs": [
        {
          "output_type": "stream",
          "name": "stdout",
          "text": [
            "2.6548351916\n"
          ]
        }
      ]
    },
    {
      "cell_type": "code",
      "source": [
        "min(X_array)"
      ],
      "metadata": {
        "id": "1c08WuCIS8ex",
        "colab": {
          "base_uri": "https://localhost:8080/"
        },
        "outputId": "f20a5fd0-311c-4268-c1d6-755666c9b7e0"
      },
      "execution_count": 60,
      "outputs": [
        {
          "output_type": "execute_result",
          "data": {
            "text/plain": [
              "0.156"
            ]
          },
          "metadata": {},
          "execution_count": 60
        }
      ]
    },
    {
      "cell_type": "code",
      "source": [
        "max(X_array)"
      ],
      "metadata": {
        "id": "FlWYip3TWq7i",
        "colab": {
          "base_uri": "https://localhost:8080/"
        },
        "outputId": "97c1c1c7-d511-4d4a-d846-5fed13fc4877"
      },
      "execution_count": 61,
      "outputs": [
        {
          "output_type": "execute_result",
          "data": {
            "text/plain": [
              "0.85699999999999998"
            ]
          },
          "metadata": {},
          "execution_count": 61
        }
      ]
    },
    {
      "cell_type": "markdown",
      "source": [
        "# Problem 2C (0.4 points)\n",
        "Generate a visualization of the scatter plat of ``Ladder score`` and ``GDP per captia``, and the linear regression model that predicts the former from the latter. You can refer to the code for Problem 1C."
      ],
      "metadata": {
        "id": "BEpz6MnvS9qg"
      }
    },
    {
      "cell_type": "code",
      "source": [
        "plots.scatter(filtered_expectancy_array, filtered_2_ladder_array)"
      ],
      "metadata": {
        "id": "tu5yFLWwZGFd",
        "colab": {
          "base_uri": "https://localhost:8080/",
          "height": 471
        },
        "outputId": "306b681d-0eba-415d-cb58-4616249fd5dd"
      },
      "execution_count": 62,
      "outputs": [
        {
          "output_type": "execute_result",
          "data": {
            "text/plain": [
              "<matplotlib.collections.PathCollection at 0x7b02dad1c9d0>"
            ]
          },
          "metadata": {},
          "execution_count": 62
        },
        {
          "output_type": "display_data",
          "data": {
            "text/plain": [
              "<Figure size 640x480 with 1 Axes>"
            ],
            "image/png": "[encoded data removed]"
          },
          "metadata": {}
        }
      ]
    },
    {
      "cell_type": "code",
      "source": [
        "# write your solution to Problem 2C by completing codes in this code cell\n",
        "\n",
        "# write one line of code below to draw the scatter plot\n",
        "plots.scatter(filtered_expectancy_array, filtered_2_ladder_array)\n",
        "\n",
        "# Specify the range of x values for the regression line\n",
        "regline_x_values = np.arange(min(filtered_expectancy_array)-0.1, max(filtered_expectancy_array)+0.1, 0.05)\n",
        "\n",
        "# write one line of code below to calculate the y values on the regression line, using regline_x_values, slope and intercept (from Problem 1A)\n",
        "# store the calculated y values in a variable `regline_y_values`\n",
        "regline_y_values = slope * regline_x_values + intercept\n",
        "\n",
        "# plot the regression line in blue\n",
        "# note: you need to first write the line of code above to calculate `regline_y_values`, before the line below for plotting would work\n",
        "plots.plot(regline_x_values, regline_y_values, 'b')\n",
        "\n",
        "\n",
        "\n"
      ],
      "metadata": {
        "id": "n4wPRwrLTKXW",
        "colab": {
          "base_uri": "https://localhost:8080/",
          "height": 466
        },
        "outputId": "920cbbfc-6b60-46d3-89f5-1e91dac08640"
      },
      "execution_count": 63,
      "outputs": [
        {
          "output_type": "execute_result",
          "data": {
            "text/plain": [
              "[<matplotlib.lines.Line2D at 0x7b02d77b13c0>]"
            ]
          },
          "metadata": {},
          "execution_count": 63
        },
        {
          "output_type": "display_data",
          "data": {
            "text/plain": [
              "<Figure size 640x480 with 1 Axes>"
            ],
            "image/png": "[encoded data removed]"
          },
          "metadata": {}
        }
      ]
    },
    {
      "cell_type": "markdown",
      "source": [
        "# Problem 2D: Search for the slope and intercept of the linear regression model for predicting ``Ladder score`` from ``Healthy life expectancy`` using Python `minimize`  function that minimizes RMSE (similar to Problem 1D). (0.4 points)"
      ],
      "metadata": {
        "id": "gKxeHCsNIGR6"
      }
    },
    {
      "cell_type": "code",
      "source": [
        "# Write your solution to Problem 2B in the following code cells\n",
        "\n",
        "# Hint: You can reuse the code for Problem 1C (name the function linear_rmse2) and modify the input array.\n"
      ],
      "metadata": {
        "id": "Mdw1N8ogbE5k"
      },
      "execution_count": null,
      "outputs": []
    },
    {
      "cell_type": "code",
      "source": [
        "# write your solution to Problem 2D in this code cell\n",
        "\n",
        "def linear_rmse2(slope, intercept):\n",
        "  X_array = filtered_expectancy_array\n",
        "  Y_array = filtered_2_ladder_array\n",
        "\n",
        "  # write code below to calculate and return the RMSE given input slope and intercept\n",
        "  # ...\n",
        "  data_size = len(X_array)\n",
        "  sum_error_sq = 0\n",
        "  predictions = Table().with_column('Y prediction', make_array())\n",
        "  for i in range(0, data_size):\n",
        "    Y_predict = X_array[i] * slope + intercept\n",
        "    predictions = predictions.with_row([Y_predict])\n",
        "    error = Y_array[i] - Y_predict\n",
        "    sum_error_sq = sum_error_sq + (error**2)\n",
        "  RMSE = (sum_error_sq/data_size)**0.5\n",
        "  print(\"slope =\", slope, \", intercept =\", intercept, \", RMSE = \", RMSE)\n",
        "  return(RMSE)\n"
      ],
      "metadata": {
        "id": "KnBNPRUCCSAZ"
      },
      "execution_count": 64,
      "outputs": []
    },
    {
      "cell_type": "code",
      "source": [
        "# call the minimize function with linear_rmse function as its argument\n",
        "parameters = minimize(linear_rmse2)\n",
        "\n",
        "# write code below to print out the optimal slope and intercept returned by the minimize function\n",
        "# Note: the returned parameters is an array with two values, which are the optimal slope and intercept values"
      ],
      "metadata": {
        "id": "7PO_wqo-Ctlu",
        "colab": {
          "base_uri": "https://localhost:8080/"
        },
        "outputId": "0ff1d197-b6a6-4220-fda9-c40609ced4b1"
      },
      "execution_count": 65,
      "outputs": [
        {
          "output_type": "stream",
          "name": "stdout",
          "text": [
            "slope = 0.0 , intercept = 0.0 , RMSE =  5.66861284657\n",
            "slope = 0.0 , intercept = 0.0 , RMSE =  5.66861284657\n",
            "slope = 1.0 , intercept = 0.0 , RMSE =  5.13169379179\n",
            "slope = 2.618034 , intercept = 0.0 , RMSE =  4.26899340959\n",
            "slope = 178.98374 , intercept = 0.0 , RMSE =  92.5535682792\n",
            "slope = 69.983737258 , intercept = 0.0 , RMSE =  32.8163397423\n",
            "slope = 28.3494422106 , intercept = 0.0 , RMSE =  10.035301658\n",
            "slope = 12.4465570686 , intercept = 0.0 , RMSE =  1.66296518015\n",
            "slope = 11.8416262915 , intercept = 0.0 , RMSE =  1.428422475\n",
            "slope = 9.40528666224 , intercept = 0.0 , RMSE =  1.16043187197\n",
            "slope = 6.81278691186 , intercept = 0.0 , RMSE =  2.12736799166\n",
            "slope = 10.0211770716 , intercept = 0.0 , RMSE =  1.08862179663\n",
            "slope = 10.1815969066 , intercept = 0.0 , RMSE =  1.08648524902\n",
            "slope = 10.2834128757 , intercept = 0.0 , RMSE =  1.08881736476\n",
            "slope = 10.1815969066 , intercept = 0.0 , RMSE =  1.08648524902\n",
            "slope = 10.1815969066 , intercept = 1.0 , RMSE =  1.32971063798\n",
            "slope = 10.1815969066 , intercept = -1.618034 , RMSE =  2.11320413164\n",
            "slope = 10.1815969066 , intercept = -0.618033974844 , RMSE =  1.34805187027\n",
            "slope = 10.1815969066 , intercept = 0.381966 , RMSE =  1.08113647188\n",
            "slope = 10.1815969066 , intercept = 0.208092704218 , RMSE =  1.06674834168\n",
            "slope = 10.1815969066 , intercept = 0.206011777166 , RMSE =  1.06674660098\n",
            "slope = 10.1815969066 , intercept = 0.203951659385 , RMSE =  1.06674887632\n",
            "slope = 20.3631938132 , intercept = 0.412023554333 , RMSE =  6.07671148238\n",
            "slope = 10.1815969066 , intercept = 0.206011777166 , RMSE =  1.06674660098\n",
            "slope = 11.1815969066 , intercept = 0.206011777166 , RMSE =  1.29376025523\n",
            "slope = 8.5635629066 , intercept = 0.206011777166 , RMSE =  1.24246620054\n",
            "slope = 9.56356293176 , intercept = 0.206011777166 , RMSE =  1.05225350346\n",
            "slope = 9.18159692215 , intercept = 0.206011777166 , RMSE =  1.09682617821\n",
            "slope = 9.78891428002 , intercept = 0.206011777166 , RMSE =  1.04491438441\n",
            "slope = 9.7928411063 , intercept = 0.206011777166 , RMSE =  1.04491549784\n",
            "slope = 9.78498745375 , intercept = 0.206011777166 , RMSE =  1.0449177051\n",
            "slope = 9.78891428002 , intercept = 0.206011777166 , RMSE =  1.04491438441\n",
            "slope = 9.78891428002 , intercept = 1.20601177717 , RMSE =  1.29596342818\n",
            "slope = 9.78891428002 , intercept = -1.41202222283 , RMSE =  2.09213664568\n",
            "slope = 9.78891428002 , intercept = -0.412022197678 , RMSE =  1.31477862743\n",
            "slope = 9.78891428002 , intercept = 0.587977777166 , RMSE =  1.03935076709\n",
            "slope = 9.78891428002 , intercept = 0.414249336224 , RMSE =  1.02437660487\n",
            "slope = 9.78891428002 , intercept = 0.412046257487 , RMSE =  1.02437451102\n",
            "slope = 9.78891428002 , intercept = 0.409985912673 , RMSE =  1.02437684038\n",
            "slope = 9.39623165344 , intercept = 0.618080737807 , RMSE =  0.98413410826\n",
            "slope = 9.78891428002 , intercept = 0.412046257487 , RMSE =  1.02437451102\n",
            "slope = 9.39623165344 , intercept = 0.618080737807 , RMSE =  0.98413410826\n",
            "slope = 8.76085781242 , intercept = 0.951451532137 , RMSE =  0.924244423466\n",
            "slope = 3.18177725424 , intercept = 3.87870852203 , RMSE =  0.851774597539\n",
            "slope = -5.84536477763 , intercept = 8.61510985842 , RMSE =  1.96070335262\n",
            "slope = -0.266284079105 , intercept = 5.68785279488 , RMSE =  1.19640872938\n",
            "slope = 5.31279633873 , intercept = 2.76059587863 , RMSE =  0.767638930715\n",
            "slope = 6.06864281831 , intercept = 2.3640149604 , RMSE =  0.772012447536\n",
            "slope = 5.5062156596 , intercept = 2.65911176255 , RMSE =  0.766973051408\n",
            "slope = 5.54904264581 , intercept = 2.63664110749 , RMSE =  0.766991984548\n",
            "slope = 5.46338867339 , intercept = 2.6815824176 , RMSE =  0.767014460547\n",
            "slope = 5.5062156596 , intercept = 2.65911176255 , RMSE =  0.766973051408\n",
            "slope = 5.5062156596 , intercept = 3.65911176255 , RMSE =  1.26033008258\n",
            "slope = 5.5062156596 , intercept = 1.04107776255 , RMSE =  1.79052605542\n",
            "slope = 5.5062156596 , intercept = 2.0410777877 , RMSE =  0.984936434249\n",
            "slope = 5.5062156596 , intercept = 3.04107776255 , RMSE =  0.856864088443\n",
            "slope = 5.5062156596 , intercept = 2.64998098513 , RMSE =  0.767026303516\n",
            "slope = 5.5062156596 , intercept = 2.6592752735 , RMSE =  0.766973088478\n",
            "slope = 5.5062156596 , intercept = 2.65901962901 , RMSE =  0.766973045874\n",
            "slope = 5.5062156596 , intercept = 2.65902055035 , RMSE =  0.766973045875\n",
            "slope = 5.5062156596 , intercept = 2.65901870766 , RMSE =  0.766973045875\n",
            "slope = 5.5062156596 , intercept = 2.65901962901 , RMSE =  0.766973045874\n",
            "slope = 1.22351703918 , intercept = 4.90608513407 , RMSE =  1.02605600362\n",
            "slope = 12.4357676392 , intercept = -0.976808758404 , RMSE =  1.34057274455\n",
            "slope = 8.15306891104 , intercept = 1.27025680318 , RMSE =  0.874050060937\n",
            "slope = 3.87037039835 , intercept = 3.51732225171 , RMSE =  0.810204017881\n",
            "slope = 5.53441429276 , intercept = 2.64422424379 , RMSE =  0.76697872673\n",
            "slope = 5.51402035551 , intercept = 2.65492462618 , RMSE =  0.766971999878\n",
            "slope = 5.51419161166 , intercept = 2.65483477074 , RMSE =  0.766971999395\n",
            "slope = 5.51411185209 , intercept = 2.65487661934 , RMSE =  0.7669719995\n",
            "slope = 5.51427137122 , intercept = 2.65479292213 , RMSE =  0.7669719995\n"
          ]
        }
      ]
    },
    {
      "cell_type": "code",
      "source": [
        "print(parameters)"
      ],
      "metadata": {
        "id": "9AZj-yBPa2UF",
        "colab": {
          "base_uri": "https://localhost:8080/"
        },
        "outputId": "274cebb1-3345-4e7a-fdc5-3edd97dc076f"
      },
      "execution_count": 66,
      "outputs": [
        {
          "output_type": "stream",
          "name": "stdout",
          "text": [
            "[ 5.51419161  2.65483477]\n"
          ]
        }
      ]
    },
    {
      "cell_type": "markdown",
      "source": [
        "# Problem 3 (1 point)\n",
        "Answer the following questions:\n",
        "- (a) Which model has a larger slope? (0.3 points)\n",
        "- (b) Which model captures a stronger correlation relationship between the input variable and the prediction variable? (0.3 points)\n",
        "- (c) Can the answer to (a) and (b) be different?  Explain the rationale of your answer. (0.4 points)"
      ],
      "metadata": {
        "id": "-9t-eiYqUnvt"
      }
    },
    {
      "cell_type": "markdown",
      "source": [
        "# Solution to Problem 3:\n",
        "- (a) The second linear regression model based on expectancy has a larger slope of 5.51\n",
        "- (b) The first model has a correlation coefficient of around 0.80, the second has a coefficitent of around 0.75. Therefore, the first model has a stronger correlation relationship.\n",
        "- (c) Yes, the answers between the (a) and (b) could be different as slope is not a measure of how strongly correlated two variables are. It is simply the rate of change between two variables. On the other hand, the correlation coefficient shows how well the input predicts the output."
      ],
      "metadata": {
        "id": "Q2HnXioLgdEz"
      }
    }
  ]
}