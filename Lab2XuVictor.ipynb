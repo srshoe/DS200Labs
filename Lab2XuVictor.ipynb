{
  "nbformat": 4,
  "nbformat_minor": 0,
  "metadata": {
    "colab": {
      "provenance": []
    },
    "kernelspec": {
      "name": "python3",
      "display_name": "Python 3"
    },
    "language_info": {
      "name": "python"
    }
  },
  "cells": [
    {
      "cell_type": "code",
      "source": [
        "from google.colab import drive\n",
        "drive.mount('/content/drive/')"
      ],
      "metadata": {
        "colab": {
          "base_uri": "https://localhost:8080/"
        },
        "id": "H11OPIusrXwj",
        "outputId": "6cc06511-55c9-4ea8-b906-2b033c76b2fb"
      },
      "execution_count": null,
      "outputs": [
        {
          "output_type": "stream",
          "name": "stdout",
          "text": [
            "Mounted at /content/drive/\n"
          ]
        }
      ]
    },
    {
      "cell_type": "markdown",
      "source": [
        "## DS200: Introduction to Data Sciences\n",
        "# Lab Assignment 2: Loops, Tables, Visualizations (2 points)\n",
        "\n",
        "# due: midnight, September 11, 2024\n",
        "\n",
        "\n"
      ],
      "metadata": {
        "id": "7CnPuQ1nfaZ5"
      }
    },
    {
      "cell_type": "markdown",
      "source": [
        "First, let's import the Python modules (datascience, numpy, matplotlib) needed for this assignment. Please remember that you need to import the modules again every time when you restart your kernel, runtime, or session."
      ],
      "metadata": {
        "id": "RQ9jy6yH21de"
      }
    },
    {
      "cell_type": "code",
      "source": [
        "from datascience import *\n",
        "\n",
        "import matplotlib\n",
        "matplotlib.use('Agg')\n",
        "%matplotlib inline\n",
        "import matplotlib.pyplot as plots\n",
        "plots.style.use('fivethirtyeight')\n",
        "\n",
        "import numpy as np"
      ],
      "metadata": {
        "id": "cHUOKucN27xc"
      },
      "execution_count": null,
      "outputs": []
    },
    {
      "cell_type": "markdown",
      "metadata": {
        "id": "JasmQwPZkwrA"
      },
      "source": [
        "## Part 1: Random Choice (Chapter 9)\n",
        "\n",
        "NumPy has a function `np.random.choice(...)` that can be used to pick one item at random from a given array. It is equally likely to pick any of the items in the array.\n",
        "Here is an example. Imagine that one day, when you get home after a long day, you see a hot bowl of nachos waiting on the dining table! Let's say that whenever you take a nacho from the bowl, it will either have only **cheese**, only **salsa**, **both** cheese and salsa, or **neither** cheese nor salsa (a sad tortilla chip indeed).\n",
        "Let's try and simulate taking nachos from the bowl at random using the function, `np.random.choice(...)`."
      ]
    },
    {
      "cell_type": "markdown",
      "source": [
        "Run the cell below three times, and observe how the results may differ between these runs."
      ],
      "metadata": {
        "id": "MXQmHqUe65of"
      }
    },
    {
      "cell_type": "code",
      "metadata": {
        "trusted": true,
        "id": "mNo5rbQtkwrD",
        "colab": {
          "base_uri": "https://localhost:8080/",
          "height": 36
        },
        "outputId": "cd7f616a-f718-47d3-dde0-a2e5f1caae60"
      },
      "source": [
        "nachos = make_array('cheese', 'salsa', 'both', 'neither')\n",
        "np.random.choice(nachos)"
      ],
      "execution_count": null,
      "outputs": [
        {
          "output_type": "execute_result",
          "data": {
            "text/plain": [
              "'salsa'"
            ],
            "application/vnd.google.colaboratory.intrinsic+json": {
              "type": "string"
            }
          },
          "metadata": {},
          "execution_count": 4
        }
      ]
    },
    {
      "cell_type": "code",
      "metadata": {
        "trusted": true,
        "id": "ACvpHKUMubB_",
        "colab": {
          "base_uri": "https://localhost:8080/",
          "height": 36
        },
        "outputId": "014cb2d7-1d1c-4410-f965-69ddf563686b"
      },
      "source": [
        "np.random.choice(nachos)"
      ],
      "execution_count": null,
      "outputs": [
        {
          "output_type": "execute_result",
          "data": {
            "text/plain": [
              "'cheese'"
            ],
            "application/vnd.google.colaboratory.intrinsic+json": {
              "type": "string"
            }
          },
          "metadata": {},
          "execution_count": 5
        }
      ]
    },
    {
      "cell_type": "code",
      "metadata": {
        "trusted": true,
        "id": "0ZWyYM7Gucot",
        "colab": {
          "base_uri": "https://localhost:8080/",
          "height": 36
        },
        "outputId": "587e95a9-dfd5-4f99-94ad-8a5a39d38295"
      },
      "source": [
        "np.random.choice(nachos)"
      ],
      "execution_count": null,
      "outputs": [
        {
          "output_type": "execute_result",
          "data": {
            "text/plain": [
              "'salsa'"
            ],
            "application/vnd.google.colaboratory.intrinsic+json": {
              "type": "string"
            }
          },
          "metadata": {},
          "execution_count": 6
        }
      ]
    },
    {
      "cell_type": "markdown",
      "metadata": {
        "id": "joNtTBSMkwrG"
      },
      "source": [
        "To repeat this process multiple times, we can pass in an integer (e.g., 10 in the code cell below) as the **second** argument, which specifies **how many times the random choice will be generated**.\n",
        "\n",
        "By default, `np.random.choice` samples **with replacement** (meaning: returning the item sampled to the pool for the next sample; that is, the pool remains the same regardless how many times you sampled) and returns an *array* of items.\n",
        "\n",
        "Run the next cell to see an example of sampling with replacement 10 times from the `nachos` array."
      ]
    },
    {
      "cell_type": "code",
      "metadata": {
        "trusted": true,
        "id": "ZH2vf05pkwrH"
      },
      "source": [
        "np.random.choice(nachos, 10)"
      ],
      "execution_count": null,
      "outputs": []
    },
    {
      "cell_type": "markdown",
      "source": [
        "Next, let's use `np.random.choice` to simulate one roll of a fair dice. Because a dice consists of six numbers, one on each side of the dice: 1, 2, 3, 4, 5, and 6, the following code cell gives a statement that simulates rolling a dice once and records the number of spots on the dice in a variable `x`. You can run it multiple times to see how variable the results are.\n"
      ],
      "metadata": {
        "id": "lx_1IhL6DDZJ"
      }
    },
    {
      "cell_type": "markdown",
      "source": [
        "``np.arange`` is a numpy function that creates and returns an array of integer.  The function takes two parameters: the first parameter is the first element of the array, and the second parameter is the first integer that is NOT in the array (i.e., larger than the largest number in the array)."
      ],
      "metadata": {
        "id": "hc3KT5HO2dWW"
      }
    },
    {
      "cell_type": "code",
      "source": [
        "np.arange(1, 7)"
      ],
      "metadata": {
        "id": "HEEmIkY_2M9N"
      },
      "execution_count": null,
      "outputs": []
    },
    {
      "cell_type": "code",
      "execution_count": null,
      "metadata": {
        "id": "635c9247-03ae-414b-bd25-9cf8220d65a1"
      },
      "outputs": [],
      "source": [
        "x = np.random.choice(np.arange(1, 7))\n",
        "print(x)"
      ]
    },
    {
      "cell_type": "markdown",
      "source": [
        "Execute the code cell above multiple times.  Does it generate the same number of different number?\n",
        "\n",
        "You can add a second parameter to ``np.random.choice`` to specify how many times you want to repeat the"
      ],
      "metadata": {
        "id": "Y8lGpu124DA7"
      }
    },
    {
      "cell_type": "markdown",
      "metadata": {
        "id": "cb3369a4-3fa5-4157-98cf-41fa97c900d9"
      },
      "source": [
        "## Problem 1: Rolling a Fair Die 10 Times (0.25 points)\n",
        "Complete the expression below that rolls a dice 10 times and returns the results in an array.\n"
      ]
    },
    {
      "cell_type": "code",
      "source": [
        "# write code for Problem 1 in this cell\n",
        "num_array = np.random.choice( np.arange(1,7), 10 )\n",
        "num_array"
      ],
      "metadata": {
        "id": "qVr20b5ZDodF",
        "colab": {
          "base_uri": "https://localhost:8080/"
        },
        "outputId": "ec99a14a-26ba-4e9c-ced1-c54c9d58e941"
      },
      "execution_count": null,
      "outputs": [
        {
          "output_type": "execute_result",
          "data": {
            "text/plain": [
              "array([2, 4, 2, 6, 5, 4, 3, 2, 3, 4])"
            ]
          },
          "metadata": {},
          "execution_count": 9
        }
      ]
    },
    {
      "cell_type": "markdown",
      "source": [
        "## Part 2: Python Loops (Chapter 9.2)\n",
        "\n",
        "### Iteration\n",
        "It is often the case in programming – especially when dealing with randomness – that we want to repeat a process multiple times. For example, let's consider the game of betting on one roll of a dice with the following rules:\n",
        "\n",
        "- If the dice shows 1 spot, my net gain/loss is -10 dollar.\n",
        "- If the dice shows 2, 3 or 4 spots, my net gain is 1 dollars.\n",
        "- If the dice shows 5 or 6 spots, my net gain is 3 dollar.\n",
        "\n",
        "The function `bet_on_one_roll` takes no argument. Each time it is called, it simulates one roll of a fair die and returns the net gain in dollars."
      ],
      "metadata": {
        "id": "ZVq3wx-8jdlf"
      }
    },
    {
      "cell_type": "code",
      "execution_count": null,
      "metadata": {
        "id": "K97vhig32oo1"
      },
      "outputs": [],
      "source": [
        "def bet_on_one_roll():\n",
        "    \"\"\"Returns my net gain on one bet\"\"\"\n",
        "    x = np.random.choice(np.arange(1, 7))  # roll a die once and record the number of spots\n",
        "    if x <= 1:\n",
        "        return -10\n",
        "    elif x <= 4:\n",
        "        return 1\n",
        "    elif x <= 6:\n",
        "        return 3"
      ]
    },
    {
      "cell_type": "markdown",
      "metadata": {
        "id": "4uscF_0b2oo2"
      },
      "source": [
        "Playing this game once is easy:"
      ]
    },
    {
      "cell_type": "code",
      "execution_count": null,
      "metadata": {
        "id": "tXOC1Txd2oo2",
        "colab": {
          "base_uri": "https://localhost:8080/"
        },
        "outputId": "0922f73c-e778-4654-94a5-2416446f2b74"
      },
      "outputs": [
        {
          "output_type": "execute_result",
          "data": {
            "text/plain": [
              "1"
            ]
          },
          "metadata": {},
          "execution_count": 16
        }
      ],
      "source": [
        "bet_on_one_roll()"
      ]
    },
    {
      "cell_type": "markdown",
      "metadata": {
        "id": "ZgBKCSEh2oo3"
      },
      "source": [
        "To get a sense of how variable the results are (e.g., so that we know whether the game is worth playing), we have to play the game over and over again. We could run the cell repeatedly, but that's tedious, and if we wanted to do it a thousand times or a million times, forget it.  \n",
        "\n",
        "A more automated solution is to use a `for` statement to loop over the contents of a sequence. This is called *iteration*. A `for` statement begins with the word `for`, followed by a name we want to give each item in the sequence, followed by the word `in`, and ending with an expression that evaluates to a sequence. The **indented** body of the `for` statement is executed once *for each item in that sequence*.  The code cell below gives an example."
      ]
    },
    {
      "cell_type": "code",
      "execution_count": null,
      "metadata": {
        "id": "KWQTK2A22oo4",
        "colab": {
          "base_uri": "https://localhost:8080/"
        },
        "outputId": "db4494dd-71be-4433-f66e-3cbbf8ae6a90"
      },
      "outputs": [
        {
          "output_type": "stream",
          "name": "stdout",
          "text": [
            "cat\n",
            "dog\n",
            "rabbit\n"
          ]
        }
      ],
      "source": [
        "for animal in make_array('cat', 'dog', 'rabbit'):\n",
        "    print(animal)"
      ]
    },
    {
      "cell_type": "markdown",
      "metadata": {
        "id": "kGNpOM-r2oo6"
      },
      "source": [
        "Notice that the name `animal` is arbitrary, just like any name we assign with `=`.\n",
        "\n",
        "Here we use a `for` statement in a more realistic way: we print the results of betting five times on the die as described earlier. This is called *simulating* the results of five bets. We use the word *simulating* to remind ourselves that we are not physically rolling dice and exchanging money but using Python to mimic the process.\n",
        "\n",
        "To repeat a process `n` times, it is common to use the sequence `np.arange(n)` in the `for` statement. It is also common to use a very short name for each item. In our code we will use the name `i` to remind ourselves that it refers to an item.\n",
        "\n",
        "* Notice 1: The colon `:` at the end of the `for` statement is important.\n",
        "* Notice 2: If you end the first line of the `for` statement in `:`, the next line will be automatically indented."
      ]
    },
    {
      "cell_type": "code",
      "execution_count": null,
      "metadata": {
        "id": "cS6MqZ8W2oo7",
        "colab": {
          "base_uri": "https://localhost:8080/"
        },
        "outputId": "b34eaadf-53ff-4f05-fa69-5353e883a21b"
      },
      "outputs": [
        {
          "output_type": "stream",
          "name": "stdout",
          "text": [
            "-10\n",
            "3\n",
            "3\n",
            "1\n",
            "3\n"
          ]
        }
      ],
      "source": [
        "for i in np.arange(5):\n",
        "    print(bet_on_one_roll())"
      ]
    },
    {
      "cell_type": "markdown",
      "metadata": {
        "id": "a3C1daB62oo8"
      },
      "source": [
        "In this case, we simply perform exactly the same (random) action several times, so the code in the body of our `for` statement does not actually refer to `i`."
      ]
    },
    {
      "cell_type": "markdown",
      "source": [
        "Often, the iteration variable `i` is actually used in the indented body of a loop (e.g., to refer to the item/object used in the loop).  The code cell below gives an example. The code calculates the sum of the first k positive integers.  Fill in a value for k, run the code cell to see the result. You can change the value of k, and run the code cell again to see a different result."
      ],
      "metadata": {
        "id": "EWl0RVi_OokM"
      }
    },
    {
      "cell_type": "code",
      "source": [
        "k = 4\n",
        "nums = np.arange(k)\n",
        "\n",
        "sum_nums = 0\n",
        "\n",
        "for i in nums:\n",
        "    sum_nums = sum_nums + i\n",
        "\n",
        "print('Sum of the first ', k, ' positive integers is: ' + str(sum_nums))"
      ],
      "metadata": {
        "id": "vV2vofpDPGj_",
        "colab": {
          "base_uri": "https://localhost:8080/"
        },
        "outputId": "8af6d39a-24b2-4ee9-ad28-0040e1285711"
      },
      "execution_count": null,
      "outputs": [
        {
          "output_type": "stream",
          "name": "stdout",
          "text": [
            "Sum of the first  4  positive integers is: 6\n"
          ]
        }
      ]
    },
    {
      "cell_type": "markdown",
      "source": [
        "## Problem 2A: Iterating over a Custom Array (0.25 points)\n",
        "Create an array that contains the skills for Data Science: \"Python\", \"SQL\", \"Spark\", and \"R\". Write a `for` loop to iterate over the items in the array and print them one by one.\n"
      ],
      "metadata": {
        "id": "JyuFtvLQP0So"
      }
    },
    {
      "cell_type": "code",
      "source": [
        "# write code for Problem 2A in this cell\n",
        "DS_skills = make_array(\"Python\", \"SQL\", \"Spark\", \"R\")\n",
        "print(DS_skills)\n",
        "for skill in DS_skills:\n",
        "  print(skill)"
      ],
      "metadata": {
        "id": "9uDudktWRGGp",
        "colab": {
          "base_uri": "https://localhost:8080/",
          "height": 211
        },
        "outputId": "60b25ade-7684-4bb9-ac68-54de0c6bcf0f"
      },
      "execution_count": null,
      "outputs": [
        {
          "output_type": "error",
          "ename": "NameError",
          "evalue": "name 'make_array' is not defined",
          "traceback": [
            "\u001b[0;31m---------------------------------------------------------------------------\u001b[0m",
            "\u001b[0;31mNameError\u001b[0m                                 Traceback (most recent call last)",
            "\u001b[0;32m<ipython-input-11-391684c17cad>\u001b[0m in \u001b[0;36m<cell line: 2>\u001b[0;34m()\u001b[0m\n\u001b[1;32m      1\u001b[0m \u001b[0;31m# write code for Problem 2A in this cell\u001b[0m\u001b[0;34m\u001b[0m\u001b[0;34m\u001b[0m\u001b[0m\n\u001b[0;32m----> 2\u001b[0;31m \u001b[0mDS_skills\u001b[0m \u001b[0;34m=\u001b[0m \u001b[0mmake_array\u001b[0m\u001b[0;34m(\u001b[0m\u001b[0;34m\"Python\"\u001b[0m\u001b[0;34m,\u001b[0m \u001b[0;34m\"SQL\"\u001b[0m\u001b[0;34m,\u001b[0m \u001b[0;34m\"Spark\"\u001b[0m\u001b[0;34m,\u001b[0m \u001b[0;34m\"R\"\u001b[0m\u001b[0;34m)\u001b[0m\u001b[0;34m\u001b[0m\u001b[0;34m\u001b[0m\u001b[0m\n\u001b[0m\u001b[1;32m      3\u001b[0m \u001b[0mprint\u001b[0m\u001b[0;34m(\u001b[0m\u001b[0mDS_skills\u001b[0m\u001b[0;34m)\u001b[0m\u001b[0;34m\u001b[0m\u001b[0;34m\u001b[0m\u001b[0m\n\u001b[1;32m      4\u001b[0m \u001b[0;32mfor\u001b[0m \u001b[0mskill\u001b[0m \u001b[0;32min\u001b[0m \u001b[0mDS_skills\u001b[0m\u001b[0;34m:\u001b[0m\u001b[0;34m\u001b[0m\u001b[0;34m\u001b[0m\u001b[0m\n\u001b[1;32m      5\u001b[0m   \u001b[0mprint\u001b[0m\u001b[0;34m(\u001b[0m\u001b[0mskill\u001b[0m\u001b[0;34m)\u001b[0m\u001b[0;34m\u001b[0m\u001b[0;34m\u001b[0m\u001b[0m\n",
            "\u001b[0;31mNameError\u001b[0m: name 'make_array' is not defined"
          ]
        }
      ]
    },
    {
      "cell_type": "markdown",
      "metadata": {
        "id": "EvcI09Yx2oo8"
      },
      "source": [
        "### Augmenting Arrays\n",
        "\n",
        "While the `for` statement above does simulate the results of five bets, the results are simply printed and are not in a form that we can use in later code.   A typical use of a `for` statement is to create a new array by augmenting/adding each element of the array.\n",
        "\n",
        "The `append` method in `NumPy` helps us do this. The call `np.append(array_name, value)` evaluates to a new array that is `array_name` augmented by `value`. When you use `append`, keep in mind that all the entries of an array must have the same type."
      ]
    },
    {
      "cell_type": "code",
      "execution_count": null,
      "metadata": {
        "id": "R-F-Eyh72oo8"
      },
      "outputs": [],
      "source": [
        "pets = make_array('Cat', 'Dog')\n",
        "np.append(pets, 'Another Pet')"
      ]
    },
    {
      "cell_type": "markdown",
      "metadata": {
        "id": "uKdtaqgH2oo9"
      },
      "source": [
        "* Note: `append` DOES NOT change the original array, as shown below."
      ]
    },
    {
      "cell_type": "code",
      "execution_count": null,
      "metadata": {
        "id": "3aDfpi0w2oo9"
      },
      "outputs": [],
      "source": [
        "pets"
      ]
    },
    {
      "cell_type": "markdown",
      "metadata": {
        "id": "kawLAbpZ2oo9"
      },
      "source": [
        "But often while using `for` loops it will be convenient to change it – when augmenting it. This is done by assigning the augmented array to the same name as the original."
      ]
    },
    {
      "cell_type": "code",
      "execution_count": null,
      "metadata": {
        "id": "Fyv-eX1-2oo9"
      },
      "outputs": [],
      "source": [
        "pets = np.append(pets, 'Another Pet')\n",
        "pets"
      ]
    },
    {
      "cell_type": "markdown",
      "source": [
        "## Problem 2B: Creating a New Array by Augmenting (0.25 points)\n",
        "\n",
        "Use `np.append` to create an array of Data Science skills, by concatenating each element of the array `DS_skill` with the string \" skill'."
      ],
      "metadata": {
        "id": "-uhZZxNX3B3t"
      }
    },
    {
      "cell_type": "code",
      "source": [
        "# write code for Problem 2B in this cell\n",
        "new_array = make_array()\n",
        "for skill in DS_skills:\n",
        "  new_array = np.append(new_array, skill +\" skill\")\n",
        "print(new_array)\n"
      ],
      "metadata": {
        "id": "hQSr9KJ33kbO",
        "colab": {
          "base_uri": "https://localhost:8080/"
        },
        "outputId": "f6d97747-e447-4999-fc4b-8eb39820dbef"
      },
      "execution_count": null,
      "outputs": [
        {
          "output_type": "stream",
          "name": "stdout",
          "text": [
            "['Python skill' 'SQL skill' 'Spark skill' 'R skill']\n"
          ]
        }
      ]
    },
    {
      "cell_type": "markdown",
      "source": [
        "* Note: Notice we need to first create an empty array before the `for` loop."
      ],
      "metadata": {
        "id": "EeAjC17i4ybg"
      }
    },
    {
      "cell_type": "markdown",
      "metadata": {
        "id": "9wbgmmML2oo-"
      },
      "source": [
        "### Example: Betting on 5 Rolls\n",
        "We can now simulate five bets on the dice and collect the results in an array that we will call the *collection array*. We will start out by creating an empty array for this, and then append the outcome of each bet. Notice that the body of the `for` loop contains two statements. Both statements are executed for each item in the given sequence."
      ]
    },
    {
      "cell_type": "code",
      "execution_count": null,
      "metadata": {
        "id": "UqZKZ_uG2oo-"
      },
      "outputs": [],
      "source": [
        "outcomes = make_array()\n",
        "roll_count = 5\n",
        "for i in np.arange(roll_count):\n",
        "    outcome_of_bet = bet_on_one_roll()\n",
        "    outcomes = np.append(outcomes, outcome_of_bet)\n",
        "\n",
        "outcomes"
      ]
    },
    {
      "cell_type": "markdown",
      "source": [
        "As shown in the example above, the **indented** body of a `for` statement can contain **multiple** statements and each of the statements is executed for each item in the given sequence."
      ],
      "metadata": {
        "id": "C7j3Ry-wOKsr"
      }
    },
    {
      "cell_type": "markdown",
      "metadata": {
        "id": "9XpVW_Ou2oo_"
      },
      "source": [
        "By capturing the results in an array, we have given ourselves the ability to use array methods to do computations. For example, we can use `np.sum` to add the total result of betting.\n",
        "* Try: Run the code cell above a few time. Do you think the betting is worth trying or not?"
      ]
    },
    {
      "cell_type": "code",
      "execution_count": null,
      "metadata": {
        "id": "xhtQKQEo2oo_"
      },
      "outputs": [],
      "source": [
        "np.sum(outcomes)"
      ]
    },
    {
      "cell_type": "markdown",
      "source": [
        "### Betting on 300 Rolls\n",
        "\n",
        "Iteration is a powerful technique. For example, we can see the variation in the results of 300 bets by running `bet_on_one_roll` for 300 times intead of five.  "
      ],
      "metadata": {
        "id": "nhlwlcT_RqKt"
      }
    },
    {
      "cell_type": "code",
      "source": [
        "outcomes = make_array()\n",
        "roll_count = 300\n",
        "for i in np.arange(roll_count):\n",
        "    outcome_of_bet = bet_on_one_roll()\n",
        "    outcomes = np.append(outcomes, outcome_of_bet)\n",
        "\n",
        "print(outcomes)\n",
        "sum_gain = np.sum(outcomes)\n",
        "print(\"The Sum of betting gain/loss for rolling the dice \", roll_count, \"times is \", sum_gain)"
      ],
      "metadata": {
        "id": "4UHz9DauRqKu"
      },
      "execution_count": null,
      "outputs": []
    },
    {
      "cell_type": "markdown",
      "metadata": {
        "collapsed": true,
        "id": "6zbeEcRg2opA"
      },
      "source": [
        "The array `outcomes` now contains the results of all 300 bets, and the value of `sum_gain` is the total of gain/loss after rolling the dice 300 times."
      ]
    },
    {
      "cell_type": "markdown",
      "source": [
        "## Problem 2C: Is the Game Worth Playing? (0.25 points)\n",
        "### 1. Copy the code cell above THREE times to create three code cells below.\n",
        "### 2. Run each code cell once.\n",
        "### 3. Compare the results and answer the question in the text cell whether you think the game is worthy playing.\n",
        "\n",
        "\n",
        "\n"
      ],
      "metadata": {
        "id": "476b3LkpqLQG"
      }
    },
    {
      "cell_type": "code",
      "source": [
        "outcomes = make_array()\n",
        "roll_count = 300\n",
        "for i in np.arange(roll_count):\n",
        "    outcome_of_bet = bet_on_one_roll()\n",
        "    outcomes = np.append(outcomes, outcome_of_bet)\n",
        "\n",
        "print(outcomes)\n",
        "sum_gain = np.sum(outcomes)\n",
        "print(\"The Sum of betting gain/loss for rolling the dice \", roll_count, \"times is \", sum_gain)"
      ],
      "metadata": {
        "id": "fGCve_aIrGrR",
        "colab": {
          "base_uri": "https://localhost:8080/"
        },
        "outputId": "15691b12-4063-4936-f96b-452f805666d2"
      },
      "execution_count": null,
      "outputs": [
        {
          "output_type": "stream",
          "name": "stdout",
          "text": [
            "[  3.   1.   3.   1.   3. -10.   1.   1.   1.   1.   1. -10.   1.   1.   1.\n",
            "   3.   1.   3.   3.   3. -10.   1. -10.   1. -10.   3.   1.   3.   1.   1.\n",
            "   1.   1.   1.   1.   3. -10.   1.   1.   3.   3.   1. -10.   3.   1.   1.\n",
            "   1.   3.   1.   1. -10. -10. -10.   3.   1. -10.   1.   3.   1.   3.   1.\n",
            "   1.   3.   1.   3.   1.   1.   3.   1.   3.   3.   1.   3.   3.   3.   1.\n",
            "   3.   1.   3. -10.   1.   1.   1.   3.   1. -10.   3. -10.   1.   1. -10.\n",
            "   1.   1.   3.   1.   3.   1.   1.   3.   1.   1.   1.   3.   1.   1.   1.\n",
            "   1.   1.   3.   3.   3.   3.   1. -10. -10.   3.   3.   1.   1.   1. -10.\n",
            "   1.   1.   1.   3.   1.   1.   3.   1.   3.   1.   1.   1.   3.   3. -10.\n",
            "   1.   1.   1.   1. -10.   1.   1.   1.   1.   1.   1.   1.   1.   1.   1.\n",
            "   3.   3.   1.   1.   1.   1.   3.   1.   3.   1.   3.   3.   3.   1.   1.\n",
            "   3.   3.   3.   1.   1.   3.   1.   1.   1.   3.   1.   3. -10.   1. -10.\n",
            "   3.   1.   1.   1.   3.   1.   1. -10.   3.   1.   1.   1.   1.   1.   3.\n",
            " -10.   3.   1.   1.   1.   1.   1.   1.   1.   1.   1. -10.   1.   1.   1.\n",
            "   3.   3.   3.   1.   1.   1.   3. -10.   1.   1.   3.   1.   3.   3.   1.\n",
            "   1. -10. -10.   1.   3.   1.   1.   1.   1. -10.   1.   3.   3.   1.   1.\n",
            "   1.   1.   3.   1. -10.   1.   1.   1.   1.   1.   3.   3. -10.   1.   1.\n",
            "   3. -10.   3.   1.   3.   1.   1.   3.   1.   3.   3.   3.   1.   1.   1.\n",
            "   1.   3.   1.   3.   1.   3.   1. -10.   3.   1.   1.   3.   1. -10.   1.\n",
            " -10.   1.   1.   1. -10.   3.   3.   3.   3.   3.   3.   3.   3.   3.   1.]\n",
            "The Sum of betting gain/loss for rolling the dice  300 times is  96.0\n"
          ]
        }
      ]
    },
    {
      "cell_type": "code",
      "source": [
        "outcomes = make_array()\n",
        "roll_count = 300\n",
        "for i in np.arange(roll_count):\n",
        "    outcome_of_bet = bet_on_one_roll()\n",
        "    outcomes = np.append(outcomes, outcome_of_bet)\n",
        "\n",
        "print(outcomes)\n",
        "sum_gain = np.sum(outcomes)\n",
        "print(\"The Sum of betting gain/loss for rolling the dice \", roll_count, \"times is \", sum_gain)"
      ],
      "metadata": {
        "colab": {
          "base_uri": "https://localhost:8080/"
        },
        "id": "8IrB7KpYcbc1",
        "outputId": "5e33c5b4-5c43-416e-9349-737d5d9d29bd"
      },
      "execution_count": null,
      "outputs": [
        {
          "output_type": "stream",
          "name": "stdout",
          "text": [
            "[-10. -10.   3.   3.   1. -10.   1.   1.   1.   1.   1.   1.   1.   1.   1.\n",
            "   3.   3.   3.   1.   1.   3.   1.   1. -10.   1. -10.   1.   3.   1.   3.\n",
            " -10. -10.   3.   1. -10.   3.   1.   1.   1.   3.   1.   3.   3.   3.   1.\n",
            "   1.   1.   1.   1.   3.   1.   1. -10.   1. -10. -10.   3.   1.   1.   1.\n",
            "   1.   1.   1.   1.   3. -10.   3.   1.   1.   3.   1. -10.   3. -10.   3.\n",
            "   1.   3. -10.   3.   1.   3.   1.   1.   1.   1.   3.   3.   3.   3.   3.\n",
            "   1.   1.   3.   1.   1. -10.   1.   1.   1.   1.   3.   3.   1.   1.   3.\n",
            " -10.   1.   3.   1.   3. -10. -10.   1.   1.   1.   1.   1.   1.   3.   1.\n",
            "   3. -10.   3. -10.   1.   3.   1.   3.   3.   1.   3.   3.   3.   3. -10.\n",
            "   1.   3.   3.   1.   3. -10.   1.   1.   3.   1.   3. -10.   1.   3.   3.\n",
            "   1.   1. -10.   1. -10.   1.   1.   1.   1. -10.   1.   1.   1.   3.   1.\n",
            "   3.   1.   1.   1. -10. -10.   1.   3.   1.   3.   1.   1. -10.   1.   3.\n",
            "   1.   3.   3.   3.   1.   1. -10.   1. -10. -10. -10.   1.   1.   1.   1.\n",
            "   1.   1.   1. -10. -10.   1.   3.   1.   3. -10. -10.   3.   1.   3.   1.\n",
            "   3.   1.   3.   1.   3.   3.   1.   1.   1.   1. -10. -10.   1.   1.   1.\n",
            "   1.   1. -10.   3.   3.   1. -10.   1. -10.   3.   3.   3.   3.   3.   1.\n",
            "   3. -10.   1.   1. -10.   3.   1.   1.   1.   3.   1.   1.   1.   3.   1.\n",
            "   3.   1.   1.   1. -10.   3.   1. -10.   3.   1. -10. -10.   1. -10. -10.\n",
            "   1.   1.   3.   3.   3.   3.   1.   3.   1. -10.   3.   3.   1.   3.   1.\n",
            "   1.   3.   3.   1.   1. -10.   3.   3. -10. -10.   3.   3.   1.   1.   3.]\n",
            "The Sum of betting gain/loss for rolling the dice  300 times is  -111.0\n"
          ]
        }
      ]
    },
    {
      "cell_type": "code",
      "source": [
        "outcomes = make_array()\n",
        "roll_count = 300\n",
        "for i in np.arange(roll_count):\n",
        "    outcome_of_bet = bet_on_one_roll()\n",
        "    outcomes = np.append(outcomes, outcome_of_bet)\n",
        "\n",
        "print(outcomes)\n",
        "sum_gain = np.sum(outcomes)\n",
        "print(\"The Sum of betting gain/loss for rolling the dice \", roll_count, \"times is \", sum_gain)"
      ],
      "metadata": {
        "colab": {
          "base_uri": "https://localhost:8080/"
        },
        "id": "ZMttffKicbxh",
        "outputId": "5cc2cac9-78ba-4a35-d97d-e87f8cd913e5"
      },
      "execution_count": null,
      "outputs": [
        {
          "output_type": "stream",
          "name": "stdout",
          "text": [
            "[-10.   3.   3.   1.   3. -10. -10. -10.   1.   3.   1. -10. -10.   3.   1.\n",
            "   1.   1. -10.   3.   3.   1.   1.   3. -10.   1.   1.   1.   1.   1.   3.\n",
            "   3.   1.   3.   1. -10. -10.   3. -10.   1.   3.   3. -10.   1.   3.   3.\n",
            "   3.   3.   3.   1.   1. -10.   3.   3.   1. -10.   1.   1. -10. -10.   1.\n",
            "   1.   1.   3.   3.   1.   3.   3.   1.   1.   1.   3.   1. -10.   1.   3.\n",
            "   3.   1.   1.   1.   3.   3.   1.   1.   1.   1.   3.   3.   1.   1.   1.\n",
            "   3.   3.   1.   1.   3.   1.   1. -10.   1.   3.   1.   3. -10. -10.   1.\n",
            "   3.   3.   1. -10. -10.   1.   1.   1.   3.   1.   3.   1.   1.   3. -10.\n",
            "   1.   1.   1.   1.   1.   1. -10.   3.   3.   1. -10.   3.   1. -10.   1.\n",
            "   3.   1.   1. -10.   1.   1. -10.   1.   3.   1.   3.   1.   3.   1.   1.\n",
            "   1.   1.   1.   3.   3.   3.   1.   1.   1.   3.   3.   1.   1.   3. -10.\n",
            " -10.   1. -10.   3.   1.   1.   1.   3.   3.   1. -10.   3.   3.   3. -10.\n",
            "   1.   3.   1.   3.   3. -10.   1.   1.   3.   1.   3.   1.   1.   1. -10.\n",
            "   1.   1. -10.   1. -10. -10. -10. -10.   1.   1.   1.   1.   3. -10.   1.\n",
            "   1.   3.   3. -10.   1.   1.   1.   3.   3.   1.   1. -10.   3. -10. -10.\n",
            " -10.   3.   3.   1.   1.   1.   3.   1.   3. -10.   3. -10.   3. -10.   1.\n",
            "   3.   1.   1.   1.   3.   3.   3. -10.   3.   3.   3. -10.   3.   1.   3.\n",
            " -10.   1.   1. -10.   1. -10. -10.   1. -10.   1.   1.   1.   3.   3.   3.\n",
            " -10.   3.   1.   1.   1.   1.   1. -10.   1.   1.   1.   3.   3.   1.   1.\n",
            "   1.   1. -10.   3.   3.   3.   3.   1.   3.   1.   1.   3.   1.   1. -10.]\n",
            "The Sum of betting gain/loss for rolling the dice  300 times is  -162.0\n"
          ]
        }
      ]
    },
    {
      "cell_type": "markdown",
      "source": [
        "## Answer to Problem 2C:\n",
        "### A. Is the game worth play?\n",
        "No\n",
        "### B. Why?\n",
        "2/3 of the games ended with the player having a negative amount of dollars"
      ],
      "metadata": {
        "id": "BeP3KOxj-kNd"
      }
    },
    {
      "cell_type": "code",
      "source": [],
      "metadata": {
        "id": "FF7WVyghcaB1"
      },
      "execution_count": null,
      "outputs": []
    },
    {
      "cell_type": "markdown",
      "source": [
        "## Part 3: Selecting Rows from Table (Chapter 6.2)\n",
        "\n",
        "In Lab Assignment 1, we practiced the Table method `take`, which takes a specific set of rows from a table. Its argument is a row index or an array of indices, and it creates a new table consisting of only those rows.\n",
        "\n",
        "For example, if we wanted just the first row of movies, we could use `take(0)` as follows."
      ],
      "metadata": {
        "id": "2UG4hr2PSxHU"
      }
    },
    {
      "cell_type": "code",
      "source": [
        "movies = Table.read_table('IMDB_movies.csv')\n",
        "\n",
        "movies.take(0)"
      ],
      "metadata": {
        "id": "lnrnMY65U8C2",
        "colab": {
          "base_uri": "https://localhost:8080/",
          "height": 135
        },
        "outputId": "c4f51f6c-fe75-4de5-898f-37f4f1cedea5"
      },
      "execution_count": null,
      "outputs": [
        {
          "output_type": "execute_result",
          "data": {
            "text/plain": [
              "color            | director_name | num_critic_for_reviews | duration | director_facebook_likes | actor_3_facebook_likes | actor_2_name | actor_1_facebook_likes | gross | genres        | actor_1_name   | movie_title                   | num_voted_users | cast_total_facebook_likes | actor_3_name   | facenumber_in_poster | plot_keywords                               | movie_imdb_link                                      | num_user_for_reviews | language | country | content_rating | budget | title_year | actor_2_facebook_likes | imdb_score | aspect_ratio | movie_facebook_likes\n",
              " Black and White | nan           | 15                     | 30       | nan                     | 94                     | Art Carney   | 491                    | nan   | Comedy|Family | Jackie Gleason | The Honeymooners              | 3446            | 812                       | Joyce Randolph | 4                    | 1950s|bus driver|money scheme|poverty|sewer | http://www.imdb.com/title/tt0042114/?ref_=fn_tt_tt_1 | 31                   | English  | USA     | nan            | nan    | nan        | 154                    | 8.7        | 1.33         | 459"
            ],
            "text/html": [
              "<table border=\"1\" class=\"dataframe\">\n",
              "    <thead>\n",
              "        <tr>\n",
              "            <th>color</th> <th>director_name</th> <th>num_critic_for_reviews</th> <th>duration</th> <th>director_facebook_likes</th> <th>actor_3_facebook_likes</th> <th>actor_2_name</th> <th>actor_1_facebook_likes</th> <th>gross</th> <th>genres</th> <th>actor_1_name</th> <th>movie_title</th> <th>num_voted_users</th> <th>cast_total_facebook_likes</th> <th>actor_3_name</th> <th>facenumber_in_poster</th> <th>plot_keywords</th> <th>movie_imdb_link</th> <th>num_user_for_reviews</th> <th>language</th> <th>country</th> <th>content_rating</th> <th>budget</th> <th>title_year</th> <th>actor_2_facebook_likes</th> <th>imdb_score</th> <th>aspect_ratio</th> <th>movie_facebook_likes</th>\n",
              "        </tr>\n",
              "    </thead>\n",
              "    <tbody>\n",
              "        <tr>\n",
              "            <td> Black and White</td> <td>nan          </td> <td>15                    </td> <td>30      </td> <td>nan                    </td> <td>94                    </td> <td>Art Carney  </td> <td>491                   </td> <td>nan  </td> <td>Comedy|Family</td> <td>Jackie Gleason</td> <td>The Honeymooners             </td> <td>3446           </td> <td>812                      </td> <td>Joyce Randolph</td> <td>4                   </td> <td>1950s|bus driver|money scheme|poverty|sewer</td> <td>http://www.imdb.com/title/tt0042114/?ref_=fn_tt_tt_1</td> <td>31                  </td> <td>English </td> <td>USA    </td> <td>nan           </td> <td>nan   </td> <td>nan       </td> <td>154                   </td> <td>8.7       </td> <td>1.33        </td> <td>459                 </td>\n",
              "        </tr>\n",
              "    </tbody>\n",
              "</table>"
            ]
          },
          "metadata": {},
          "execution_count": 13
        }
      ]
    },
    {
      "cell_type": "markdown",
      "metadata": {
        "id": "I3HALtW_UFLB"
      },
      "source": [
        "In general, `take(n)` returns a new table with the n+1 th rows.\n",
        "\n",
        "We could also get the fourth, fifth, and sixth rows by specifying a range of indices as the argument."
      ]
    },
    {
      "cell_type": "code",
      "execution_count": null,
      "metadata": {
        "id": "wzWwVuPnUFLB",
        "colab": {
          "base_uri": "https://localhost:8080/",
          "height": 267
        },
        "outputId": "af20418a-8cdb-4dcd-e817-a9fd85e471ca"
      },
      "outputs": [
        {
          "output_type": "execute_result",
          "data": {
            "text/plain": [
              "color            | director_name  | num_critic_for_reviews | duration | director_facebook_likes | actor_3_facebook_likes | actor_2_name  | actor_1_facebook_likes | gross      | genres                        | actor_1_name     | movie_title       | num_voted_users | cast_total_facebook_likes | actor_3_name       | facenumber_in_poster | plot_keywords                                                | movie_imdb_link                                      | num_user_for_reviews | language | country | content_rating | budget  | title_year | actor_2_facebook_likes | imdb_score | aspect_ratio | movie_facebook_likes\n",
              " Black and White | Akira Kurosawa | 153                    | 202      | 0                       | 4                      | Minoru Chiaki | 304                    | 269061     | Action|Adventure|Drama        | Takashi Shimura  | Seven Samurai     | 229012          | 338                       | Kamatari Fujiwara  | 6                    | 16th century|battle|japan|practice|samurai                   | http://www.imdb.com/title/tt0047478/?ref_=fn_tt_tt_1 | 596                  | Japanese | Japan   | Unrated        | 2e+06   | 1954       | 8                      | 8.7        | 1.37         | 11000\n",
              " Black and White | Aleksey German | 121                    | 177      | 23                      | 0                      | Yuriy Tsurilo | 4                      | nan        | Drama|Sci-Fi                  | Leonid Yarmolnik | Hard to Be a God  | 2518            | 8                         | Valentin Golubenko | 0                    | fictional war|hanging|male full frontal nudity|medieval  ... | http://www.imdb.com/title/tt2328813/?ref_=fn_tt_tt_1 | 28                   | Russian  | Russia  | Not Rated      | 7e+06   | 2013       | 4                      | 6.7        | 1.66         | 1000\n",
              " Black and White | Alex Garland   | 489                    | 108      | 232                     | 123                    | Sonoya Mizuno | 149                    | 2.5441e+07 | Drama|Mystery|Sci-Fi|Thriller | Elina Alminas    | Ex Machina        | 289508          | 430                       | Corey Johnson      | 0                    | artificial intelligence|robot|robot human relationship|t ... | http://www.imdb.com/title/tt0470752/?ref_=fn_tt_tt_1 | 611                  | English  | UK      | R              | 1.5e+07 | 2015       | 145                    | 7.7        | 2.35         | 109000"
            ],
            "text/html": [
              "<table border=\"1\" class=\"dataframe\">\n",
              "    <thead>\n",
              "        <tr>\n",
              "            <th>color</th> <th>director_name</th> <th>num_critic_for_reviews</th> <th>duration</th> <th>director_facebook_likes</th> <th>actor_3_facebook_likes</th> <th>actor_2_name</th> <th>actor_1_facebook_likes</th> <th>gross</th> <th>genres</th> <th>actor_1_name</th> <th>movie_title</th> <th>num_voted_users</th> <th>cast_total_facebook_likes</th> <th>actor_3_name</th> <th>facenumber_in_poster</th> <th>plot_keywords</th> <th>movie_imdb_link</th> <th>num_user_for_reviews</th> <th>language</th> <th>country</th> <th>content_rating</th> <th>budget</th> <th>title_year</th> <th>actor_2_facebook_likes</th> <th>imdb_score</th> <th>aspect_ratio</th> <th>movie_facebook_likes</th>\n",
              "        </tr>\n",
              "    </thead>\n",
              "    <tbody>\n",
              "        <tr>\n",
              "            <td> Black and White</td> <td>Akira Kurosawa</td> <td>153                   </td> <td>202     </td> <td>0                      </td> <td>4                     </td> <td>Minoru Chiaki</td> <td>304                   </td> <td>269061    </td> <td>Action|Adventure|Drama       </td> <td>Takashi Shimura </td> <td>Seven Samurai    </td> <td>229012         </td> <td>338                      </td> <td>Kamatari Fujiwara </td> <td>6                   </td> <td>16th century|battle|japan|practice|samurai                  </td> <td>http://www.imdb.com/title/tt0047478/?ref_=fn_tt_tt_1</td> <td>596                 </td> <td>Japanese</td> <td>Japan  </td> <td>Unrated       </td> <td>2e+06  </td> <td>1954      </td> <td>8                     </td> <td>8.7       </td> <td>1.37        </td> <td>11000               </td>\n",
              "        </tr>\n",
              "        <tr>\n",
              "            <td> Black and White</td> <td>Aleksey German</td> <td>121                   </td> <td>177     </td> <td>23                     </td> <td>0                     </td> <td>Yuriy Tsurilo</td> <td>4                     </td> <td>nan       </td> <td>Drama|Sci-Fi                 </td> <td>Leonid Yarmolnik</td> <td>Hard to Be a God </td> <td>2518           </td> <td>8                        </td> <td>Valentin Golubenko</td> <td>0                   </td> <td>fictional war|hanging|male full frontal nudity|medieval  ...</td> <td>http://www.imdb.com/title/tt2328813/?ref_=fn_tt_tt_1</td> <td>28                  </td> <td>Russian </td> <td>Russia </td> <td>Not Rated     </td> <td>7e+06  </td> <td>2013      </td> <td>4                     </td> <td>6.7       </td> <td>1.66        </td> <td>1000                </td>\n",
              "        </tr>\n",
              "        <tr>\n",
              "            <td> Black and White</td> <td>Alex Garland  </td> <td>489                   </td> <td>108     </td> <td>232                    </td> <td>123                   </td> <td>Sonoya Mizuno</td> <td>149                   </td> <td>2.5441e+07</td> <td>Drama|Mystery|Sci-Fi|Thriller</td> <td>Elina Alminas   </td> <td>Ex Machina       </td> <td>289508         </td> <td>430                      </td> <td>Corey Johnson     </td> <td>0                   </td> <td>artificial intelligence|robot|robot human relationship|t ...</td> <td>http://www.imdb.com/title/tt0470752/?ref_=fn_tt_tt_1</td> <td>611                 </td> <td>English </td> <td>UK     </td> <td>R             </td> <td>1.5e+07</td> <td>2015      </td> <td>145                   </td> <td>7.7       </td> <td>2.35        </td> <td>109000              </td>\n",
              "        </tr>\n",
              "    </tbody>\n",
              "</table>"
            ]
          },
          "metadata": {},
          "execution_count": 14
        }
      ],
      "source": [
        "movies.take(np.arange(3, 6))"
      ]
    },
    {
      "cell_type": "markdown",
      "metadata": {
        "id": "evceTpdyUFLC"
      },
      "source": [
        "If we want a table of the five movies with the highest IMDB scores, we can first sort the list by `imdb_score` and then `take` the first five rows:"
      ]
    },
    {
      "cell_type": "code",
      "execution_count": null,
      "metadata": {
        "id": "QgM769gdUFLD",
        "colab": {
          "base_uri": "https://localhost:8080/",
          "height": 382
        },
        "outputId": "5a0ba05f-11ad-470f-8a8d-525149ce5bcb"
      },
      "outputs": [
        {
          "output_type": "execute_result",
          "data": {
            "text/plain": [
              "color | director_name        | num_critic_for_reviews | duration | director_facebook_likes | actor_3_facebook_likes | actor_2_name    | actor_1_facebook_likes | gross       | genres      | actor_1_name   | movie_title                   | num_voted_users | cast_total_facebook_likes | actor_3_name        | facenumber_in_poster | plot_keywords                                                | movie_imdb_link                                      | num_user_for_reviews | language | country | content_rating | budget  | title_year | actor_2_facebook_likes | imdb_score | aspect_ratio | movie_facebook_likes\n",
              "Color | John Blanchard       | nan                    | 65       | 0                       | 176                    | Andrea Martin   | 770                    | nan         | Comedy      | Martin Short   | Towering Inferno              | 10              | 1125                      | Joe Flaherty        | 2                    | nan                                                          | http://www.imdb.com/title/tt0691996/?ref_=fn_tt_tt_1 | nan                  | English  | Canada  | nan            | nan     | nan        | 179                    | 9.5        | 1.33         | 0\n",
              "Color | Frank Darabont       | 199                    | 142      | 0                       | 461                    | Jeffrey DeMunn  | 11000                  | 2.83415e+07 | Crime|Drama | Morgan Freeman | The Shawshank Redemption      | 1689764         | 13495                     | Bob Gunton          | 0                    | escape from prison|first person narration|prison|prison  ... | http://www.imdb.com/title/tt0111161/?ref_=fn_tt_tt_1 | 4144                 | English  | USA     | R              | 2.5e+07 | 1994       | 745                    | 9.3        | 1.85         | 108000\n",
              "Color | Francis Ford Coppola | 208                    | 175      | 0                       | 3000                   | Marlon Brando   | 14000                  | 1.34822e+08 | Crime|Drama | Al Pacino      | The Godfather                 | 1155770         | 28122                     | Robert Duvall       | 1                    | crime family|mafia|organized crime|patriarch|rise to power   | http://www.imdb.com/title/tt0068646/?ref_=fn_tt_tt_1 | 2238                 | English  | USA     | R              | 6e+06   | 1972       | 10000                  | 9.2        | 1.85         | 43000\n",
              "nan   | John Stockwell       | 2                      | 90       | 134                     | 354                    | T.J. Storm      | 260000                 | nan         | Action      | Matthew Ziff   | Kickboxer: Vengeance          | 246             | 261818                    | Sam Medina          | 5                    | nan                                                          | http://www.imdb.com/title/tt3082898/?ref_=fn_tt_tt_1 | 1                    | nan      | USA     | nan            | 1.7e+07 | 2016       | 454                    | 9.1        | nan          | 0\n",
              "Color | nan                  | 53                     | 55       | nan                     | 2                      | Olaf Lubaszenko | 20                     | 447093      | Drama       | Krystyna Janda | Dekalog                       | 12590           | 25                        | Olgierd Lukaszewicz | 0                    | meaning of life|moral challenge|morality|search for mean ... | http://www.imdb.com/title/tt0092337/?ref_=fn_tt_tt_1 | 37                   | Polish   | Poland  | TV-MA          | nan     | nan        | 3                      | 9.1        | 1.33         | 0"
            ],
            "text/html": [
              "<table border=\"1\" class=\"dataframe\">\n",
              "    <thead>\n",
              "        <tr>\n",
              "            <th>color</th> <th>director_name</th> <th>num_critic_for_reviews</th> <th>duration</th> <th>director_facebook_likes</th> <th>actor_3_facebook_likes</th> <th>actor_2_name</th> <th>actor_1_facebook_likes</th> <th>gross</th> <th>genres</th> <th>actor_1_name</th> <th>movie_title</th> <th>num_voted_users</th> <th>cast_total_facebook_likes</th> <th>actor_3_name</th> <th>facenumber_in_poster</th> <th>plot_keywords</th> <th>movie_imdb_link</th> <th>num_user_for_reviews</th> <th>language</th> <th>country</th> <th>content_rating</th> <th>budget</th> <th>title_year</th> <th>actor_2_facebook_likes</th> <th>imdb_score</th> <th>aspect_ratio</th> <th>movie_facebook_likes</th>\n",
              "        </tr>\n",
              "    </thead>\n",
              "    <tbody>\n",
              "        <tr>\n",
              "            <td>Color</td> <td>John Blanchard      </td> <td>nan                   </td> <td>65      </td> <td>0                      </td> <td>176                   </td> <td>Andrea Martin  </td> <td>770                   </td> <td>nan        </td> <td>Comedy     </td> <td>Martin Short  </td> <td>Towering Inferno             </td> <td>10             </td> <td>1125                     </td> <td>Joe Flaherty       </td> <td>2                   </td> <td>nan                                                         </td> <td>http://www.imdb.com/title/tt0691996/?ref_=fn_tt_tt_1</td> <td>nan                 </td> <td>English </td> <td>Canada </td> <td>nan           </td> <td>nan    </td> <td>nan       </td> <td>179                   </td> <td>9.5       </td> <td>1.33        </td> <td>0                   </td>\n",
              "        </tr>\n",
              "        <tr>\n",
              "            <td>Color</td> <td>Frank Darabont      </td> <td>199                   </td> <td>142     </td> <td>0                      </td> <td>461                   </td> <td>Jeffrey DeMunn </td> <td>11000                 </td> <td>2.83415e+07</td> <td>Crime|Drama</td> <td>Morgan Freeman</td> <td>The Shawshank Redemption     </td> <td>1689764        </td> <td>13495                    </td> <td>Bob Gunton         </td> <td>0                   </td> <td>escape from prison|first person narration|prison|prison  ...</td> <td>http://www.imdb.com/title/tt0111161/?ref_=fn_tt_tt_1</td> <td>4144                </td> <td>English </td> <td>USA    </td> <td>R             </td> <td>2.5e+07</td> <td>1994      </td> <td>745                   </td> <td>9.3       </td> <td>1.85        </td> <td>108000              </td>\n",
              "        </tr>\n",
              "        <tr>\n",
              "            <td>Color</td> <td>Francis Ford Coppola</td> <td>208                   </td> <td>175     </td> <td>0                      </td> <td>3000                  </td> <td>Marlon Brando  </td> <td>14000                 </td> <td>1.34822e+08</td> <td>Crime|Drama</td> <td>Al Pacino     </td> <td>The Godfather                </td> <td>1155770        </td> <td>28122                    </td> <td>Robert Duvall      </td> <td>1                   </td> <td>crime family|mafia|organized crime|patriarch|rise to power  </td> <td>http://www.imdb.com/title/tt0068646/?ref_=fn_tt_tt_1</td> <td>2238                </td> <td>English </td> <td>USA    </td> <td>R             </td> <td>6e+06  </td> <td>1972      </td> <td>10000                 </td> <td>9.2       </td> <td>1.85        </td> <td>43000               </td>\n",
              "        </tr>\n",
              "        <tr>\n",
              "            <td>nan  </td> <td>John Stockwell      </td> <td>2                     </td> <td>90      </td> <td>134                    </td> <td>354                   </td> <td>T.J. Storm     </td> <td>260000                </td> <td>nan        </td> <td>Action     </td> <td>Matthew Ziff  </td> <td>Kickboxer: Vengeance         </td> <td>246            </td> <td>261818                   </td> <td>Sam Medina         </td> <td>5                   </td> <td>nan                                                         </td> <td>http://www.imdb.com/title/tt3082898/?ref_=fn_tt_tt_1</td> <td>1                   </td> <td>nan     </td> <td>USA    </td> <td>nan           </td> <td>1.7e+07</td> <td>2016      </td> <td>454                   </td> <td>9.1       </td> <td>nan         </td> <td>0                   </td>\n",
              "        </tr>\n",
              "        <tr>\n",
              "            <td>Color</td> <td>nan                 </td> <td>53                    </td> <td>55      </td> <td>nan                    </td> <td>2                     </td> <td>Olaf Lubaszenko</td> <td>20                    </td> <td>447093     </td> <td>Drama      </td> <td>Krystyna Janda</td> <td>Dekalog                      </td> <td>12590          </td> <td>25                       </td> <td>Olgierd Lukaszewicz</td> <td>0                   </td> <td>meaning of life|moral challenge|morality|search for mean ...</td> <td>http://www.imdb.com/title/tt0092337/?ref_=fn_tt_tt_1</td> <td>37                  </td> <td>Polish  </td> <td>Poland </td> <td>TV-MA         </td> <td>nan    </td> <td>nan       </td> <td>3                     </td> <td>9.1       </td> <td>1.33        </td> <td>0                   </td>\n",
              "        </tr>\n",
              "    </tbody>\n",
              "</table>"
            ]
          },
          "metadata": {},
          "execution_count": 15
        }
      ],
      "source": [
        "movies.sort('imdb_score', descending=True).take(np.arange(5))"
      ]
    },
    {
      "cell_type": "markdown",
      "source": [
        "Let's create another, cleaner table with only two columns, `movie_title` and `imdb_score`."
      ],
      "metadata": {
        "id": "LC29JVy_Ynaz"
      }
    },
    {
      "cell_type": "code",
      "source": [
        "title_score = movies.select('movie_title','imdb_score')\n",
        "title_score"
      ],
      "metadata": {
        "id": "JGDv3qErYugW",
        "colab": {
          "base_uri": "https://localhost:8080/",
          "height": 392
        },
        "outputId": "4d033822-902e-48d2-e170-4baefbaab850"
      },
      "execution_count": null,
      "outputs": [
        {
          "output_type": "execute_result",
          "data": {
            "text/plain": [
              "movie_title                   | imdb_score\n",
              "The Honeymooners              | 8.7\n",
              "Bewitched                     | 7.6\n",
              "McHale's Navy                 | 7.5\n",
              "Seven Samurai                 | 8.7\n",
              "Hard to Be a God              | 6.7\n",
              "Ex Machina                    | 7.7\n",
              "Nebraska                      | 7.8\n",
              "Rebecca                       | 8.2\n",
              "Psycho                        | 8.5\n",
              "Sands of Iwo Jima             | 7.2\n",
              "... (4987 rows omitted)"
            ],
            "text/html": [
              "<table border=\"1\" class=\"dataframe\">\n",
              "    <thead>\n",
              "        <tr>\n",
              "            <th>movie_title</th> <th>imdb_score</th>\n",
              "        </tr>\n",
              "    </thead>\n",
              "    <tbody>\n",
              "        <tr>\n",
              "            <td>The Honeymooners             </td> <td>8.7       </td>\n",
              "        </tr>\n",
              "        <tr>\n",
              "            <td>Bewitched                    </td> <td>7.6       </td>\n",
              "        </tr>\n",
              "        <tr>\n",
              "            <td>McHale's Navy                </td> <td>7.5       </td>\n",
              "        </tr>\n",
              "        <tr>\n",
              "            <td>Seven Samurai                </td> <td>8.7       </td>\n",
              "        </tr>\n",
              "        <tr>\n",
              "            <td>Hard to Be a God             </td> <td>6.7       </td>\n",
              "        </tr>\n",
              "        <tr>\n",
              "            <td>Ex Machina                   </td> <td>7.7       </td>\n",
              "        </tr>\n",
              "        <tr>\n",
              "            <td>Nebraska                     </td> <td>7.8       </td>\n",
              "        </tr>\n",
              "        <tr>\n",
              "            <td>Rebecca                      </td> <td>8.2       </td>\n",
              "        </tr>\n",
              "        <tr>\n",
              "            <td>Psycho                       </td> <td>8.5       </td>\n",
              "        </tr>\n",
              "        <tr>\n",
              "            <td>Sands of Iwo Jima            </td> <td>7.2       </td>\n",
              "        </tr>\n",
              "    </tbody>\n",
              "</table>\n",
              "<p>... (4987 rows omitted)</p>"
            ]
          },
          "metadata": {},
          "execution_count": 16
        }
      ]
    },
    {
      "cell_type": "markdown",
      "metadata": {
        "id": "86jB9r0oUFLD"
      },
      "source": [
        "### Rows Corresponding to a Specified Feature\n",
        "More often, we will want to access data in a set of rows that have a certain feature, but whose indices we do not know ahead of time. For example, we might want data on all the movies with `imdb_score` above 8.0, but we do not want to spend time counting rows in the sorted table.\n",
        "\n",
        "The method `where` does the job for us. Its output is a table with the same columns as the original but only the rows *where* the feature occurs.\n",
        "\n",
        "The first argument of `where` is the label of the column that contains the information about whether or not a row has the feature we want. If the feature is \"imdb_score above 8.0\", the column is `imdb_score`.\n",
        "\n",
        "The second argument of `where` is a way of specifying the feature. A couple of examples will make the general method of specification easier to understand.\n",
        "\n",
        "In the first example, we extract the data for all those movies with `imdb_score` above 8.0.\n"
      ]
    },
    {
      "cell_type": "code",
      "execution_count": null,
      "metadata": {
        "id": "2QlBL0c8UFLE",
        "outputId": "ce5d1648-4f1d-469b-f8db-3f8f40b7837e",
        "colab": {
          "base_uri": "https://localhost:8080/",
          "height": 392
        }
      },
      "outputs": [
        {
          "output_type": "execute_result",
          "data": {
            "text/plain": [
              "movie_title                   | imdb_score\n",
              "The Honeymooners              | 8.7\n",
              "Seven Samurai                 | 8.7\n",
              "Rebecca                       | 8.2\n",
              "Psycho                        | 8.5\n",
              "Solaris                       | 8.1\n",
              "Some Like It Hot              | 8.3\n",
              "The Apartment                 | 8.3\n",
              "Ordet                         | 8.1\n",
              "Modern Times                  | 8.6\n",
              "Memento                       | 8.5\n",
              "... (239 rows omitted)"
            ],
            "text/html": [
              "<table border=\"1\" class=\"dataframe\">\n",
              "    <thead>\n",
              "        <tr>\n",
              "            <th>movie_title</th> <th>imdb_score</th>\n",
              "        </tr>\n",
              "    </thead>\n",
              "    <tbody>\n",
              "        <tr>\n",
              "            <td>The Honeymooners             </td> <td>8.7       </td>\n",
              "        </tr>\n",
              "        <tr>\n",
              "            <td>Seven Samurai                </td> <td>8.7       </td>\n",
              "        </tr>\n",
              "        <tr>\n",
              "            <td>Rebecca                      </td> <td>8.2       </td>\n",
              "        </tr>\n",
              "        <tr>\n",
              "            <td>Psycho                       </td> <td>8.5       </td>\n",
              "        </tr>\n",
              "        <tr>\n",
              "            <td>Solaris                      </td> <td>8.1       </td>\n",
              "        </tr>\n",
              "        <tr>\n",
              "            <td>Some Like It Hot             </td> <td>8.3       </td>\n",
              "        </tr>\n",
              "        <tr>\n",
              "            <td>The Apartment                </td> <td>8.3       </td>\n",
              "        </tr>\n",
              "        <tr>\n",
              "            <td>Ordet                        </td> <td>8.1       </td>\n",
              "        </tr>\n",
              "        <tr>\n",
              "            <td>Modern Times                 </td> <td>8.6       </td>\n",
              "        </tr>\n",
              "        <tr>\n",
              "            <td>Memento                      </td> <td>8.5       </td>\n",
              "        </tr>\n",
              "    </tbody>\n",
              "</table>\n",
              "<p>... (239 rows omitted)</p>"
            ]
          },
          "metadata": {},
          "execution_count": 17
        }
      ],
      "source": [
        "above8 = title_score.where('imdb_score', are.above(8.0))\n",
        "above8"
      ]
    },
    {
      "cell_type": "markdown",
      "metadata": {
        "id": "SK3yQAKpUFLE"
      },
      "source": [
        "The use of the argument `are.above(8.0)` ensured that each selected row had a value of `imdb_score` that was greater than 8.0. Let's check how many rows are in the new table `above8`."
      ]
    },
    {
      "cell_type": "code",
      "source": [
        "above8.num_rows"
      ],
      "metadata": {
        "id": "wMMzkw1LZsCz",
        "colab": {
          "base_uri": "https://localhost:8080/"
        },
        "outputId": "a366f28c-f06d-4a53-a815-4b1f309a5ded"
      },
      "execution_count": null,
      "outputs": [
        {
          "output_type": "execute_result",
          "data": {
            "text/plain": [
              "249"
            ]
          },
          "metadata": {},
          "execution_count": 18
        }
      ]
    },
    {
      "cell_type": "markdown",
      "metadata": {
        "id": "cMIjbptFUFLF"
      },
      "source": [
        "What if we want to know all the movies with the imdb_score equal to 8.1? For the answer, we have to access the rows where the value of `imdb_score` is equal to `8.1`."
      ]
    },
    {
      "cell_type": "code",
      "execution_count": null,
      "metadata": {
        "id": "spYtU7jKUFLF",
        "colab": {
          "base_uri": "https://localhost:8080/",
          "height": 392
        },
        "outputId": "c7eae77e-a442-4b38-8f90-94762e44502b"
      },
      "outputs": [
        {
          "output_type": "execute_result",
          "data": {
            "text/plain": [
              "movie_title                       | imdb_score\n",
              "Solaris                           | 8.1\n",
              "Ordet                             | 8.1\n",
              "In the Shadow of the Moon         | 8.1\n",
              "Sin City                          | 8.1\n",
              "High Noon                         | 8.1\n",
              "The Man Who Shot Liberty Valance  | 8.1\n",
              "Nothing But a Man                 | 8.1\n",
              "Kill Bill: Vol. 1                 | 8.1\n",
              "Gandhi                            | 8.1\n",
              "The Wizard of Oz                  | 8.1\n",
              "... (58 rows omitted)"
            ],
            "text/html": [
              "<table border=\"1\" class=\"dataframe\">\n",
              "    <thead>\n",
              "        <tr>\n",
              "            <th>movie_title</th> <th>imdb_score</th>\n",
              "        </tr>\n",
              "    </thead>\n",
              "    <tbody>\n",
              "        <tr>\n",
              "            <td>Solaris                          </td> <td>8.1       </td>\n",
              "        </tr>\n",
              "        <tr>\n",
              "            <td>Ordet                            </td> <td>8.1       </td>\n",
              "        </tr>\n",
              "        <tr>\n",
              "            <td>In the Shadow of the Moon        </td> <td>8.1       </td>\n",
              "        </tr>\n",
              "        <tr>\n",
              "            <td>Sin City                         </td> <td>8.1       </td>\n",
              "        </tr>\n",
              "        <tr>\n",
              "            <td>High Noon                        </td> <td>8.1       </td>\n",
              "        </tr>\n",
              "        <tr>\n",
              "            <td>The Man Who Shot Liberty Valance </td> <td>8.1       </td>\n",
              "        </tr>\n",
              "        <tr>\n",
              "            <td>Nothing But a Man                </td> <td>8.1       </td>\n",
              "        </tr>\n",
              "        <tr>\n",
              "            <td>Kill Bill: Vol. 1                </td> <td>8.1       </td>\n",
              "        </tr>\n",
              "        <tr>\n",
              "            <td>Gandhi                           </td> <td>8.1       </td>\n",
              "        </tr>\n",
              "        <tr>\n",
              "            <td>The Wizard of Oz                 </td> <td>8.1       </td>\n",
              "        </tr>\n",
              "    </tbody>\n",
              "</table>\n",
              "<p>... (58 rows omitted)</p>"
            ]
          },
          "metadata": {},
          "execution_count": 19
        }
      ],
      "source": [
        "title_score.where('imdb_score', are.equal_to(8.1))"
      ]
    },
    {
      "cell_type": "markdown",
      "metadata": {
        "id": "8wsOcgRfUFLG"
      },
      "source": [
        "To ensure that all rows are shown, not just the first 10 rows, we can use `.show()` at the end of the line.\n"
      ]
    },
    {
      "cell_type": "code",
      "source": [
        "title_score.where('imdb_score', are.equal_to(8.1)).show()"
      ],
      "metadata": {
        "id": "0hjI-toRcaMR",
        "colab": {
          "base_uri": "https://localhost:8080/",
          "height": 1000
        },
        "outputId": "577d8cab-b721-46b1-e644-45d6fa872335"
      },
      "execution_count": null,
      "outputs": [
        {
          "output_type": "display_data",
          "data": {
            "text/plain": [
              "<IPython.core.display.HTML object>"
            ],
            "text/html": [
              "<table border=\"1\" class=\"dataframe\">\n",
              "    <thead>\n",
              "        <tr>\n",
              "            <th>movie_title</th> <th>imdb_score</th>\n",
              "        </tr>\n",
              "    </thead>\n",
              "    <tbody>\n",
              "        <tr>\n",
              "            <td>Solaris                                                </td> <td>8.1       </td>\n",
              "        </tr>\n",
              "        <tr>\n",
              "            <td>Ordet                                                  </td> <td>8.1       </td>\n",
              "        </tr>\n",
              "        <tr>\n",
              "            <td>In the Shadow of the Moon                              </td> <td>8.1       </td>\n",
              "        </tr>\n",
              "        <tr>\n",
              "            <td>Sin City                                               </td> <td>8.1       </td>\n",
              "        </tr>\n",
              "        <tr>\n",
              "            <td>High Noon                                              </td> <td>8.1       </td>\n",
              "        </tr>\n",
              "        <tr>\n",
              "            <td>The Man Who Shot Liberty Valance                       </td> <td>8.1       </td>\n",
              "        </tr>\n",
              "        <tr>\n",
              "            <td>Nothing But a Man                                      </td> <td>8.1       </td>\n",
              "        </tr>\n",
              "        <tr>\n",
              "            <td>Kill Bill: Vol. 1                                      </td> <td>8.1       </td>\n",
              "        </tr>\n",
              "        <tr>\n",
              "            <td>Gandhi                                                 </td> <td>8.1       </td>\n",
              "        </tr>\n",
              "        <tr>\n",
              "            <td>The Wizard of Oz                                       </td> <td>8.1       </td>\n",
              "        </tr>\n",
              "        <tr>\n",
              "            <td>The Best Years of Our Lives                            </td> <td>8.1       </td>\n",
              "        </tr>\n",
              "        <tr>\n",
              "            <td>The Missing                                            </td> <td>8.1       </td>\n",
              "        </tr>\n",
              "        <tr>\n",
              "            <td>Lilyhammer                                             </td> <td>8.1       </td>\n",
              "        </tr>\n",
              "        <tr>\n",
              "            <td>Strangers with Candy                                   </td> <td>8.1       </td>\n",
              "        </tr>\n",
              "        <tr>\n",
              "            <td>Animal Kingdom                                         </td> <td>8.1       </td>\n",
              "        </tr>\n",
              "        <tr>\n",
              "            <td>The Sea Inside                                         </td> <td>8.1       </td>\n",
              "        </tr>\n",
              "        <tr>\n",
              "            <td>Amores Perros                                          </td> <td>8.1       </td>\n",
              "        </tr>\n",
              "        <tr>\n",
              "            <td>The Revenant                                           </td> <td>8.1       </td>\n",
              "        </tr>\n",
              "        <tr>\n",
              "            <td>The Conformist                                         </td> <td>8.1       </td>\n",
              "        </tr>\n",
              "        <tr>\n",
              "            <td>A Christmas Story                                      </td> <td>8.1       </td>\n",
              "        </tr>\n",
              "        <tr>\n",
              "            <td>Million Dollar Baby                                    </td> <td>8.1       </td>\n",
              "        </tr>\n",
              "        <tr>\n",
              "            <td>Gone Girl                                              </td> <td>8.1       </td>\n",
              "        </tr>\n",
              "        <tr>\n",
              "            <td>Prisoners                                              </td> <td>8.1       </td>\n",
              "        </tr>\n",
              "        <tr>\n",
              "            <td>No Country for Old Men                                 </td> <td>8.1       </td>\n",
              "        </tr>\n",
              "        <tr>\n",
              "            <td>Mad Max: Fury Road                                     </td> <td>8.1       </td>\n",
              "        </tr>\n",
              "        <tr>\n",
              "            <td>Butch Cassidy and the Sundance Kid                     </td> <td>8.1       </td>\n",
              "        </tr>\n",
              "        <tr>\n",
              "            <td>Pirates of the Caribbean: The Curse of the Black Pearl </td> <td>8.1       </td>\n",
              "        </tr>\n",
              "        <tr>\n",
              "            <td>Groundhog Day                                          </td> <td>8.1       </td>\n",
              "        </tr>\n",
              "        <tr>\n",
              "            <td>The Terminator                                         </td> <td>8.1       </td>\n",
              "        </tr>\n",
              "        <tr>\n",
              "            <td>Guardians of the Galaxy                                </td> <td>8.1       </td>\n",
              "        </tr>\n",
              "        <tr>\n",
              "            <td>Tae Guk Gi: The Brotherhood of War                     </td> <td>8.1       </td>\n",
              "        </tr>\n",
              "        <tr>\n",
              "            <td>The Square                                             </td> <td>8.1       </td>\n",
              "        </tr>\n",
              "        <tr>\n",
              "            <td>Rocky                                                  </td> <td>8.1       </td>\n",
              "        </tr>\n",
              "        <tr>\n",
              "            <td>Elite Squad                                            </td> <td>8.1       </td>\n",
              "        </tr>\n",
              "        <tr>\n",
              "            <td>Destiny                                                </td> <td>8.1       </td>\n",
              "        </tr>\n",
              "        <tr>\n",
              "            <td>The Avengers                                           </td> <td>8.1       </td>\n",
              "        </tr>\n",
              "        <tr>\n",
              "            <td>Akira                                                  </td> <td>8.1       </td>\n",
              "        </tr>\n",
              "        <tr>\n",
              "            <td>Touching the Void                                      </td> <td>8.1       </td>\n",
              "        </tr>\n",
              "        <tr>\n",
              "            <td>Hachi: A Dog's Tale                                    </td> <td>8.1       </td>\n",
              "        </tr>\n",
              "        <tr>\n",
              "            <td>The Sixth Sense                                        </td> <td>8.1       </td>\n",
              "        </tr>\n",
              "        <tr>\n",
              "            <td>Shutter Island                                         </td> <td>8.1       </td>\n",
              "        </tr>\n",
              "        <tr>\n",
              "            <td>Woodstock                                              </td> <td>8.1       </td>\n",
              "        </tr>\n",
              "        <tr>\n",
              "            <td>The Imitation Game                                     </td> <td>8.1       </td>\n",
              "        </tr>\n",
              "        <tr>\n",
              "            <td>Del 1 - Män som hatar kvinnor                          </td> <td>8.1       </td>\n",
              "        </tr>\n",
              "        <tr>\n",
              "            <td>Platoon                                                </td> <td>8.1       </td>\n",
              "        </tr>\n",
              "        <tr>\n",
              "            <td>The Bourne Ultimatum                                   </td> <td>8.1       </td>\n",
              "        </tr>\n",
              "        <tr>\n",
              "            <td>There Will Be Blood                                    </td> <td>8.1       </td>\n",
              "        </tr>\n",
              "        <tr>\n",
              "            <td>Monsters, Inc.                                         </td> <td>8.1       </td>\n",
              "        </tr>\n",
              "        <tr>\n",
              "            <td>The Truman Show                                        </td> <td>8.1       </td>\n",
              "        </tr>\n",
              "        <tr>\n",
              "            <td>Cat on a Hot Tin Roof                                  </td> <td>8.1       </td>\n",
              "        </tr>\n",
              "        <tr>\n",
              "            <td>Donnie Darko                                           </td> <td>8.1       </td>\n",
              "        </tr>\n",
              "        <tr>\n",
              "            <td>Before Sunrise                                         </td> <td>8.1       </td>\n",
              "        </tr>\n",
              "        <tr>\n",
              "            <td>The Martian                                            </td> <td>8.1       </td>\n",
              "        </tr>\n",
              "        <tr>\n",
              "            <td>The Princess Bride                                     </td> <td>8.1       </td>\n",
              "        </tr>\n",
              "        <tr>\n",
              "            <td>Stand by Me                                            </td> <td>8.1       </td>\n",
              "        </tr>\n",
              "        <tr>\n",
              "            <td>Rush                                                   </td> <td>8.1       </td>\n",
              "        </tr>\n",
              "        <tr>\n",
              "            <td>Archaeology of a Woman                                 </td> <td>8.1       </td>\n",
              "        </tr>\n",
              "        <tr>\n",
              "            <td>Network                                                </td> <td>8.1       </td>\n",
              "        </tr>\n",
              "        <tr>\n",
              "            <td>Barry Lyndon                                           </td> <td>8.1       </td>\n",
              "        </tr>\n",
              "        <tr>\n",
              "            <td>12 Years a Slave                                       </td> <td>8.1       </td>\n",
              "        </tr>\n",
              "        <tr>\n",
              "            <td>Jurassic Park                                          </td> <td>8.1       </td>\n",
              "        </tr>\n",
              "        <tr>\n",
              "            <td>The Help                                               </td> <td>8.1       </td>\n",
              "        </tr>\n",
              "        <tr>\n",
              "            <td>Hotel Rwanda                                           </td> <td>8.1       </td>\n",
              "        </tr>\n",
              "        <tr>\n",
              "            <td>The Celebration                                        </td> <td>8.1       </td>\n",
              "        </tr>\n",
              "        <tr>\n",
              "            <td>Deadpool                                               </td> <td>8.1       </td>\n",
              "        </tr>\n",
              "        <tr>\n",
              "            <td>Spotlight                                              </td> <td>8.1       </td>\n",
              "        </tr>\n",
              "        <tr>\n",
              "            <td>The Grand Budapest Hotel                               </td> <td>8.1       </td>\n",
              "        </tr>\n",
              "        <tr>\n",
              "            <td>Annie Hall                                             </td> <td>8.1       </td>\n",
              "        </tr>\n",
              "    </tbody>\n",
              "</table>"
            ]
          },
          "metadata": {}
        }
      ]
    },
    {
      "cell_type": "markdown",
      "metadata": {
        "id": "Lv-46NWmcXKG"
      },
      "source": [
        "It is so common to ask for the rows for which some column is equal to some value that the `are.equal_to` call is optional. Instead, the `where` method can be called with only a column name and a value to achieve the same effect."
      ]
    },
    {
      "cell_type": "code",
      "execution_count": null,
      "metadata": {
        "id": "bWL1o6H9UFLG",
        "colab": {
          "base_uri": "https://localhost:8080/",
          "height": 392
        },
        "outputId": "adfce37f-d187-487a-edc9-97fc22faf755"
      },
      "outputs": [
        {
          "output_type": "execute_result",
          "data": {
            "text/plain": [
              "movie_title                       | imdb_score\n",
              "Solaris                           | 8.1\n",
              "Ordet                             | 8.1\n",
              "In the Shadow of the Moon         | 8.1\n",
              "Sin City                          | 8.1\n",
              "High Noon                         | 8.1\n",
              "The Man Who Shot Liberty Valance  | 8.1\n",
              "Nothing But a Man                 | 8.1\n",
              "Kill Bill: Vol. 1                 | 8.1\n",
              "Gandhi                            | 8.1\n",
              "The Wizard of Oz                  | 8.1\n",
              "... (58 rows omitted)"
            ],
            "text/html": [
              "<table border=\"1\" class=\"dataframe\">\n",
              "    <thead>\n",
              "        <tr>\n",
              "            <th>movie_title</th> <th>imdb_score</th>\n",
              "        </tr>\n",
              "    </thead>\n",
              "    <tbody>\n",
              "        <tr>\n",
              "            <td>Solaris                          </td> <td>8.1       </td>\n",
              "        </tr>\n",
              "        <tr>\n",
              "            <td>Ordet                            </td> <td>8.1       </td>\n",
              "        </tr>\n",
              "        <tr>\n",
              "            <td>In the Shadow of the Moon        </td> <td>8.1       </td>\n",
              "        </tr>\n",
              "        <tr>\n",
              "            <td>Sin City                         </td> <td>8.1       </td>\n",
              "        </tr>\n",
              "        <tr>\n",
              "            <td>High Noon                        </td> <td>8.1       </td>\n",
              "        </tr>\n",
              "        <tr>\n",
              "            <td>The Man Who Shot Liberty Valance </td> <td>8.1       </td>\n",
              "        </tr>\n",
              "        <tr>\n",
              "            <td>Nothing But a Man                </td> <td>8.1       </td>\n",
              "        </tr>\n",
              "        <tr>\n",
              "            <td>Kill Bill: Vol. 1                </td> <td>8.1       </td>\n",
              "        </tr>\n",
              "        <tr>\n",
              "            <td>Gandhi                           </td> <td>8.1       </td>\n",
              "        </tr>\n",
              "        <tr>\n",
              "            <td>The Wizard of Oz                 </td> <td>8.1       </td>\n",
              "        </tr>\n",
              "    </tbody>\n",
              "</table>\n",
              "<p>... (58 rows omitted)</p>"
            ]
          },
          "metadata": {},
          "execution_count": 21
        }
      ],
      "source": [
        "title_score.where('imdb_score', 8.1) # equivalent to movies.where('imdb_score', are.equal_to(8.1))"
      ]
    },
    {
      "cell_type": "markdown",
      "metadata": {
        "id": "-uCiSJmCUFLH"
      },
      "source": [
        "### Multiple Features\n",
        "You can access rows that have multiple specified features, by using `where` repeatedly. For example, here is a way to extract all the movies with `imdb_score` 8.1 and `budget` above $\\$1$ million."
      ]
    },
    {
      "cell_type": "code",
      "execution_count": null,
      "metadata": {
        "id": "6vTN4X3mUFLH",
        "colab": {
          "base_uri": "https://localhost:8080/",
          "height": 392
        },
        "outputId": "eac2ec8e-ee80-4e67-db52-9f2aad0da519"
      },
      "outputs": [
        {
          "output_type": "execute_result",
          "data": {
            "text/plain": [
              "movie_title                       | imdb_score | budget\n",
              "In the Shadow of the Moon         | 8.1        | 2e+06\n",
              "Sin City                          | 8.1        | 4e+07\n",
              "The Man Who Shot Liberty Valance  | 8.1        | 3.2e+06\n",
              "Kill Bill: Vol. 1                 | 8.1        | 3e+07\n",
              "Gandhi                            | 8.1        | 2.2e+07\n",
              "The Wizard of Oz                  | 8.1        | 2.8e+06\n",
              "The Best Years of Our Lives       | 8.1        | 2.1e+06\n",
              "Lilyhammer                        | 8.1        | 3.4e+07\n",
              "The Sea Inside                    | 8.1        | 1e+07\n",
              "Amores Perros                     | 8.1        | 2e+06\n",
              "... (44 rows omitted)"
            ],
            "text/html": [
              "<table border=\"1\" class=\"dataframe\">\n",
              "    <thead>\n",
              "        <tr>\n",
              "            <th>movie_title</th> <th>imdb_score</th> <th>budget</th>\n",
              "        </tr>\n",
              "    </thead>\n",
              "    <tbody>\n",
              "        <tr>\n",
              "            <td>In the Shadow of the Moon        </td> <td>8.1       </td> <td>2e+06  </td>\n",
              "        </tr>\n",
              "        <tr>\n",
              "            <td>Sin City                         </td> <td>8.1       </td> <td>4e+07  </td>\n",
              "        </tr>\n",
              "        <tr>\n",
              "            <td>The Man Who Shot Liberty Valance </td> <td>8.1       </td> <td>3.2e+06</td>\n",
              "        </tr>\n",
              "        <tr>\n",
              "            <td>Kill Bill: Vol. 1                </td> <td>8.1       </td> <td>3e+07  </td>\n",
              "        </tr>\n",
              "        <tr>\n",
              "            <td>Gandhi                           </td> <td>8.1       </td> <td>2.2e+07</td>\n",
              "        </tr>\n",
              "        <tr>\n",
              "            <td>The Wizard of Oz                 </td> <td>8.1       </td> <td>2.8e+06</td>\n",
              "        </tr>\n",
              "        <tr>\n",
              "            <td>The Best Years of Our Lives      </td> <td>8.1       </td> <td>2.1e+06</td>\n",
              "        </tr>\n",
              "        <tr>\n",
              "            <td>Lilyhammer                       </td> <td>8.1       </td> <td>3.4e+07</td>\n",
              "        </tr>\n",
              "        <tr>\n",
              "            <td>The Sea Inside                   </td> <td>8.1       </td> <td>1e+07  </td>\n",
              "        </tr>\n",
              "        <tr>\n",
              "            <td>Amores Perros                    </td> <td>8.1       </td> <td>2e+06  </td>\n",
              "        </tr>\n",
              "    </tbody>\n",
              "</table>\n",
              "<p>... (44 rows omitted)</p>"
            ]
          },
          "metadata": {},
          "execution_count": 32
        }
      ],
      "source": [
        "movies.where('imdb_score', 8.1).where('budget', are.above(1000000)).select('movie_title','imdb_score','budget')"
      ]
    },
    {
      "cell_type": "markdown",
      "metadata": {
        "id": "D7BBSWWiUFLH"
      },
      "source": [
        "### General Form for Selecting Rows from a Table\n",
        "By now, you may have realized that the general way to create a new table by selecting rows with a given feature is to use `where` and `are` with the appropriate condition:\n",
        "\n",
        "`original_table_name.where(column_label_string, are.condition)`"
      ]
    },
    {
      "cell_type": "code",
      "execution_count": null,
      "metadata": {
        "id": "pIKwNpWOUFLH",
        "colab": {
          "base_uri": "https://localhost:8080/",
          "height": 392
        },
        "outputId": "82599cef-39e0-4e08-c950-1e400aa7bdb0"
      },
      "outputs": [
        {
          "output_type": "execute_result",
          "data": {
            "text/plain": [
              "movie_title                                       | imdb_score\n",
              "Rebecca                                           | 8.2\n",
              "Solaris                                           | 8.1\n",
              "Some Like It Hot                                  | 8.3\n",
              "The Apartment                                     | 8.3\n",
              "The Lost Weekend                                  | 8\n",
              "Ordet                                             | 8.1\n",
              "Intolerance: Love's Struggle Throughout the Ages  | 8\n",
              "The Elephant Man                                  | 8.2\n",
              "In the Shadow of the Moon                         | 8.1\n",
              "On the Waterfront                                 | 8.2\n",
              "... (241 rows omitted)"
            ],
            "text/html": [
              "<table border=\"1\" class=\"dataframe\">\n",
              "    <thead>\n",
              "        <tr>\n",
              "            <th>movie_title</th> <th>imdb_score</th>\n",
              "        </tr>\n",
              "    </thead>\n",
              "    <tbody>\n",
              "        <tr>\n",
              "            <td>Rebecca                                          </td> <td>8.2       </td>\n",
              "        </tr>\n",
              "        <tr>\n",
              "            <td>Solaris                                          </td> <td>8.1       </td>\n",
              "        </tr>\n",
              "        <tr>\n",
              "            <td>Some Like It Hot                                 </td> <td>8.3       </td>\n",
              "        </tr>\n",
              "        <tr>\n",
              "            <td>The Apartment                                    </td> <td>8.3       </td>\n",
              "        </tr>\n",
              "        <tr>\n",
              "            <td>The Lost Weekend                                 </td> <td>8         </td>\n",
              "        </tr>\n",
              "        <tr>\n",
              "            <td>Ordet                                            </td> <td>8.1       </td>\n",
              "        </tr>\n",
              "        <tr>\n",
              "            <td>Intolerance: Love's Struggle Throughout the Ages </td> <td>8         </td>\n",
              "        </tr>\n",
              "        <tr>\n",
              "            <td>The Elephant Man                                 </td> <td>8.2       </td>\n",
              "        </tr>\n",
              "        <tr>\n",
              "            <td>In the Shadow of the Moon                        </td> <td>8.1       </td>\n",
              "        </tr>\n",
              "        <tr>\n",
              "            <td>On the Waterfront                                </td> <td>8.2       </td>\n",
              "        </tr>\n",
              "    </tbody>\n",
              "</table>\n",
              "<p>... (241 rows omitted)</p>"
            ]
          },
          "metadata": {},
          "execution_count": 22
        }
      ],
      "source": [
        "title_score.where('imdb_score', are.between(8.0, 8.5))"
      ]
    },
    {
      "cell_type": "markdown",
      "metadata": {
        "id": "1lfSa_F8UFLI"
      },
      "source": [
        "As elsewhere in Python, the range `between` includes the left end but not the right."
      ]
    },
    {
      "cell_type": "markdown",
      "metadata": {
        "id": "ht1kHIPmUFLI"
      },
      "source": [
        "If we specify a condition that is not satisfied by any row, we get a table with column labels but no rows."
      ]
    },
    {
      "cell_type": "code",
      "execution_count": null,
      "metadata": {
        "id": "n8WR2uDoUFLI",
        "colab": {
          "base_uri": "https://localhost:8080/",
          "height": 69
        },
        "outputId": "6c79ae69-44d7-4203-b9c3-de00b3463127"
      },
      "outputs": [
        {
          "output_type": "execute_result",
          "data": {
            "text/plain": [
              "color | director_name | num_critic_for_reviews | duration | director_facebook_likes | actor_3_facebook_likes | actor_2_name | actor_1_facebook_likes | gross | genres | actor_1_name | movie_title | num_voted_users | cast_total_facebook_likes | actor_3_name | facenumber_in_poster | plot_keywords | movie_imdb_link | num_user_for_reviews | language | country | content_rating | budget | title_year | actor_2_facebook_likes | imdb_score | aspect_ratio | movie_facebook_likes"
            ],
            "text/html": [
              "<table border=\"1\" class=\"dataframe\">\n",
              "    <thead>\n",
              "        <tr>\n",
              "            <th>color</th> <th>director_name</th> <th>num_critic_for_reviews</th> <th>duration</th> <th>director_facebook_likes</th> <th>actor_3_facebook_likes</th> <th>actor_2_name</th> <th>actor_1_facebook_likes</th> <th>gross</th> <th>genres</th> <th>actor_1_name</th> <th>movie_title</th> <th>num_voted_users</th> <th>cast_total_facebook_likes</th> <th>actor_3_name</th> <th>facenumber_in_poster</th> <th>plot_keywords</th> <th>movie_imdb_link</th> <th>num_user_for_reviews</th> <th>language</th> <th>country</th> <th>content_rating</th> <th>budget</th> <th>title_year</th> <th>actor_2_facebook_likes</th> <th>imdb_score</th> <th>aspect_ratio</th> <th>movie_facebook_likes</th>\n",
              "        </tr>\n",
              "    </thead>\n",
              "    <tbody>\n",
              "    </tbody>\n",
              "</table>"
            ]
          },
          "metadata": {},
          "execution_count": 23
        }
      ],
      "source": [
        "movies.where('imdb_score', are.equal_to(-1.0))"
      ]
    },
    {
      "cell_type": "markdown",
      "metadata": {
        "id": "Td2tcPNaUFLI"
      },
      "source": [
        "We can also specify the negation of any condition, by using `are.not_` before the condition, such as `are.not_equal_to`, `are.not_above`, `are.not_below`:\n",
        "\n",
        "| **Predicate**              | Description                              |\n",
        "|----------------------------|------------------------------------------|\n",
        "| `are.not_equal_to(Z)`      | Not equal to `Z`                         |    \n",
        "| `are.not_above(x)`         | Not above x                            |\n",
        "| `are.not_below(x)`        | Not below x\n",
        "                            |"
      ]
    },
    {
      "cell_type": "markdown",
      "metadata": {
        "id": "GvxvgSyrUFLJ"
      },
      "source": [
        "... and so on. The usual rules of logic apply – for example, \"not above x\" is the same as \"below or equal to x\"."
      ]
    },
    {
      "cell_type": "markdown",
      "metadata": {
        "id": "MSHRoPGhUFLJ"
      },
      "source": [
        "The use of `are.containing` can help save some typing. For example, you can just specify part of a movie title `Man` instead of `The Elephant Man`:"
      ]
    },
    {
      "cell_type": "code",
      "source": [
        "title_score.where('movie_title', are.containing('Man')).show()"
      ],
      "metadata": {
        "id": "cRLdoUjdfC6y",
        "colab": {
          "base_uri": "https://localhost:8080/",
          "height": 1000
        },
        "collapsed": true,
        "outputId": "e91749dc-db59-4d3b-f8d2-1d7cc3b84bc7"
      },
      "execution_count": null,
      "outputs": [
        {
          "output_type": "display_data",
          "data": {
            "text/plain": [
              "<IPython.core.display.HTML object>"
            ],
            "text/html": [
              "<table border=\"1\" class=\"dataframe\">\n",
              "    <thead>\n",
              "        <tr>\n",
              "            <th>movie_title</th> <th>imdb_score</th>\n",
              "        </tr>\n",
              "    </thead>\n",
              "    <tbody>\n",
              "        <tr>\n",
              "            <td>The Elephant Man                                 </td> <td>8.2       </td>\n",
              "        </tr>\n",
              "        <tr>\n",
              "            <td>Tin Can Man                                      </td> <td>6.7       </td>\n",
              "        </tr>\n",
              "        <tr>\n",
              "            <td>The Man Who Shot Liberty Valance                 </td> <td>8.1       </td>\n",
              "        </tr>\n",
              "        <tr>\n",
              "            <td>Nothing But a Man                                </td> <td>8.1       </td>\n",
              "        </tr>\n",
              "        <tr>\n",
              "            <td>Dead Man's Shoes                                 </td> <td>7.7       </td>\n",
              "        </tr>\n",
              "        <tr>\n",
              "            <td>Anger Management                                 </td> <td>6.7       </td>\n",
              "        </tr>\n",
              "        <tr>\n",
              "            <td>Last Man Standing                                </td> <td>7.4       </td>\n",
              "        </tr>\n",
              "        <tr>\n",
              "            <td>Dead Man on Campus                               </td> <td>6         </td>\n",
              "        </tr>\n",
              "        <tr>\n",
              "            <td>Repo Man                                         </td> <td>6.9       </td>\n",
              "        </tr>\n",
              "        <tr>\n",
              "            <td>She's the Man                                    </td> <td>6.4       </td>\n",
              "        </tr>\n",
              "        <tr>\n",
              "            <td>A Most Wanted Man                                </td> <td>6.8       </td>\n",
              "        </tr>\n",
              "        <tr>\n",
              "            <td>Man on a Ledge                                   </td> <td>6.6       </td>\n",
              "        </tr>\n",
              "        <tr>\n",
              "            <td>Rain Man                                         </td> <td>8         </td>\n",
              "        </tr>\n",
              "        <tr>\n",
              "            <td>Man of the Year                                  </td> <td>6.2       </td>\n",
              "        </tr>\n",
              "        <tr>\n",
              "            <td>Trust the Man                                    </td> <td>5.7       </td>\n",
              "        </tr>\n",
              "        <tr>\n",
              "            <td>The Lawnmower Man                                </td> <td>5.4       </td>\n",
              "        </tr>\n",
              "        <tr>\n",
              "            <td>The Family Man                                   </td> <td>6.7       </td>\n",
              "        </tr>\n",
              "        <tr>\n",
              "            <td>Solitary Man                                     </td> <td>6.4       </td>\n",
              "        </tr>\n",
              "        <tr>\n",
              "            <td>Brick Mansions                                   </td> <td>5.7       </td>\n",
              "        </tr>\n",
              "        <tr>\n",
              "            <td>Bicentennial Man                                 </td> <td>6.8       </td>\n",
              "        </tr>\n",
              "        <tr>\n",
              "            <td>Winnie Mandela                                   </td> <td>6         </td>\n",
              "        </tr>\n",
              "        <tr>\n",
              "            <td>Insomnia Manica                                  </td> <td>5.8       </td>\n",
              "        </tr>\n",
              "        <tr>\n",
              "            <td>No Man's Land: The Rise of Reeker                </td> <td>4.9       </td>\n",
              "        </tr>\n",
              "        <tr>\n",
              "            <td>Manito                                           </td> <td>7         </td>\n",
              "        </tr>\n",
              "        <tr>\n",
              "            <td>A Serious Man                                    </td> <td>7         </td>\n",
              "        </tr>\n",
              "        <tr>\n",
              "            <td>A Man Apart                                      </td> <td>6.1       </td>\n",
              "        </tr>\n",
              "        <tr>\n",
              "            <td>Maniac                                           </td> <td>6.1       </td>\n",
              "        </tr>\n",
              "        <tr>\n",
              "            <td>A Man for All Seasons                            </td> <td>7.9       </td>\n",
              "        </tr>\n",
              "        <tr>\n",
              "            <td>The Man from Snowy River                         </td> <td>7.3       </td>\n",
              "        </tr>\n",
              "        <tr>\n",
              "            <td>The Weather Man                                  </td> <td>6.6       </td>\n",
              "        </tr>\n",
              "        <tr>\n",
              "            <td>Pirates of the Caribbean: Dead Man's Chest       </td> <td>7.3       </td>\n",
              "        </tr>\n",
              "        <tr>\n",
              "            <td>The Man with the Golden Gun                      </td> <td>6.8       </td>\n",
              "        </tr>\n",
              "        <tr>\n",
              "            <td>The Man from U.N.C.L.E.                          </td> <td>7.3       </td>\n",
              "        </tr>\n",
              "        <tr>\n",
              "            <td>Man on Wire                                      </td> <td>7.8       </td>\n",
              "        </tr>\n",
              "        <tr>\n",
              "            <td>Harvard Man                                      </td> <td>4.9       </td>\n",
              "        </tr>\n",
              "        <tr>\n",
              "            <td>Austin Powers: International Man of Mystery      </td> <td>7         </td>\n",
              "        </tr>\n",
              "        <tr>\n",
              "            <td>Juwanna Mann                                     </td> <td>4.5       </td>\n",
              "        </tr>\n",
              "        <tr>\n",
              "            <td>Memoirs of an Invisible Man                      </td> <td>5.9       </td>\n",
              "        </tr>\n",
              "        <tr>\n",
              "            <td>The Glimmer Man                                  </td> <td>5.3       </td>\n",
              "        </tr>\n",
              "        <tr>\n",
              "            <td>I Love You, Man                                  </td> <td>7.1       </td>\n",
              "        </tr>\n",
              "        <tr>\n",
              "            <td>Captain Corelli's Mandolin                       </td> <td>5.9       </td>\n",
              "        </tr>\n",
              "        <tr>\n",
              "            <td>Medicine Man                                     </td> <td>6         </td>\n",
              "        </tr>\n",
              "        <tr>\n",
              "            <td>The Man Who Knew Too Little                      </td> <td>6.6       </td>\n",
              "        </tr>\n",
              "        <tr>\n",
              "            <td>Iron Man 2                                       </td> <td>7         </td>\n",
              "        </tr>\n",
              "        <tr>\n",
              "            <td>Iron Man                                         </td> <td>7.9       </td>\n",
              "        </tr>\n",
              "        <tr>\n",
              "            <td>The Manchurian Candidate                         </td> <td>6.6       </td>\n",
              "        </tr>\n",
              "        <tr>\n",
              "            <td>All the Boys Love Mandy Lane                     </td> <td>5.6       </td>\n",
              "        </tr>\n",
              "        <tr>\n",
              "            <td>The Railway Man                                  </td> <td>7.1       </td>\n",
              "        </tr>\n",
              "        <tr>\n",
              "            <td>Mandela: Long Walk to Freedom                    </td> <td>7.1       </td>\n",
              "        </tr>\n",
              "        <tr>\n",
              "            <td>Delivery Man                                     </td> <td>6.4       </td>\n",
              "        </tr>\n",
              "        <tr>\n",
              "            <td>One Man's Hero                                   </td> <td>6.2       </td>\n",
              "        </tr>\n",
              "        <tr>\n",
              "            <td>Manderlay                                        </td> <td>7.4       </td>\n",
              "        </tr>\n",
              "        <tr>\n",
              "            <td>The Man                                          </td> <td>5.5       </td>\n",
              "        </tr>\n",
              "        <tr>\n",
              "            <td>The Best Man                                     </td> <td>6.7       </td>\n",
              "        </tr>\n",
              "        <tr>\n",
              "            <td>The Best Man Holiday                             </td> <td>6.7       </td>\n",
              "        </tr>\n",
              "        <tr>\n",
              "            <td>The Amazing Spider-Man 2                         </td> <td>6.7       </td>\n",
              "        </tr>\n",
              "        <tr>\n",
              "            <td>The Amazing Spider-Man                           </td> <td>7         </td>\n",
              "        </tr>\n",
              "        <tr>\n",
              "            <td>The Perfect Man                                  </td> <td>5.5       </td>\n",
              "        </tr>\n",
              "        <tr>\n",
              "            <td>Man on the Moon                                  </td> <td>7.4       </td>\n",
              "        </tr>\n",
              "        <tr>\n",
              "            <td>Dead Man Down                                    </td> <td>6.5       </td>\n",
              "        </tr>\n",
              "        <tr>\n",
              "            <td>The Running Man                                  </td> <td>6.6       </td>\n",
              "        </tr>\n",
              "        <tr>\n",
              "            <td>Hollow Man                                       </td> <td>5.7       </td>\n",
              "        </tr>\n",
              "        <tr>\n",
              "            <td>Renaissance Man                                  </td> <td>6.1       </td>\n",
              "        </tr>\n",
              "        <tr>\n",
              "            <td>Yes Man                                          </td> <td>6.8       </td>\n",
              "        </tr>\n",
              "        <tr>\n",
              "            <td>Ant-Man                                          </td> <td>7.4       </td>\n",
              "        </tr>\n",
              "        <tr>\n",
              "            <td>The Man with the Iron Fists                      </td> <td>5.4       </td>\n",
              "        </tr>\n",
              "        <tr>\n",
              "            <td>The Man in the Iron Mask                         </td> <td>6.4       </td>\n",
              "        </tr>\n",
              "        <tr>\n",
              "            <td>The Ladies Man                                   </td> <td>5.1       </td>\n",
              "        </tr>\n",
              "        <tr>\n",
              "            <td>The Man from Earth                               </td> <td>8         </td>\n",
              "        </tr>\n",
              "        <tr>\n",
              "            <td>Friday the 13th Part VIII: Jason Takes Manhattan </td> <td>4.5       </td>\n",
              "        </tr>\n",
              "        <tr>\n",
              "            <td>The Haunted Mansion                              </td> <td>4.9       </td>\n",
              "        </tr>\n",
              "        <tr>\n",
              "            <td>The November Man                                 </td> <td>6.3       </td>\n",
              "        </tr>\n",
              "        <tr>\n",
              "            <td>Cinderella Man                                   </td> <td>8         </td>\n",
              "        </tr>\n",
              "        <tr>\n",
              "            <td>Spider-Man                                       </td> <td>7.3       </td>\n",
              "        </tr>\n",
              "        <tr>\n",
              "            <td>Spider-Man 2                                     </td> <td>7.3       </td>\n",
              "        </tr>\n",
              "        <tr>\n",
              "            <td>Spider-Man 3                                     </td> <td>6.2       </td>\n",
              "        </tr>\n",
              "        <tr>\n",
              "            <td>Spider-Man 3                                     </td> <td>6.2       </td>\n",
              "        </tr>\n",
              "        <tr>\n",
              "            <td>Iron Man 3                                       </td> <td>7.2       </td>\n",
              "        </tr>\n",
              "        <tr>\n",
              "            <td>The Extra Man                                    </td> <td>5.9       </td>\n",
              "        </tr>\n",
              "        <tr>\n",
              "            <td>Harley Davidson and the Marlboro Man             </td> <td>6         </td>\n",
              "        </tr>\n",
              "        <tr>\n",
              "            <td>Inside Man                                       </td> <td>7.6       </td>\n",
              "        </tr>\n",
              "        <tr>\n",
              "            <td>Holy Man                                         </td> <td>4.9       </td>\n",
              "        </tr>\n",
              "        <tr>\n",
              "            <td>Man of the House                                 </td> <td>5.4       </td>\n",
              "        </tr>\n",
              "        <tr>\n",
              "            <td>Scott Walker: 30 Century Man                     </td> <td>7.3       </td>\n",
              "        </tr>\n",
              "        <tr>\n",
              "            <td>Dead Man Walking                                 </td> <td>7.6       </td>\n",
              "        </tr>\n",
              "        <tr>\n",
              "            <td>Think Like a Man Too                             </td> <td>5.7       </td>\n",
              "        </tr>\n",
              "        <tr>\n",
              "            <td>Think Like a Man                                 </td> <td>6.6       </td>\n",
              "        </tr>\n",
              "        <tr>\n",
              "            <td>A Single Man                                     </td> <td>7.6       </td>\n",
              "        </tr>\n",
              "        <tr>\n",
              "            <td>Man on Fire                                      </td> <td>7.7       </td>\n",
              "        </tr>\n",
              "        <tr>\n",
              "            <td>Maid in Manhattan                                </td> <td>5.1       </td>\n",
              "        </tr>\n",
              "        <tr>\n",
              "            <td>Ip Man 3                                         </td> <td>7.2       </td>\n",
              "        </tr>\n",
              "        <tr>\n",
              "            <td>Man of Steel                                     </td> <td>7.2       </td>\n",
              "        </tr>\n",
              "    </tbody>\n",
              "</table>"
            ]
          },
          "metadata": {}
        }
      ]
    },
    {
      "cell_type": "markdown",
      "source": [
        "## Problem 3A: Movies with Multiple Features (0.25 points)\n",
        "\n",
        "Write a statement to create a list of movies with imdb_score below 5.0, budget above $\\$2$ million, and with title containing the word `Man`.\n"
      ],
      "metadata": {
        "id": "XfqMEP90r76I"
      }
    },
    {
      "cell_type": "code",
      "source": [
        "movies.where('imdb_score',are.below(5.0)).where('budget', are.above(2000000)).where('movie_title', are.containing(\"Man\")).select('movie_title')"
      ],
      "metadata": {
        "id": "0AKWP3q-s898",
        "colab": {
          "base_uri": "https://localhost:8080/",
          "height": 206
        },
        "outputId": "3df2b069-6730-48da-91ae-d4141e35b871"
      },
      "execution_count": null,
      "outputs": [
        {
          "output_type": "execute_result",
          "data": {
            "text/plain": [
              "movie_title\n",
              "Harvard Man\n",
              "Juwanna Mann\n",
              "Friday the 13th Part VIII: Jason Takes Manhattan\n",
              "The Haunted Mansion\n",
              "Holy Man"
            ],
            "text/html": [
              "<table border=\"1\" class=\"dataframe\">\n",
              "    <thead>\n",
              "        <tr>\n",
              "            <th>movie_title</th>\n",
              "        </tr>\n",
              "    </thead>\n",
              "    <tbody>\n",
              "        <tr>\n",
              "            <td>Harvard Man                                      </td>\n",
              "        </tr>\n",
              "        <tr>\n",
              "            <td>Juwanna Mann                                     </td>\n",
              "        </tr>\n",
              "        <tr>\n",
              "            <td>Friday the 13th Part VIII: Jason Takes Manhattan </td>\n",
              "        </tr>\n",
              "        <tr>\n",
              "            <td>The Haunted Mansion                              </td>\n",
              "        </tr>\n",
              "        <tr>\n",
              "            <td>Holy Man                                         </td>\n",
              "        </tr>\n",
              "    </tbody>\n",
              "</table>"
            ]
          },
          "metadata": {},
          "execution_count": 41
        }
      ]
    },
    {
      "cell_type": "markdown",
      "source": [
        "## Problem 3B: Conditions with Negation `are.not_` (0.25 points)\n",
        "\n",
        "Write an expression that returns movies with `imdb_score` not below 9.0"
      ],
      "metadata": {
        "id": "MXYaJkR0fNqt"
      }
    },
    {
      "cell_type": "code",
      "source": [
        "movies.where('imdb_score', are.not_below(9.0)).select('movie_title')"
      ],
      "metadata": {
        "id": "xA6T0by3uEJj",
        "colab": {
          "base_uri": "https://localhost:8080/",
          "height": 300
        },
        "outputId": "edf195c4-fb47-4c22-8d8d-781256a6c9ef"
      },
      "execution_count": null,
      "outputs": [
        {
          "output_type": "execute_result",
          "data": {
            "text/plain": [
              "movie_title\n",
              "Kickboxer: Vengeance\n",
              "Dekalog\n",
              "Fargo\n",
              "The Dark Knight\n",
              "The Godfather: Part II\n",
              "The Godfather\n",
              "The Shawshank Redemption\n",
              "Towering Inferno"
            ],
            "text/html": [
              "<table border=\"1\" class=\"dataframe\">\n",
              "    <thead>\n",
              "        <tr>\n",
              "            <th>movie_title</th>\n",
              "        </tr>\n",
              "    </thead>\n",
              "    <tbody>\n",
              "        <tr>\n",
              "            <td>Kickboxer: Vengeance         </td>\n",
              "        </tr>\n",
              "        <tr>\n",
              "            <td>Dekalog                      </td>\n",
              "        </tr>\n",
              "        <tr>\n",
              "            <td>Fargo                        </td>\n",
              "        </tr>\n",
              "        <tr>\n",
              "            <td>The Dark Knight              </td>\n",
              "        </tr>\n",
              "        <tr>\n",
              "            <td>The Godfather: Part II       </td>\n",
              "        </tr>\n",
              "        <tr>\n",
              "            <td>The Godfather                </td>\n",
              "        </tr>\n",
              "        <tr>\n",
              "            <td>The Shawshank Redemption     </td>\n",
              "        </tr>\n",
              "        <tr>\n",
              "            <td>Towering Inferno             </td>\n",
              "        </tr>\n",
              "    </tbody>\n",
              "</table>"
            ]
          },
          "metadata": {},
          "execution_count": 43
        }
      ]
    },
    {
      "cell_type": "markdown",
      "metadata": {
        "id": "VG-a_UEait29"
      },
      "source": [
        "## Part 4: Visualization (Chapter 7)"
      ]
    },
    {
      "cell_type": "markdown",
      "metadata": {
        "id": "-qZT986cit2_"
      },
      "source": [
        "Tables are a powerful way of organizing and visualizing data. However, large tables of numbers can be difficult to interpret, no matter how organized they are. Sometimes it is much easier to interpret graphs than numbers.\n",
        "\n",
        "In this section we will develop some of the fundamental graphical methods of data analysis. Our source of data is an `actors` table from the [Internet Movie Database](http://www.imdb.com)."
      ]
    },
    {
      "cell_type": "markdown",
      "metadata": {
        "id": "gBM2kokXit3A"
      },
      "source": [
        "<h2>Scatter Plots and Line Graphs</h2>"
      ]
    },
    {
      "cell_type": "markdown",
      "metadata": {
        "id": "hKURZtP1it3A"
      },
      "source": [
        "The table `actors` contains data on Hollywood actors, both male and female. The columns are:\n",
        "\n",
        "| Column        | Contents |\n",
        "|---------------------|----------|\n",
        "|`Actor`              | Name of actor |\n",
        "|`Total Gross`        | Total gross domestic box office receipt, in millions of dollars, of all of the actor's movies |\n",
        "| `Number of Movies`  | The number of movies the actor has been in |\n",
        "| `Average per Movie` | Total gross divided by number of movies |\n",
        "| `#1 Movie`          | The highest grossing movie the actor has been in |\n",
        "| `Gross`             | Gross domestic box office receipt, in millions of dollars, of the actor's `#1 Movie` |\n",
        "\n"
      ]
    },
    {
      "cell_type": "code",
      "execution_count": null,
      "metadata": {
        "id": "iuyyQQFhit3B",
        "colab": {
          "base_uri": "https://localhost:8080/",
          "height": 392
        },
        "outputId": "c2b2ce59-9207-4c2d-8170-4d1b7fa76968"
      },
      "outputs": [
        {
          "output_type": "execute_result",
          "data": {
            "text/plain": [
              "Actor              | Total Gross | Number of Movies | Average per Movie | #1 Movie                     | Gross\n",
              "Harrison Ford      | 4871.7      | 41               | 118.8             | Star Wars: The Force Awakens | 936.7\n",
              "Samuel L. Jackson  | 4772.8      | 69               | 69.2              | The Avengers                 | 623.4\n",
              "Morgan Freeman     | 4468.3      | 61               | 73.3              | The Dark Knight              | 534.9\n",
              "Tom Hanks          | 4340.8      | 44               | 98.7              | Toy Story 3                  | 415\n",
              "Robert Downey, Jr. | 3947.3      | 53               | 74.5              | The Avengers                 | 623.4\n",
              "Eddie Murphy       | 3810.4      | 38               | 100.3             | Shrek 2                      | 441.2\n",
              "Tom Cruise         | 3587.2      | 36               | 99.6              | War of the Worlds            | 234.3\n",
              "Johnny Depp        | 3368.6      | 45               | 74.9              | Dead Man's Chest             | 423.3\n",
              "Michael Caine      | 3351.5      | 58               | 57.8              | The Dark Knight              | 534.9\n",
              "Scarlett Johansson | 3341.2      | 37               | 90.3              | The Avengers                 | 623.4\n",
              "... (40 rows omitted)"
            ],
            "text/html": [
              "<table border=\"1\" class=\"dataframe\">\n",
              "    <thead>\n",
              "        <tr>\n",
              "            <th>Actor</th> <th>Total Gross</th> <th>Number of Movies</th> <th>Average per Movie</th> <th>#1 Movie</th> <th>Gross</th>\n",
              "        </tr>\n",
              "    </thead>\n",
              "    <tbody>\n",
              "        <tr>\n",
              "            <td>Harrison Ford     </td> <td>4871.7     </td> <td>41              </td> <td>118.8            </td> <td>Star Wars: The Force Awakens</td> <td>936.7</td>\n",
              "        </tr>\n",
              "        <tr>\n",
              "            <td>Samuel L. Jackson </td> <td>4772.8     </td> <td>69              </td> <td>69.2             </td> <td>The Avengers                </td> <td>623.4</td>\n",
              "        </tr>\n",
              "        <tr>\n",
              "            <td>Morgan Freeman    </td> <td>4468.3     </td> <td>61              </td> <td>73.3             </td> <td>The Dark Knight             </td> <td>534.9</td>\n",
              "        </tr>\n",
              "        <tr>\n",
              "            <td>Tom Hanks         </td> <td>4340.8     </td> <td>44              </td> <td>98.7             </td> <td>Toy Story 3                 </td> <td>415  </td>\n",
              "        </tr>\n",
              "        <tr>\n",
              "            <td>Robert Downey, Jr.</td> <td>3947.3     </td> <td>53              </td> <td>74.5             </td> <td>The Avengers                </td> <td>623.4</td>\n",
              "        </tr>\n",
              "        <tr>\n",
              "            <td>Eddie Murphy      </td> <td>3810.4     </td> <td>38              </td> <td>100.3            </td> <td>Shrek 2                     </td> <td>441.2</td>\n",
              "        </tr>\n",
              "        <tr>\n",
              "            <td>Tom Cruise        </td> <td>3587.2     </td> <td>36              </td> <td>99.6             </td> <td>War of the Worlds           </td> <td>234.3</td>\n",
              "        </tr>\n",
              "        <tr>\n",
              "            <td>Johnny Depp       </td> <td>3368.6     </td> <td>45              </td> <td>74.9             </td> <td>Dead Man's Chest            </td> <td>423.3</td>\n",
              "        </tr>\n",
              "        <tr>\n",
              "            <td>Michael Caine     </td> <td>3351.5     </td> <td>58              </td> <td>57.8             </td> <td>The Dark Knight             </td> <td>534.9</td>\n",
              "        </tr>\n",
              "        <tr>\n",
              "            <td>Scarlett Johansson</td> <td>3341.2     </td> <td>37              </td> <td>90.3             </td> <td>The Avengers                </td> <td>623.4</td>\n",
              "        </tr>\n",
              "    </tbody>\n",
              "</table>\n",
              "<p>... (40 rows omitted)</p>"
            ]
          },
          "metadata": {},
          "execution_count": 44
        }
      ],
      "source": [
        "actors = Table.read_table('actors.csv')\n",
        "actors"
      ]
    },
    {
      "cell_type": "markdown",
      "metadata": {
        "id": "JckyBNhFmJF4"
      },
      "source": [
        "\n",
        "In the calculation of the gross receipt, the data tabulators did not include movies where an actor had a cameo role or a speaking role that did not involve much screen time.\n",
        "\n",
        "The table has 50 rows, corresponding to the 50 top grossing actors. The table is already sorted by `Total Gross`, so it is easy to see that Harrison Ford is the highest grossing actor. At the time when the table was created, his movies had brought in more money at the domestic box office than the movies of any other actor in the table."
      ]
    },
    {
      "cell_type": "markdown",
      "metadata": {
        "id": "qbw1-WL0it3C"
      },
      "source": [
        "**Terminology.**\n",
        "A *variable* is a formal name for what we have been calling a \"feature\" or \"attribute\", such as 'number of movies.' The term *variable* emphasizes the point that a feature can have different values for different individuals. For example, the numbers of movies that actors have been in vary across all the actors.\n",
        "\n",
        "Variables that have numerical values and can be measured numerically, such as 'number of movies' or 'average gross receipts per movie' are called *quantitative* or *numerical* variables."
      ]
    },
    {
      "cell_type": "markdown",
      "metadata": {
        "id": "Cf1m_3njit3D"
      },
      "source": [
        "<h2>Scatter Plots</h2>\n",
        "\n",
        "A *scatter plot* displays the relation between two numerical variables. The Table method `scatter` draws a scatter plot consisting of one point for each row of the table. Its first argument is the label of the column to be plotted on the horizontal axis, and its second argument is the label of the column on the vertical."
      ]
    },
    {
      "cell_type": "code",
      "execution_count": null,
      "metadata": {
        "id": "El0xNDOrit3D",
        "colab": {
          "base_uri": "https://localhost:8080/",
          "height": 491
        },
        "outputId": "97e71a36-c04f-410b-95bf-40cc0e041170"
      },
      "outputs": [
        {
          "output_type": "display_data",
          "data": {
            "text/plain": [
              "<Figure size 500x500 with 1 Axes>"
            ],
            "image/png": "[encoded data removed]"
          },
          "metadata": {}
        }
      ],
      "source": [
        "actors.scatter('Number of Movies', 'Total Gross')"
      ]
    },
    {
      "cell_type": "markdown",
      "metadata": {
        "id": "zJS8ODrnit3E"
      },
      "source": [
        "The plot contains 50 points, one point for each actor in the table. You can see that it slopes upwards, in general. The more movies an actor has been in, the more the total gross of all of those movies – in general.\n",
        "\n",
        "Formally, we say that the plot shows an *association* between the variables, and that the association is *positive*: high values of one variable tend to be associated with high values of the other, and low values of one with low values of the other, in general.\n",
        "\n",
        "Of course there is some variability. Some actors have high numbers of movies but middling total gross receipts. Others have middling numbers of movies but high receipts. That the association is positive is simply a statement about the broad general trend."
      ]
    },
    {
      "cell_type": "markdown",
      "metadata": {
        "id": "DtekdnmGit3F"
      },
      "source": [
        "Now that we have explored how the number of movies is related to the *total* gross receipt, let's turn our attention to how it is related to the *average* gross receipt per movie."
      ]
    },
    {
      "cell_type": "code",
      "execution_count": null,
      "metadata": {
        "id": "BlMzQRMkit3F",
        "colab": {
          "base_uri": "https://localhost:8080/",
          "height": 491
        },
        "outputId": "9a90f765-ae48-4ef1-9786-2987387d216b"
      },
      "outputs": [
        {
          "output_type": "display_data",
          "data": {
            "text/plain": [
              "<Figure size 500x500 with 1 Axes>"
            ],
            "image/png": "[encoded data removed]"
          },
          "metadata": {}
        }
      ],
      "source": [
        "actors.scatter('Number of Movies', 'Average per Movie')"
      ]
    },
    {
      "cell_type": "markdown",
      "metadata": {
        "id": "CH5lRwpvit3F"
      },
      "source": [
        "This is a markedly different picture and shows a *negative* association. In general, the more movies an actor has been in, the *less* the average receipt per movie.\n",
        "\n",
        "Also, one of the points is quite high and off to the left of the plot. It corresponds to one actor who has a low number of movies and high average per movie. This point is an *outlier*. It lies outside the general range of the data. Indeed, it is quite far from all the other points in the plot."
      ]
    },
    {
      "cell_type": "markdown",
      "metadata": {
        "id": "xwQ1AREVit3G"
      },
      "source": [
        "We will examine the negative association further by looking at points at the right and left ends of the plot.\n",
        "\n",
        "For the right end, let's zoom in on the main body of the plot by just looking at the portion that doesn't have the outlier."
      ]
    },
    {
      "cell_type": "code",
      "execution_count": null,
      "metadata": {
        "id": "lCn5R0oXit3G",
        "colab": {
          "base_uri": "https://localhost:8080/",
          "height": 491
        },
        "outputId": "36465223-83cf-478c-fd92-e4afc40eca16"
      },
      "outputs": [
        {
          "output_type": "display_data",
          "data": {
            "text/plain": [
              "<Figure size 500x500 with 1 Axes>"
            ],
            "image/png": "[encoded data removed]"
          },
          "metadata": {}
        }
      ],
      "source": [
        "no_outlier = actors.where('Number of Movies', are.above(10))\n",
        "no_outlier.scatter('Number of Movies', 'Average per Movie')"
      ]
    },
    {
      "cell_type": "markdown",
      "metadata": {
        "id": "Ur65E_l2it3G"
      },
      "source": [
        "The negative association is still clearly visible. Let's identify the actors corresponding to the points that lie on the right hand side of the plot where the number of movies is large:"
      ]
    },
    {
      "cell_type": "code",
      "execution_count": null,
      "metadata": {
        "id": "DmLV2a3xit3H",
        "colab": {
          "base_uri": "https://localhost:8080/",
          "height": 175
        },
        "outputId": "6fcfafac-9184-4bae-ac16-997d546c6328"
      },
      "outputs": [
        {
          "output_type": "execute_result",
          "data": {
            "text/plain": [
              "Actor             | Total Gross | Number of Movies | Average per Movie | #1 Movie           | Gross\n",
              "Samuel L. Jackson | 4772.8      | 69               | 69.2              | The Avengers       | 623.4\n",
              "Morgan Freeman    | 4468.3      | 61               | 73.3              | The Dark Knight    | 534.9\n",
              "Robert DeNiro     | 3081.3      | 79               | 39                | Meet the Fockers   | 279.3\n",
              "Liam Neeson       | 2942.7      | 63               | 46.7              | The Phantom Menace | 474.5"
            ],
            "text/html": [
              "<table border=\"1\" class=\"dataframe\">\n",
              "    <thead>\n",
              "        <tr>\n",
              "            <th>Actor</th> <th>Total Gross</th> <th>Number of Movies</th> <th>Average per Movie</th> <th>#1 Movie</th> <th>Gross</th>\n",
              "        </tr>\n",
              "    </thead>\n",
              "    <tbody>\n",
              "        <tr>\n",
              "            <td>Samuel L. Jackson</td> <td>4772.8     </td> <td>69              </td> <td>69.2             </td> <td>The Avengers      </td> <td>623.4</td>\n",
              "        </tr>\n",
              "        <tr>\n",
              "            <td>Morgan Freeman   </td> <td>4468.3     </td> <td>61              </td> <td>73.3             </td> <td>The Dark Knight   </td> <td>534.9</td>\n",
              "        </tr>\n",
              "        <tr>\n",
              "            <td>Robert DeNiro    </td> <td>3081.3     </td> <td>79              </td> <td>39               </td> <td>Meet the Fockers  </td> <td>279.3</td>\n",
              "        </tr>\n",
              "        <tr>\n",
              "            <td>Liam Neeson      </td> <td>2942.7     </td> <td>63              </td> <td>46.7             </td> <td>The Phantom Menace</td> <td>474.5</td>\n",
              "        </tr>\n",
              "    </tbody>\n",
              "</table>"
            ]
          },
          "metadata": {},
          "execution_count": 48
        }
      ],
      "source": [
        "actors.where('Number of Movies', are.above(60))"
      ]
    },
    {
      "cell_type": "markdown",
      "metadata": {
        "id": "POyToHGHit3H"
      },
      "source": [
        "Next, let us now take a look at the outlier."
      ]
    },
    {
      "cell_type": "code",
      "execution_count": null,
      "metadata": {
        "id": "Sr2-b6Msit3H",
        "colab": {
          "base_uri": "https://localhost:8080/",
          "height": 81
        },
        "outputId": "d73a9f35-cc4a-4bc8-9cbf-faad7c2fa86a"
      },
      "outputs": [
        {
          "output_type": "execute_result",
          "data": {
            "text/plain": [
              "Actor           | Total Gross | Number of Movies | Average per Movie | #1 Movie                     | Gross\n",
              "Anthony Daniels | 3162.9      | 7                | 451.8             | Star Wars: The Force Awakens | 936.7"
            ],
            "text/html": [
              "<table border=\"1\" class=\"dataframe\">\n",
              "    <thead>\n",
              "        <tr>\n",
              "            <th>Actor</th> <th>Total Gross</th> <th>Number of Movies</th> <th>Average per Movie</th> <th>#1 Movie</th> <th>Gross</th>\n",
              "        </tr>\n",
              "    </thead>\n",
              "    <tbody>\n",
              "        <tr>\n",
              "            <td>Anthony Daniels</td> <td>3162.9     </td> <td>7               </td> <td>451.8            </td> <td>Star Wars: The Force Awakens</td> <td>936.7</td>\n",
              "        </tr>\n",
              "    </tbody>\n",
              "</table>"
            ]
          },
          "metadata": {},
          "execution_count": 49
        }
      ],
      "source": [
        "actors.where('Number of Movies', are.below(10))"
      ]
    },
    {
      "cell_type": "markdown",
      "source": [
        "## Problem 4A: Scatter Plot (0.25 points)\n",
        "Create a scatter plot to look at the association between `Gross` and `Total Gross` of all actors (not excluding outliers). Analyze the plot and comment on the association between these two variables."
      ],
      "metadata": {
        "id": "_m5UOS_DvRkO"
      }
    },
    {
      "cell_type": "code",
      "source": [
        "actors.scatter('Gross', 'Total Gross')"
      ],
      "metadata": {
        "id": "by3Idftmv_pM",
        "colab": {
          "base_uri": "https://localhost:8080/",
          "height": 491
        },
        "outputId": "de1a8afb-e065-4346-bba1-d54579208142"
      },
      "execution_count": null,
      "outputs": [
        {
          "output_type": "display_data",
          "data": {
            "text/plain": [
              "<Figure size 500x500 with 1 Axes>"
            ],
            "image/png": "[encoded data removed]"
          },
          "metadata": {}
        }
      ]
    },
    {
      "cell_type": "markdown",
      "metadata": {
        "id": "KWQiaqIWit3I"
      },
      "source": [
        "<h2>Line Plots</h2>\n",
        "\n",
        "Line plots, sometimes known as line graphs, are among the most common visualizations. They are often used to study chronological trends and patterns.\n",
        "\n",
        "The table `movies_by_year` contains data on movies produced by U.S. studios in each of the years 1980 through 2015. The columns are:\n",
        "\n",
        "| **Column** | Content |\n",
        "|------------|---------|\n",
        "| `Year` | Year |\n",
        "| `Total Gross` | Total domestic box office gross, in millions of dollars, of all movies released |\n",
        "| `Number of Movies` | Number of movies released |\n",
        "| `#1 Movie` | Highest grossing movie |"
      ]
    },
    {
      "cell_type": "code",
      "execution_count": null,
      "metadata": {
        "id": "r-Lrv71Jit3I",
        "colab": {
          "base_uri": "https://localhost:8080/",
          "height": 392
        },
        "outputId": "cb566896-7a67-4cbc-e9dc-b3abe12a49df"
      },
      "outputs": [
        {
          "output_type": "execute_result",
          "data": {
            "text/plain": [
              "Year | Total Gross | Number of Movies | #1 Movie\n",
              "2015 | 11128.5     | 702              | Star Wars: The Force Awakens\n",
              "2014 | 10360.8     | 702              | American Sniper\n",
              "2013 | 10923.6     | 688              | Catching Fire\n",
              "2012 | 10837.4     | 667              | The Avengers\n",
              "2011 | 10174.3     | 602              | Harry Potter / Deathly Hallows (P2)\n",
              "2010 | 10565.6     | 536              | Toy Story 3\n",
              "2009 | 10595.5     | 521              | Avatar\n",
              "2008 | 9630.7      | 608              | The Dark Knight\n",
              "2007 | 9663.8      | 631              | Spider-Man 3\n",
              "2006 | 9209.5      | 608              | Dead Man's Chest\n",
              "... (26 rows omitted)"
            ],
            "text/html": [
              "<table border=\"1\" class=\"dataframe\">\n",
              "    <thead>\n",
              "        <tr>\n",
              "            <th>Year</th> <th>Total Gross</th> <th>Number of Movies</th> <th>#1 Movie</th>\n",
              "        </tr>\n",
              "    </thead>\n",
              "    <tbody>\n",
              "        <tr>\n",
              "            <td>2015</td> <td>11128.5    </td> <td>702             </td> <td>Star Wars: The Force Awakens       </td>\n",
              "        </tr>\n",
              "        <tr>\n",
              "            <td>2014</td> <td>10360.8    </td> <td>702             </td> <td>American Sniper                    </td>\n",
              "        </tr>\n",
              "        <tr>\n",
              "            <td>2013</td> <td>10923.6    </td> <td>688             </td> <td>Catching Fire                      </td>\n",
              "        </tr>\n",
              "        <tr>\n",
              "            <td>2012</td> <td>10837.4    </td> <td>667             </td> <td>The Avengers                       </td>\n",
              "        </tr>\n",
              "        <tr>\n",
              "            <td>2011</td> <td>10174.3    </td> <td>602             </td> <td>Harry Potter / Deathly Hallows (P2)</td>\n",
              "        </tr>\n",
              "        <tr>\n",
              "            <td>2010</td> <td>10565.6    </td> <td>536             </td> <td>Toy Story 3                        </td>\n",
              "        </tr>\n",
              "        <tr>\n",
              "            <td>2009</td> <td>10595.5    </td> <td>521             </td> <td>Avatar                             </td>\n",
              "        </tr>\n",
              "        <tr>\n",
              "            <td>2008</td> <td>9630.7     </td> <td>608             </td> <td>The Dark Knight                    </td>\n",
              "        </tr>\n",
              "        <tr>\n",
              "            <td>2007</td> <td>9663.8     </td> <td>631             </td> <td>Spider-Man 3                       </td>\n",
              "        </tr>\n",
              "        <tr>\n",
              "            <td>2006</td> <td>9209.5     </td> <td>608             </td> <td>Dead Man's Chest                   </td>\n",
              "        </tr>\n",
              "    </tbody>\n",
              "</table>\n",
              "<p>... (26 rows omitted)</p>"
            ]
          },
          "metadata": {},
          "execution_count": 25
        }
      ],
      "source": [
        "movies_by_year = Table.read_table('movies_by_year.csv')\n",
        "movies_by_year"
      ]
    },
    {
      "cell_type": "markdown",
      "metadata": {
        "id": "FYc9acezit3I"
      },
      "source": [
        "The Table method `plot` produces a line plot. Its two arguments are the same as those for `scatter`: first the column on the horizontal axis, then the column on the vertical. Here is a line plot of the number of movies released each year over the years 1980 through 2015."
      ]
    },
    {
      "cell_type": "code",
      "execution_count": null,
      "metadata": {
        "id": "xZ6Dt8EYit3J",
        "colab": {
          "base_uri": "https://localhost:8080/",
          "height": 572
        },
        "outputId": "a4db534b-b279-4b5e-a7e4-e621304444b1"
      },
      "outputs": [
        {
          "output_type": "display_data",
          "data": {
            "text/plain": [
              "<Figure size 600x600 with 1 Axes>"
            ],
            "image/png": "[encoded data removed]"
          },
          "metadata": {}
        }
      ],
      "source": [
        "movies_by_year.plot('Year', 'Number of Movies')"
      ]
    },
    {
      "cell_type": "markdown",
      "metadata": {
        "id": "vjkYF9mwit3J"
      },
      "source": [
        "Let's focus on more recent years. In keeping with the theme of movies, the table of rows corresponding to the years 2000 through 2015 have been assigned to the name `century_21`."
      ]
    },
    {
      "cell_type": "code",
      "execution_count": null,
      "metadata": {
        "id": "AA-YCFfIit3J"
      },
      "outputs": [],
      "source": [
        "century_21 = movies_by_year.where('Year', are.above(1999))"
      ]
    },
    {
      "cell_type": "code",
      "execution_count": null,
      "metadata": {
        "id": "oASwhe4mit3J",
        "colab": {
          "base_uri": "https://localhost:8080/",
          "height": 572
        },
        "outputId": "83172dd4-1385-41c1-d4cc-74dd10430ea2"
      },
      "outputs": [
        {
          "output_type": "display_data",
          "data": {
            "text/plain": [
              "<Figure size 600x600 with 1 Axes>"
            ],
            "image/png": "[encoded data removed]"
          },
          "metadata": {}
        }
      ],
      "source": [
        "century_21.plot('Year', 'Number of Movies')"
      ]
    },
    {
      "cell_type": "markdown",
      "source": [
        "## Problem 4B: Line Plot (0.25 points)\n",
        "Write an expression that produces a line plot of two variables `year` and `Total Gross` for all movies released between 1985 and 2015."
      ],
      "metadata": {
        "id": "g-aqY57dxkU0"
      }
    },
    {
      "cell_type": "code",
      "source": [
        "movies = movies_by_year.where(\"Year\", are.above(1985)).where(\"Year\", are.below(2015))\n",
        "movies.plot('Year', 'Total Gross')\n"
      ],
      "metadata": {
        "id": "RvuzqGosyONy",
        "colab": {
          "base_uri": "https://localhost:8080/",
          "height": 572
        },
        "outputId": "bcef4393-8c14-4f28-fb32-54131c04beb3"
      },
      "execution_count": null,
      "outputs": [
        {
          "output_type": "display_data",
          "data": {
            "text/plain": [
              "<Figure size 600x600 with 1 Axes>"
            ],
            "image/png": "[encoded data removed]"
          },
          "metadata": {}
        }
      ]
    }
  ]
}